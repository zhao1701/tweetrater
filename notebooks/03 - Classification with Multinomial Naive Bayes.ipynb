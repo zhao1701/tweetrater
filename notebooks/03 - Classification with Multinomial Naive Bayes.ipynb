{
 "cells": [
  {
   "cell_type": "markdown",
   "metadata": {},
   "source": [
    "# 03 - Classification with Multinomial Naive Bayes\n",
    "In this section, we will fit a Naive Bayes classifier on a training set of labeled tweets and then assess the model's performance on a hold-out set of test tweets."
   ]
  },
  {
   "cell_type": "code",
   "execution_count": 1,
   "metadata": {
    "collapsed": true,
    "deletable": true,
    "editable": true
   },
   "outputs": [],
   "source": [
    "import os\n",
    "import pandas as pd\n",
    "import numpy as np\n",
    "import matplotlib.pyplot as plt\n",
    "import seaborn as sns\n",
    "\n",
    "pd.options.display.max_colwidth = 400\n",
    "\n",
    "%matplotlib inline"
   ]
  },
  {
   "cell_type": "code",
   "execution_count": 2,
   "metadata": {
    "collapsed": false,
    "deletable": true,
    "editable": true
   },
   "outputs": [],
   "source": [
    "data_directory = os.path.join('..','data','')\n",
    "csv_path = os.path.join(data_directory, 'twitter_hate_speech.csv')\n",
    "df_orig = pd.read_csv(csv_path, engine = 'python', delimiter = ',')"
   ]
  },
  {
   "cell_type": "code",
   "execution_count": 3,
   "metadata": {
    "collapsed": false,
    "deletable": true,
    "editable": true,
    "scrolled": false
   },
   "outputs": [],
   "source": [
    "df_orig.columns = ['id', 'golden','state', 'trusted_judgements','last_judgment','is_hate_speech','confidence',\n",
    "                   'created','orig_golden','orig_last_judgement','orig_trusted_judgements','orig_id','orig_state',\n",
    "                   'updated','orig_is_hate_speech','is_hate_speech_gold','reason','confidence2','id2','text']"
   ]
  },
  {
   "cell_type": "markdown",
   "metadata": {
    "deletable": true,
    "editable": true
   },
   "source": [
    "# Drop columns"
   ]
  },
  {
   "cell_type": "code",
   "execution_count": 6,
   "metadata": {
    "collapsed": false,
    "deletable": true,
    "editable": true
   },
   "outputs": [],
   "source": [
    "df = df_orig.dropna(thresh = 68, axis = 'columns')\n",
    "df = df.set_index('id')"
   ]
  },
  {
   "cell_type": "code",
   "execution_count": 7,
   "metadata": {
    "collapsed": false,
    "deletable": true,
    "editable": true
   },
   "outputs": [
    {
     "data": {
      "text/html": [
       "<div>\n",
       "<style>\n",
       "    .dataframe thead tr:only-child th {\n",
       "        text-align: right;\n",
       "    }\n",
       "\n",
       "    .dataframe thead th {\n",
       "        text-align: left;\n",
       "    }\n",
       "\n",
       "    .dataframe tbody tr th {\n",
       "        vertical-align: top;\n",
       "    }\n",
       "</style>\n",
       "<table border=\"1\" class=\"dataframe\">\n",
       "  <thead>\n",
       "    <tr style=\"text-align: right;\">\n",
       "      <th></th>\n",
       "      <th>golden</th>\n",
       "      <th>state</th>\n",
       "      <th>trusted_judgements</th>\n",
       "      <th>last_judgment</th>\n",
       "      <th>is_hate_speech</th>\n",
       "      <th>confidence</th>\n",
       "      <th>id2</th>\n",
       "      <th>text</th>\n",
       "    </tr>\n",
       "    <tr>\n",
       "      <th>id</th>\n",
       "      <th></th>\n",
       "      <th></th>\n",
       "      <th></th>\n",
       "      <th></th>\n",
       "      <th></th>\n",
       "      <th></th>\n",
       "      <th></th>\n",
       "      <th></th>\n",
       "    </tr>\n",
       "  </thead>\n",
       "  <tbody>\n",
       "    <tr>\n",
       "      <th>853718217</th>\n",
       "      <td>True</td>\n",
       "      <td>golden</td>\n",
       "      <td>86</td>\n",
       "      <td>NaN</td>\n",
       "      <td>The tweet uses offensive language but not hate speech</td>\n",
       "      <td>0.6013</td>\n",
       "      <td>1.666196e+09</td>\n",
       "      <td>Warning: penny boards will make you a faggot</td>\n",
       "    </tr>\n",
       "    <tr>\n",
       "      <th>853718218</th>\n",
       "      <td>True</td>\n",
       "      <td>golden</td>\n",
       "      <td>92</td>\n",
       "      <td>NaN</td>\n",
       "      <td>The tweet contains hate speech</td>\n",
       "      <td>0.7227</td>\n",
       "      <td>4.295121e+08</td>\n",
       "      <td>Fuck dykes</td>\n",
       "    </tr>\n",
       "    <tr>\n",
       "      <th>853718219</th>\n",
       "      <td>True</td>\n",
       "      <td>golden</td>\n",
       "      <td>86</td>\n",
       "      <td>NaN</td>\n",
       "      <td>The tweet contains hate speech</td>\n",
       "      <td>0.5229</td>\n",
       "      <td>3.956238e+08</td>\n",
       "      <td>@sizzurp__ @ILIKECATS74 @yoPapi_chulo @brandonernandez @bootyacid at least i dont look like jefree starr faggot</td>\n",
       "    </tr>\n",
       "  </tbody>\n",
       "</table>\n",
       "</div>"
      ],
      "text/plain": [
       "           golden   state  trusted_judgements last_judgment  \\\n",
       "id                                                            \n",
       "853718217    True  golden                  86           NaN   \n",
       "853718218    True  golden                  92           NaN   \n",
       "853718219    True  golden                  86           NaN   \n",
       "\n",
       "                                                  is_hate_speech  confidence  \\\n",
       "id                                                                             \n",
       "853718217  The tweet uses offensive language but not hate speech      0.6013   \n",
       "853718218                         The tweet contains hate speech      0.7227   \n",
       "853718219                         The tweet contains hate speech      0.5229   \n",
       "\n",
       "                    id2  \\\n",
       "id                        \n",
       "853718217  1.666196e+09   \n",
       "853718218  4.295121e+08   \n",
       "853718219  3.956238e+08   \n",
       "\n",
       "                                                                                                                      text  \n",
       "id                                                                                                                          \n",
       "853718217                                                                     Warning: penny boards will make you a faggot  \n",
       "853718218                                                                                                       Fuck dykes  \n",
       "853718219  @sizzurp__ @ILIKECATS74 @yoPapi_chulo @brandonernandez @bootyacid at least i dont look like jefree starr faggot  "
      ]
     },
     "execution_count": 7,
     "metadata": {},
     "output_type": "execute_result"
    }
   ],
   "source": [
    "df.head(3)"
   ]
  },
  {
   "cell_type": "markdown",
   "metadata": {
    "deletable": true,
    "editable": true
   },
   "source": [
    "# Recode hate speech classifications"
   ]
  },
  {
   "cell_type": "code",
   "execution_count": 8,
   "metadata": {
    "collapsed": false,
    "deletable": true,
    "editable": true
   },
   "outputs": [],
   "source": [
    "df = df[['text','is_hate_speech']]\n",
    "categories = df.is_hate_speech.unique()\n",
    "df['is_hate_speech'] = df['is_hate_speech'].replace(categories, [1,2,0])"
   ]
  },
  {
   "cell_type": "markdown",
   "metadata": {
    "deletable": true,
    "editable": true
   },
   "source": [
    "# Things to clean up\n",
    "- twitter handles\n",
    "- emoticons\n",
    "- urls\n",
    "- newlines\n",
    "- hashtags\n",
    "- duplicate tweets"
   ]
  },
  {
   "cell_type": "code",
   "execution_count": 9,
   "metadata": {
    "collapsed": false,
    "deletable": true,
    "editable": true,
    "scrolled": false
   },
   "outputs": [
    {
     "data": {
      "text/html": [
       "<div>\n",
       "<style>\n",
       "    .dataframe thead tr:only-child th {\n",
       "        text-align: right;\n",
       "    }\n",
       "\n",
       "    .dataframe thead th {\n",
       "        text-align: left;\n",
       "    }\n",
       "\n",
       "    .dataframe tbody tr th {\n",
       "        vertical-align: top;\n",
       "    }\n",
       "</style>\n",
       "<table border=\"1\" class=\"dataframe\">\n",
       "  <thead>\n",
       "    <tr style=\"text-align: right;\">\n",
       "      <th></th>\n",
       "      <th>text</th>\n",
       "      <th>is_hate_speech</th>\n",
       "    </tr>\n",
       "    <tr>\n",
       "      <th>id</th>\n",
       "      <th></th>\n",
       "      <th></th>\n",
       "    </tr>\n",
       "  </thead>\n",
       "  <tbody>\n",
       "    <tr>\n",
       "      <th>853718217</th>\n",
       "      <td>Warning: penny boards will make you a faggot</td>\n",
       "      <td>1</td>\n",
       "    </tr>\n",
       "    <tr>\n",
       "      <th>853718218</th>\n",
       "      <td>Fuck dykes</td>\n",
       "      <td>2</td>\n",
       "    </tr>\n",
       "    <tr>\n",
       "      <th>853718219</th>\n",
       "      <td>@sizzurp__ @ILIKECATS74 @yoPapi_chulo @brandonernandez @bootyacid at least i dont look like jefree starr faggot</td>\n",
       "      <td>2</td>\n",
       "    </tr>\n",
       "    <tr>\n",
       "      <th>853718220</th>\n",
       "      <td>\"@jayswaggkillah: \"@JacklynAnnn: @jayswaggkillah Is a fag\" jackie jealous\" Neeeee</td>\n",
       "      <td>2</td>\n",
       "    </tr>\n",
       "    <tr>\n",
       "      <th>853718221</th>\n",
       "      <td>@Zhugstubble You heard me bitch but any way I'm back th texas so wtf u talking about bitch ass nigga</td>\n",
       "      <td>1</td>\n",
       "    </tr>\n",
       "  </tbody>\n",
       "</table>\n",
       "</div>"
      ],
      "text/plain": [
       "                                                                                                                      text  \\\n",
       "id                                                                                                                           \n",
       "853718217                                                                     Warning: penny boards will make you a faggot   \n",
       "853718218                                                                                                       Fuck dykes   \n",
       "853718219  @sizzurp__ @ILIKECATS74 @yoPapi_chulo @brandonernandez @bootyacid at least i dont look like jefree starr faggot   \n",
       "853718220                                \"@jayswaggkillah: \"@JacklynAnnn: @jayswaggkillah Is a fag\" jackie jealous\" Neeeee   \n",
       "853718221             @Zhugstubble You heard me bitch but any way I'm back th texas so wtf u talking about bitch ass nigga   \n",
       "\n",
       "           is_hate_speech  \n",
       "id                         \n",
       "853718217               1  \n",
       "853718218               2  \n",
       "853718219               2  \n",
       "853718220               2  \n",
       "853718221               1  "
      ]
     },
     "execution_count": 9,
     "metadata": {},
     "output_type": "execute_result"
    }
   ],
   "source": [
    "df.head()"
   ]
  },
  {
   "cell_type": "markdown",
   "metadata": {
    "deletable": true,
    "editable": true
   },
   "source": [
    "# Generate giant text file with all tweets"
   ]
  },
  {
   "cell_type": "code",
   "execution_count": 10,
   "metadata": {
    "collapsed": true,
    "deletable": true,
    "editable": true
   },
   "outputs": [],
   "source": [
    "import spacy\n",
    "nlp = spacy.load('en')"
   ]
  },
  {
   "cell_type": "code",
   "execution_count": 10,
   "metadata": {
    "collapsed": false,
    "deletable": true,
    "editable": true
   },
   "outputs": [],
   "source": [
    "import re\n",
    "\n",
    "clean_tweet = lambda tweet: re.sub(r'(@\\w+\\s*)|#|&|\\(|\\)|\\\"|(https?://\\S*)|(�\\S*\\d*)|(128\\d{3})|(_*UNDEF)',\n",
    "                      'TWITTER_HANDLE ', tweet)"
   ]
  },
  {
   "cell_type": "code",
   "execution_count": 11,
   "metadata": {
    "collapsed": true,
    "deletable": true,
    "editable": true
   },
   "outputs": [],
   "source": [
    "import spacy\n",
    "nlp = spacy.load('en')"
   ]
  },
  {
   "cell_type": "code",
   "execution_count": 12,
   "metadata": {
    "collapsed": true,
    "deletable": true,
    "editable": true
   },
   "outputs": [],
   "source": [
    "def lemmatize(tweet):\n",
    "    x = str()\n",
    "    for token in nlp(tweet):\n",
    "        x = ' '.join([x,token.lemma_])\n",
    "    return x[1:]"
   ]
  },
  {
   "cell_type": "code",
   "execution_count": 13,
   "metadata": {
    "collapsed": false,
    "deletable": true,
    "editable": true
   },
   "outputs": [
    {
     "data": {
      "text/html": [
       "<div>\n",
       "<table border=\"1\" class=\"dataframe\">\n",
       "  <thead>\n",
       "    <tr style=\"text-align: right;\">\n",
       "      <th></th>\n",
       "      <th>text</th>\n",
       "      <th>is_hate_speech</th>\n",
       "    </tr>\n",
       "    <tr>\n",
       "      <th>id</th>\n",
       "      <th></th>\n",
       "      <th></th>\n",
       "    </tr>\n",
       "  </thead>\n",
       "  <tbody>\n",
       "    <tr>\n",
       "      <th>853718217</th>\n",
       "      <td>warning : penny board will make -PRON- a faggot</td>\n",
       "      <td>1</td>\n",
       "    </tr>\n",
       "    <tr>\n",
       "      <th>853718218</th>\n",
       "      <td>fuck dyke</td>\n",
       "      <td>2</td>\n",
       "    </tr>\n",
       "    <tr>\n",
       "      <th>853718219</th>\n",
       "      <td>twitter_handle twitter_handle twitter_handle twitter_handle twitter_handle at least i do not look like jefree starr faggot</td>\n",
       "      <td>2</td>\n",
       "    </tr>\n",
       "    <tr>\n",
       "      <th>853718220</th>\n",
       "      <td>twitter_handle twitter_handle : twitter_handle twitter_handle : twitter_handle be a fagtwitter_handle   jackie jealoustwitter_handle   neeeee</td>\n",
       "      <td>2</td>\n",
       "    </tr>\n",
       "    <tr>\n",
       "      <th>853718221</th>\n",
       "      <td>twitter_handle -PRON- hear -PRON- bitch but any way -PRON- be back th texas so wtf u talk about bitch ass nigga</td>\n",
       "      <td>1</td>\n",
       "    </tr>\n",
       "    <tr>\n",
       "      <th>853718222</th>\n",
       "      <td>twitter_handle -PRON- a dirty terrorist and -PRON- religion be a fucking joke , -PRON- go around scream allah akbar do terrorist shit . dirty faggot .</td>\n",
       "      <td>2</td>\n",
       "    </tr>\n",
       "    <tr>\n",
       "      <th>853718223</th>\n",
       "      <td>rt twitter_handle : twitter_handle look like faggot ?</td>\n",
       "      <td>2</td>\n",
       "    </tr>\n",
       "    <tr>\n",
       "      <th>853718224</th>\n",
       "      <td>well -PRON- think -PRON- know actually rt twitter_handle : man why y' all do not tell -PRON- -PRON- be a dick rid ass faggot ? y'all not real twitter_handle twitter_handle twitter_handle ; twitter_handle twitter_handle twitter_handle ; twitter_handle twitter_handle twitter_handle ; twitter_handle twitter_handle twitter_handle ; twitter_handle twitter_handle twitter_handle ; twitter_handle twit...</td>\n",
       "      <td>2</td>\n",
       "    </tr>\n",
       "    <tr>\n",
       "      <th>853718225</th>\n",
       "      <td>twitter_handle -PRON- know . -PRON- be a joke , faggot .</td>\n",
       "      <td>1</td>\n",
       "    </tr>\n",
       "    <tr>\n",
       "      <th>853718226</th>\n",
       "      <td>-PRON- be tired of people say -PRON- look like -PRON- brother twitter_handle amp ; call -PRON- deondre ' like serious succ -PRON- ass fag ass</td>\n",
       "      <td>1</td>\n",
       "    </tr>\n",
       "  </tbody>\n",
       "</table>\n",
       "</div>"
      ],
      "text/plain": [
       "                                                                                                                                                                                                                                                                                                                                                                                                                      text  \\\n",
       "id                                                                                                                                                                                                                                                                                                                                                                                                                           \n",
       "853718217                                                                                                                                                                                                                                                                                                                                                                  warning : penny board will make -PRON- a faggot   \n",
       "853718218                                                                                                                                                                                                                                                                                                                                                                                                        fuck dyke   \n",
       "853718219                                                                                                                                                                                                                                                                                       twitter_handle twitter_handle twitter_handle twitter_handle twitter_handle at least i do not look like jefree starr faggot   \n",
       "853718220                                                                                                                                                                                                                                                                    twitter_handle twitter_handle : twitter_handle twitter_handle : twitter_handle be a fagtwitter_handle   jackie jealoustwitter_handle   neeeee   \n",
       "853718221                                                                                                                                                                                                                                                                                                  twitter_handle -PRON- hear -PRON- bitch but any way -PRON- be back th texas so wtf u talk about bitch ass nigga   \n",
       "853718222                                                                                                                                                                                                                                                           twitter_handle -PRON- a dirty terrorist and -PRON- religion be a fucking joke , -PRON- go around scream allah akbar do terrorist shit . dirty faggot .   \n",
       "853718223                                                                                                                                                                                                                                                                                                                                                            rt twitter_handle : twitter_handle look like faggot ?   \n",
       "853718224  well -PRON- think -PRON- know actually rt twitter_handle : man why y' all do not tell -PRON- -PRON- be a dick rid ass faggot ? y'all not real twitter_handle twitter_handle twitter_handle ; twitter_handle twitter_handle twitter_handle ; twitter_handle twitter_handle twitter_handle ; twitter_handle twitter_handle twitter_handle ; twitter_handle twitter_handle twitter_handle ; twitter_handle twit...   \n",
       "853718225                                                                                                                                                                                                                                                                                                                                                         twitter_handle -PRON- know . -PRON- be a joke , faggot .   \n",
       "853718226                                                                                                                                                                                                                                                                    -PRON- be tired of people say -PRON- look like -PRON- brother twitter_handle amp ; call -PRON- deondre ' like serious succ -PRON- ass fag ass   \n",
       "\n",
       "           is_hate_speech  \n",
       "id                         \n",
       "853718217               1  \n",
       "853718218               2  \n",
       "853718219               2  \n",
       "853718220               2  \n",
       "853718221               1  \n",
       "853718222               2  \n",
       "853718223               2  \n",
       "853718224               2  \n",
       "853718225               1  \n",
       "853718226               1  "
      ]
     },
     "execution_count": 13,
     "metadata": {},
     "output_type": "execute_result"
    }
   ],
   "source": [
    "df_clean = df.copy()\n",
    "df_clean['text'] = df_clean['text'].apply(clean_tweet)\n",
    "df_clean['text'] = df_clean['text'].apply(lemmatize)\n",
    "df_clean.head(10)"
   ]
  },
  {
   "cell_type": "markdown",
   "metadata": {
    "deletable": true,
    "editable": true
   },
   "source": [
    "# Drop duplicates"
   ]
  },
  {
   "cell_type": "code",
   "execution_count": 14,
   "metadata": {
    "collapsed": false,
    "deletable": true,
    "editable": true,
    "scrolled": false
   },
   "outputs": [],
   "source": [
    "df_clean = df_clean.drop_duplicates(subset = 'text')"
   ]
  },
  {
   "cell_type": "code",
   "execution_count": 15,
   "metadata": {
    "collapsed": true,
    "deletable": true,
    "editable": true
   },
   "outputs": [],
   "source": [
    "with open('../data/corpus_mnb.txt','wt') as file_out:\n",
    "    for tweet in df_clean.text:\n",
    "        file_out.write(tweet + '\\n')"
   ]
  },
  {
   "cell_type": "code",
   "execution_count": 16,
   "metadata": {
    "collapsed": false,
    "deletable": true,
    "editable": true
   },
   "outputs": [
    {
     "name": "stderr",
     "output_type": "stream",
     "text": [
      "//anaconda/lib/python3.5/site-packages/sklearn/cross_validation.py:44: DeprecationWarning: This module was deprecated in version 0.18 in favor of the model_selection module into which all the refactored classes and functions are moved. Also note that the interface of the new CV iterators are different from that of this module. This module will be removed in 0.20.\n",
      "  \"This module will be removed in 0.20.\", DeprecationWarning)\n",
      "//anaconda/lib/python3.5/site-packages/sklearn/grid_search.py:43: DeprecationWarning: This module was deprecated in version 0.18 in favor of the model_selection module into which all the refactored classes and functions are moved. This module will be removed in 0.20.\n",
      "  DeprecationWarning)\n"
     ]
    }
   ],
   "source": [
    "from sklearn.feature_extraction.text import TfidfVectorizer, CountVectorizer\n",
    "from sklearn.model_selection import train_test_split\n",
    "from sklearn.naive_bayes import MultinomialNB\n",
    "from sklearn.svm import SVC\n",
    "from sklearn.pipeline import Pipeline\n",
    "from sklearn.linear_model import LogisticRegression\n",
    "from sklearn.metrics import f1_score, confusion_matrix, accuracy_score\n",
    "from sklearn.grid_search import GridSearchCV"
   ]
  },
  {
   "cell_type": "code",
   "execution_count": 17,
   "metadata": {
    "collapsed": true,
    "deletable": true,
    "editable": true
   },
   "outputs": [],
   "source": [
    "def evaluate(y, y_pred):\n",
    "    print('Accuracy:', accuracy_score(y, y_pred))\n",
    "    print('F1 weighted: ', f1_score(y, y_pred, average = 'weighted'))\n",
    "    print('Confusion matrix:\\n', confusion_matrix(y, y_pred))"
   ]
  },
  {
   "cell_type": "code",
   "execution_count": 18,
   "metadata": {
    "collapsed": false,
    "deletable": true,
    "editable": true
   },
   "outputs": [],
   "source": [
    "X = df_clean.text\n",
    "X_train, X_test, y_train, y_test = train_test_split(df_clean.text, df_clean.is_hate_speech,\n",
    "                                                    test_size = 0.4, stratify = df_clean.is_hate_speech)"
   ]
  },
  {
   "cell_type": "code",
   "execution_count": 21,
   "metadata": {
    "collapsed": false,
    "deletable": true,
    "editable": true
   },
   "outputs": [],
   "source": [
    "steps = [('vect', TfidfVectorizer()),('mnb', MultinomialNB())]\n",
    "pipe = Pipeline(steps)\n",
    "\n",
    "parameters = {'vect__min_df': np.arange(0,0.011, 0.002),\n",
    "              'vect__max_df': np.arange(.99,1.001, 0.002),\n",
    "             'mnb__alpha': np.arange(0,1.1,0.1)}\n",
    "\n",
    "pipe_cv = GridSearchCV(pipe, param_grid = parameters, cv = 3, scoring = 'accuracy')\n",
    "\n",
    "pipe_cv.fit(X_train, y_train)\n",
    "y_train_pred = pipe_cv.predict(X_train)\n",
    "y_test_pred = pipe_cv.predict(X_test)"
   ]
  },
  {
   "cell_type": "code",
   "execution_count": 22,
   "metadata": {
    "collapsed": false,
    "deletable": true,
    "editable": true
   },
   "outputs": [
    {
     "name": "stdout",
     "output_type": "stream",
     "text": [
      "Accuracy: 0.85490844354\n",
      "F1 weighted:  0.871051956447\n",
      "Confusion matrix:\n",
      " [[3885  163  106]\n",
      " [ 170 2421  681]\n",
      " [   7   14  417]]\n"
     ]
    }
   ],
   "source": [
    "evaluate(y_train_pred, y_train)"
   ]
  },
  {
   "cell_type": "code",
   "execution_count": 23,
   "metadata": {
    "collapsed": false,
    "deletable": true,
    "editable": true
   },
   "outputs": [
    {
     "name": "stdout",
     "output_type": "stream",
     "text": [
      "Accuracy: 0.763348588863\n",
      "F1 weighted:  0.725072909588\n",
      "Confusion matrix:\n",
      " [[2483  214   12]\n",
      " [ 252 1443   37]\n",
      " [ 119  607   77]]\n"
     ]
    }
   ],
   "source": [
    "evaluate(y_test, y_test_pred)"
   ]
  },
  {
   "cell_type": "markdown",
   "metadata": {
    "deletable": true,
    "editable": true
   },
   "source": [
    "# What if we collapse offensive and hate speech into the same category?"
   ]
  },
  {
   "cell_type": "code",
   "execution_count": 27,
   "metadata": {
    "collapsed": false,
    "deletable": true,
    "editable": true
   },
   "outputs": [
    {
     "name": "stdout",
     "output_type": "stream",
     "text": [
      "Accuracy: 0.886155606407\n",
      "F1 weighted:  0.885963405675\n",
      "Confusion matrix:\n",
      " [[2483  226]\n",
      " [ 371 2164]]\n"
     ]
    }
   ],
   "source": [
    "y_binary = (y_test == 1) | (y_test == 2)\n",
    "y_pred_binary = (y_test_pred == 1) | (y_test_pred == 2)\n",
    "evaluate(y_binary, y_pred_binary)"
   ]
  },
  {
   "cell_type": "code",
   "execution_count": 76,
   "metadata": {
    "collapsed": false,
    "deletable": true,
    "editable": true
   },
   "outputs": [],
   "source": [
    "def tweet_rater(tweet, clf):\n",
    "    tweet = lemmatize(tweet)\n",
    "    print(tweet)\n",
    "    rating = clf.predict([tweet])\n",
    "    probability = clf.predict_proba([tweet])\n",
    "    print(probability)\n",
    "    if rating == 0:\n",
    "        print('I\\'m {:2.4}% sure that\\'s not offensive.'.format(probability[0][0]*100))\n",
    "    elif rating == 1:\n",
    "        print('I\\'m {:2.4}% sure that\\'s offensive.'.format(probability[0][1]*100))\n",
    "    else:\n",
    "        print('I\\'m {:2.4}% sure that\\'s hate speech.'.format(probability[0][2]*100))"
   ]
  },
  {
   "cell_type": "code",
   "execution_count": 93,
   "metadata": {
    "collapsed": false,
    "deletable": true,
    "editable": true
   },
   "outputs": [
    {
     "name": "stdout",
     "output_type": "stream",
     "text": [
      "i hate when that happen\n",
      "[[ 0.37662906  0.46452337  0.15884757]]\n",
      "I'm 46.45% sure that's offensive.\n"
     ]
    }
   ],
   "source": [
    "tweet_rater('i hate when that happens', pipe_cv)"
   ]
  },
  {
   "cell_type": "code",
   "execution_count": 26,
   "metadata": {
    "collapsed": false,
    "deletable": true,
    "editable": true,
    "scrolled": false
   },
   "outputs": [
    {
     "data": {
      "text/html": [
       "<div>\n",
       "<table border=\"1\" class=\"dataframe\">\n",
       "  <thead>\n",
       "    <tr style=\"text-align: right;\">\n",
       "      <th></th>\n",
       "      <th>probs_hate</th>\n",
       "      <th>words</th>\n",
       "    </tr>\n",
       "  </thead>\n",
       "  <tbody>\n",
       "    <tr>\n",
       "      <th>312</th>\n",
       "      <td>0.754578</td>\n",
       "      <td>__</td>\n",
       "    </tr>\n",
       "    <tr>\n",
       "      <th>5756</th>\n",
       "      <td>0.711169</td>\n",
       "      <td>kys</td>\n",
       "    </tr>\n",
       "    <tr>\n",
       "      <th>2832</th>\n",
       "      <td>0.672331</td>\n",
       "      <td>dementia</td>\n",
       "    </tr>\n",
       "    <tr>\n",
       "      <th>4511</th>\n",
       "      <td>0.672331</td>\n",
       "      <td>gtfo</td>\n",
       "    </tr>\n",
       "    <tr>\n",
       "      <th>6653</th>\n",
       "      <td>0.672331</td>\n",
       "      <td>moon</td>\n",
       "    </tr>\n",
       "    <tr>\n",
       "      <th>4817</th>\n",
       "      <td>0.621425</td>\n",
       "      <td>hitler</td>\n",
       "    </tr>\n",
       "    <tr>\n",
       "      <th>2956</th>\n",
       "      <td>0.621425</td>\n",
       "      <td>dike</td>\n",
       "    </tr>\n",
       "    <tr>\n",
       "      <th>6769</th>\n",
       "      <td>0.621425</td>\n",
       "      <td>mussilm</td>\n",
       "    </tr>\n",
       "    <tr>\n",
       "      <th>9737</th>\n",
       "      <td>0.621425</td>\n",
       "      <td>sumeztwitter_handle</td>\n",
       "    </tr>\n",
       "    <tr>\n",
       "      <th>11271</th>\n",
       "      <td>0.621425</td>\n",
       "      <td>yas</td>\n",
       "    </tr>\n",
       "    <tr>\n",
       "      <th>3635</th>\n",
       "      <td>0.621425</td>\n",
       "      <td>faggot_</td>\n",
       "    </tr>\n",
       "    <tr>\n",
       "      <th>28</th>\n",
       "      <td>0.621425</td>\n",
       "      <td>1223</td>\n",
       "    </tr>\n",
       "    <tr>\n",
       "      <th>11182</th>\n",
       "      <td>0.621425</td>\n",
       "      <td>worthless</td>\n",
       "    </tr>\n",
       "    <tr>\n",
       "      <th>389</th>\n",
       "      <td>0.621425</td>\n",
       "      <td>ace</td>\n",
       "    </tr>\n",
       "    <tr>\n",
       "      <th>4662</th>\n",
       "      <td>0.621263</td>\n",
       "      <td>harvey</td>\n",
       "    </tr>\n",
       "    <tr>\n",
       "      <th>6976</th>\n",
       "      <td>0.621182</td>\n",
       "      <td>nigg</td>\n",
       "    </tr>\n",
       "    <tr>\n",
       "      <th>8466</th>\n",
       "      <td>0.596042</td>\n",
       "      <td>retarded</td>\n",
       "    </tr>\n",
       "    <tr>\n",
       "      <th>5952</th>\n",
       "      <td>0.577854</td>\n",
       "      <td>lick</td>\n",
       "    </tr>\n",
       "    <tr>\n",
       "      <th>8465</th>\n",
       "      <td>0.567392</td>\n",
       "      <td>retard</td>\n",
       "    </tr>\n",
       "    <tr>\n",
       "      <th>9413</th>\n",
       "      <td>0.552050</td>\n",
       "      <td>spanish</td>\n",
       "    </tr>\n",
       "    <tr>\n",
       "      <th>1802</th>\n",
       "      <td>0.551794</td>\n",
       "      <td>canada</td>\n",
       "    </tr>\n",
       "    <tr>\n",
       "      <th>1901</th>\n",
       "      <td>0.551794</td>\n",
       "      <td>cbc</td>\n",
       "    </tr>\n",
       "    <tr>\n",
       "      <th>7512</th>\n",
       "      <td>0.551794</td>\n",
       "      <td>patriots</td>\n",
       "    </tr>\n",
       "    <tr>\n",
       "      <th>11154</th>\n",
       "      <td>0.551794</td>\n",
       "      <td>woodward</td>\n",
       "    </tr>\n",
       "    <tr>\n",
       "      <th>5824</th>\n",
       "      <td>0.551794</td>\n",
       "      <td>latin</td>\n",
       "    </tr>\n",
       "    <tr>\n",
       "      <th>4765</th>\n",
       "      <td>0.551794</td>\n",
       "      <td>hes</td>\n",
       "    </tr>\n",
       "    <tr>\n",
       "      <th>4847</th>\n",
       "      <td>0.551794</td>\n",
       "      <td>holes</td>\n",
       "    </tr>\n",
       "    <tr>\n",
       "      <th>6656</th>\n",
       "      <td>0.551794</td>\n",
       "      <td>moore</td>\n",
       "    </tr>\n",
       "    <tr>\n",
       "      <th>2248</th>\n",
       "      <td>0.551794</td>\n",
       "      <td>colombia</td>\n",
       "    </tr>\n",
       "    <tr>\n",
       "      <th>5059</th>\n",
       "      <td>0.551794</td>\n",
       "      <td>ikr</td>\n",
       "    </tr>\n",
       "    <tr>\n",
       "      <th>...</th>\n",
       "      <td>...</td>\n",
       "      <td>...</td>\n",
       "    </tr>\n",
       "    <tr>\n",
       "      <th>7471</th>\n",
       "      <td>0.034476</td>\n",
       "      <td>parent</td>\n",
       "    </tr>\n",
       "    <tr>\n",
       "      <th>850</th>\n",
       "      <td>0.033083</td>\n",
       "      <td>ashy</td>\n",
       "    </tr>\n",
       "    <tr>\n",
       "      <th>1030</th>\n",
       "      <td>0.032460</td>\n",
       "      <td>bag</td>\n",
       "    </tr>\n",
       "    <tr>\n",
       "      <th>4745</th>\n",
       "      <td>0.032455</td>\n",
       "      <td>help</td>\n",
       "    </tr>\n",
       "    <tr>\n",
       "      <th>6446</th>\n",
       "      <td>0.031830</td>\n",
       "      <td>merry</td>\n",
       "    </tr>\n",
       "    <tr>\n",
       "      <th>7487</th>\n",
       "      <td>0.029521</td>\n",
       "      <td>party</td>\n",
       "    </tr>\n",
       "    <tr>\n",
       "      <th>1314</th>\n",
       "      <td>0.029508</td>\n",
       "      <td>bill</td>\n",
       "    </tr>\n",
       "    <tr>\n",
       "      <th>5025</th>\n",
       "      <td>0.028510</td>\n",
       "      <td>idea</td>\n",
       "    </tr>\n",
       "    <tr>\n",
       "      <th>5816</th>\n",
       "      <td>0.028193</td>\n",
       "      <td>last</td>\n",
       "    </tr>\n",
       "    <tr>\n",
       "      <th>10867</th>\n",
       "      <td>0.027567</td>\n",
       "      <td>wallet</td>\n",
       "    </tr>\n",
       "    <tr>\n",
       "      <th>3424</th>\n",
       "      <td>0.026673</td>\n",
       "      <td>equal</td>\n",
       "    </tr>\n",
       "    <tr>\n",
       "      <th>1161</th>\n",
       "      <td>0.026662</td>\n",
       "      <td>beautiful</td>\n",
       "    </tr>\n",
       "    <tr>\n",
       "      <th>4106</th>\n",
       "      <td>0.026662</td>\n",
       "      <td>fun</td>\n",
       "    </tr>\n",
       "    <tr>\n",
       "      <th>10232</th>\n",
       "      <td>0.026662</td>\n",
       "      <td>tomorrow</td>\n",
       "    </tr>\n",
       "    <tr>\n",
       "      <th>10256</th>\n",
       "      <td>0.026662</td>\n",
       "      <td>top</td>\n",
       "    </tr>\n",
       "    <tr>\n",
       "      <th>10316</th>\n",
       "      <td>0.025825</td>\n",
       "      <td>trailer</td>\n",
       "    </tr>\n",
       "    <tr>\n",
       "      <th>568</th>\n",
       "      <td>0.025045</td>\n",
       "      <td>alike</td>\n",
       "    </tr>\n",
       "    <tr>\n",
       "      <th>8675</th>\n",
       "      <td>0.024293</td>\n",
       "      <td>sad</td>\n",
       "    </tr>\n",
       "    <tr>\n",
       "      <th>6316</th>\n",
       "      <td>0.024293</td>\n",
       "      <td>marry</td>\n",
       "    </tr>\n",
       "    <tr>\n",
       "      <th>7703</th>\n",
       "      <td>0.024290</td>\n",
       "      <td>place</td>\n",
       "    </tr>\n",
       "    <tr>\n",
       "      <th>7431</th>\n",
       "      <td>0.021735</td>\n",
       "      <td>pal</td>\n",
       "    </tr>\n",
       "    <tr>\n",
       "      <th>5889</th>\n",
       "      <td>0.020631</td>\n",
       "      <td>leg</td>\n",
       "    </tr>\n",
       "    <tr>\n",
       "      <th>1218</th>\n",
       "      <td>0.019200</td>\n",
       "      <td>bend</td>\n",
       "    </tr>\n",
       "    <tr>\n",
       "      <th>4286</th>\n",
       "      <td>0.019197</td>\n",
       "      <td>gift</td>\n",
       "    </tr>\n",
       "    <tr>\n",
       "      <th>1382</th>\n",
       "      <td>0.018755</td>\n",
       "      <td>blame</td>\n",
       "    </tr>\n",
       "    <tr>\n",
       "      <th>2491</th>\n",
       "      <td>0.017556</td>\n",
       "      <td>cover</td>\n",
       "    </tr>\n",
       "    <tr>\n",
       "      <th>10682</th>\n",
       "      <td>0.017196</td>\n",
       "      <td>usually</td>\n",
       "    </tr>\n",
       "    <tr>\n",
       "      <th>10159</th>\n",
       "      <td>0.014218</td>\n",
       "      <td>tie</td>\n",
       "    </tr>\n",
       "    <tr>\n",
       "      <th>2074</th>\n",
       "      <td>0.014131</td>\n",
       "      <td>christmas</td>\n",
       "    </tr>\n",
       "    <tr>\n",
       "      <th>2503</th>\n",
       "      <td>0.012489</td>\n",
       "      <td>crack</td>\n",
       "    </tr>\n",
       "  </tbody>\n",
       "</table>\n",
       "<p>11397 rows × 2 columns</p>\n",
       "</div>"
      ],
      "text/plain": [
       "       probs_hate                words\n",
       "312      0.754578                   __\n",
       "5756     0.711169                  kys\n",
       "2832     0.672331             dementia\n",
       "4511     0.672331                 gtfo\n",
       "6653     0.672331                 moon\n",
       "4817     0.621425               hitler\n",
       "2956     0.621425                 dike\n",
       "6769     0.621425              mussilm\n",
       "9737     0.621425  sumeztwitter_handle\n",
       "11271    0.621425                  yas\n",
       "3635     0.621425              faggot_\n",
       "28       0.621425                 1223\n",
       "11182    0.621425            worthless\n",
       "389      0.621425                  ace\n",
       "4662     0.621263               harvey\n",
       "6976     0.621182                 nigg\n",
       "8466     0.596042             retarded\n",
       "5952     0.577854                 lick\n",
       "8465     0.567392               retard\n",
       "9413     0.552050              spanish\n",
       "1802     0.551794               canada\n",
       "1901     0.551794                  cbc\n",
       "7512     0.551794             patriots\n",
       "11154    0.551794             woodward\n",
       "5824     0.551794                latin\n",
       "4765     0.551794                  hes\n",
       "4847     0.551794                holes\n",
       "6656     0.551794                moore\n",
       "2248     0.551794             colombia\n",
       "5059     0.551794                  ikr\n",
       "...           ...                  ...\n",
       "7471     0.034476               parent\n",
       "850      0.033083                 ashy\n",
       "1030     0.032460                  bag\n",
       "4745     0.032455                 help\n",
       "6446     0.031830                merry\n",
       "7487     0.029521                party\n",
       "1314     0.029508                 bill\n",
       "5025     0.028510                 idea\n",
       "5816     0.028193                 last\n",
       "10867    0.027567               wallet\n",
       "3424     0.026673                equal\n",
       "1161     0.026662            beautiful\n",
       "4106     0.026662                  fun\n",
       "10232    0.026662             tomorrow\n",
       "10256    0.026662                  top\n",
       "10316    0.025825              trailer\n",
       "568      0.025045                alike\n",
       "8675     0.024293                  sad\n",
       "6316     0.024293                marry\n",
       "7703     0.024290                place\n",
       "7431     0.021735                  pal\n",
       "5889     0.020631                  leg\n",
       "1218     0.019200                 bend\n",
       "4286     0.019197                 gift\n",
       "1382     0.018755                blame\n",
       "2491     0.017556                cover\n",
       "10682    0.017196              usually\n",
       "10159    0.014218                  tie\n",
       "2074     0.014131            christmas\n",
       "2503     0.012489                crack\n",
       "\n",
       "[11397 rows x 2 columns]"
      ]
     },
     "execution_count": 26,
     "metadata": {},
     "output_type": "execute_result"
    }
   ],
   "source": [
    "vect = pipe_cv.best_estimator_.steps[0][1]\n",
    "clf = pipe_cv.best_estimator_.steps[1][1]\n",
    "X_train_vect = vect.fit_transform(X_train)\n",
    "words = np.array(vect.get_feature_names())\n",
    "x = np.eye(X_train_vect.shape[1])\n",
    "probs = clf.predict_log_proba(x)\n",
    "probs_hate = np.exp(probs[:,2])\n",
    "df = pd.DataFrame(dict(words = words, probs_hate = probs_hate))\n",
    "df.sort_values(by = 'probs_hate', ascending = False)"
   ]
  },
  {
   "cell_type": "code",
   "execution_count": null,
   "metadata": {
    "collapsed": true,
    "deletable": true,
    "editable": true
   },
   "outputs": [],
   "source": []
  }
 ],
 "metadata": {
  "anaconda-cloud": {},
  "kernelspec": {
   "display_name": "Python [conda root]",
   "language": "python",
   "name": "conda-root-py"
  },
  "language_info": {
   "codemirror_mode": {
    "name": "ipython",
    "version": 3
   },
   "file_extension": ".py",
   "mimetype": "text/x-python",
   "name": "python",
   "nbconvert_exporter": "python",
   "pygments_lexer": "ipython3",
   "version": "3.5.2"
  }
 },
 "nbformat": 4,
 "nbformat_minor": 1
}
