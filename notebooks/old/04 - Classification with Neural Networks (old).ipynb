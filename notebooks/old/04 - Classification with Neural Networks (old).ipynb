{
 "cells": [
  {
   "cell_type": "markdown",
   "metadata": {
    "deletable": true,
    "editable": true
   },
   "source": [
    "# 04 - Classification with Neural Networks\n",
    "In this section, we will assess the performance of various neural network models for classifying the offensiveness of a tweet. In particular, we will examine, in order of complexity:\n",
    "- Multilayer perceptron with locally trained vectors\n",
    "- Convolutional neural network with locally trained vectors\n",
    "- Convolutional neural network with [pre-trained](https://nlp.stanford.edu/projects/glove/) vectors\n",
    "\n",
    "Whereas Naive Bayes models learn and predict on some form of term frequency vectors, [neural networks](https://en.wikipedia.org/wiki/Artificial_neural_network) can use [word vector embeddings](https://www.tensorflow.org/tutorials/word2vec) in which each word is represented as a vector of pre-defined dimensionality. The key to the vector space model is that words with similar semantic meanings are also represented as similar vectors (as measured by some distance metric such as cosine similarity). There exist many methods to embedding the semantic meaning of a word, but they share in common the notion that a word's meaning can be defined by the totality of the contexts in which the word appears. In other words, a word's meaning is defined by its neighbors."
   ]
  },
  {
   "cell_type": "code",
   "execution_count": 1,
   "metadata": {
    "collapsed": true,
    "deletable": true,
    "editable": true
   },
   "outputs": [],
   "source": [
    "import os\n",
    "import pandas as pd\n",
    "import numpy as np\n",
    "import matplotlib.pyplot as plt\n",
    "import seaborn as sns\n",
    "import pickle as pkl\n",
    "\n",
    "pd.options.display.max_colwidth = 400\n",
    "\n",
    "%matplotlib inline"
   ]
  },
  {
   "cell_type": "markdown",
   "metadata": {
    "deletable": true,
    "editable": true
   },
   "source": [
    "### Load data\n",
    "Because word vector embeddings represent the semantic meaning of a word, the difference between various forms of a base word (ex: \"am\", \"was\", \"be\", \"will\", \"is\") is important to the model, and in fact previous embedding attempts during exploratory data analysis showed that lemmatized embeddings performed much worse in producing sensible similarities. Furthermore, because the dimensionality of the embedding is user-defined, the size of the vocabulary has less bearing on whether a model is at risk of overfitting. For this reason, we use un-lemmatized tweets for neural networks."
   ]
  },
  {
   "cell_type": "code",
   "execution_count": 225,
   "metadata": {
    "collapsed": false,
    "deletable": true,
    "editable": true,
    "scrolled": true
   },
   "outputs": [
    {
     "data": {
      "text/html": [
       "<div>\n",
       "<style>\n",
       "    .dataframe thead tr:only-child th {\n",
       "        text-align: right;\n",
       "    }\n",
       "\n",
       "    .dataframe thead th {\n",
       "        text-align: left;\n",
       "    }\n",
       "\n",
       "    .dataframe tbody tr th {\n",
       "        vertical-align: top;\n",
       "    }\n",
       "</style>\n",
       "<table border=\"1\" class=\"dataframe\">\n",
       "  <thead>\n",
       "    <tr style=\"text-align: right;\">\n",
       "      <th></th>\n",
       "      <th>text</th>\n",
       "      <th>rating</th>\n",
       "      <th>confidence</th>\n",
       "    </tr>\n",
       "    <tr>\n",
       "      <th>id</th>\n",
       "      <th></th>\n",
       "      <th></th>\n",
       "      <th></th>\n",
       "    </tr>\n",
       "  </thead>\n",
       "  <tbody>\n",
       "    <tr>\n",
       "      <th>853718217</th>\n",
       "      <td>warning : penny board will make -PRON- a faggot</td>\n",
       "      <td>1</td>\n",
       "      <td>0.6013</td>\n",
       "    </tr>\n",
       "    <tr>\n",
       "      <th>853718218</th>\n",
       "      <td>fuck dyke</td>\n",
       "      <td>2</td>\n",
       "      <td>0.7227</td>\n",
       "    </tr>\n",
       "    <tr>\n",
       "      <th>853718219</th>\n",
       "      <td>twitter_handle twitter_handle twitter_handle twitter_handle twitter_handle at least i do not look like jefree starr faggot</td>\n",
       "      <td>2</td>\n",
       "      <td>0.5229</td>\n",
       "    </tr>\n",
       "  </tbody>\n",
       "</table>\n",
       "</div>"
      ],
      "text/plain": [
       "                                                                                                                                 text  \\\n",
       "id                                                                                                                                      \n",
       "853718217                                                                             warning : penny board will make -PRON- a faggot   \n",
       "853718218                                                                                                                   fuck dyke   \n",
       "853718219  twitter_handle twitter_handle twitter_handle twitter_handle twitter_handle at least i do not look like jefree starr faggot   \n",
       "\n",
       "           rating  confidence  \n",
       "id                             \n",
       "853718217       1      0.6013  \n",
       "853718218       2      0.7227  \n",
       "853718219       2      0.5229  "
      ]
     },
     "execution_count": 225,
     "metadata": {},
     "output_type": "execute_result"
    }
   ],
   "source": [
    "data_path = os.path.join('..','data','dataframe_clean')\n",
    "with open(data_path, 'rb') as file_in:\n",
    "    df_clean = pkl.load(file_in)\n",
    "    \n",
    "df_clean.head(3)"
   ]
  },
  {
   "cell_type": "code",
   "execution_count": 3,
   "metadata": {
    "collapsed": false,
    "deletable": true,
    "editable": true
   },
   "outputs": [
    {
     "name": "stderr",
     "output_type": "stream",
     "text": [
      "Using TensorFlow backend.\n"
     ]
    }
   ],
   "source": [
    "from gensim.models import Word2Vec\n",
    "from keras.preprocessing.text import Tokenizer\n",
    "from keras.preprocessing.sequence import pad_sequences\n",
    "from keras.utils import to_categorical\n",
    "from keras.layers import Dense, Flatten, Activation, Embedding, Dropout\n",
    "from keras.models import Sequential\n",
    "from keras.callbacks import EarlyStopping"
   ]
  },
  {
   "cell_type": "markdown",
   "metadata": {
    "deletable": true,
    "editable": true
   },
   "source": [
    "# Building an embedding matrix\n",
    "Previously, when using term frequency models, a tweet was represented as a single vector. However, if instead, words are represented as vectors, and a tweet is a collection of words, then a tweet is represented not as a vector but as a matrix where the $i^{th}$ row is the vector embedding of the $i^{th}$ word in the tweet. This matrix representation of a tweet provides a similarity to the classification of images that is especially useful when working with convolutional neural networks later.\n",
    "\n",
    "The conversion of a tweet into a matrix involves two elements: an index sequence vector and an embedding matrix. In this model, given a vocabulary of size $v$, each term of the vocabulary is assigned a unique index value from $0$ to $v-1$. A tweet's index sequence vector, then, is a vector in which its $i^{th}$ element is the index value of the $i^{th}$ word in the tweet.\n",
    "\n",
    "An embedding matrix of size $v \\times d$, where $d$ is a pre-specified dimensionality of the word vector embeddings, is a matrix in which the $n^{th}$ row is the $d$-dimensional vector embedding of the term corresponding to index value $n$. Thus, with an index sequence vector, we can select which rows of the embedding matrix to use to build a tweet's representational matrix.\n",
    "\n",
    "Given our corpus of 13,000 tweets and vocabulary of 16,500, a 100-dimensional vector embedding is sufficient (prior tests showed that 100-dimensional embeddings outperformed 50 and 200-dimensional embeddings). We remove from the vocabulary all words that appear only once in the corpus since one set of neighbors does not seem to be enough to discern a word's meaning. Excluding all terms that appear in the corpus once leaves over 7,000 terms, much higher than the 261 terms used by Bernoulli Naive Bayes for classification.\n",
    "\n",
    "Below, we train a Word2Vec model to learn the vector embeddings of the 7,000 terms."
   ]
  },
  {
   "cell_type": "code",
   "execution_count": 318,
   "metadata": {
    "collapsed": false,
    "deletable": true,
    "editable": true
   },
   "outputs": [
    {
     "name": "stdout",
     "output_type": "stream",
     "text": [
      "word2vec vocabulary size: 6250\n",
      "tokenizer vocabulary size: 6250\n"
     ]
    }
   ],
   "source": [
    "np.random.seed(1701)\n",
    "load_pretrained = False\n",
    "\n",
    "# create 100-dimensional vector embeddings for words that appear in the corpus at least 2 times\n",
    "embedding_dimension = 100\n",
    "\n",
    "if load_pretrained:\n",
    "    with open('../data/wordvec_model_local', 'rb') as file_in:\n",
    "        model = pkl.load(file_in)\n",
    "else:\n",
    "    model = Word2Vec([tweet.split() for tweet in df_clean_old.text], min_count = 2, size = embedding_dimension,\n",
    "                 window = 10, sg = 1)\n",
    "    with open('../data/wordvec_model_local', 'wb') as file_out:\n",
    "        pkl.dump(model, file_out)\n",
    "\n",
    "max_vocab_size = len(model.wv.vocab)\n",
    "print('word2vec vocabulary size:', max_vocab_size)\n",
    "\n",
    "# tokenize each tweet in the corpus. this will be useful for embedding each tweet as an index sequence vector\n",
    "tokenizer = Tokenizer(num_words = max_vocab_size)\n",
    "tokenizer.fit_on_texts(df_clean.text)\n",
    "print('tokenizer vocabulary size:', tokenizer.num_words)"
   ]
  },
  {
   "cell_type": "code",
   "execution_count": 324,
   "metadata": {
    "collapsed": false
   },
   "outputs": [
    {
     "name": "stdout",
     "output_type": "stream",
     "text": [
      "word2vec vocabulary size: 6250\n",
      "tokenizer vocabulary size: 6250\n"
     ]
    }
   ],
   "source": [
    "# create 100-dimensional vector embeddings for words that appear in the corpus at least 2 times\n",
    "embedding_dimension = 100\n",
    "model = Word2Vec([tweet.split() for tweet in df_clean_old.text], min_count = 2, size = embedding_dimension,\n",
    "                 window = 10, sg = 1)\n",
    "max_vocab_size = len(model.wv.vocab)\n",
    "print('word2vec vocabulary size:', max_vocab_size)\n",
    "\n",
    "# tokenize each tweet in the corpus. this will be useful for embedding each tweet as an index sequence vector\n",
    "tokenizer = Tokenizer(num_words = max_vocab_size)\n",
    "tokenizer.fit_on_texts(df_clean.text)\n",
    "print('tokenizer vocabulary size:', tokenizer.num_words)"
   ]
  },
  {
   "cell_type": "markdown",
   "metadata": {
    "deletable": true,
    "editable": true
   },
   "source": [
    "A quick check of the most related terms to \"trump\" shows that the embeddings at least make sense semantically."
   ]
  },
  {
   "cell_type": "code",
   "execution_count": 325,
   "metadata": {
    "collapsed": false,
    "deletable": true,
    "editable": true
   },
   "outputs": [
    {
     "data": {
      "text/plain": [
       "[('muslim', 0.9571073055267334),\n",
       " ('donald', 0.9438065886497498),\n",
       " ('religion', 0.9416632652282715),\n",
       " ('anti', 0.936229944229126),\n",
       " ('isis', 0.9354050159454346),\n",
       " ('islam', 0.9333335757255554),\n",
       " ('war', 0.9265784025192261),\n",
       " ('term', 0.9259124398231506),\n",
       " ('clinton', 0.9255439043045044),\n",
       " ('race', 0.9246209859848022)]"
      ]
     },
     "execution_count": 325,
     "metadata": {},
     "output_type": "execute_result"
    }
   ],
   "source": [
    "# check quality of word vector embedding\n",
    "model.most_similar(['trump'])"
   ]
  },
  {
   "cell_type": "markdown",
   "metadata": {},
   "source": [
    "Here, we construct an embedding matrix out of the trained vectors."
   ]
  },
  {
   "cell_type": "code",
   "execution_count": 326,
   "metadata": {
    "collapsed": false,
    "deletable": true,
    "editable": true
   },
   "outputs": [
    {
     "name": "stdout",
     "output_type": "stream",
     "text": [
      "number of terms without vector embeddings: 159\n"
     ]
    }
   ],
   "source": [
    "# create embedding matrix where each row corresponds to a vector for a word. the row index is determined by tokenizer.\n",
    "embedding_matrix = np.zeros([max_vocab_size + 1, embedding_dimension])\n",
    "for word, index in tokenizer.word_index.items():\n",
    "    if word in model.wv.vocab and index < max_vocab_size:\n",
    "        vector = model[word]\n",
    "        embedding_matrix[index,:] = vector\n",
    "\n",
    "print('number of terms without vector embeddings:', sum(embedding_matrix.sum(axis = 1) == 0))"
   ]
  },
  {
   "cell_type": "markdown",
   "metadata": {},
   "source": [
    "Because non-recurrent neural networks expect inputs of the same dimensions, we pad all index sequence vectors with zeros until they are the same length as the longest index sequence vector. The actual process of using an embedding matrix to convert an index sequence vector into a word matrix is a step within the Keras' neural network implementation itself."
   ]
  },
  {
   "cell_type": "code",
   "execution_count": 327,
   "metadata": {
    "collapsed": false,
    "deletable": true,
    "editable": true
   },
   "outputs": [
    {
     "name": "stdout",
     "output_type": "stream",
     "text": [
      "The tweet with the longest sequence has 35 indices.\n",
      "Matrix X has shape: (13111, 35)\n",
      "Labels y has shape: (13111, 3)\n"
     ]
    }
   ],
   "source": [
    "# convert tweets to index sequence vectors\n",
    "X = tokenizer.texts_to_sequences(df_clean.text)\n",
    "max_sequence_length = np.array([len(sequence) for sequence in X]).max()\n",
    "print('The tweet with the longest sequence has {} indices.'.format(max_sequence_length))\n",
    "\n",
    "# pad index sequence vectors so they all have same length and X is rectangular\n",
    "X = pad_sequences(X, maxlen = max_sequence_length, padding = 'post', truncating = 'post')\n",
    "print('Matrix X has shape:', X.shape)\n",
    "\n",
    "# create label matrix y\n",
    "y = to_categorical(df_clean.rating)\n",
    "print('Labels y has shape:', y.shape)"
   ]
  },
  {
   "cell_type": "code",
   "execution_count": 328,
   "metadata": {
    "collapsed": true
   },
   "outputs": [],
   "source": [
    "from sklearn.model_selection import train_test_split\n",
    "\n",
    "X_train, X_test, y_train, y_test = train_test_split(X, y,\n",
    "                                                    test_size = 0.3, stratify = df_clean.rating, random_state = 1)"
   ]
  },
  {
   "cell_type": "markdown",
   "metadata": {
    "deletable": true,
    "editable": true
   },
   "source": [
    "# Multilayer perceptron\n",
    "We begin with a \"vanilla\" neural network to set a baseline with which to measure the more sophisticated models against. Many different topologies were tested, but ultimately, the optimal network was a rather small one, with only two hidden layers consisting of 75 and 20 nodes. Even with such a small architecture, the network severely overfits the training data, producing training accuracies of around 0.9 against cross-validated accuracies of 0.75.\n",
    "\n",
    "To combat this, a regularization technique called [dropout](http://machinelearningmastery.com/dropout-regularization-deep-learning-models-keras/) is applied in which for each learning pass, the network de-activates a randomly selected proportion of neurons so that they do not contribute information to downstream neurons during the feedforward phase and their associated weights are not updated during the backpropagation phase. The technique is elegant in that it has the effect of emulating an ensemble method where several smaller networks are trained and averaged together."
   ]
  },
  {
   "cell_type": "code",
   "execution_count": 350,
   "metadata": {
    "collapsed": false,
    "deletable": true,
    "editable": true
   },
   "outputs": [],
   "source": [
    "mlp = Sequential()\n",
    "mlp.add(Embedding(embedding_matrix.shape[0],\n",
    "                 embedding_matrix.shape[1],\n",
    "                 weights = [embedding_matrix],\n",
    "                 input_shape = (X.shape[1],)))\n",
    "mlp.add(Flatten())\n",
    "mlp.add(Dense(75, activation = 'relu'))\n",
    "mlp.add(Dropout(0.75))\n",
    "mlp.add(Dense(20, activation = 'relu'))\n",
    "mlp.add(Dropout(0.75))\n",
    "mlp.add(Dense(3, activation = 'softmax'))\n",
    "mlp.compile(optimizer = 'adam', loss = 'categorical_crossentropy', metrics = ['accuracy'])"
   ]
  },
  {
   "cell_type": "code",
   "execution_count": 351,
   "metadata": {
    "collapsed": false,
    "deletable": true,
    "editable": true
   },
   "outputs": [],
   "source": [
    "early_stopping = EarlyStopping(patience = 2, monitor = 'val_acc')\n",
    "history = mlp.fit(X_train, y_train, validation_split = 0.3, epochs = 30, callbacks = [early_stopping],\n",
    "                  batch_size = 200, verbose = False)"
   ]
  },
  {
   "cell_type": "markdown",
   "metadata": {},
   "source": [
    "Notably, it takes a rather high dropout rate of 0.75 to reasonably control the network's tendency to overfit, but the improvement in cross-validated accuracy is modest at best, increasing to 0.763. In fact, even a network with as small as a 30-to-10 node topology tends to overfit while producing cross-validated accuracies of 0.73. In much the same way the optimized Naive Bayes models only needed to consider a few hundred terms out of the entire vocabulary, the network may be focusing a small set of terms."
   ]
  },
  {
   "cell_type": "code",
   "execution_count": 352,
   "metadata": {
    "collapsed": false,
    "deletable": true,
    "editable": true
   },
   "outputs": [
    {
     "name": "stdout",
     "output_type": "stream",
     "text": [
      "training accuracy: 0.799159270969\n",
      "validation accuracy: 0.769426280117\n"
     ]
    },
    {
     "data": {
      "image/png": "[encoded data removed]",
      "text/plain": [
       "<matplotlib.figure.Figure at 0x172428908>"
      ]
     },
     "metadata": {},
     "output_type": "display_data"
    }
   ],
   "source": [
    "train_acc = history.history['acc']\n",
    "val_acc = history.history['val_acc']\n",
    "plt.plot(train_acc, label = 'training accuracy')\n",
    "plt.plot(val_acc, label = 'validation accuracy')\n",
    "plt.legend(loc = 0)\n",
    "plt.ylim(0,1)\n",
    "print('training accuracy:', train_acc[-1])\n",
    "print('validation accuracy:', val_acc[-1])"
   ]
  },
  {
   "cell_type": "markdown",
   "metadata": {},
   "source": [
    "### Model evaluation"
   ]
  },
  {
   "cell_type": "code",
   "execution_count": 103,
   "metadata": {
    "collapsed": true,
    "deletable": true,
    "editable": true
   },
   "outputs": [],
   "source": [
    "from sklearn.metrics import confusion_matrix, accuracy_score, f1_score\n",
    "\n",
    "def proba_to_prediction(predict_probas):\n",
    "    predictions = np.array([np.argmax(row) for row in predict_probas])\n",
    "    return predictions\n",
    "\n",
    "def evaluate(y, y_pred):\n",
    "    print('Accuracy:', accuracy_score(y, y_pred))\n",
    "    print('F1 weighted: ', f1_score(y, y_pred, average = 'weighted'))\n",
    "    \n",
    "    matrix = confusion_matrix(y, y_pred)\n",
    "    matrix = matrix / matrix.sum().sum()\n",
    "    print('Normalized confusion matrix:\\n', matrix)\n",
    "    \n",
    "    y_values = pd.Series(y).value_counts()\n",
    "    y_values = y_values / y_values.sum()\n",
    "    print('Actual proportions:\\n', np.array(y_values))\n",
    "    \n",
    "def flatten(y):\n",
    "    y_cat = y.copy()\n",
    "    y_cat[:,0] = 0\n",
    "    y_cat[:,2] = y_cat[:,2] * 2\n",
    "    y_cat = y_cat.sum(axis = 1)\n",
    "    return y_cat"
   ]
  },
  {
   "cell_type": "markdown",
   "metadata": {},
   "source": [
    "Unlike Naive Bayes models, neural networks can learn non-linear decision boundaries, theoretically resulting in more nuanced classifications, yet despite being a more complex model, the MLP actually performs worse than all the Naive Bayes models. In particular, the MLP does not classify a single tweet as hate speech. \n",
    "\n",
    "A potential reason for this is that the MLP is actually handicapped by the choice of tweet representation model. Recall that when tweets were represented as term frequency vectors for Naive Bayes classification, the models trained and predicted a tweet rating only on the basis of the presence or multiplicity of terms in the tweet. In other words, it did not matter where the term occurs in the tweet, only that it did occur some number of times. When using a matrix of vector embeddings to represent the tweet instead, the position in which terms occur within a tweet become part of the model, so for example, \"apples and oranges\" and \"oranges and apples\" are converted into different vectors.\n",
    "\n",
    "This lack of translational invariance could mean that under this representational model, the MLP would require more samples of hate speech than what is currently available to learn how to identify it. Using image classification to illustrate this issue, imagine an MLP designed to distinguish circles from other shapes. If we only gave it as positive samples images with circles in the upper left hand corner, the model would be able to identify a circle located in any of the other corners. Similarly, if we provided the model as positive samples only four images of a circle each in a different corner, the model would likely not be able to identify a circle at all.\n",
    "\n",
    "Now consider three hypothetical hate speech tweets where ------ represents an epithet:\n",
    "\n",
    "1. ------ fuck you\n",
    "2. ------ you fuck\n",
    "3. fuck you ------\n",
    "\n",
    "Using a term frequency model, the three tweets would be identical, so the classifier has essentially three training samples with which to learn that any permutation of \"------\", \"fuck\", and \"you\" should be considered hate speech. However, with a matrix embedding model, the same three tweets would convert to different matrices, like circles in different corners, and the classifier may not learn that any of them much less a new permutation should be considered hate speech.\n"
   ]
  },
  {
   "cell_type": "code",
   "execution_count": 104,
   "metadata": {
    "collapsed": false
   },
   "outputs": [
    {
     "name": "stdout",
     "output_type": "stream",
     "text": [
      "Accuracy: 0.754966887417\n",
      "F1 weighted:  0.699040080471\n",
      "Normalized confusion matrix:\n",
      " [[ 0.46943454  0.04737646  0.        ]\n",
      " [ 0.04482934  0.28553235  0.        ]\n",
      " [ 0.01706572  0.13576159  0.        ]]\n",
      "Actual proportions:\n",
      " [ 0.516811    0.33036169  0.15282731]\n"
     ]
    },
    {
     "name": "stderr",
     "output_type": "stream",
     "text": [
      "//anaconda/lib/python3.5/site-packages/sklearn/metrics/classification.py:1113: UndefinedMetricWarning: F-score is ill-defined and being set to 0.0 in labels with no predicted samples.\n",
      "  'precision', 'predicted', average, warn_for)\n"
     ]
    }
   ],
   "source": [
    "predict_probas_mlp = mlp.predict(X_test)\n",
    "y_test_pred_mlp = proba_to_prediction(predict_probas_mlp).reshape(-1)\n",
    "y_test_flatten = flatten(y_test).reshape(-1)\n",
    "evaluate(y_test_flatten, y_test_pred_mlp)"
   ]
  },
  {
   "cell_type": "markdown",
   "metadata": {
    "deletable": true,
    "editable": true
   },
   "source": [
    "### Two-class performance evaluation"
   ]
  },
  {
   "cell_type": "code",
   "execution_count": 107,
   "metadata": {
    "collapsed": false,
    "deletable": true,
    "editable": true
   },
   "outputs": [
    {
     "name": "stdout",
     "output_type": "stream",
     "text": [
      "Accuracy: 0.890728476821\n",
      "F1 weighted:  0.890651925847\n",
      "Normalized confusion matrix:\n",
      " [[ 0.46943454  0.04737646]\n",
      " [ 0.06189506  0.42129394]]\n",
      "Actual proportions:\n",
      " [ 0.516811  0.483189]\n"
     ]
    }
   ],
   "source": [
    "y_binary = (y_test_flatten == 1) | (y_test_flatten == 2)\n",
    "y_pred_binary = (y_test_pred_mlp == 1) | (y_test_pred_mlp == 2)\n",
    "evaluate(y_binary, y_pred_binary)"
   ]
  },
  {
   "cell_type": "markdown",
   "metadata": {},
   "source": [
    "# Convolutional neural network"
   ]
  },
  {
   "cell_type": "code",
   "execution_count": 162,
   "metadata": {
    "collapsed": true
   },
   "outputs": [],
   "source": [
    "from keras.layers import Dense, Flatten, Activation, Embedding, Dropout, Conv1D, MaxPooling1D, GlobalMaxPooling1D"
   ]
  },
  {
   "cell_type": "code",
   "execution_count": 346,
   "metadata": {
    "collapsed": false
   },
   "outputs": [],
   "source": [
    "with open('../data/embedding_matrix_old', 'rb') as file_in:\n",
    "    embedding_matrix = pkl.load(file_in)\n",
    "\n",
    "cnn = Sequential()\n",
    "cnn.add(Embedding(embedding_matrix.shape[0],\n",
    "                 embedding_matrix.shape[1],\n",
    "                 weights = [embedding_matrix],\n",
    "                 input_shape = (X.shape[1],)))\n",
    "#cnn.add(Flatten())\n",
    "cnn.add(Conv1D(20, 5, padding = 'valid', strides = 1, activation = 'relu'))\n",
    "cnn.add(Dropout(0.3))\n",
    "cnn.add(GlobalMaxPooling1D())\n",
    "#cnn.add(Conv1D(20, 3, padding = 'valid', strides = 1, activation = 'relu'))\n",
    "#cnn.add(GlobalMaxPooling1D())\n",
    "#cnn.add(Dense(20, activation = 'relu'))\n",
    "cnn.add(Dropout(0.3))\n",
    "#cnn.add(Dense(50, activation = 'relu'))\n",
    "#cnn.add(Dropout(0.1))\n",
    "#cnn.add(Dense(10, activation = 'relu'))\n",
    "cnn.add(Dense(3, activation = 'softmax'))\n",
    "cnn.compile(optimizer = 'adam', loss = 'categorical_crossentropy', metrics = ['accuracy'])"
   ]
  },
  {
   "cell_type": "code",
   "execution_count": 347,
   "metadata": {
    "collapsed": false
   },
   "outputs": [],
   "source": [
    "early_stopping = EarlyStopping(patience = 2, monitor = 'val_acc')\n",
    "history = cnn.fit(X_train, y_train, validation_split = 0.3, epochs = 30, callbacks = [early_stopping],\n",
    "                  batch_size = 200, verbose = False)"
   ]
  },
  {
   "cell_type": "code",
   "execution_count": 348,
   "metadata": {
    "collapsed": false
   },
   "outputs": [
    {
     "name": "stdout",
     "output_type": "stream",
     "text": [
      "training accuracy: 0.834812390114\n",
      "validation accuracy: 0.78322440862\n"
     ]
    },
    {
     "data": {
      "image/png": "[encoded data removed]",
      "text/plain": [
       "<matplotlib.figure.Figure at 0x17bb88588>"
      ]
     },
     "metadata": {},
     "output_type": "display_data"
    }
   ],
   "source": [
    "train_acc = history.history['acc']\n",
    "val_acc = history.history['val_acc']\n",
    "plt.plot(train_acc, label = 'training accuracy')\n",
    "plt.plot(val_acc, label = 'validation accuracy')\n",
    "plt.legend(loc = 0)\n",
    "plt.ylim(0,1)\n",
    "print('training accuracy:', train_acc[-1])\n",
    "print('validation accuracy:', val_acc[-1])"
   ]
  },
  {
   "cell_type": "code",
   "execution_count": 349,
   "metadata": {
    "collapsed": false
   },
   "outputs": [
    {
     "name": "stdout",
     "output_type": "stream",
     "text": [
      "Accuracy: 0.782155566853\n",
      "F1 weighted:  0.755076644915\n",
      "Normalized confusion matrix:\n",
      " [[  4.84494154e-01   3.17742755e-02   2.54194204e-04]\n",
      " [  3.91459075e-02   2.71479410e-01   1.98271479e-02]\n",
      " [  1.60142349e-02   1.10828673e-01   2.61820031e-02]]\n",
      "Actual proportions:\n",
      " [ 0.51652262  0.33045247  0.15302491]\n"
     ]
    }
   ],
   "source": [
    "predict_probas_cnn = cnn.predict(X_test)\n",
    "y_test_pred_cnn = proba_to_prediction(predict_probas_cnn).reshape(-1)\n",
    "y_test_flatten = flatten(y_test).reshape(-1)\n",
    "evaluate(y_test_flatten, y_test_pred_cnn)"
   ]
  },
  {
   "cell_type": "code",
   "execution_count": null,
   "metadata": {
    "collapsed": true
   },
   "outputs": [],
   "source": []
  },
  {
   "cell_type": "code",
   "execution_count": null,
   "metadata": {
    "collapsed": true
   },
   "outputs": [],
   "source": []
  },
  {
   "cell_type": "code",
   "execution_count": null,
   "metadata": {
    "collapsed": true
   },
   "outputs": [],
   "source": []
  },
  {
   "cell_type": "code",
   "execution_count": null,
   "metadata": {
    "collapsed": true
   },
   "outputs": [],
   "source": []
  },
  {
   "cell_type": "code",
   "execution_count": null,
   "metadata": {
    "collapsed": true
   },
   "outputs": [],
   "source": []
  },
  {
   "cell_type": "code",
   "execution_count": 581,
   "metadata": {
    "collapsed": true,
    "deletable": true,
    "editable": true
   },
   "outputs": [],
   "source": [
    "def tweet_rater(tweet):\n",
    "    #tweet_tokens = [token.lemma_ for token in nlp(tweet)]\n",
    "    #tweet = ' '.join(tweet_tokens)\n",
    "    x_vect = tokenizer.texts_to_sequences([tweet])\n",
    "    x_vect = pad_sequences(x_vect, maxlen = max_sequence_length)\n",
    "    probas = mlp.predict(x_vect)[0]\n",
    "    rating = np.argmax(probas)\n",
    "    if rating == 0:\n",
    "        print('I\\'m {:2.4}% sure that\\'s not offensive.'.format(probas[0]*100))\n",
    "    elif rating == 1:\n",
    "        print('I\\'m {:2.4}% sure that\\'s offensive.'.format(probas[1]*100))\n",
    "    else:\n",
    "        print('I\\'m {:2.4}% sure that\\'s hate speech.'.format(probas[2]*100))"
   ]
  },
  {
   "cell_type": "code",
   "execution_count": 582,
   "metadata": {
    "collapsed": false,
    "deletable": true,
    "editable": true
   },
   "outputs": [
    {
     "name": "stdout",
     "output_type": "stream",
     "text": [
      "I'm 48.62% sure that's offensive.\n"
     ]
    }
   ],
   "source": [
    "tweet_rater('i hate you all')"
   ]
  },
  {
   "cell_type": "code",
   "execution_count": 583,
   "metadata": {
    "collapsed": false,
    "deletable": true,
    "editable": true
   },
   "outputs": [],
   "source": [
    "df = df.reindex(df_clean.index)"
   ]
  }
 ],
 "metadata": {
  "anaconda-cloud": {},
  "kernelspec": {
   "display_name": "Python [conda root]",
   "language": "python",
   "name": "conda-root-py"
  },
  "language_info": {
   "codemirror_mode": {
    "name": "ipython",
    "version": 3
   },
   "file_extension": ".py",
   "mimetype": "text/x-python",
   "name": "python",
   "nbconvert_exporter": "python",
   "pygments_lexer": "ipython3",
   "version": "3.5.2"
  }
 },
 "nbformat": 4,
 "nbformat_minor": 1
}
