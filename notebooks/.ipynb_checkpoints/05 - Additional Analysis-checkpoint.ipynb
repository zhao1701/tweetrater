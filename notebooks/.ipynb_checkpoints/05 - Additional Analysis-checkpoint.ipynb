{
 "cells": [
  {
   "cell_type": "code",
   "execution_count": 307,
   "metadata": {
    "collapsed": false,
    "deletable": true,
    "editable": true
   },
   "outputs": [],
   "source": [
    "import os\n",
    "import pandas as pd\n",
    "import numpy as np\n",
    "import matplotlib.pyplot as plt\n",
    "import seaborn as sns\n",
    "import pickle as pkl\n",
    "import warnings\n",
    "\n",
    "from sklearn.feature_extraction.text import TfidfVectorizer, CountVectorizer\n",
    "from sklearn.cross_validation import train_test_split\n",
    "from sklearn.naive_bayes import MultinomialNB, BernoulliNB\n",
    "from sklearn.pipeline import Pipeline\n",
    "from sklearn.metrics import f1_score, confusion_matrix, accuracy_score\n",
    "from sklearn.grid_search import GridSearchCV\n",
    "\n",
    "np.random.seed(1701)\n",
    "\n",
    "from gensim.models import Word2Vec\n",
    "from keras.preprocessing.text import Tokenizer\n",
    "from keras.preprocessing.sequence import pad_sequences\n",
    "from keras.utils import to_categorical\n",
    "from keras.layers import Dense, Flatten, Activation, Embedding, Dropout, Conv1D, MaxPooling1D, GlobalMaxPooling1D\n",
    "from keras.models import Sequential, load_model\n",
    "from keras.callbacks import EarlyStopping\n",
    "\n",
    "from IPython.display import clear_output\n",
    "\n",
    "warnings.filterwarnings('ignore')\n",
    "sns.set(style = 'whitegrid')\n",
    "pd.options.display.max_colwidth = 400\n",
    "%matplotlib inline"
   ]
  },
  {
   "cell_type": "code",
   "execution_count": 41,
   "metadata": {
    "collapsed": true,
    "deletable": true,
    "editable": true
   },
   "outputs": [],
   "source": [
    "def proba_to_prediction(predict_probas):\n",
    "    predictions = np.array([np.argmax(row) for row in predict_probas])\n",
    "    max_proba = np.max(predict_probas, axis = 1)\n",
    "    return predictions, max_proba\n",
    "\n",
    "def evaluate(y, y_pred):\n",
    "    print('Accuracy:', accuracy_score(y, y_pred))\n",
    "    print('F1 weighted: ', f1_score(y, y_pred, average = 'weighted'))\n",
    "    \n",
    "    matrix = confusion_matrix(y, y_pred)\n",
    "    matrix = matrix / matrix.sum().sum()\n",
    "    print('Normalized confusion matrix:\\n', matrix)\n",
    "    \n",
    "    y_values = pd.Series(y).value_counts()\n",
    "    y_values = y_values / y_values.sum()\n",
    "    print('Actual proportions:\\n', np.array(y_values))\n",
    "    \n",
    "def flatten(y):\n",
    "    y_cat = y.copy()\n",
    "    y_cat[:,0] = 0\n",
    "    y_cat[:,2] = y_cat[:,2] * 2\n",
    "    y_cat = y_cat.sum(axis = 1)\n",
    "    return y_cat"
   ]
  },
  {
   "cell_type": "markdown",
   "metadata": {
    "deletable": true,
    "editable": true
   },
   "source": [
    "# BNB"
   ]
  },
  {
   "cell_type": "code",
   "execution_count": 3,
   "metadata": {
    "collapsed": false,
    "deletable": true,
    "editable": true
   },
   "outputs": [
    {
     "data": {
      "text/html": [
       "<div>\n",
       "<style>\n",
       "    .dataframe thead tr:only-child th {\n",
       "        text-align: right;\n",
       "    }\n",
       "\n",
       "    .dataframe thead th {\n",
       "        text-align: left;\n",
       "    }\n",
       "\n",
       "    .dataframe tbody tr th {\n",
       "        vertical-align: top;\n",
       "    }\n",
       "</style>\n",
       "<table border=\"1\" class=\"dataframe\">\n",
       "  <thead>\n",
       "    <tr style=\"text-align: right;\">\n",
       "      <th></th>\n",
       "      <th>text</th>\n",
       "      <th>rating</th>\n",
       "      <th>confidence</th>\n",
       "    </tr>\n",
       "    <tr>\n",
       "      <th>id</th>\n",
       "      <th></th>\n",
       "      <th></th>\n",
       "      <th></th>\n",
       "    </tr>\n",
       "  </thead>\n",
       "  <tbody>\n",
       "    <tr>\n",
       "      <th>853718217</th>\n",
       "      <td>warning : penny board will make -PRON- a faggot</td>\n",
       "      <td>1</td>\n",
       "      <td>0.6013</td>\n",
       "    </tr>\n",
       "    <tr>\n",
       "      <th>853718218</th>\n",
       "      <td>fuck dyke</td>\n",
       "      <td>2</td>\n",
       "      <td>0.7227</td>\n",
       "    </tr>\n",
       "    <tr>\n",
       "      <th>853718219</th>\n",
       "      <td>twitter_handle twitter_handle twitter_handle twitter_handle twitter_handle at least i do not look like jefree starr faggot</td>\n",
       "      <td>2</td>\n",
       "      <td>0.5229</td>\n",
       "    </tr>\n",
       "  </tbody>\n",
       "</table>\n",
       "</div>"
      ],
      "text/plain": [
       "                                                                                                                                 text  \\\n",
       "id                                                                                                                                      \n",
       "853718217                                                                             warning : penny board will make -PRON- a faggot   \n",
       "853718218                                                                                                                   fuck dyke   \n",
       "853718219  twitter_handle twitter_handle twitter_handle twitter_handle twitter_handle at least i do not look like jefree starr faggot   \n",
       "\n",
       "           rating  confidence  \n",
       "id                             \n",
       "853718217       1      0.6013  \n",
       "853718218       2      0.7227  \n",
       "853718219       2      0.5229  "
      ]
     },
     "execution_count": 3,
     "metadata": {},
     "output_type": "execute_result"
    }
   ],
   "source": [
    "data_path = os.path.join('..','data')\n",
    "with open(os.path.join(data_path, 'dataframe_clean'), 'rb') as file_in:\n",
    "    df_clean = pkl.load(file_in)\n",
    "    \n",
    "df_clean.head(3)"
   ]
  },
  {
   "cell_type": "code",
   "execution_count": 4,
   "metadata": {
    "collapsed": true,
    "deletable": true,
    "editable": true
   },
   "outputs": [],
   "source": [
    "with open(os.path.join(data_path, 'model_bnb'), 'rb') as file_in:\n",
    "    pipe_cv_bnb = pkl.load(file_in)"
   ]
  },
  {
   "cell_type": "code",
   "execution_count": 48,
   "metadata": {
    "collapsed": false,
    "deletable": true,
    "editable": true
   },
   "outputs": [
    {
     "name": "stdout",
     "output_type": "stream",
     "text": [
      "Accuracy: 0.786591411792\n",
      "F1 weighted:  0.779754396582\n",
      "Normalized confusion matrix:\n",
      " [[ 0.48760583  0.02387308  0.00503394]\n",
      " [ 0.0457631   0.23156128  0.05300892]\n",
      " [ 0.01998322  0.06574632  0.0674243 ]]\n",
      "Actual proportions:\n",
      " [ 0.51651285  0.33033331  0.15315384]\n"
     ]
    }
   ],
   "source": [
    "X_bnb = df_clean.text\n",
    "y = df_clean.rating\n",
    "predict_probas_bnb = pipe_cv_bnb.predict_proba(X_bnb)\n",
    "y_pred_bnb, max_proba_bnb = proba_to_prediction(predict_probas_bnb)\n",
    "evaluate(y, y_pred_bnb)"
   ]
  },
  {
   "cell_type": "markdown",
   "metadata": {
    "deletable": true,
    "editable": true
   },
   "source": [
    "# MLP"
   ]
  },
  {
   "cell_type": "code",
   "execution_count": 6,
   "metadata": {
    "collapsed": true,
    "deletable": true,
    "editable": true
   },
   "outputs": [],
   "source": [
    "with open(os.path.join(data_path, 'data_nn'), 'rb') as file_in:\n",
    "    data_nn = pkl.load(file_in)\n",
    "    X_nn = data_nn[0]"
   ]
  },
  {
   "cell_type": "code",
   "execution_count": 7,
   "metadata": {
    "collapsed": true,
    "deletable": true,
    "editable": true
   },
   "outputs": [],
   "source": [
    "mlp = load_model(os.path.join(data_path, 'model_mlp'))"
   ]
  },
  {
   "cell_type": "code",
   "execution_count": 139,
   "metadata": {
    "collapsed": false,
    "deletable": true,
    "editable": true
   },
   "outputs": [
    {
     "name": "stdout",
     "output_type": "stream",
     "text": [
      "Accuracy: 0.78979482877\n",
      "F1 weighted:  0.729968391221\n",
      "Normalized confusion matrix:\n",
      " [[ 0.4941652   0.02234765  0.        ]\n",
      " [ 0.03470368  0.29562962  0.        ]\n",
      " [ 0.01350011  0.13965373  0.        ]]\n",
      "Actual proportions:\n",
      " [ 0.51651285  0.33033331  0.15315384]\n"
     ]
    }
   ],
   "source": [
    "predict_probas_mlp = mlp.predict(X_nn)\n",
    "y_pred_mlp, max_proba_mlp = proba_to_prediction(predict_probas_mlp)\n",
    "y_mlp_flatten = flatten(y_nn).reshape(-1)\n",
    "evaluate(y, y_pred_mlp)"
   ]
  },
  {
   "cell_type": "markdown",
   "metadata": {
    "deletable": true,
    "editable": true
   },
   "source": [
    "# CNN"
   ]
  },
  {
   "cell_type": "code",
   "execution_count": 9,
   "metadata": {
    "collapsed": false,
    "deletable": true,
    "editable": true
   },
   "outputs": [],
   "source": [
    "cnn = load_model(os.path.join(data_path, 'model_cnn'))"
   ]
  },
  {
   "cell_type": "code",
   "execution_count": 140,
   "metadata": {
    "collapsed": false,
    "deletable": true,
    "editable": true
   },
   "outputs": [
    {
     "name": "stdout",
     "output_type": "stream",
     "text": [
      "Accuracy: 0.846007169552\n",
      "F1 weighted:  0.841497514988\n",
      "Normalized confusion matrix:\n",
      " [[ 0.4979788   0.01479674  0.00373732]\n",
      " [ 0.02730532  0.26565479  0.0373732 ]\n",
      " [ 0.01197468  0.05880558  0.08237358]]\n",
      "Actual proportions:\n",
      " [ 0.51651285  0.33033331  0.15315384]\n"
     ]
    }
   ],
   "source": [
    "predict_probas_cnn = cnn.predict(X_nn)\n",
    "y_pred_cnn, max_proba_cnn = proba_to_prediction(predict_probas_cnn)\n",
    "y_cnn_flatten = flatten(y_nn).reshape(-1)\n",
    "evaluate(y, y_pred_cnn)"
   ]
  },
  {
   "cell_type": "markdown",
   "metadata": {},
   "source": [
    "# Original tweets"
   ]
  },
  {
   "cell_type": "code",
   "execution_count": 52,
   "metadata": {
    "collapsed": false
   },
   "outputs": [
    {
     "data": {
      "text/html": [
       "<div>\n",
       "<style>\n",
       "    .dataframe thead tr:only-child th {\n",
       "        text-align: right;\n",
       "    }\n",
       "\n",
       "    .dataframe thead th {\n",
       "        text-align: left;\n",
       "    }\n",
       "\n",
       "    .dataframe tbody tr th {\n",
       "        vertical-align: top;\n",
       "    }\n",
       "</style>\n",
       "<table border=\"1\" class=\"dataframe\">\n",
       "  <thead>\n",
       "    <tr style=\"text-align: right;\">\n",
       "      <th></th>\n",
       "      <th>text</th>\n",
       "      <th>rating</th>\n",
       "      <th>confidence</th>\n",
       "    </tr>\n",
       "    <tr>\n",
       "      <th>id</th>\n",
       "      <th></th>\n",
       "      <th></th>\n",
       "      <th></th>\n",
       "    </tr>\n",
       "  </thead>\n",
       "  <tbody>\n",
       "    <tr>\n",
       "      <th>853718217</th>\n",
       "      <td>Warning: penny boards will make you a faggot</td>\n",
       "      <td>1</td>\n",
       "      <td>0.6013</td>\n",
       "    </tr>\n",
       "    <tr>\n",
       "      <th>853718218</th>\n",
       "      <td>Fuck dykes</td>\n",
       "      <td>2</td>\n",
       "      <td>0.7227</td>\n",
       "    </tr>\n",
       "    <tr>\n",
       "      <th>853718219</th>\n",
       "      <td>@sizzurp__ @ILIKECATS74 @yoPapi_chulo @brandonernandez @bootyacid at least i dont look like jefree starr faggot</td>\n",
       "      <td>2</td>\n",
       "      <td>0.5229</td>\n",
       "    </tr>\n",
       "  </tbody>\n",
       "</table>\n",
       "</div>"
      ],
      "text/plain": [
       "                                                                                                                      text  \\\n",
       "id                                                                                                                           \n",
       "853718217                                                                     Warning: penny boards will make you a faggot   \n",
       "853718218                                                                                                       Fuck dykes   \n",
       "853718219  @sizzurp__ @ILIKECATS74 @yoPapi_chulo @brandonernandez @bootyacid at least i dont look like jefree starr faggot   \n",
       "\n",
       "           rating  confidence  \n",
       "id                             \n",
       "853718217       1      0.6013  \n",
       "853718218       2      0.7227  \n",
       "853718219       2      0.5229  "
      ]
     },
     "execution_count": 52,
     "metadata": {},
     "output_type": "execute_result"
    }
   ],
   "source": [
    "with open('../data/dataframe_orig', 'rb') as file_in:\n",
    "    df_orig = pkl.load(file_in)\n",
    "    \n",
    "df_orig = df_orig.reindex(df_clean.index)\n",
    "df_orig.head(3)"
   ]
  },
  {
   "cell_type": "markdown",
   "metadata": {},
   "source": [
    "# Overlap"
   ]
  },
  {
   "cell_type": "markdown",
   "metadata": {},
   "source": [
    "How much do the models agree with each other?"
   ]
  },
  {
   "cell_type": "code",
   "execution_count": 136,
   "metadata": {
    "collapsed": false
   },
   "outputs": [
    {
     "data": {
      "image/png": "[encoded data removed]",
      "text/plain": [
       "<matplotlib.figure.Figure at 0x123a36400>"
      ]
     },
     "metadata": {},
     "output_type": "display_data"
    }
   ],
   "source": [
    "from collections import OrderedDict\n",
    "\n",
    "agreement = OrderedDict()\n",
    "agreement['all'] = sum((y_pred_mlp == y_pred_cnn) & (y_pred_bnb == y_pred_cnn))\n",
    "agreement['bnb_mlp'] = sum(y_pred_bnb == y_pred_mlp)\n",
    "agreement['bnb_cnn'] = sum(y_pred_bnb == y_pred_cnn)\n",
    "agreement['mlp_cnn'] = sum(y_pred_mlp == y_pred_cnn)\n",
    "\n",
    "agreement_correct = OrderedDict()\n",
    "agreement_correct['all'] = sum((y_pred_mlp == y_pred_cnn) & (y_pred_bnb == y_pred_cnn) & (y_pred_bnb == y))\n",
    "agreement_correct['bnb_mlp'] = sum((y_pred_bnb == y_pred_mlp) & (y_pred_bnb == y))\n",
    "agreement_correct['bnb_cnn'] = sum((y_pred_bnb == y_pred_cnn) & (y_pred_cnn == y))\n",
    "agreement_correct['mlp_cnn'] = sum((y_pred_mlp == y_pred_cnn) & (y_pred_mlp == y)) \n",
    "\n",
    "n_tweets = len(y)\n",
    "\n",
    "for key, value in agreement.items():\n",
    "    agreement[key] = value / n_tweets\n",
    "    agreement_correct[key] = agreement_correct[key] / n_tweets\n",
    "\n",
    "fig, ax = plt.subplots(figsize = (8,2))\n",
    "ax.barh(list(range(len(agreement))), agreement.values(), align = 'center', color = 'lightcoral', label = 'incorrect')\n",
    "ax.barh(list(range(len(agreement_correct))), agreement_correct.values(), align = 'center', color = 'darkseagreen',\n",
    "        label = 'correct')\n",
    "ax.legend(bbox_to_anchor = [1.2,1])\n",
    "__ = ax.set(yticks = list(range(len(agreement))), yticklabels = agreement.keys())"
   ]
  },
  {
   "cell_type": "markdown",
   "metadata": {},
   "source": [
    "# Multi-class F1"
   ]
  },
  {
   "cell_type": "code",
   "execution_count": 269,
   "metadata": {
    "collapsed": false
   },
   "outputs": [
    {
     "data": {
      "image/png": "[encoded data removed]",
      "text/plain": [
       "<matplotlib.figure.Figure at 0x129dfbd68>"
      ]
     },
     "metadata": {},
     "output_type": "display_data"
    }
   ],
   "source": [
    "f1_bnb = f1_score(y_pred_bnb, y, average = None)\n",
    "f1_mlp = f1_score(y_pred_mlp, y, average = None)\n",
    "f1_cnn = f1_score(y_pred_cnn, y, average = None)\n",
    "\n",
    "f1_list = [f1_bnb, f1_mlp, f1_cnn]\n",
    "titles = ['Bernoulli Naive Bayes', 'Multilayer Perceptron', 'Convolutional Neural Network']\n",
    "\n",
    "fig, axes = plt.subplots(1, 3, figsize = (14, 3))\n",
    "for ax, f1, title in zip(axes, f1_list, titles):\n",
    "    rects = ax.bar([0,1,2], f1, align = 'center', alpha = 0.7)\n",
    "    ax.set(title = title, ylabel = 'F1-score', xticks = [0,1,2],\n",
    "           xticklabels = ['non-offensive','offensive','hate speech'])\n",
    "    rects[0].set_color('steelblue')\n",
    "    rects[1].set_color('darkseagreen')\n",
    "    rects[2].set_color('lightcoral')"
   ]
  },
  {
   "cell_type": "markdown",
   "metadata": {},
   "source": [
    "# Model confidence"
   ]
  },
  {
   "cell_type": "code",
   "execution_count": 268,
   "metadata": {
    "collapsed": false,
    "scrolled": false
   },
   "outputs": [
    {
     "data": {
      "text/plain": [
       "<seaborn.axisgrid.FacetGrid at 0x120899be0>"
      ]
     },
     "execution_count": 268,
     "metadata": {},
     "output_type": "execute_result"
    },
    {
     "data": {
      "image/png": "[encoded data removed]",
      "text/plain": [
       "<matplotlib.figure.Figure at 0x12971c978>"
      ]
     },
     "metadata": {},
     "output_type": "display_data"
    }
   ],
   "source": [
    "preds = np.concatenate([y_pred_bnb, y_pred_mlp, y_pred_cnn])\n",
    "probas = np.concatenate([max_proba_bnb, max_proba_mlp, max_proba_cnn])\n",
    "model = ['bnb'] * n_tweets + ['mlp'] * n_tweets + ['cnn'] * n_tweets\n",
    "\n",
    "data = dict(preds=preds, probas=probas, model=model)\n",
    "df_preds = pd.DataFrame(data, index = list(df_clean.index) * 3)\n",
    "\n",
    "sns.factorplot(data = df_preds, x = 'preds', col = 'model', y= 'probas', kind = 'bar', alpha = 0.7)"
   ]
  },
  {
   "cell_type": "code",
   "execution_count": 391,
   "metadata": {
    "collapsed": false
   },
   "outputs": [
    {
     "name": "stdout",
     "output_type": "stream",
     "text": [
      "mean panel confidence, non-offensive: 0.9405523922031904\n",
      "mean panel confidence, offensive: 0.8138421149849959\n",
      "mean panel confidence, hate speech: 0.7435890936254996\n"
     ]
    },
    {
     "data": {
      "image/png": "[encoded data removed]",
      "text/plain": [
       "<matplotlib.figure.Figure at 0x12f380ef0>"
      ]
     },
     "metadata": {},
     "output_type": "display_data"
    }
   ],
   "source": [
    "nonoffensive_conf = df_clean[y == 0].confidence\n",
    "offensive_conf = df_clean[y==1].confidence\n",
    "hate_conf = df_clean[y==2].confidence\n",
    "\n",
    "fig, axes = plt.subplots(3, 1, figsize = (14, 5))\n",
    "\n",
    "nonoffensive_conf.hist(normed = True, bins = 10, ax = axes[0], alpha = 0.5, color = 'darkseagreen')\n",
    "offensive_conf.hist(normed = True, bins = 10, ax = axes[1], alpha = 0.5, color = 'steelblue')\n",
    "hate_conf.hist(normed = True, bins = 10, ax = axes[2], alpha = 0.5, color = 'lightcoral')\n",
    "axes[1].set(ylabel = 'relative frequency')\n",
    "axes[2].set(xlabel = 'average panel confidence')\n",
    "for ax in axes:\n",
    "    ax.set(xlim = (0,1), ylim = (0,10))\n",
    "plt.tight_layout()\n",
    "print('mean panel confidence, non-offensive:', nonoffensive_conf.mean())\n",
    "print('mean panel confidence, offensive:', offensive_conf.mean())\n",
    "print('mean panel confidence, hate speech:', hate_conf.mean())"
   ]
  },
  {
   "cell_type": "code",
   "execution_count": 254,
   "metadata": {
    "collapsed": false
   },
   "outputs": [],
   "source": [
    "all_correct = (y_pred_mlp == y_pred_cnn) & (y_pred_bnb == y_pred_cnn) & (y_pred_bnb == y)\n",
    "all_incorrect = (y_pred_mlp == y_pred_cnn) & (y_pred_bnb == y_pred_cnn) & (y_pred_bnb != y)\n",
    "some_correct = all_correct != all_incorrect\n",
    "\n",
    "max_probas = np.column_stack([max_proba_bnb, max_proba_mlp, max_proba_cnn])\n",
    "\n",
    "all_correct_probas = pd.Series(max_probas[all_correct].mean(axis = 1))\n",
    "all_correct_probas_mean = all_correct_probas.mean()\n",
    "\n",
    "some_correct_probas = pd.Series(max_probas[some_correct].mean(axis = 1))\n",
    "some_correct_probas_mean = some_correct_probas.mean()\n",
    "\n",
    "all_incorrect_probas = pd.Series(max_probas[all_incorrect].mean(axis = 1))\n",
    "all_incorrect_probas_mean = all_incorrect_probas.mean()"
   ]
  },
  {
   "cell_type": "code",
   "execution_count": 283,
   "metadata": {
    "collapsed": false
   },
   "outputs": [
    {
     "name": "stdout",
     "output_type": "stream",
     "text": [
      "mean model confidence, all correct: 0.8745214471666851\n",
      "mean model confidence, some correct: 0.8635606368339241\n",
      "mean model confidence, all incorrect: 0.7462013893827867\n"
     ]
    },
    {
     "data": {
      "image/png": "[encoded data removed]",
      "text/plain": [
       "<matplotlib.figure.Figure at 0x128766b38>"
      ]
     },
     "metadata": {},
     "output_type": "display_data"
    }
   ],
   "source": [
    "fig, axes = plt.subplots(3, 1, figsize = (14, 5))\n",
    "\n",
    "all_correct_probas.hist(normed = True, bins = 10, ax = axes[0], alpha = 0.5, color = 'darkseagreen')\n",
    "some_correct_probas.hist(normed = True, bins = 10, ax = axes[1], alpha = 0.5, color = 'steelblue')\n",
    "all_incorrect_probas.hist(normed = True, bins = 10, ax = axes[2], alpha = 0.5, color = 'lightcoral')\n",
    "axes[1].set(ylabel = 'relative frequency')\n",
    "axes[2].set(xlabel = 'average model confidence')\n",
    "for ax in axes:\n",
    "    ax.set(xlim = (0,1), ylim = (0,7))\n",
    "plt.tight_layout()\n",
    "print('mean model confidence, all correct:', all_correct_probas_mean)\n",
    "print('mean model confidence, some correct:', some_correct_probas_mean)\n",
    "print('mean model confidence, all incorrect:', all_incorrect_probas_mean)"
   ]
  },
  {
   "cell_type": "code",
   "execution_count": 285,
   "metadata": {
    "collapsed": false
   },
   "outputs": [
    {
     "name": "stdout",
     "output_type": "stream",
     "text": [
      "mean panel confidence, all correct: 0.9210404561960939\n",
      "mean panel confidence, some correct: 0.9028689673066932\n",
      "mean panel confidence, all incorrect: 0.7083037667071688\n"
     ]
    },
    {
     "data": {
      "image/png": "[encoded data removed]",
      "text/plain": [
       "<matplotlib.figure.Figure at 0x1281d6c88>"
      ]
     },
     "metadata": {},
     "output_type": "display_data"
    }
   ],
   "source": [
    "fig, axes = plt.subplots(3, 1, figsize = (14, 5))\n",
    "\n",
    "all_correct_conf.hist(normed = True, bins = 4, ax = axes[0], alpha = 0.5, color = 'darkseagreen')\n",
    "some_correct_conf.hist(normed = True, bins = 4, ax = axes[1], alpha = 0.5, color = 'steelblue')\n",
    "all_incorrect_conf.hist(normed = True, bins = 4, ax = axes[2], alpha = 0.5, color = 'lightcoral')\n",
    "axes[1].set(ylabel = 'relative frequency')\n",
    "axes[2].set(xlabel = 'average panel confidence')\n",
    "for ax in axes:\n",
    "    ax.set(xlim = (0,1), ylim = (0,5))\n",
    "plt.tight_layout()\n",
    "print('mean panel confidence, all correct:', all_correct_conf_mean)\n",
    "print('mean panel confidence, some correct:', some_correct_conf_mean)\n",
    "print('mean panel confidence, all incorrect:', all_incorrect_conf_mean)"
   ]
  },
  {
   "cell_type": "code",
   "execution_count": 295,
   "metadata": {
    "collapsed": false
   },
   "outputs": [
    {
     "data": {
      "text/plain": [
       "<seaborn.axisgrid.JointGrid at 0x126a7af98>"
      ]
     },
     "execution_count": 295,
     "metadata": {},
     "output_type": "execute_result"
    },
    {
     "data": {
      "image/png": "[encoded data removed]",
      "text/plain": [
       "<matplotlib.figure.Figure at 0x126a7ae48>"
      ]
     },
     "metadata": {},
     "output_type": "display_data"
    }
   ],
   "source": [
    "model_conf = max_probas.mean(axis = 1)\n",
    "panel_conf = df_clean.confidence\n",
    "\n",
    "sns.jointplot(model_conf, panel_conf, kind = 'scatter')"
   ]
  },
  {
   "cell_type": "markdown",
   "metadata": {},
   "source": [
    "# Examine tweets"
   ]
  },
  {
   "cell_type": "code",
   "execution_count": 381,
   "metadata": {
    "collapsed": false
   },
   "outputs": [],
   "source": [
    "unanimous = (y_pred_mlp == y_pred_cnn) & (y_pred_bnb == y_pred_cnn)\n",
    "y_pred_all = y_pred_cnn.copy()\n",
    "y_pred_all[~unanimous] = -1\n",
    "\n",
    "bnb_cnn = y_pred_bnb == y_pred_cnn\n",
    "y_pred_bnb_cnn = y_pred_cnn.copy()\n",
    "y_pred_bnb_cnn[~bnb_cnn] = -1"
   ]
  },
  {
   "cell_type": "code",
   "execution_count": 375,
   "metadata": {
    "collapsed": false,
    "scrolled": false
   },
   "outputs": [
    {
     "data": {
      "text/html": [
       "<div>\n",
       "<style>\n",
       "    .dataframe thead tr:only-child th {\n",
       "        text-align: right;\n",
       "    }\n",
       "\n",
       "    .dataframe thead th {\n",
       "        text-align: left;\n",
       "    }\n",
       "\n",
       "    .dataframe tbody tr th {\n",
       "        vertical-align: top;\n",
       "    }\n",
       "</style>\n",
       "<table border=\"1\" class=\"dataframe\">\n",
       "  <thead>\n",
       "    <tr style=\"text-align: right;\">\n",
       "      <th></th>\n",
       "      <th>text</th>\n",
       "      <th>rating</th>\n",
       "      <th>confidence</th>\n",
       "    </tr>\n",
       "    <tr>\n",
       "      <th>id</th>\n",
       "      <th></th>\n",
       "      <th></th>\n",
       "      <th></th>\n",
       "    </tr>\n",
       "  </thead>\n",
       "  <tbody>\n",
       "    <tr>\n",
       "      <th>853731296</th>\n",
       "      <td>I just wrote in a question to Answerman for the first time ever. I feel like a true anime fan now. LOL</td>\n",
       "      <td>0</td>\n",
       "      <td>1.0</td>\n",
       "    </tr>\n",
       "    <tr>\n",
       "      <th>853724597</th>\n",
       "      <td>@KIROTraffic If you wish to get their faster, stay in motion. If you wish to take longer, go really fast &amp;amp; stop. https://t.co/ZCTlJnm4s2</td>\n",
       "      <td>0</td>\n",
       "      <td>1.0</td>\n",
       "    </tr>\n",
       "    <tr>\n",
       "      <th>853726451</th>\n",
       "      <td>BJP has no right 2 take action of its party affairs nor has a right 2 govern India as per opposition Need consent https://t.co/ptpXElhDg6</td>\n",
       "      <td>0</td>\n",
       "      <td>1.0</td>\n",
       "    </tr>\n",
       "    <tr>\n",
       "      <th>853733893</th>\n",
       "      <td>oldpicsarchive: A Jewish man having his nose measured during Aryan race determination tests in Nazi Germany, 1940 https://t.co/hUPsK3Hg8N</td>\n",
       "      <td>0</td>\n",
       "      <td>1.0</td>\n",
       "    </tr>\n",
       "    <tr>\n",
       "      <th>853727634</th>\n",
       "      <td>The Ultimate Guide To Perfecting Your Eyebrows https://t.co/CXHPrrkFeB via @StyleBlazer</td>\n",
       "      <td>0</td>\n",
       "      <td>1.0</td>\n",
       "    </tr>\n",
       "    <tr>\n",
       "      <th>853720188</th>\n",
       "      <td>You disgust me. How can you live with yourself? You sit on a throne of lies.</td>\n",
       "      <td>0</td>\n",
       "      <td>1.0</td>\n",
       "    </tr>\n",
       "    <tr>\n",
       "      <th>853725094</th>\n",
       "      <td>@KhareA15 best guy friend will be home tomorrow &amp;amp; home until the 4th! so my plans include hanging out with him as much as possible</td>\n",
       "      <td>0</td>\n",
       "      <td>1.0</td>\n",
       "    </tr>\n",
       "    <tr>\n",
       "      <th>853720092</th>\n",
       "      <td>Kicking &amp;amp; Screaming is still one of my all time favorite comedies. Cracks me up every time.</td>\n",
       "      <td>0</td>\n",
       "      <td>1.0</td>\n",
       "    </tr>\n",
       "    <tr>\n",
       "      <th>853726740</th>\n",
       "      <td>3 MORE DAYS UNTIL I GET TO SEE MY FAVORITE PEOPLE IN THE WORLD. I LOVE THIS CONCEPT https://t.co/sGNHvlpC29</td>\n",
       "      <td>0</td>\n",
       "      <td>1.0</td>\n",
       "    </tr>\n",
       "    <tr>\n",
       "      <th>853720634</th>\n",
       "      <td>@Dezify a lot of horses are like $10,000. You'd be a multimillionaire</td>\n",
       "      <td>0</td>\n",
       "      <td>1.0</td>\n",
       "    </tr>\n",
       "  </tbody>\n",
       "</table>\n",
       "</div>"
      ],
      "text/plain": [
       "                                                                                                                                                   text  \\\n",
       "id                                                                                                                                                        \n",
       "853731296                                        I just wrote in a question to Answerman for the first time ever. I feel like a true anime fan now. LOL   \n",
       "853724597  @KIROTraffic If you wish to get their faster, stay in motion. If you wish to take longer, go really fast &amp; stop. https://t.co/ZCTlJnm4s2   \n",
       "853726451     BJP has no right 2 take action of its party affairs nor has a right 2 govern India as per opposition Need consent https://t.co/ptpXElhDg6   \n",
       "853733893     oldpicsarchive: A Jewish man having his nose measured during Aryan race determination tests in Nazi Germany, 1940 https://t.co/hUPsK3Hg8N   \n",
       "853727634                                                       The Ultimate Guide To Perfecting Your Eyebrows https://t.co/CXHPrrkFeB via @StyleBlazer   \n",
       "853720188                                                                  You disgust me. How can you live with yourself? You sit on a throne of lies.   \n",
       "853725094        @KhareA15 best guy friend will be home tomorrow &amp; home until the 4th! so my plans include hanging out with him as much as possible   \n",
       "853720092                                               Kicking &amp; Screaming is still one of my all time favorite comedies. Cracks me up every time.   \n",
       "853726740                                   3 MORE DAYS UNTIL I GET TO SEE MY FAVORITE PEOPLE IN THE WORLD. I LOVE THIS CONCEPT https://t.co/sGNHvlpC29   \n",
       "853720634                                                                         @Dezify a lot of horses are like $10,000. You'd be a multimillionaire   \n",
       "\n",
       "           rating  confidence  \n",
       "id                             \n",
       "853731296       0         1.0  \n",
       "853724597       0         1.0  \n",
       "853726451       0         1.0  \n",
       "853733893       0         1.0  \n",
       "853727634       0         1.0  \n",
       "853720188       0         1.0  \n",
       "853725094       0         1.0  \n",
       "853720092       0         1.0  \n",
       "853726740       0         1.0  \n",
       "853720634       0         1.0  "
      ]
     },
     "execution_count": 375,
     "metadata": {},
     "output_type": "execute_result"
    }
   ],
   "source": [
    "df_orig[(y_pred_all == 0) & (y == 0)].sample(10)"
   ]
  },
  {
   "cell_type": "code",
   "execution_count": 379,
   "metadata": {
    "collapsed": false
   },
   "outputs": [
    {
     "data": {
      "text/html": [
       "<div>\n",
       "<style>\n",
       "    .dataframe thead tr:only-child th {\n",
       "        text-align: right;\n",
       "    }\n",
       "\n",
       "    .dataframe thead th {\n",
       "        text-align: left;\n",
       "    }\n",
       "\n",
       "    .dataframe tbody tr th {\n",
       "        vertical-align: top;\n",
       "    }\n",
       "</style>\n",
       "<table border=\"1\" class=\"dataframe\">\n",
       "  <thead>\n",
       "    <tr style=\"text-align: right;\">\n",
       "      <th></th>\n",
       "      <th>text</th>\n",
       "      <th>rating</th>\n",
       "      <th>confidence</th>\n",
       "    </tr>\n",
       "    <tr>\n",
       "      <th>id</th>\n",
       "      <th></th>\n",
       "      <th></th>\n",
       "      <th></th>\n",
       "    </tr>\n",
       "  </thead>\n",
       "  <tbody>\n",
       "    <tr>\n",
       "      <th>853723654</th>\n",
       "      <td>@QueenHeatherxo YOUR FUCKING GAY ASS FAGGOT AND YOUR DESPERATE YOU FUCKING CUNT! https://t.co/YPoKTWMXhQ</td>\n",
       "      <td>1</td>\n",
       "      <td>0.6562</td>\n",
       "    </tr>\n",
       "    <tr>\n",
       "      <th>853720850</th>\n",
       "      <td>white people still think the word nigger is a good insult ? not going to stop me from giving a Anglo Saxon _����_</td>\n",
       "      <td>1</td>\n",
       "      <td>0.6632</td>\n",
       "    </tr>\n",
       "    <tr>\n",
       "      <th>853724622</th>\n",
       "      <td>I dont trust nobody w/. the simple shit _�㢉�_�_ cause they wanna lie, add shit, and go around the truth to make it juicy</td>\n",
       "      <td>1</td>\n",
       "      <td>1.0000</td>\n",
       "    </tr>\n",
       "    <tr>\n",
       "      <th>853723736</th>\n",
       "      <td>@realDonaldTrump you a racist faggot bitch all that talkin goin to get your dumbass wacked trynna run for president dummie.</td>\n",
       "      <td>1</td>\n",
       "      <td>0.6650</td>\n",
       "    </tr>\n",
       "    <tr>\n",
       "      <th>853733496</th>\n",
       "      <td>@CashoutDiamond happy birthday dirty dyke _̫�ȉۡ_̫_��</td>\n",
       "      <td>1</td>\n",
       "      <td>1.0000</td>\n",
       "    </tr>\n",
       "    <tr>\n",
       "      <th>853719702</th>\n",
       "      <td>@Yung_Rell501 I figured it out eventually/ this lil bastard at school</td>\n",
       "      <td>1</td>\n",
       "      <td>0.6718</td>\n",
       "    </tr>\n",
       "    <tr>\n",
       "      <th>853720355</th>\n",
       "      <td>I Ain't Gone Be Too Many \"Faggots\" &amp;amp; \"Bitch Niggas\" Cuz I Listen To A Certain Rapper, Nigga. Tf You Think This Was? _�㢉�_�__�㢉�_�_</td>\n",
       "      <td>1</td>\n",
       "      <td>1.0000</td>\n",
       "    </tr>\n",
       "    <tr>\n",
       "      <th>853731564</th>\n",
       "      <td>The worst text a nigga and his friends can get _̫�Љۡ_̫�Љۡ_̫�Љۡ_̫�Љۡ_̫�Љۡ_̫�Љۡ https://t.co/KLNXTz9rqY</td>\n",
       "      <td>1</td>\n",
       "      <td>1.0000</td>\n",
       "    </tr>\n",
       "    <tr>\n",
       "      <th>853725887</th>\n",
       "      <td>So much more than six figures, a motherfucking made nigga.</td>\n",
       "      <td>1</td>\n",
       "      <td>1.0000</td>\n",
       "    </tr>\n",
       "    <tr>\n",
       "      <th>853730216</th>\n",
       "      <td>Let me find out yall cuffin these hoes for christmas _̫�Љۡ_̫���_</td>\n",
       "      <td>1</td>\n",
       "      <td>1.0000</td>\n",
       "    </tr>\n",
       "  </tbody>\n",
       "</table>\n",
       "</div>"
      ],
      "text/plain": [
       "                                                                                                                                             text  \\\n",
       "id                                                                                                                                                  \n",
       "853723654                                @QueenHeatherxo YOUR FUCKING GAY ASS FAGGOT AND YOUR DESPERATE YOU FUCKING CUNT! https://t.co/YPoKTWMXhQ   \n",
       "853720850                       white people still think the word nigger is a good insult ? not going to stop me from giving a Anglo Saxon _����_   \n",
       "853724622                I dont trust nobody w/. the simple shit _�㢉�_�_ cause they wanna lie, add shit, and go around the truth to make it juicy   \n",
       "853723736             @realDonaldTrump you a racist faggot bitch all that talkin goin to get your dumbass wacked trynna run for president dummie.   \n",
       "853733496                                                                                    @CashoutDiamond happy birthday dirty dyke _̫�ȉۡ_̫_��   \n",
       "853719702                                                                   @Yung_Rell501 I figured it out eventually/ this lil bastard at school   \n",
       "853720355  I Ain't Gone Be Too Many \"Faggots\" &amp; \"Bitch Niggas\" Cuz I Listen To A Certain Rapper, Nigga. Tf You Think This Was? _�㢉�_�__�㢉�_�_   \n",
       "853731564                                   The worst text a nigga and his friends can get _̫�Љۡ_̫�Љۡ_̫�Љۡ_̫�Љۡ_̫�Љۡ_̫�Љۡ https://t.co/KLNXTz9rqY   \n",
       "853725887                                                                              So much more than six figures, a motherfucking made nigga.   \n",
       "853730216                                                                        Let me find out yall cuffin these hoes for christmas _̫�Љۡ_̫���_   \n",
       "\n",
       "           rating  confidence  \n",
       "id                             \n",
       "853723654       1      0.6562  \n",
       "853720850       1      0.6632  \n",
       "853724622       1      1.0000  \n",
       "853723736       1      0.6650  \n",
       "853733496       1      1.0000  \n",
       "853719702       1      0.6718  \n",
       "853720355       1      1.0000  \n",
       "853731564       1      1.0000  \n",
       "853725887       1      1.0000  \n",
       "853730216       1      1.0000  "
      ]
     },
     "execution_count": 379,
     "metadata": {},
     "output_type": "execute_result"
    }
   ],
   "source": [
    "df_orig[(y_pred_all == 1) & (y == 1)].sample(10)"
   ]
  },
  {
   "cell_type": "code",
   "execution_count": 382,
   "metadata": {
    "collapsed": false
   },
   "outputs": [
    {
     "data": {
      "text/html": [
       "<div>\n",
       "<style>\n",
       "    .dataframe thead tr:only-child th {\n",
       "        text-align: right;\n",
       "    }\n",
       "\n",
       "    .dataframe thead th {\n",
       "        text-align: left;\n",
       "    }\n",
       "\n",
       "    .dataframe tbody tr th {\n",
       "        vertical-align: top;\n",
       "    }\n",
       "</style>\n",
       "<table border=\"1\" class=\"dataframe\">\n",
       "  <thead>\n",
       "    <tr style=\"text-align: right;\">\n",
       "      <th></th>\n",
       "      <th>text</th>\n",
       "      <th>rating</th>\n",
       "      <th>confidence</th>\n",
       "    </tr>\n",
       "    <tr>\n",
       "      <th>id</th>\n",
       "      <th></th>\n",
       "      <th></th>\n",
       "      <th></th>\n",
       "    </tr>\n",
       "  </thead>\n",
       "  <tbody>\n",
       "    <tr>\n",
       "      <th>853724261</th>\n",
       "      <td>Fucking faggot</td>\n",
       "      <td>2</td>\n",
       "      <td>0.6734</td>\n",
       "    </tr>\n",
       "    <tr>\n",
       "      <th>853726255</th>\n",
       "      <td>@Brazylyfe LMFAOOO tired of your big lipped nigger ass</td>\n",
       "      <td>2</td>\n",
       "      <td>1.0000</td>\n",
       "    </tr>\n",
       "    <tr>\n",
       "      <th>853726419</th>\n",
       "      <td>@NBCNews of course not black niggers are dead to Texans</td>\n",
       "      <td>2</td>\n",
       "      <td>1.0000</td>\n",
       "    </tr>\n",
       "    <tr>\n",
       "      <th>853724802</th>\n",
       "      <td>My fab friends really hate fat girls like _�㢉�_�__�㢉�_�_</td>\n",
       "      <td>2</td>\n",
       "      <td>0.6768</td>\n",
       "    </tr>\n",
       "    <tr>\n",
       "      <th>853728418</th>\n",
       "      <td>@__dhop Shut up nigger</td>\n",
       "      <td>2</td>\n",
       "      <td>0.6598</td>\n",
       "    </tr>\n",
       "    <tr>\n",
       "      <th>853725839</th>\n",
       "      <td>HD Repent You Little Faggot #RELIGIOUS #clips4sale https://t.co/QyhVprXhMf via @clips4sale</td>\n",
       "      <td>2</td>\n",
       "      <td>0.6726</td>\n",
       "    </tr>\n",
       "    <tr>\n",
       "      <th>853724719</th>\n",
       "      <td>I hate faggots _�㢉�_�_�㢉�_̻</td>\n",
       "      <td>2</td>\n",
       "      <td>1.0000</td>\n",
       "    </tr>\n",
       "    <tr>\n",
       "      <th>853727512</th>\n",
       "      <td>@NononJakuzure18 @Fuhrerious881 @alanBStardmp @Nationalist26 @Jacob109tl the niggers they had were African, not American ghetto dwellers</td>\n",
       "      <td>2</td>\n",
       "      <td>0.6587</td>\n",
       "    </tr>\n",
       "    <tr>\n",
       "      <th>853723455</th>\n",
       "      <td>Im so good,the lolcows come to defend that dumb nigger cause he likes your shitty mass produced music?.</td>\n",
       "      <td>2</td>\n",
       "      <td>0.6684</td>\n",
       "    </tr>\n",
       "    <tr>\n",
       "      <th>853720898</th>\n",
       "      <td>�ʉ�Ӊ��@Cockthot: Being attacked by niggers�ʉ��� get attacked some more tho</td>\n",
       "      <td>2</td>\n",
       "      <td>0.6703</td>\n",
       "    </tr>\n",
       "  </tbody>\n",
       "</table>\n",
       "</div>"
      ],
      "text/plain": [
       "                                                                                                                                               text  \\\n",
       "id                                                                                                                                                    \n",
       "853724261                                                                                                                            Fucking faggot   \n",
       "853726255                                                                                    @Brazylyfe LMFAOOO tired of your big lipped nigger ass   \n",
       "853726419                                                                                   @NBCNews of course not black niggers are dead to Texans   \n",
       "853724802                                                                                  My fab friends really hate fat girls like _�㢉�_�__�㢉�_�_   \n",
       "853728418                                                                                                                    @__dhop Shut up nigger   \n",
       "853725839                                                HD Repent You Little Faggot #RELIGIOUS #clips4sale https://t.co/QyhVprXhMf via @clips4sale   \n",
       "853724719                                                                                                               I hate faggots _�㢉�_�_�㢉�_̻   \n",
       "853727512  @NononJakuzure18 @Fuhrerious881 @alanBStardmp @Nationalist26 @Jacob109tl the niggers they had were African, not American ghetto dwellers   \n",
       "853723455                                   Im so good,the lolcows come to defend that dumb nigger cause he likes your shitty mass produced music?.   \n",
       "853720898                                                                �ʉ�Ӊ��@Cockthot: Being attacked by niggers�ʉ��� get attacked some more tho   \n",
       "\n",
       "           rating  confidence  \n",
       "id                             \n",
       "853724261       2      0.6734  \n",
       "853726255       2      1.0000  \n",
       "853726419       2      1.0000  \n",
       "853724802       2      0.6768  \n",
       "853728418       2      0.6598  \n",
       "853725839       2      0.6726  \n",
       "853724719       2      1.0000  \n",
       "853727512       2      0.6587  \n",
       "853723455       2      0.6684  \n",
       "853720898       2      0.6703  "
      ]
     },
     "execution_count": 382,
     "metadata": {},
     "output_type": "execute_result"
    }
   ],
   "source": [
    "df_orig[(y_pred_bnb_cnn == 2) & (y == 2)].sample(10)"
   ]
  },
  {
   "cell_type": "code",
   "execution_count": null,
   "metadata": {
    "collapsed": true
   },
   "outputs": [],
   "source": []
  },
  {
   "cell_type": "code",
   "execution_count": null,
   "metadata": {
    "collapsed": true
   },
   "outputs": [],
   "source": []
  },
  {
   "cell_type": "code",
   "execution_count": null,
   "metadata": {
    "collapsed": true
   },
   "outputs": [],
   "source": []
  },
  {
   "cell_type": "code",
   "execution_count": null,
   "metadata": {
    "collapsed": true
   },
   "outputs": [],
   "source": []
  },
  {
   "cell_type": "code",
   "execution_count": null,
   "metadata": {
    "collapsed": true
   },
   "outputs": [],
   "source": []
  },
  {
   "cell_type": "markdown",
   "metadata": {},
   "source": [
    "# Custom Labels"
   ]
  },
  {
   "cell_type": "code",
   "execution_count": 340,
   "metadata": {
    "collapsed": false,
    "scrolled": false
   },
   "outputs": [
    {
     "data": {
      "text/html": [
       "<div>\n",
       "<style>\n",
       "    .dataframe thead tr:only-child th {\n",
       "        text-align: right;\n",
       "    }\n",
       "\n",
       "    .dataframe thead th {\n",
       "        text-align: left;\n",
       "    }\n",
       "\n",
       "    .dataframe tbody tr th {\n",
       "        vertical-align: top;\n",
       "    }\n",
       "</style>\n",
       "<table border=\"1\" class=\"dataframe\">\n",
       "  <thead>\n",
       "    <tr style=\"text-align: right;\">\n",
       "      <th></th>\n",
       "      <th>text</th>\n",
       "      <th>rating</th>\n",
       "      <th>confidence</th>\n",
       "    </tr>\n",
       "    <tr>\n",
       "      <th>id</th>\n",
       "      <th></th>\n",
       "      <th></th>\n",
       "      <th></th>\n",
       "    </tr>\n",
       "  </thead>\n",
       "  <tbody>\n",
       "    <tr>\n",
       "      <th>853720179</th>\n",
       "      <td>Some of y'all hoes disgust me</td>\n",
       "      <td>1</td>\n",
       "      <td>0.6775</td>\n",
       "    </tr>\n",
       "    <tr>\n",
       "      <th>853719664</th>\n",
       "      <td>Happy Birthday to the craziest bastard I know @mcdowell_blaine Make sure you don't threaten to kick a cops ass tonight _�㢉�_�__�㢉�_�_</td>\n",
       "      <td>1</td>\n",
       "      <td>1.0000</td>\n",
       "    </tr>\n",
       "    <tr>\n",
       "      <th>853733636</th>\n",
       "      <td>Muzzie in Penn. gets arrested for...trying to buy slave girls!!! https://t.co/H8GTW5R1Lv</td>\n",
       "      <td>0</td>\n",
       "      <td>0.6562</td>\n",
       "    </tr>\n",
       "    <tr>\n",
       "      <th>853729914</th>\n",
       "      <td>@DCameronSmith @aldotcom the house can and should be used to recruit businesses to lower Alabama. Don't be so short-sighted.</td>\n",
       "      <td>0</td>\n",
       "      <td>1.0000</td>\n",
       "    </tr>\n",
       "    <tr>\n",
       "      <th>853731361</th>\n",
       "      <td>Sounds like you need a Festivus Miracle to save the year!  https://t.co/ee1FovAJTW</td>\n",
       "      <td>0</td>\n",
       "      <td>1.0000</td>\n",
       "    </tr>\n",
       "  </tbody>\n",
       "</table>\n",
       "</div>"
      ],
      "text/plain": [
       "                                                                                                                                            text  \\\n",
       "id                                                                                                                                                 \n",
       "853720179                                                                                                          Some of y'all hoes disgust me   \n",
       "853719664  Happy Birthday to the craziest bastard I know @mcdowell_blaine Make sure you don't threaten to kick a cops ass tonight _�㢉�_�__�㢉�_�_   \n",
       "853733636                                               Muzzie in Penn. gets arrested for...trying to buy slave girls!!! https://t.co/H8GTW5R1Lv   \n",
       "853729914           @DCameronSmith @aldotcom the house can and should be used to recruit businesses to lower Alabama. Don't be so short-sighted.   \n",
       "853731361                                                     Sounds like you need a Festivus Miracle to save the year!  https://t.co/ee1FovAJTW   \n",
       "\n",
       "           rating  confidence  \n",
       "id                             \n",
       "853720179       1      0.6775  \n",
       "853719664       1      1.0000  \n",
       "853733636       0      0.6562  \n",
       "853729914       0      1.0000  \n",
       "853731361       0      1.0000  "
      ]
     },
     "execution_count": 340,
     "metadata": {},
     "output_type": "execute_result"
    }
   ],
   "source": [
    "df_dz = df_orig.sample(100)\n",
    "df_dz.head()"
   ]
  },
  {
   "cell_type": "code",
   "execution_count": 352,
   "metadata": {
    "collapsed": false
   },
   "outputs": [],
   "source": [
    "rating_dz = np.zeros(100)\n",
    "for i in range(len(df_dz)):\n",
    "    print('tweet {}'.format(i+1))\n",
    "    print(df_dz.iloc[i,0])\n",
    "    x = input('Enter a rating: ')\n",
    "    while len(x) != 1 or x.isdigit == False or int(x) not in range(3):\n",
    "        print('tweet {}'.format(i+1))\n",
    "        print(df_dz.iloc[i,0])\n",
    "        x = input('Enter a rating: ')\n",
    "    rating_dz[i] = int(x)\n",
    "    clear_output()"
   ]
  },
  {
   "cell_type": "code",
   "execution_count": 355,
   "metadata": {
    "collapsed": false
   },
   "outputs": [
    {
     "data": {
      "text/plain": [
       "array([ 1.,  0.,  1.,  0.,  0.,  0.,  0.,  0.,  0.,  1.,  0.,  1.,  1.,\n",
       "        0.,  0.,  0.,  0.,  1.,  0.,  0.,  0.,  1.,  0.,  0.,  0.,  0.,\n",
       "        0.,  0.,  0.,  0.,  0.,  0.,  0.,  1.,  1.,  0.,  0.,  1.,  1.,\n",
       "        0.,  0.,  0.,  0.,  1.,  0.,  1.,  1.,  0.,  0.,  0.,  0.,  0.,\n",
       "        0.,  1.,  1.,  0.,  0.,  1.,  1.,  0.,  0.,  0.,  0.,  0.,  0.,\n",
       "        0.,  1.,  0.,  0.,  0.,  0.,  0.,  1.,  0.,  0.,  1.,  2.,  0.,\n",
       "        2.,  0.,  0.,  0.,  0.,  0.,  1.,  0.,  1.,  0.,  0.,  2.,  0.,\n",
       "        0.,  0.,  1.,  1.,  0.,  2.,  1.,  1.,  0.])"
      ]
     },
     "execution_count": 355,
     "metadata": {},
     "output_type": "execute_result"
    }
   ],
   "source": [
    "rating_dz"
   ]
  },
  {
   "cell_type": "code",
   "execution_count": null,
   "metadata": {
    "collapsed": true
   },
   "outputs": [],
   "source": []
  }
 ],
 "metadata": {
  "anaconda-cloud": {},
  "kernelspec": {
   "display_name": "Python [conda root]",
   "language": "python",
   "name": "conda-root-py"
  },
  "language_info": {
   "codemirror_mode": {
    "name": "ipython",
    "version": 3
   },
   "file_extension": ".py",
   "mimetype": "text/x-python",
   "name": "python",
   "nbconvert_exporter": "python",
   "pygments_lexer": "ipython3",
   "version": "3.5.2"
  }
 },
 "nbformat": 4,
 "nbformat_minor": 1
}
