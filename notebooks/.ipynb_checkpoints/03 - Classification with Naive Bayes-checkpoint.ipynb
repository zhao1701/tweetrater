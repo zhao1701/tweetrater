{
 "cells": [
  {
   "cell_type": "markdown",
   "metadata": {
    "deletable": true,
    "editable": true
   },
   "source": [
    "# 03 - Classification with Naive Bayes\n",
    "In this section, we will assess the performance of various Naive Bayes models. In particular, we will examine, in order of complexity:\n",
    "- Bernoulli Naive Bayes with term presence vectors\n",
    "- Multinomial Naive Bayes with term frequency vectors\n",
    "- Multinomial Naive Bayes with [td-idf](https://en.wikipedia.org/wiki/Tf%E2%80%93idf) (term frequency, inverse document frequency) vectors"
   ]
  },
  {
   "cell_type": "markdown",
   "metadata": {
    "deletable": true,
    "editable": true
   },
   "source": [
    "[Naive Bayes classifiers](http://sebastianraschka.com/Articles/2014_naive_bayes_1.html) are based off Bayes' theorem of conditional probability, and though they are simple, have performed well particularly for text classification. They are labelled naive because the model assumes conditional independence of features, that is, the presence of a word in a tweet does not affect the probability of other words being observed in the same tweet. Though this assumption does not hold, in practice, the violation of conditional independence does not significantly undermine the accuracy of Naive Bayes in text classification."
   ]
  },
  {
   "cell_type": "code",
   "execution_count": 87,
   "metadata": {
    "collapsed": true,
    "deletable": true,
    "editable": true
   },
   "outputs": [],
   "source": [
    "import os\n",
    "import pandas as pd\n",
    "import numpy as np\n",
    "import matplotlib.pyplot as plt\n",
    "import seaborn as sns\n",
    "import pickle as pkl\n",
    "\n",
    "pd.options.display.max_colwidth = 400\n",
    "pd.options.display.max_info_rows = 50\n",
    "pd.options.display.max_columns = 100\n",
    "pd.options.display.max_seq_items = 50\n",
    "%matplotlib inline"
   ]
  },
  {
   "cell_type": "markdown",
   "metadata": {
    "deletable": true,
    "editable": true
   },
   "source": [
    "### Load data\n",
    "Because Naive Bayes models classify tweets from their [bag-of-words](https://en.wikipedia.org/wiki/Bag-of-words_model) representation, these models do not account for the sequence or semantic meaning of words. Thus, the difference between \"swam\" and \"swimming\" is inconsequential to the model, and both words should be represented with the same root of \"swim\" to prevent an explosion in tweet vector dimensionality. Controlling dimensionality is of special concern given the limited number of tweets in the corpus, and for this reason, stop words, which contribute little to no useful information about the offensiveness of a tweet, should also be ignored. So for classification with Naive Bayes models, we will use lemmatized tweets generated from **02 - Data Wrangling**. "
   ]
  },
  {
   "cell_type": "code",
   "execution_count": 89,
   "metadata": {
    "collapsed": false,
    "deletable": true,
    "editable": true
   },
   "outputs": [
    {
     "name": "stdout",
     "output_type": "stream",
     "text": [
      "(13086, 3)\n"
     ]
    }
   ],
   "source": [
    "data_path = os.path.join('..','data','data_all')\n",
    "with open(data_path, 'rb') as file_in:\n",
    "    data_all = pkl.load(file_in)\n",
    "    \n",
    "df_clean = data_all['df_clean']\n",
    "df_clean.head(3)\n",
    "print(df_clean.shape)"
   ]
  },
  {
   "cell_type": "code",
   "execution_count": 4,
   "metadata": {
    "collapsed": false,
    "deletable": true,
    "editable": true
   },
   "outputs": [],
   "source": [
    "from sklearn.feature_extraction.text import TfidfVectorizer, CountVectorizer\n",
    "from sklearn.model_selection import train_test_split\n",
    "from sklearn.naive_bayes import MultinomialNB, BernoulliNB\n",
    "from sklearn.pipeline import Pipeline\n",
    "from sklearn.metrics import f1_score, confusion_matrix, accuracy_score\n",
    "from sklearn.grid_search import GridSearchCV\n",
    "\n",
    "import warnings\n",
    "warnings.filterwarnings('ignore')"
   ]
  },
  {
   "cell_type": "markdown",
   "metadata": {
    "deletable": true,
    "editable": true
   },
   "source": [
    "# Bernoulli Naive Bayes with term presence vectors\n",
    "Given a corpus with a vocabulary of size $v$, each tweet can be represented by a $v$-dimensional vector where each index is associated with a unique term in the vocabulary, a value of 1 indicates the presence of that term in the tweet, and 0 indicates otherwise. Because each tweet is converted to a vector of binary features, a Bernoulli Naive Bayes model can be applied to learn the offensiveness of each tweet."
   ]
  },
  {
   "cell_type": "markdown",
   "metadata": {
    "deletable": true,
    "editable": true
   },
   "source": [
    "### Load train and test set"
   ]
  },
  {
   "cell_type": "code",
   "execution_count": 94,
   "metadata": {
    "collapsed": false
   },
   "outputs": [
    {
     "name": "stdout",
     "output_type": "stream",
     "text": [
      "X_train shape: (9160,)\n",
      "X_test shape: (3926,)\n",
      "y_train shape: (9160,)\n",
      "y_test shape: (3926,)\n"
     ]
    }
   ],
   "source": [
    "X_train = data_all['X_train']\n",
    "X_test = data_all['X_test']\n",
    "y_train = data_all['y_train']\n",
    "y_test = data_all['y_test']\n",
    "\n",
    "print('X_train shape:', X_train.shape)\n",
    "print('X_test shape:', X_test.shape)\n",
    "print('y_train shape:', y_train.shape)\n",
    "print('y_test shape:', y_test.shape)"
   ]
  },
  {
   "cell_type": "markdown",
   "metadata": {
    "deletable": true,
    "editable": true
   },
   "source": [
    "### Construct and fit pipeline\n",
    "We build a pipeline consisting of a count vectorizer that converts tweets into binary vectors and the Bernoulli Naive Bayes classifier itself. To optimize the model, we grid search through combinations of hyperparameters:\n",
    "- **min_df**: A term with a document frequency (the proportion of documents that contain said term) below this threshold is omitted from the vocabulary. This is useful for removing terms that are so rare that they can cause a model to overfit on their infrequent presence.\n",
    "- **max_df**: A term with a document frequency above this threshold is omitted from the vocabulary. This serves a similar function to removing stop words, but adapts to the contents of a corpus.\n",
    "- **alpha**: A value for calculating a fail-safe probability in the event of observing an unknown term in the test set."
   ]
  },
  {
   "cell_type": "code",
   "execution_count": 91,
   "metadata": {
    "collapsed": false,
    "deletable": true,
    "editable": true
   },
   "outputs": [
    {
     "name": "stdout",
     "output_type": "stream",
     "text": [
      "Best parameters:\n",
      " {'bnb__alpha': 0.35000000000000003, 'vect__max_df': 0.11000000000000001, 'vect__min_df': 0.0080000000000000002}\n",
      "Best accuracy:  0.7728165938864628\n"
     ]
    }
   ],
   "source": [
    "steps = [('vect', CountVectorizer(binary=True)), ('bnb', BernoulliNB())]\n",
    "pipe = Pipeline(steps)\n",
    "\n",
    "parameters = {'vect__min_df': np.arange(0,0.010, 0.002),\n",
    "              'vect__max_df': np.arange(.10,.142, 0.005),\n",
    "              'bnb__alpha': np.arange(0.0,0.4,0.05)}\n",
    "\n",
    "pipe_cv_bnb = GridSearchCV(pipe, param_grid = parameters, cv = 3, scoring = 'accuracy')\n",
    "pipe_cv_bnb.fit(X_train, y_train)\n",
    "print('Best parameters:\\n', pipe_cv_bnb.best_params_)\n",
    "print('Best accuracy: ', pipe_cv_bnb.best_score_)"
   ]
  },
  {
   "cell_type": "markdown",
   "metadata": {
    "deletable": true,
    "editable": true
   },
   "source": [
    "Optimized hyperparameters produce a Bernoulli Naive Bayes model with a cross-validated accuracy of 0.775. Of particular interest is the surprisingly low max_df hyperparameter, which suggests just removing stop words fell far short of pruning the vocabulary of extraneous terms."
   ]
  },
  {
   "cell_type": "code",
   "execution_count": 92,
   "metadata": {
    "collapsed": false,
    "deletable": true,
    "editable": true,
    "scrolled": false
   },
   "outputs": [
    {
     "data": {
      "image/png": "[encoded data removed]",
      "text/plain": [
       "<matplotlib.figure.Figure at 0x11a047518>"
      ]
     },
     "metadata": {},
     "output_type": "display_data"
    }
   ],
   "source": [
    "cv_scores = [score[1] for score in pipe_cv_bnb.grid_scores_ if score[0]['bnb__alpha'] == 0.30000000000000004]\n",
    "min_df = pipe_cv_bnb.param_grid['vect__min_df']\n",
    "max_df = pipe_cv_bnb.param_grid['vect__max_df']\n",
    "cv_scores = np.array(cv_scores).reshape(len(max_df), len(min_df))\n",
    "cv_scores\n",
    "\n",
    "plt.figure(figsize = (10, 4))\n",
    "g = plt.contourf(min_df, max_df, cv_scores, cmap = 'plasma', levels = np.linspace(0.7, 0.79, 20))\n",
    "plt.colorbar(g)\n",
    "plt.title('Cross-validated accuracy by document frequency hyperparameters')\n",
    "plt.xlabel('min_df')\n",
    "plt.ylabel('max_df')\n",
    "plt.tight_layout()"
   ]
  },
  {
   "cell_type": "markdown",
   "metadata": {
    "deletable": true,
    "editable": true
   },
   "source": [
    "In fact, the vocabulary used by the model consists of only 186 terms. We can even feed each term back into the model as a one-word tweet and have the model output a probability that the tweet is *not* offensive, allowing us to identify the most and least offensive terms. The list of most offensive terms is largely unsurprising, but the inclusion of \"smh\" and \"wit\" is interesting; though not offensive individually, it appears so frequently in offensive tweets that the model considers its presence a strong indicator of offensive speech."
   ]
  },
  {
   "cell_type": "code",
   "execution_count": 95,
   "metadata": {
    "collapsed": false,
    "deletable": true,
    "editable": true
   },
   "outputs": [
    {
     "name": "stdout",
     "output_type": "stream",
     "text": [
      "Vocabulary size: 186 \n",
      "\n",
      "MOST OFFENSIVE TERMS\n",
      "term      bitch    nigga    faggot   niggas    fuckin    nigger      fuck  \\\n",
      "proba  0.001534  0.00187  0.004446  0.00465  0.005212  0.005481  0.016221   \n",
      "\n",
      "term        ass   fucking      hoe     queer      cunt      shit       gay  \\\n",
      "proba  0.019124  0.027539  0.03275  0.043441  0.047305  0.100356  0.100593   \n",
      "\n",
      "term        fag     dumb       wit       smh      lame      call  \n",
      "proba  0.120489  0.16624  0.244827  0.291527  0.330454  0.340162  \n",
      "\n",
      "LEAST OFFENSIVE TERMS\n",
      "term      could      good    person     today    change      beat      live  \\\n",
      "proba  0.812298  0.816222  0.818785  0.830133  0.832483  0.832617  0.833465   \n",
      "\n",
      "term       feel      over     those      last     right      full  christmas  \\\n",
      "proba  0.842271  0.846022  0.858412  0.880262  0.888825  0.892391   0.892561   \n",
      "\n",
      "term        via     crack       bag       job    blame      book  \n",
      "proba  0.893456  0.899707  0.900131  0.901971  0.94221  0.945328  \n"
     ]
    }
   ],
   "source": [
    "vect = pipe_cv_bnb.best_estimator_.steps[0][1]\n",
    "vocab_size = len(vect.vocabulary_)\n",
    "print('Vocabulary size:', vocab_size,'\\n')\n",
    "identity = np.eye(vocab_size)\n",
    "\n",
    "estimator = pipe_cv_bnb.best_estimator_.steps[1][1]\n",
    "probs = estimator.predict_proba(identity)[:,0]\n",
    "\n",
    "words = sorted(list(vect.vocabulary_.keys()))\n",
    "words_df = pd.DataFrame(dict(term = words, proba = probs))\n",
    "words_df = words_df[['term', 'proba']].set_index('term')\n",
    "\n",
    "print('MOST OFFENSIVE TERMS')\n",
    "print(words_df.sort_values(by = 'proba', ascending = True).head(20).T)\n",
    "print()\n",
    "print('LEAST OFFENSIVE TERMS')\n",
    "print(words_df.sort_values(by = 'proba', ascending = True).tail(20).T)"
   ]
  },
  {
   "cell_type": "markdown",
   "metadata": {
    "deletable": true,
    "editable": true
   },
   "source": [
    "### Model evaluation"
   ]
  },
  {
   "cell_type": "markdown",
   "metadata": {
    "deletable": true,
    "editable": true
   },
   "source": [
    "Finally, we apply the model on holdout data to test its generalizability to the remainder of the tweets. In addition to accuracy, we are interested in its weighted F1-score, a weighted average of F1-scores for each label that serves as a compromise between [micro-averaging and macro-averaging](http://www.cnts.ua.ac.be/~vincent/pdf/microaverage.pdf) a multi-class F1-score. We also calculate normalized confusion matrices so that the matrices for the training data and test data are comparable."
   ]
  },
  {
   "cell_type": "code",
   "execution_count": 96,
   "metadata": {
    "collapsed": true,
    "deletable": true,
    "editable": true
   },
   "outputs": [],
   "source": [
    "def evaluate(y, y_pred):\n",
    "    print('Accuracy:', accuracy_score(y, y_pred))\n",
    "    print('F1 weighted: ', f1_score(y, y_pred, average = 'weighted'))\n",
    "    \n",
    "    matrix = confusion_matrix(y, y_pred)\n",
    "    matrix = matrix / matrix.sum().sum()\n",
    "    print('Normalized confusion matrix:\\n', matrix)\n",
    "    \n",
    "    y_values = y.value_counts()\n",
    "    y_values = y_values / y_values.sum()\n",
    "    print('Actual proportions:\\n', np.array(y_values))"
   ]
  },
  {
   "cell_type": "code",
   "execution_count": 97,
   "metadata": {
    "collapsed": true,
    "deletable": true,
    "editable": true
   },
   "outputs": [],
   "source": [
    "y_train_pred_bnb = pipe_cv_bnb.predict(X_train)\n",
    "y_test_pred_bnb = pipe_cv_bnb.predict(X_test)"
   ]
  },
  {
   "cell_type": "markdown",
   "metadata": {
    "deletable": true,
    "editable": true
   },
   "source": [
    "As expected, the performance of the model on the test data is slightly worse than that of the training data. Where the model tends to struggle significantly is in distinguishing between offensive and hate speech. In fact, the majority of tweets labelled hate speech are mis-classified."
   ]
  },
  {
   "cell_type": "code",
   "execution_count": 98,
   "metadata": {
    "collapsed": false,
    "deletable": true,
    "editable": true
   },
   "outputs": [
    {
     "name": "stdout",
     "output_type": "stream",
     "text": [
      "Accuracy: 0.784170305677\n",
      "F1 weighted:  0.772825555738\n",
      "Normalized confusion matrix:\n",
      " [[ 0.49465066  0.01921397  0.00174672]\n",
      " [ 0.055131    0.22882096  0.0470524 ]\n",
      " [ 0.02565502  0.06703057  0.06069869]]\n",
      "Actual proportions:\n",
      " [ 0.51561135  0.33100437  0.15338428]\n"
     ]
    }
   ],
   "source": [
    "evaluate(y_train, y_train_pred_bnb)"
   ]
  },
  {
   "cell_type": "code",
   "execution_count": 102,
   "metadata": {
    "collapsed": false,
    "deletable": true,
    "editable": true
   },
   "outputs": [
    {
     "name": "stdout",
     "output_type": "stream",
     "text": [
      "Accuracy: 0.775089149261\n",
      "F1 weighted:  0.763416316184\n",
      "Normalized confusion matrix:\n",
      " [[ 0.49108507  0.02215996  0.00229241]\n",
      " [ 0.05527254  0.22694855  0.04865003]\n",
      " [ 0.02445237  0.07208355  0.05705553]]\n",
      "Actual proportions:\n",
      " [ 0.51553744  0.33087112  0.15359144]\n"
     ]
    }
   ],
   "source": [
    "evaluate(y_test, y_test_pred_bnb)"
   ]
  },
  {
   "cell_type": "markdown",
   "metadata": {
    "deletable": true,
    "editable": true
   },
   "source": [
    "### Two-class performance evaluation\n",
    "That the line between offensive and hateful speech is fuzzy even for humans begs the question of how the model would perform if the distinction is removed and hateful speech is considered offensive. In this case, the model's accuracy on the test data would have been an impressive 89.6%, with most of the mis-classifications occuring as a result of classifying offensive speech as non-offensive."
   ]
  },
  {
   "cell_type": "code",
   "execution_count": 101,
   "metadata": {
    "collapsed": false,
    "deletable": true,
    "editable": true
   },
   "outputs": [
    {
     "name": "stdout",
     "output_type": "stream",
     "text": [
      "Accuracy: 0.895822720326\n",
      "F1 weighted:  0.895321784569\n",
      "Normalized confusion matrix:\n",
      " [[ 0.49108507  0.02445237]\n",
      " [ 0.07972491  0.40473765]]\n",
      "Actual proportions:\n",
      " [ 0.51553744  0.48446256]\n"
     ]
    }
   ],
   "source": [
    "y_binary = (y_test == 1) | (y_test == 2)\n",
    "y_pred_binary_bnb = (y_test_pred_bnb == 1) | (y_test_pred_bnb == 2)\n",
    "evaluate(y_binary, y_pred_binary_bnb)"
   ]
  },
  {
   "cell_type": "markdown",
   "metadata": {
    "deletable": true,
    "editable": true
   },
   "source": [
    "### Save model for later analysis"
   ]
  },
  {
   "cell_type": "code",
   "execution_count": 103,
   "metadata": {
    "collapsed": true,
    "deletable": true,
    "editable": true
   },
   "outputs": [],
   "source": [
    "with open('../data/model_bnb', 'wb') as file_out:\n",
    "    pkl.dump(pipe_cv_bnb, file_out)"
   ]
  },
  {
   "cell_type": "markdown",
   "metadata": {
    "deletable": true,
    "editable": true
   },
   "source": [
    "# Multinomial Naive Bayes with term frequency vectors\n",
    "In a Bernoulli Naive Bayes model, because each vector element only indicates the presence of a particular term, the model does not account for the multiplicity of terms within a tweet. That is, whether a term occurs just once within a tweet or multiple times makes no difference to the model. By changing the vector representation to a term frequency vector and, by necessity, using a Multinomial Naive Bayes classifier, we can incorporate additional information about each tweet."
   ]
  },
  {
   "cell_type": "code",
   "execution_count": 104,
   "metadata": {
    "collapsed": false,
    "deletable": true,
    "editable": true
   },
   "outputs": [
    {
     "name": "stdout",
     "output_type": "stream",
     "text": [
      "Best parameters:\n",
      " {'vect__max_df': 0.11000000000000001, 'mnb__alpha': 0.30000000000000004, 'vect__min_df': 0.0080000000000000002}\n",
      "Best accuracy:  0.7701965065502183\n"
     ]
    }
   ],
   "source": [
    "steps = [('vect', CountVectorizer()),('mnb', MultinomialNB())]\n",
    "pipe = Pipeline(steps)\n",
    "\n",
    "parameters = {'vect__min_df': np.arange(0,0.010, 0.002),\n",
    "              'vect__max_df': np.arange(.10,.145, 0.002),\n",
    "              'mnb__alpha': np.arange(0.0,0.5,0.1)}\n",
    "\n",
    "pipe_cv_mnb = GridSearchCV(pipe, param_grid = parameters, cv = 3, scoring = 'accuracy')\n",
    "pipe_cv_mnb.fit(X_train, y_train)\n",
    "\n",
    "print('Best parameters:\\n', pipe_cv_mnb.best_params_)\n",
    "print('Best accuracy: ', pipe_cv_mnb.best_score_)"
   ]
  },
  {
   "cell_type": "markdown",
   "metadata": {
    "deletable": true,
    "editable": true
   },
   "source": [
    "The grid search for optimized hyperparameters for Multinomial Naive Bayes returns values for mininum and maximum document frequency that further lower the vocabulary size to 187 terms."
   ]
  },
  {
   "cell_type": "code",
   "execution_count": 105,
   "metadata": {
    "collapsed": false,
    "deletable": true,
    "editable": true
   },
   "outputs": [
    {
     "name": "stdout",
     "output_type": "stream",
     "text": [
      "Vocabulary size: 186 \n",
      "\n",
      "MOST OFFENSIVE TERMS\n",
      "term     bitch     nigga    niggas    fuckin    faggot    nigger       ass  \\\n",
      "proba  0.00076  0.000925  0.002351  0.002614  0.003718  0.004089  0.011363   \n",
      "\n",
      "term       fuck       hoe   fucking      cunt     queer       gay      shit  \\\n",
      "proba  0.011948  0.016136  0.017014  0.026887  0.027152  0.060503  0.061516   \n",
      "\n",
      "term       fag     dumb       wit       smh     lame      call  \n",
      "proba  0.07746  0.10778  0.141106  0.195608  0.20025  0.234108  \n",
      "\n",
      "LEAST OFFENSIVE TERMS\n",
      "term       find      live    person     today      feel    follow      beat  \\\n",
      "proba  0.731569  0.734283  0.737013  0.740113  0.743364  0.744253  0.744725   \n",
      "\n",
      "term       over    change     those      last  christmas     right      full  \\\n",
      "proba  0.754975  0.766737  0.787551  0.810497   0.820322  0.821312  0.827789   \n",
      "\n",
      "term      crack       bag       job       via     blame      book  \n",
      "proba  0.830769  0.841366  0.844224  0.846469  0.890765  0.919194  \n"
     ]
    }
   ],
   "source": [
    "vect = pipe_cv_mnb.best_estimator_.steps[0][1]\n",
    "vocab_size = len(vect.vocabulary_)\n",
    "print('Vocabulary size:', vocab_size,'\\n')\n",
    "identity = np.eye(vocab_size)\n",
    "\n",
    "estimator = pipe_cv_mnb.best_estimator_.steps[1][1]\n",
    "words = vect.vocabulary_.keys()\n",
    "probs = pipe_cv_mnb.predict_proba(words)[:,0]\n",
    "\n",
    "words_df = pd.DataFrame(dict(term = list(words), proba = probs))\n",
    "words_df = words_df[['term', 'proba']].set_index('term')\n",
    "\n",
    "print('MOST OFFENSIVE TERMS')\n",
    "print(words_df.sort_values(by = 'proba').head(20).T)\n",
    "print()\n",
    "print('LEAST OFFENSIVE TERMS')\n",
    "print(words_df.sort_values(by = 'proba').tail(20).T)"
   ]
  },
  {
   "cell_type": "code",
   "execution_count": 106,
   "metadata": {
    "collapsed": true,
    "deletable": true,
    "editable": true
   },
   "outputs": [],
   "source": [
    "y_train_pred_mnb = pipe_cv_mnb.predict(X_train)\n",
    "y_test_pred_mnb = pipe_cv_mnb.predict(X_test)"
   ]
  },
  {
   "cell_type": "markdown",
   "metadata": {
    "deletable": true,
    "editable": true
   },
   "source": [
    "Surprisingly, incorporating additional information about the multiplicity of each term does not improve the model. In fact, Multinomial Naive Bayes performs slightly worse on the training and the test data than its binomial variant. In particular, MNB tends to mis-classify hate speech as offensive and offensive speech as non-offensive more frequently than BNB."
   ]
  },
  {
   "cell_type": "code",
   "execution_count": 107,
   "metadata": {
    "collapsed": false,
    "deletable": true,
    "editable": true
   },
   "outputs": [
    {
     "name": "stdout",
     "output_type": "stream",
     "text": [
      "Accuracy: 0.780240174672\n",
      "F1 weighted:  0.766484780803\n",
      "Normalized confusion matrix:\n",
      " [[ 0.49137555  0.02248908  0.00174672]\n",
      " [ 0.05633188  0.23548035  0.03919214]\n",
      " [ 0.02510917  0.07489083  0.05338428]]\n",
      "Actual proportions:\n",
      " [ 0.51561135  0.33100437  0.15338428]\n"
     ]
    }
   ],
   "source": [
    "evaluate(y_train, y_train_pred_mnb)"
   ]
  },
  {
   "cell_type": "code",
   "execution_count": 108,
   "metadata": {
    "collapsed": false,
    "deletable": true,
    "editable": true
   },
   "outputs": [
    {
     "name": "stdout",
     "output_type": "stream",
     "text": [
      "Accuracy: 0.769740193581\n",
      "F1 weighted:  0.756546992249\n",
      "Normalized confusion matrix:\n",
      " [[ 0.48726439  0.02547122  0.00280183]\n",
      " [ 0.05731024  0.23025981  0.04330107]\n",
      " [ 0.02445237  0.07692308  0.052216  ]]\n",
      "Actual proportions:\n",
      " [ 0.51553744  0.33087112  0.15359144]\n"
     ]
    }
   ],
   "source": [
    "evaluate(y_test, y_test_pred_mnb)"
   ]
  },
  {
   "cell_type": "markdown",
   "metadata": {
    "deletable": true,
    "editable": true
   },
   "source": [
    "### Two-class performance evaluation"
   ]
  },
  {
   "cell_type": "code",
   "execution_count": 109,
   "metadata": {
    "collapsed": false,
    "deletable": true,
    "editable": true
   },
   "outputs": [
    {
     "name": "stdout",
     "output_type": "stream",
     "text": [
      "Accuracy: 0.889964340295\n",
      "F1 weighted:  0.88946302945\n",
      "Normalized confusion matrix:\n",
      " [[ 0.48726439  0.02827305]\n",
      " [ 0.08176261  0.40269995]]\n",
      "Actual proportions:\n",
      " [ 0.51553744  0.48446256]\n"
     ]
    }
   ],
   "source": [
    "y_pred_binary_mnb = (y_test_pred_mnb == 1) | (y_test_pred_mnb == 2)\n",
    "evaluate(y_binary, y_pred_binary_mnb)"
   ]
  },
  {
   "cell_type": "markdown",
   "metadata": {
    "deletable": true,
    "editable": true
   },
   "source": [
    "### What are these edge cases?\n",
    "Below we example those tweets which BNB correctly classified as offensive where MNB failed to do so as well as offensive tweets correctly classified by both BNB and MNB. The misclassified tweets indeed have fewer offensive words than those correctly classified. In fact, some of the correctly classified tweets have offensive words with multiplicity greater than 1. It would seem that using MNB, by incorprating multiplicity into its model, ends up setting a higher threshold for classifying a tweet as offensive that ultimately harms its performance slightly."
   ]
  },
  {
   "cell_type": "code",
   "execution_count": 110,
   "metadata": {
    "collapsed": false,
    "deletable": true,
    "editable": true
   },
   "outputs": [],
   "source": [
    "df_orig = data_all['df_orig']"
   ]
  },
  {
   "cell_type": "markdown",
   "metadata": {
    "deletable": true,
    "editable": true
   },
   "source": [
    "Mis-classified offensive tweets"
   ]
  },
  {
   "cell_type": "code",
   "execution_count": 111,
   "metadata": {
    "collapsed": false,
    "deletable": true,
    "editable": true
   },
   "outputs": [
    {
     "data": {
      "text/html": [
       "<div>\n",
       "<style>\n",
       "    .dataframe thead tr:only-child th {\n",
       "        text-align: right;\n",
       "    }\n",
       "\n",
       "    .dataframe thead th {\n",
       "        text-align: left;\n",
       "    }\n",
       "\n",
       "    .dataframe tbody tr th {\n",
       "        vertical-align: top;\n",
       "    }\n",
       "</style>\n",
       "<table border=\"1\" class=\"dataframe\">\n",
       "  <thead>\n",
       "    <tr style=\"text-align: right;\">\n",
       "      <th></th>\n",
       "      <th>text</th>\n",
       "      <th>rating</th>\n",
       "      <th>confidence</th>\n",
       "    </tr>\n",
       "    <tr>\n",
       "      <th>id</th>\n",
       "      <th></th>\n",
       "      <th></th>\n",
       "      <th></th>\n",
       "    </tr>\n",
       "  </thead>\n",
       "  <tbody>\n",
       "    <tr>\n",
       "      <th>853727097</th>\n",
       "      <td>Would've done more than just thrown a fucking phone on the road...\\nLeave them alone.\\nEspecially since they're angry already.</td>\n",
       "      <td>1</td>\n",
       "      <td>1.0000</td>\n",
       "    </tr>\n",
       "    <tr>\n",
       "      <th>853723195</th>\n",
       "      <td>@iDreamOfCece because those guys know the power of the dollar. We don't make it any better applauding coon shit and giving it shine</td>\n",
       "      <td>1</td>\n",
       "      <td>0.6598</td>\n",
       "    </tr>\n",
       "    <tr>\n",
       "      <th>853725079</th>\n",
       "      <td>@SamoanKing11 35 and finger banging 19yo's in the park smh, I like a couple of his songs but him as a person makes it hard lol</td>\n",
       "      <td>1</td>\n",
       "      <td>0.6615</td>\n",
       "    </tr>\n",
       "    <tr>\n",
       "      <th>853729432</th>\n",
       "      <td>only I could get fined ���50 for dropping a fag but on the floor�_��__̫�̩_̫̍_</td>\n",
       "      <td>1</td>\n",
       "      <td>0.6656</td>\n",
       "    </tr>\n",
       "    <tr>\n",
       "      <th>853722255</th>\n",
       "      <td>I always fuck things up and by things I mean my relationships with people but this doesn't make me a bad person. Or it kinda does Idk</td>\n",
       "      <td>1</td>\n",
       "      <td>0.6633</td>\n",
       "    </tr>\n",
       "    <tr>\n",
       "      <th>853719689</th>\n",
       "      <td>\"...so don't approach me with static. I let it fly like showing Kobe the basket! Bastard! You can quote me on that shit!\"</td>\n",
       "      <td>1</td>\n",
       "      <td>1.0000</td>\n",
       "    </tr>\n",
       "    <tr>\n",
       "      <th>853726476</th>\n",
       "      <td>As I stood outside McDonalds tryin and failing to make a smokable rollie some kind soul of pbc handed me a box of fags and left..thank u sir</td>\n",
       "      <td>1</td>\n",
       "      <td>1.0000</td>\n",
       "    </tr>\n",
       "    <tr>\n",
       "      <th>853729401</th>\n",
       "      <td>@16_Counter_Jace happy birthday big dog. Your still a fag. But I love you. _̫�Љۡ hope it's a good one!</td>\n",
       "      <td>1</td>\n",
       "      <td>1.0000</td>\n",
       "    </tr>\n",
       "    <tr>\n",
       "      <th>853723574</th>\n",
       "      <td>@mistergraceffa @JoeyGraceffa  I think u met fag but shut up. He's an amazing person. If he loves a guy then he loves a guy big deal. Fucku!</td>\n",
       "      <td>1</td>\n",
       "      <td>1.0000</td>\n",
       "    </tr>\n",
       "    <tr>\n",
       "      <th>853723570</th>\n",
       "      <td>Feel bad for no getting dylan for a fag but it's too much effort to move</td>\n",
       "      <td>1</td>\n",
       "      <td>1.0000</td>\n",
       "    </tr>\n",
       "  </tbody>\n",
       "</table>\n",
       "</div>"
      ],
      "text/plain": [
       "                                                                                                                                                   text  \\\n",
       "id                                                                                                                                                        \n",
       "853727097                Would've done more than just thrown a fucking phone on the road...\\nLeave them alone.\\nEspecially since they're angry already.   \n",
       "853723195           @iDreamOfCece because those guys know the power of the dollar. We don't make it any better applauding coon shit and giving it shine   \n",
       "853725079                @SamoanKing11 35 and finger banging 19yo's in the park smh, I like a couple of his songs but him as a person makes it hard lol   \n",
       "853729432                                                                 only I could get fined ���50 for dropping a fag but on the floor�_��__̫�̩_̫̍_   \n",
       "853722255         I always fuck things up and by things I mean my relationships with people but this doesn't make me a bad person. Or it kinda does Idk   \n",
       "853719689                     \"...so don't approach me with static. I let it fly like showing Kobe the basket! Bastard! You can quote me on that shit!\"   \n",
       "853726476  As I stood outside McDonalds tryin and failing to make a smokable rollie some kind soul of pbc handed me a box of fags and left..thank u sir   \n",
       "853729401                                        @16_Counter_Jace happy birthday big dog. Your still a fag. But I love you. _̫�Љۡ hope it's a good one!   \n",
       "853723574  @mistergraceffa @JoeyGraceffa  I think u met fag but shut up. He's an amazing person. If he loves a guy then he loves a guy big deal. Fucku!   \n",
       "853723570                                                                      Feel bad for no getting dylan for a fag but it's too much effort to move   \n",
       "\n",
       "           rating  confidence  \n",
       "id                             \n",
       "853727097       1      1.0000  \n",
       "853723195       1      0.6598  \n",
       "853725079       1      0.6615  \n",
       "853729432       1      0.6656  \n",
       "853722255       1      0.6633  \n",
       "853719689       1      1.0000  \n",
       "853726476       1      1.0000  \n",
       "853729401       1      1.0000  \n",
       "853723574       1      1.0000  \n",
       "853723570       1      1.0000  "
      ]
     },
     "execution_count": 111,
     "metadata": {},
     "output_type": "execute_result"
    }
   ],
   "source": [
    "df_test = df_orig.reindex(y_test.index)\n",
    "df_misclf = df_test[(y_test_pred_bnb == 1) & (y_test_pred_mnb == 0) & (y_test == 1)]\n",
    "df_misclf.sample(10)"
   ]
  },
  {
   "cell_type": "markdown",
   "metadata": {
    "deletable": true,
    "editable": true
   },
   "source": [
    "Correctly classified offensive tweets"
   ]
  },
  {
   "cell_type": "code",
   "execution_count": 112,
   "metadata": {
    "collapsed": false,
    "deletable": true,
    "editable": true
   },
   "outputs": [
    {
     "data": {
      "text/html": [
       "<div>\n",
       "<style>\n",
       "    .dataframe thead tr:only-child th {\n",
       "        text-align: right;\n",
       "    }\n",
       "\n",
       "    .dataframe thead th {\n",
       "        text-align: left;\n",
       "    }\n",
       "\n",
       "    .dataframe tbody tr th {\n",
       "        vertical-align: top;\n",
       "    }\n",
       "</style>\n",
       "<table border=\"1\" class=\"dataframe\">\n",
       "  <thead>\n",
       "    <tr style=\"text-align: right;\">\n",
       "      <th></th>\n",
       "      <th>text</th>\n",
       "      <th>rating</th>\n",
       "      <th>confidence</th>\n",
       "    </tr>\n",
       "    <tr>\n",
       "      <th>id</th>\n",
       "      <th></th>\n",
       "      <th></th>\n",
       "      <th></th>\n",
       "    </tr>\n",
       "  </thead>\n",
       "  <tbody>\n",
       "    <tr>\n",
       "      <th>853719478</th>\n",
       "      <td>Dem philly niggas b so great at that dressing them some fly niggas they make everything they put on look great _�㢉�_�_�㢉�_�_�㢉�_�_�㢉�_�_�㢉�_�_�㢉�_�</td>\n",
       "      <td>1</td>\n",
       "      <td>1.0000</td>\n",
       "    </tr>\n",
       "    <tr>\n",
       "      <th>853720982</th>\n",
       "      <td>I love being forced into a coowned Twitter account about fave queers that I'll have to remember  to keep up thanks @brianissolame</td>\n",
       "      <td>1</td>\n",
       "      <td>0.6667</td>\n",
       "    </tr>\n",
       "    <tr>\n",
       "      <th>853726196</th>\n",
       "      <td>Just cause I got girl besties &amp;amp; don't be all up on u niggas like a Thot , I'm considered a lebian ? _̫�_��_ how do y'all sound _̫��̍_̫_�_̫�_</td>\n",
       "      <td>1</td>\n",
       "      <td>1.0000</td>\n",
       "    </tr>\n",
       "    <tr>\n",
       "      <th>853728828</th>\n",
       "      <td>@ZlNTAX you fag</td>\n",
       "      <td>1</td>\n",
       "      <td>1.0000</td>\n",
       "    </tr>\n",
       "    <tr>\n",
       "      <th>853723610</th>\n",
       "      <td>lmaoo and your receiver still can't find out what a catch is. #wedemdropboyz lol he's a fag but you fuck with greg? https://t.co/RSIu3KX73V</td>\n",
       "      <td>1</td>\n",
       "      <td>0.6636</td>\n",
       "    </tr>\n",
       "    <tr>\n",
       "      <th>853731138</th>\n",
       "      <td>If she know all the lyrics to \"Got An Ass So Big Like The Sun\" , I'm so sorry y'all, but she shone _̫�Љۡ_̫�Љۡ_̫�Љۡ</td>\n",
       "      <td>1</td>\n",
       "      <td>1.0000</td>\n",
       "    </tr>\n",
       "    <tr>\n",
       "      <th>853722664</th>\n",
       "      <td>she probably giving some road head rn to some lame ass white boy, but that's alright i ain't see it happen man so it didn't happen.</td>\n",
       "      <td>1</td>\n",
       "      <td>0.6735</td>\n",
       "    </tr>\n",
       "    <tr>\n",
       "      <th>853726951</th>\n",
       "      <td>How U gonna say Nigga and than say sand nigger?? Lmaoo https://t.co/AYdlmve3PU</td>\n",
       "      <td>1</td>\n",
       "      <td>1.0000</td>\n",
       "    </tr>\n",
       "    <tr>\n",
       "      <th>853719673</th>\n",
       "      <td>'will u get with me' 'I don't want a boyfriend haha sorry' 'oh fuck ya then' hahahahaha poor little bastard_�㢉�_�__�㢉�_�__�㢉�_�_</td>\n",
       "      <td>1</td>\n",
       "      <td>1.0000</td>\n",
       "    </tr>\n",
       "    <tr>\n",
       "      <th>853731195</th>\n",
       "      <td>Why do people act like the new year will somehow change them? You're still gonna be the same lame nigga you were in 2015.</td>\n",
       "      <td>1</td>\n",
       "      <td>1.0000</td>\n",
       "    </tr>\n",
       "  </tbody>\n",
       "</table>\n",
       "</div>"
      ],
      "text/plain": [
       "                                                                                                                                                          text  \\\n",
       "id                                                                                                                                                               \n",
       "853719478  Dem philly niggas b so great at that dressing them some fly niggas they make everything they put on look great _�㢉�_�_�㢉�_�_�㢉�_�_�㢉�_�_�㢉�_�_�㢉�_�   \n",
       "853720982                    I love being forced into a coowned Twitter account about fave queers that I'll have to remember  to keep up thanks @brianissolame   \n",
       "853726196     Just cause I got girl besties &amp; don't be all up on u niggas like a Thot , I'm considered a lebian ? _̫�_��_ how do y'all sound _̫��̍_̫_�_̫�_   \n",
       "853728828                                                                                                                                      @ZlNTAX you fag   \n",
       "853723610          lmaoo and your receiver still can't find out what a catch is. #wedemdropboyz lol he's a fag but you fuck with greg? https://t.co/RSIu3KX73V   \n",
       "853731138                                   If she know all the lyrics to \"Got An Ass So Big Like The Sun\" , I'm so sorry y'all, but she shone _̫�Љۡ_̫�Љۡ_̫�Љۡ   \n",
       "853722664                  she probably giving some road head rn to some lame ass white boy, but that's alright i ain't see it happen man so it didn't happen.   \n",
       "853726951                                                                       How U gonna say Nigga and than say sand nigger?? Lmaoo https://t.co/AYdlmve3PU   \n",
       "853719673                     'will u get with me' 'I don't want a boyfriend haha sorry' 'oh fuck ya then' hahahahaha poor little bastard_�㢉�_�__�㢉�_�__�㢉�_�_   \n",
       "853731195                            Why do people act like the new year will somehow change them? You're still gonna be the same lame nigga you were in 2015.   \n",
       "\n",
       "           rating  confidence  \n",
       "id                             \n",
       "853719478       1      1.0000  \n",
       "853720982       1      0.6667  \n",
       "853726196       1      1.0000  \n",
       "853728828       1      1.0000  \n",
       "853723610       1      0.6636  \n",
       "853731138       1      1.0000  \n",
       "853722664       1      0.6735  \n",
       "853726951       1      1.0000  \n",
       "853719673       1      1.0000  \n",
       "853731195       1      1.0000  "
      ]
     },
     "execution_count": 112,
     "metadata": {},
     "output_type": "execute_result"
    }
   ],
   "source": [
    "df_test = df_orig.reindex(y_test.index)\n",
    "df_correct = df_test[(y_test_pred_bnb == 1) & (y_test_pred_mnb == 1) & (y_test == 1)]\n",
    "df_correct.sample(10)"
   ]
  },
  {
   "cell_type": "markdown",
   "metadata": {
    "deletable": true,
    "editable": true
   },
   "source": [
    "# Multinomial Naive Bayes with TF-IDF"
   ]
  },
  {
   "cell_type": "markdown",
   "metadata": {
    "deletable": true,
    "editable": true
   },
   "source": [
    "The TF-IDF model takes the term frequency model a few extra steps. First, whereas previously a term frequency vector consisted of integers representing the multiplicities of terms within a tweet, TF-IDF normalizes these values by dividing each vector element by the number of words in the tweet. Thus, additional information about the length of a tweet is incorporated into the model. The IDF part of the model, inverse document frequency, weights each element of the vector, penalizing terms that appear too frequently in other tweets and boosting rarer terms.\n",
    "\n",
    "Theoretically, such a weighting of vector elements could obviate the need to exclude stop words or set min and max document frequency hyperparameters, but it turns out such parameters are still necessary to tuning an optimal model. In fact, the parameters found through grid search on MNB with TFIDF are the same as those found for a regular count vectorizer."
   ]
  },
  {
   "cell_type": "code",
   "execution_count": 113,
   "metadata": {
    "collapsed": false,
    "deletable": true,
    "editable": true
   },
   "outputs": [
    {
     "name": "stdout",
     "output_type": "stream",
     "text": [
      "Best parameters:\n",
      " {'vect__max_df': 0.11200000000000002, 'mnb__alpha': 0.0, 'vect__min_df': 0.0040000000000000001}\n",
      "Best accuracy:  0.762882096069869\n"
     ]
    }
   ],
   "source": [
    "steps = [('vect', TfidfVectorizer()),('mnb', MultinomialNB())]\n",
    "pipe = Pipeline(steps)\n",
    "\n",
    "parameters = {'vect__min_df': np.arange(0,0.010, 0.002),\n",
    "              'vect__max_df': np.arange(.10,.145, 0.002),\n",
    "              'mnb__alpha': np.arange(0.0,0.5,0.1)}\n",
    "\n",
    "pipe_cv_tfidf = GridSearchCV(pipe, param_grid = parameters, cv = 3, scoring = 'accuracy')\n",
    "pipe_cv_tfidf.fit(X_train, y_train)\n",
    "\n",
    "print('Best parameters:\\n', pipe_cv_tfidf.best_params_)\n",
    "print('Best accuracy: ', pipe_cv_tfidf.best_score_)"
   ]
  },
  {
   "cell_type": "code",
   "execution_count": 114,
   "metadata": {
    "collapsed": false,
    "deletable": true,
    "editable": true
   },
   "outputs": [
    {
     "name": "stdout",
     "output_type": "stream",
     "text": [
      "Vocabulary size: 369 \n",
      "\n",
      "MOST OFFENSIVE TERMS\n",
      "term   bitch  niggas  nigga  fuckin    faggot    nigger       ass      fuck  \\\n",
      "proba    0.0     0.0    0.0     0.0  0.003294  0.003427  0.009154  0.010739   \n",
      "\n",
      "term      cunt     queer       hoe   fucking    cuffin     pussy       gay  \\\n",
      "proba  0.01852  0.018892  0.020362  0.021237  0.029159  0.034617  0.041933   \n",
      "\n",
      "term       shit      shut       fag   bastard     outta  \n",
      "proba  0.058709  0.062355  0.064146  0.083782  0.084875  \n",
      "\n",
      "LEAST OFFENSIVE TERMS\n",
      "term        job     cover      high   holiday   control    under      gift  \\\n",
      "proba  0.848314  0.849124  0.855676  0.860666  0.867217  0.87013  0.871395   \n",
      "\n",
      "term        via     blame     force      rule  religion      news   married  \\\n",
      "proba  0.874282  0.875083  0.883507  0.887818   0.89568  0.899418  0.917389   \n",
      "\n",
      "term       book    equal       tie  usually  ultimate   version  \n",
      "proba  0.937049  0.96258  0.963111   0.9662  0.968377  0.968981  \n"
     ]
    }
   ],
   "source": [
    "vect = pipe_cv_tfidf.best_estimator_.steps[0][1]\n",
    "vocab_size = len(vect.vocabulary_)\n",
    "print('Vocabulary size:', vocab_size,'\\n')\n",
    "identity = np.eye(vocab_size)\n",
    "\n",
    "estimator = pipe_cv_tfidf.best_estimator_.steps[1][1]\n",
    "words = vect.vocabulary_.keys()\n",
    "probs = pipe_cv_tfidf.predict_proba(words)[:,0]\n",
    "\n",
    "words_df = pd.DataFrame(dict(term = list(words), proba = probs))\n",
    "words_df = words_df[['term', 'proba']].set_index('term')\n",
    "\n",
    "print('MOST OFFENSIVE TERMS')\n",
    "print(words_df.sort_values(by = 'proba').head(20).T)\n",
    "print()\n",
    "print('LEAST OFFENSIVE TERMS')\n",
    "print(words_df.sort_values(by = 'proba').tail(20).T)"
   ]
  },
  {
   "cell_type": "code",
   "execution_count": 115,
   "metadata": {
    "collapsed": true,
    "deletable": true,
    "editable": true
   },
   "outputs": [],
   "source": [
    "y_train_pred_tfidf = pipe_cv_tfidf.predict(X_train)\n",
    "y_test_pred_tfidf = pipe_cv_tfidf.predict(X_test)"
   ]
  },
  {
   "cell_type": "markdown",
   "metadata": {
    "deletable": true,
    "editable": true
   },
   "source": [
    "In yet another surprise, the performance of MNB using the more sophisticated TFIDF model is worse still than the simplier term frequency model and the even simplier BNB model. It may be that tweets are fundamentally too short and the dataset too small for the application of more complex models. Additionally, the nature of the classification problem, whether or not a tweet is offensive, hinges only on the presence of a small set of terms when modelling each tweet as a bag of words. As such, incorporating multiplicity and IDF contributes too little useful information to offset the cost of modeling with greater complexity."
   ]
  },
  {
   "cell_type": "code",
   "execution_count": 116,
   "metadata": {
    "collapsed": false,
    "deletable": true,
    "editable": true
   },
   "outputs": [
    {
     "name": "stdout",
     "output_type": "stream",
     "text": [
      "Accuracy: 0.778820960699\n",
      "F1 weighted:  0.748497375841\n",
      "Normalized confusion matrix:\n",
      " [[ 0.49421397  0.02008734  0.00131004]\n",
      " [ 0.06124454  0.25665939  0.01310044]\n",
      " [ 0.02740175  0.09803493  0.0279476 ]]\n",
      "Actual proportions:\n",
      " [ 0.51561135  0.33100437  0.15338428]\n"
     ]
    }
   ],
   "source": [
    "evaluate(y_train, y_train_pred_tfidf)"
   ]
  },
  {
   "cell_type": "code",
   "execution_count": 117,
   "metadata": {
    "collapsed": false,
    "deletable": true,
    "editable": true
   },
   "outputs": [
    {
     "name": "stdout",
     "output_type": "stream",
     "text": [
      "Accuracy: 0.759042282221\n",
      "F1 weighted:  0.727177081774\n",
      "Normalized confusion matrix:\n",
      " [[ 0.48828324  0.02547122  0.00178299]\n",
      " [ 0.06622517  0.24758023  0.01706572]\n",
      " [ 0.02445237  0.10596026  0.02317881]]\n",
      "Actual proportions:\n",
      " [ 0.51553744  0.33087112  0.15359144]\n"
     ]
    }
   ],
   "source": [
    "evaluate(y_test, y_test_pred_tfidf)"
   ]
  },
  {
   "cell_type": "markdown",
   "metadata": {
    "deletable": true,
    "editable": true
   },
   "source": [
    "### Two-class performance evaluation"
   ]
  },
  {
   "cell_type": "code",
   "execution_count": 118,
   "metadata": {
    "collapsed": false,
    "deletable": true,
    "editable": true
   },
   "outputs": [
    {
     "name": "stdout",
     "output_type": "stream",
     "text": [
      "Accuracy: 0.882068262863\n",
      "F1 weighted:  0.881355083129\n",
      "Normalized confusion matrix:\n",
      " [[ 0.48828324  0.0272542 ]\n",
      " [ 0.09067753  0.39378502]]\n",
      "Actual proportions:\n",
      " [ 0.51553744  0.48446256]\n"
     ]
    }
   ],
   "source": [
    "y_pred_binary_tfidf = (y_test_pred_tfidf == 1) | (y_test_pred_tfidf == 2)\n",
    "evaluate(y_binary, y_pred_binary_tfidf)"
   ]
  },
  {
   "cell_type": "markdown",
   "metadata": {
    "deletable": true,
    "editable": true
   },
   "source": [
    "# Tweet rater\n",
    "Finally, below is a simple function that uses the BNB model to rate new user-generated tweets."
   ]
  },
  {
   "cell_type": "code",
   "execution_count": 119,
   "metadata": {
    "collapsed": false,
    "deletable": true,
    "editable": true
   },
   "outputs": [],
   "source": [
    "import re\n",
    "import spacy\n",
    "\n",
    "nlp = spacy.load('en')\n",
    "\n",
    "def replace_user(tweet):\n",
    "    return re.sub(r'(@\\w+\\s*)', r'<user> ', tweet)\n",
    "\n",
    "def replace_url(tweet):\n",
    "    return re.sub(r'(https?://\\S*)', r'<url> )', tweet)\n",
    "\n",
    "def erase_special(tweet):\n",
    "    regex = r'#|&|\\(|\\)|\\\"|\\.|\\?|!|,|;|:|(�\\S*\\d*)|(_*UNDEF)|\\\\n|\\s\\'|\\'\\s|-|/|$|%|\\n|{|}|[|]|~'\n",
    "    return re.sub(regex, ' ', tweet)\n",
    "\n",
    "def erase_numbers(tweet):\n",
    "    regex = r'(128\\d{3})|(82\\d{2})'\n",
    "    return re.sub(regex, ' ', tweet)\n",
    "\n",
    "def normalize(tweet):\n",
    "    x = tweet.split()\n",
    "    y = ''\n",
    "    for token in x:\n",
    "        y = ' '.join([y,token.lower()])\n",
    "    return y[1:]\n",
    "\n",
    "def clean_tweet(tweet):\n",
    "    tweet = replace_user(tweet)\n",
    "    tweet = replace_url(tweet)\n",
    "    tweet = erase_numbers(tweet)\n",
    "    tweet = erase_special(tweet)\n",
    "    return tweet\n",
    "\n",
    "def lemmatize(tweet):\n",
    "    x = str()\n",
    "    for token in nlp(tweet):\n",
    "        if token.text in ['user','url','<','>']:\n",
    "            continue\n",
    "        else:\n",
    "            x = ' '.join([x, token.lemma_])\n",
    "    return x[1:]\n",
    "\n",
    "def remove_stop(tweet):\n",
    "    x = str()\n",
    "    for token in nlp(tweet):\n",
    "        if token.text == '-PRON-':\n",
    "            continue\n",
    "        if token.is_stop:\n",
    "            continue\n",
    "        else:\n",
    "            x = ' '.join([x, token.text])\n",
    "    return x[1:]"
   ]
  },
  {
   "cell_type": "code",
   "execution_count": 120,
   "metadata": {
    "collapsed": false,
    "deletable": true,
    "editable": true
   },
   "outputs": [],
   "source": [
    "def tweet_rater(tweet, clf):\n",
    "    tweet = clean_tweet(tweet)\n",
    "    tweet = lemmatize(tweet)\n",
    "    tweet = remove_stop(tweet)\n",
    "    \n",
    "    print(tweet)\n",
    "    rating = clf.predict([tweet])\n",
    "    probability = clf.predict_proba([tweet])\n",
    "    print(probability)\n",
    "    if rating == 0:\n",
    "        print('I\\'m {:2.4}% sure that\\'s not offensive.'.format(probability[0][0]*100))\n",
    "    elif rating == 1:\n",
    "        print('I\\'m {:2.4}% sure that\\'s offensive.'.format(probability[0][1]*100))\n",
    "    else:\n",
    "        print('I\\'m {:2.4}% sure that\\'s hate speech.'.format(probability[0][2]*100))"
   ]
  },
  {
   "cell_type": "code",
   "execution_count": 121,
   "metadata": {
    "collapsed": false,
    "deletable": true,
    "editable": true
   },
   "outputs": [
    {
     "name": "stdout",
     "output_type": "stream",
     "text": [
      "hate\n",
      "[[ 0.36362291  0.27177805  0.36459903]]\n",
      "I'm 36.46% sure that's hate speech.\n"
     ]
    }
   ],
   "source": [
    "tweet_rater('i hate you all', pipe_cv_bnb)"
   ]
  },
  {
   "cell_type": "code",
   "execution_count": null,
   "metadata": {
    "collapsed": true,
    "deletable": true,
    "editable": true
   },
   "outputs": [],
   "source": []
  }
 ],
 "metadata": {
  "anaconda-cloud": {},
  "kernelspec": {
   "display_name": "Python [conda root]",
   "language": "python",
   "name": "conda-root-py"
  },
  "language_info": {
   "codemirror_mode": {
    "name": "ipython",
    "version": 3
   },
   "file_extension": ".py",
   "mimetype": "text/x-python",
   "name": "python",
   "nbconvert_exporter": "python",
   "pygments_lexer": "ipython3",
   "version": "3.5.2"
  }
 },
 "nbformat": 4,
 "nbformat_minor": 1
}
