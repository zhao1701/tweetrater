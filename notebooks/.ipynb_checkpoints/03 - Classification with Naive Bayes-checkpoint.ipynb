{
 "cells": [
  {
   "cell_type": "markdown",
   "metadata": {
    "deletable": true,
    "editable": true
   },
   "source": [
    "# 03 - Classification with Naive Bayes\n",
    "In this section, we will assess the performance of various Naive Bayes models. In particular, we will examine, in order of complexity:\n",
    "- Bernoulli Naive Bayes with term presence vectors\n",
    "- Multinomial Naive Bayes with term frequency vectors\n",
    "- Multinomial Naive Bayes with [td-idf](https://en.wikipedia.org/wiki/Tf%E2%80%93idf) (term frequency, inverse document frequency) vectors"
   ]
  },
  {
   "cell_type": "markdown",
   "metadata": {
    "deletable": true,
    "editable": true
   },
   "source": [
    "[Naive Bayes classifiers](http://sebastianraschka.com/Articles/2014_naive_bayes_1.html) are based off Bayes' theorem of conditional probability, and though they are simple, have performed well particularly for text classification. They are labelled naive because the model assumes conditional independence of features, that is, the presence of a word in a tweet does not affect the probability of other words being observed in the same tweet. Though this assumption does not hold, in practice, the violation of conditional independence does not significantly undermine the accuracy of Naive Bayes in text classification."
   ]
  },
  {
   "cell_type": "code",
   "execution_count": 1,
   "metadata": {
    "collapsed": true,
    "deletable": true,
    "editable": true
   },
   "outputs": [],
   "source": [
    "import os\n",
    "import pandas as pd\n",
    "import numpy as np\n",
    "import matplotlib.pyplot as plt\n",
    "import seaborn as sns\n",
    "import pickle as pkl\n",
    "\n",
    "pd.options.display.max_colwidth = 400\n",
    "%matplotlib inline"
   ]
  },
  {
   "cell_type": "markdown",
   "metadata": {
    "deletable": true,
    "editable": true
   },
   "source": [
    "### Load data\n",
    "Because Naive Bayes models classify tweets from their [bag-of-words](https://en.wikipedia.org/wiki/Bag-of-words_model) representation, these models do not account for the sequence or semantic meaning of words. Thus, the difference between \"swam\" and \"swimming\" is inconsequential to the model, and both words should be represented with the same root of \"swim\" to prevent an explosion in tweet vector dimensionality. Controlling dimensionality is of special concern given the limited number of tweets in the corpus, and for this reason, stop words, which contribute little to no useful information about the offensiveness of a tweet, should also be ignored. So for classification with Naive Bayes models, we will use lemmatized tweets generated from **02 - Data Wrangling**. "
   ]
  },
  {
   "cell_type": "code",
   "execution_count": 2,
   "metadata": {
    "collapsed": false,
    "deletable": true,
    "editable": true
   },
   "outputs": [
    {
     "data": {
      "text/html": [
       "<div>\n",
       "<style>\n",
       "    .dataframe thead tr:only-child th {\n",
       "        text-align: right;\n",
       "    }\n",
       "\n",
       "    .dataframe thead th {\n",
       "        text-align: left;\n",
       "    }\n",
       "\n",
       "    .dataframe tbody tr th {\n",
       "        vertical-align: top;\n",
       "    }\n",
       "</style>\n",
       "<table border=\"1\" class=\"dataframe\">\n",
       "  <thead>\n",
       "    <tr style=\"text-align: right;\">\n",
       "      <th></th>\n",
       "      <th>text</th>\n",
       "      <th>rating</th>\n",
       "      <th>confidence</th>\n",
       "    </tr>\n",
       "    <tr>\n",
       "      <th>id</th>\n",
       "      <th></th>\n",
       "      <th></th>\n",
       "      <th></th>\n",
       "    </tr>\n",
       "  </thead>\n",
       "  <tbody>\n",
       "    <tr>\n",
       "      <th>853718217</th>\n",
       "      <td>warning : penny board will make -PRON- a faggot</td>\n",
       "      <td>1</td>\n",
       "      <td>0.6013</td>\n",
       "    </tr>\n",
       "    <tr>\n",
       "      <th>853718218</th>\n",
       "      <td>fuck dyke</td>\n",
       "      <td>2</td>\n",
       "      <td>0.7227</td>\n",
       "    </tr>\n",
       "    <tr>\n",
       "      <th>853718219</th>\n",
       "      <td>twitter_handle twitter_handle twitter_handle twitter_handle twitter_handle at least i do not look like jefree starr faggot</td>\n",
       "      <td>2</td>\n",
       "      <td>0.5229</td>\n",
       "    </tr>\n",
       "  </tbody>\n",
       "</table>\n",
       "</div>"
      ],
      "text/plain": [
       "                                                                                                                                 text  \\\n",
       "id                                                                                                                                      \n",
       "853718217                                                                             warning : penny board will make -PRON- a faggot   \n",
       "853718218                                                                                                                   fuck dyke   \n",
       "853718219  twitter_handle twitter_handle twitter_handle twitter_handle twitter_handle at least i do not look like jefree starr faggot   \n",
       "\n",
       "           rating  confidence  \n",
       "id                             \n",
       "853718217       1      0.6013  \n",
       "853718218       2      0.7227  \n",
       "853718219       2      0.5229  "
      ]
     },
     "execution_count": 2,
     "metadata": {},
     "output_type": "execute_result"
    }
   ],
   "source": [
    "data_path = os.path.join('..','data','dataframe_clean')\n",
    "with open(data_path, 'rb') as file_in:\n",
    "    df_clean = pkl.load(file_in)\n",
    "    \n",
    "df_clean.head(3)"
   ]
  },
  {
   "cell_type": "code",
   "execution_count": 9,
   "metadata": {
    "collapsed": false,
    "deletable": true,
    "editable": true
   },
   "outputs": [],
   "source": [
    "from sklearn.feature_extraction.text import TfidfVectorizer, CountVectorizer\n",
    "from sklearn.cross_validation import train_test_split\n",
    "from sklearn.naive_bayes import MultinomialNB, BernoulliNB\n",
    "from sklearn.pipeline import Pipeline\n",
    "from sklearn.metrics import f1_score, confusion_matrix, accuracy_score\n",
    "from sklearn.grid_search import GridSearchCV\n",
    "\n",
    "import warnings\n",
    "warnings.filterwarnings('ignore')"
   ]
  },
  {
   "cell_type": "markdown",
   "metadata": {
    "deletable": true,
    "editable": true
   },
   "source": [
    "# Bernoulli Naive Bayes with term presence vectors\n",
    "Given a corpus with a vocabulary of size $v$, each tweet can be represented by a $v$-dimensional vector where each index is associated with a unique term in the vocabulary, a value of 1 indicates the presence of that term in the tweet, and 0 indicates otherwise. Because each tweet is converted to a vector of binary features, a Bernoulli Naive Bayes model can be applied to learn the offensiveness of each tweet."
   ]
  },
  {
   "cell_type": "markdown",
   "metadata": {
    "deletable": true,
    "editable": true
   },
   "source": [
    "### Create train and test set\n",
    "Of the roughly 13,000 tweets, we hold out 30% for the test set and ensure the proportion of non-offensive, offensive, and hateful tweets are the same for both training and test sets."
   ]
  },
  {
   "cell_type": "code",
   "execution_count": 4,
   "metadata": {
    "collapsed": false,
    "deletable": true,
    "editable": true
   },
   "outputs": [],
   "source": [
    "# Extract cleaned text of each tweet and split into training and test sets\n",
    "X = df_clean.text\n",
    "X_train, X_test, y_train, y_test = train_test_split(df_clean.text, df_clean.rating,\n",
    "                                                    test_size = 0.3, stratify = df_clean.rating, random_state = 1)"
   ]
  },
  {
   "cell_type": "markdown",
   "metadata": {
    "deletable": true,
    "editable": true
   },
   "source": [
    "### Construct and fit pipeline\n",
    "We build a pipeline consisting of a count vectorizer that converts tweets into binary vectors and the Bernoulli Naive Bayes classifier itself. To optimize the model, we grid search through combinations of hyperparameters:\n",
    "- **min_df**: A term with a document frequency (the proportion of documents that contain said term) below this threshold is omitted from the vocabulary. This is useful for removing terms that are so rare that they can cause a model to overfit on their infrequent presence.\n",
    "- **max_df**: A term with a document frequency above this threshold is omitted from the vocabulary. This serves a similar function to removing stop words, but adapts to the contents of a corpus.\n",
    "- **alpha**: A value for calculating a fail-safe probability in the event of observing an unknown term in the test set."
   ]
  },
  {
   "cell_type": "code",
   "execution_count": 5,
   "metadata": {
    "collapsed": false,
    "deletable": true,
    "editable": true
   },
   "outputs": [
    {
     "name": "stdout",
     "output_type": "stream",
     "text": [
      "Best parameters:\n",
      " {'vect__max_df': 0.11500000000000002, 'bnb__alpha': 0.25, 'vect__min_df': 0.0040000000000000001}\n",
      "Best accuracy:  0.7705132396207911\n"
     ]
    }
   ],
   "source": [
    "steps = [('vect', CountVectorizer(binary=True)), ('bnb', BernoulliNB())]\n",
    "pipe = Pipeline(steps)\n",
    "\n",
    "parameters = {'vect__min_df': np.arange(0,0.010, 0.002),\n",
    "              'vect__max_df': np.arange(.10,.142, 0.005),\n",
    "              'bnb__alpha': np.arange(0.0,0.4,0.05)}\n",
    "\n",
    "pipe_cv_bnb = GridSearchCV(pipe, param_grid = parameters, cv = 3, scoring = 'accuracy')\n",
    "pipe_cv_bnb.fit(X_train, y_train)\n",
    "print('Best parameters:\\n', pipe_cv_bnb.best_params_)\n",
    "print('Best accuracy: ', pipe_cv_bnb.best_score_)"
   ]
  },
  {
   "cell_type": "markdown",
   "metadata": {
    "deletable": true,
    "editable": true
   },
   "source": [
    "Optimized hyperparameters produce a Bernoulli Naive Bayes model with a cross-validated accuracy of 0.775. Of particular interest is the surprisingly low max_df hyperparameter, which suggests just removing stop words fell far short of pruning the vocabulary of extraneous terms."
   ]
  },
  {
   "cell_type": "code",
   "execution_count": 10,
   "metadata": {
    "collapsed": false,
    "deletable": true,
    "editable": true,
    "scrolled": false
   },
   "outputs": [
    {
     "data": {
      "image/png": "[encoded data removed]",
      "text/plain": [
       "<matplotlib.figure.Figure at 0x110bd6f98>"
      ]
     },
     "metadata": {},
     "output_type": "display_data"
    }
   ],
   "source": [
    "cv_scores = [score[1] for score in pipe_cv_bnb.grid_scores_ if score[0]['bnb__alpha'] == 0.30000000000000004]\n",
    "min_df = pipe_cv_bnb.param_grid['vect__min_df']\n",
    "max_df = pipe_cv_bnb.param_grid['vect__max_df']\n",
    "cv_scores = np.array(cv_scores).reshape(len(max_df), len(min_df))\n",
    "cv_scores\n",
    "\n",
    "plt.figure(figsize = (10, 4))\n",
    "g = plt.contourf(min_df, max_df, cv_scores, cmap = 'plasma', levels = np.linspace(0.7, 0.79, 20))\n",
    "plt.colorbar(g)\n",
    "plt.title('Cross-validated accuracy by document frequency hyperparameters')\n",
    "plt.xlabel('min_df')\n",
    "plt.ylabel('max_df')\n",
    "plt.tight_layout()"
   ]
  },
  {
   "cell_type": "markdown",
   "metadata": {
    "deletable": true,
    "editable": true
   },
   "source": [
    "In fact, the vocabulary used by the model consists of only 261 terms. We can even feed each term back into the model as a one-word tweet and have the model output a probability that the tweet is *not* offensive, allowing us to identify the most and least offensive terms. The list of most offensive terms is largely unsurprising, but the inclusion of \"outta\" is interesting; though not offensive individually, it appears so frequently in offensive tweets that the model considers its presence a strong indicator of offensive speech."
   ]
  },
  {
   "cell_type": "code",
   "execution_count": 11,
   "metadata": {
    "collapsed": false,
    "deletable": true,
    "editable": true
   },
   "outputs": [
    {
     "name": "stdout",
     "output_type": "stream",
     "text": [
      "Vocabulary size: 361 \n",
      "\n",
      "MOST OFFENSIVE TERMS\n",
      "term      bitch     nigga    niggas    nigger   faggot      fuck    fuckin  \\\n",
      "proba  0.000852  0.001044  0.002586  0.003927  0.00427  0.010885  0.013833   \n",
      "\n",
      "term      queer   fucking       hoe       ass    cuffin      cunt     pussy  \\\n",
      "proba  0.018027  0.020904  0.023783  0.024516  0.035443  0.035614  0.046433   \n",
      "\n",
      "term        gay      shit      dumb      shut   bastard      fag  \n",
      "proba  0.070205  0.088139  0.103561  0.106553  0.112064  0.11435  \n",
      "\n",
      "LEAST OFFENSIVE TERMS\n",
      "term   religion       bag     cover     news   control     under       via  \\\n",
      "proba  0.881537  0.882742  0.883438  0.88656  0.888434  0.894393  0.895111   \n",
      "\n",
      "term   tomorrow      rule      book     blame       pal  married       tie  \\\n",
      "proba  0.909266  0.911248  0.926921  0.926941  0.932365   0.9428  0.954271   \n",
      "\n",
      "term    wallet     equal  ultimate  opportunity   version   usually  \n",
      "proba  0.96005  0.961089  0.961892      0.96551  0.968077  0.970361  \n"
     ]
    }
   ],
   "source": [
    "vect = pipe_cv_bnb.best_estimator_.steps[0][1]\n",
    "vocab_size = len(vect.vocabulary_)\n",
    "print('Vocabulary size:', vocab_size,'\\n')\n",
    "identity = np.eye(vocab_size)\n",
    "\n",
    "estimator = pipe_cv_bnb.best_estimator_.steps[1][1]\n",
    "probs = estimator.predict_proba(identity)[:,0]\n",
    "\n",
    "words = sorted(list(vect.vocabulary_.keys()))\n",
    "words_df = pd.DataFrame(dict(term = words, proba = probs))\n",
    "words_df = words_df[['term', 'proba']].set_index('term')\n",
    "\n",
    "print('MOST OFFENSIVE TERMS')\n",
    "print(words_df.sort_values(by = 'proba').head(20).T)\n",
    "print()\n",
    "print('LEAST OFFENSIVE TERMS')\n",
    "print(words_df.sort_values(by = 'proba').tail(20).T)"
   ]
  },
  {
   "cell_type": "markdown",
   "metadata": {
    "deletable": true,
    "editable": true
   },
   "source": [
    "### Model evaluation"
   ]
  },
  {
   "cell_type": "markdown",
   "metadata": {
    "deletable": true,
    "editable": true
   },
   "source": [
    "Finally, we apply the model on holdout data to test its generalizability to the remainder of the tweets. In addition to accuracy, we are interested in its weighted F1-score, a weighted average of F1-scores for each label that serves as a compromise between [micro-averaging and macro-averaging](http://www.cnts.ua.ac.be/~vincent/pdf/microaverage.pdf) a multi-class F1-score. We also calculate normalized confusion matrices so that the matrices for the training data and test data are comparable."
   ]
  },
  {
   "cell_type": "code",
   "execution_count": 12,
   "metadata": {
    "collapsed": true,
    "deletable": true,
    "editable": true
   },
   "outputs": [],
   "source": [
    "def evaluate(y, y_pred):\n",
    "    print('Accuracy:', accuracy_score(y, y_pred))\n",
    "    print('F1 weighted: ', f1_score(y, y_pred, average = 'weighted'))\n",
    "    \n",
    "    matrix = confusion_matrix(y, y_pred)\n",
    "    matrix = matrix / matrix.sum().sum()\n",
    "    print('Normalized confusion matrix:\\n', matrix)\n",
    "    \n",
    "    y_values = y.value_counts()\n",
    "    y_values = y_values / y_values.sum()\n",
    "    print('Actual proportions:\\n', np.array(y_values))"
   ]
  },
  {
   "cell_type": "code",
   "execution_count": 13,
   "metadata": {
    "collapsed": true,
    "deletable": true,
    "editable": true
   },
   "outputs": [],
   "source": [
    "y_train_pred_bnb = pipe_cv_bnb.predict(X_train)\n",
    "y_test_pred_bnb = pipe_cv_bnb.predict(X_test)"
   ]
  },
  {
   "cell_type": "markdown",
   "metadata": {
    "deletable": true,
    "editable": true
   },
   "source": [
    "As expected, the performance of the model on the test data is slightly worse than that of the training data. Where the model tends to struggle significantly is in distinguishing between offensive and hate speech. In fact, the majority of tweets labelled hate speech are mis-classified."
   ]
  },
  {
   "cell_type": "code",
   "execution_count": 14,
   "metadata": {
    "collapsed": false,
    "deletable": true,
    "editable": true
   },
   "outputs": [
    {
     "name": "stdout",
     "output_type": "stream",
     "text": [
      "Accuracy: 0.791217173368\n",
      "F1 weighted:  0.784842359671\n",
      "Normalized confusion matrix:\n",
      " [[ 0.488068    0.02299226  0.0054484 ]\n",
      " [ 0.04565762  0.2327558   0.0518688 ]\n",
      " [ 0.01994116  0.06287458  0.07039337]]\n",
      "Actual proportions:\n",
      " [ 0.51650866  0.33028223  0.15320911]\n"
     ]
    }
   ],
   "source": [
    "evaluate(y_train, y_train_pred_bnb)"
   ]
  },
  {
   "cell_type": "code",
   "execution_count": 15,
   "metadata": {
    "collapsed": false,
    "deletable": true,
    "editable": true
   },
   "outputs": [
    {
     "name": "stdout",
     "output_type": "stream",
     "text": [
      "Accuracy: 0.775800711744\n",
      "F1 weighted:  0.767784315586\n",
      "Normalized confusion matrix:\n",
      " [[ 0.48652771  0.02592781  0.00406711]\n",
      " [ 0.04600915  0.22877478  0.05566853]\n",
      " [ 0.02008134  0.07244535  0.06049822]]\n",
      "Actual proportions:\n",
      " [ 0.51652262  0.33045247  0.15302491]\n"
     ]
    }
   ],
   "source": [
    "evaluate(y_test, y_test_pred_bnb)"
   ]
  },
  {
   "cell_type": "markdown",
   "metadata": {
    "deletable": true,
    "editable": true
   },
   "source": [
    "### Two-class performance evaluation\n",
    "That the line between offensive and hateful speech is fuzzy even for humans begs the question of how the model would perform if the distinction is removed and hateful speech is considered offensive. In this case, the model's accuracy on the test data would have been an impressive 90.7%, with most of the mis-classifications occuring as a result of classifying offensive speech as non-offensive."
   ]
  },
  {
   "cell_type": "code",
   "execution_count": 16,
   "metadata": {
    "collapsed": false,
    "deletable": true,
    "editable": true
   },
   "outputs": [
    {
     "name": "stdout",
     "output_type": "stream",
     "text": [
      "Accuracy: 0.903914590747\n",
      "F1 weighted:  0.903673640662\n",
      "Normalized confusion matrix:\n",
      " [[ 0.48652771  0.02999492]\n",
      " [ 0.06609049  0.41738688]]\n",
      "Actual proportions:\n",
      " [ 0.51652262  0.48347738]\n"
     ]
    }
   ],
   "source": [
    "y_binary = (y_test == 1) | (y_test == 2)\n",
    "y_pred_binary_bnb = (y_test_pred_bnb == 1) | (y_test_pred_bnb == 2)\n",
    "evaluate(y_binary, y_pred_binary_bnb)"
   ]
  },
  {
   "cell_type": "markdown",
   "metadata": {},
   "source": [
    "### Save model for later analysis"
   ]
  },
  {
   "cell_type": "code",
   "execution_count": 17,
   "metadata": {
    "collapsed": true
   },
   "outputs": [],
   "source": [
    "with open('../data/model_bnb', 'wb') as file_out:\n",
    "    pkl.dump(pipe_cv_bnb, file_out)"
   ]
  },
  {
   "cell_type": "markdown",
   "metadata": {
    "deletable": true,
    "editable": true
   },
   "source": [
    "# Multinomial Naive Bayes with term frequency vectors\n",
    "In a Bernoulli Naive Bayes model, because each vector element only indicates the presence of a particular term, the model does not account for the multiplicity of terms within a tweet. That is, whether a term occurs just once within a tweet or multiple times makes no difference to the model. By changing the vector representation to a term frequency vector and, by necessity, using a Multinomial Naive Bayes classifier, we can incorporate additional information about each tweet."
   ]
  },
  {
   "cell_type": "code",
   "execution_count": 316,
   "metadata": {
    "collapsed": false,
    "deletable": true,
    "editable": true
   },
   "outputs": [
    {
     "name": "stdout",
     "output_type": "stream",
     "text": [
      "Best parameters:\n",
      " {'vect__max_df': 0.11000000000000001, 'mnb__alpha': 0.0, 'vect__min_df': 0.0060000000000000001}\n",
      "Best accuracy:  0.7764192139737991\n"
     ]
    }
   ],
   "source": [
    "steps = [('vect', CountVectorizer()),('mnb', MultinomialNB())]\n",
    "pipe = Pipeline(steps)\n",
    "\n",
    "parameters = {'vect__min_df': np.arange(0,0.010, 0.002),\n",
    "              'vect__max_df': np.arange(.10,.145, 0.002),\n",
    "              'mnb__alpha': np.arange(0.0,0.5,0.1)}\n",
    "\n",
    "pipe_cv_mnb = GridSearchCV(pipe, param_grid = parameters, cv = 3, scoring = 'accuracy')\n",
    "pipe_cv_mnb.fit(X_train, y_train)\n",
    "\n",
    "print('Best parameters:\\n', pipe_cv_mnb.best_params_)\n",
    "print('Best accuracy: ', pipe_cv_mnb.best_score_)"
   ]
  },
  {
   "cell_type": "markdown",
   "metadata": {
    "deletable": true,
    "editable": true
   },
   "source": [
    "The grid search for optimized hyperparameters for Multinomial Naive Bayes returns values for mininum and maximum document frequency that further lower the vocabulary size to 161 terms."
   ]
  },
  {
   "cell_type": "code",
   "execution_count": 334,
   "metadata": {
    "collapsed": false,
    "deletable": true,
    "editable": true
   },
   "outputs": [
    {
     "name": "stdout",
     "output_type": "stream",
     "text": [
      "Vocabulary size: 161 \n",
      "\n",
      "MOST OFFENSIVE TERMS\n",
      "term   niggas  bitch  nigga    faggot    nigger    fuckin      fuck      hoe  \\\n",
      "proba     0.0    0.0    0.0  0.004143  0.004331  0.010586  0.013714  0.01569   \n",
      "\n",
      "term        ass    cuffin      cunt   fucking     queer       gay      shit  \\\n",
      "proba  0.021801  0.024025  0.026499  0.027143  0.028917  0.059884  0.088274   \n",
      "\n",
      "term       dick      fag      shut      dumb       wit  \n",
      "proba  0.112871  0.11294  0.115988  0.137491  0.145267  \n",
      "\n",
      "LEAST OFFENSIVE TERMS\n",
      "term    support      beat  terrorist      pick    great      wake     right  \\\n",
      "proba  0.804349  0.809771   0.823323  0.824592  0.82534  0.826038  0.827966   \n",
      "\n",
      "term    outside     bunny       job      mind  christmas       bag     blame  \\\n",
      "proba  0.834079  0.838479  0.842935  0.842981   0.852034  0.878332  0.879693   \n",
      "\n",
      "term      crack  christma     book   version  ultimate       tie  \n",
      "proba  0.880073  0.888287  0.93675  0.947962  0.948976  0.959713  \n"
     ]
    }
   ],
   "source": [
    "vect = pipe_cv_mnb.best_estimator_.steps[0][1]\n",
    "vocab_size = len(vect.vocabulary_)\n",
    "print('Vocabulary size:', vocab_size,'\\n')\n",
    "identity = np.eye(vocab_size)\n",
    "\n",
    "estimator = pipe_cv_mnb.best_estimator_.steps[1][1]\n",
    "words = vect.vocabulary_.keys()\n",
    "probs = pipe_cv_mnb.predict_proba(words)[:,0]\n",
    "\n",
    "words_df = pd.DataFrame(dict(term = list(words), proba = probs))\n",
    "words_df = words_df[['term', 'proba']].set_index('term')\n",
    "\n",
    "print('MOST OFFENSIVE TERMS')\n",
    "print(words_df.sort_values(by = 'proba').head(20).T)\n",
    "print()\n",
    "print('LEAST OFFENSIVE TERMS')\n",
    "print(words_df.sort_values(by = 'proba').tail(20).T)"
   ]
  },
  {
   "cell_type": "code",
   "execution_count": 335,
   "metadata": {
    "collapsed": true,
    "deletable": true,
    "editable": true
   },
   "outputs": [],
   "source": [
    "y_train_pred_mnb = pipe_cv_mnb.predict(X_train)\n",
    "y_test_pred_mnb = pipe_cv_mnb.predict(X_test)"
   ]
  },
  {
   "cell_type": "markdown",
   "metadata": {
    "deletable": true,
    "editable": true
   },
   "source": [
    "Surprisingly, incorporating additional information about the multiplicity of each term does not improve the model. In fact, Multinomial Naive Bayes performs slightly worse on the training and the test data than its binomial variant. In particular, MNB tends to mis-classify hate speech as offensive and offensive speech as non-offensive more frequently than BNB."
   ]
  },
  {
   "cell_type": "code",
   "execution_count": 337,
   "metadata": {
    "collapsed": false,
    "deletable": true,
    "editable": true
   },
   "outputs": [
    {
     "name": "stdout",
     "output_type": "stream",
     "text": [
      "Accuracy: 0.784934497817\n",
      "F1 weighted:  0.769123270586\n",
      "Normalized confusion matrix:\n",
      " [[ 0.49563319  0.01877729  0.00251092]\n",
      " [ 0.05458515  0.24115721  0.03460699]\n",
      " [ 0.02117904  0.08340611  0.0481441 ]]\n",
      "Actual proportions:\n",
      " [ 0.5169214   0.33034934  0.15272926]\n"
     ]
    }
   ],
   "source": [
    "evaluate(y_train, y_train_pred_mnb)"
   ]
  },
  {
   "cell_type": "code",
   "execution_count": 338,
   "metadata": {
    "collapsed": false,
    "deletable": true,
    "editable": true
   },
   "outputs": [
    {
     "name": "stdout",
     "output_type": "stream",
     "text": [
      "Accuracy: 0.774579724911\n",
      "F1 weighted:  0.757285708231\n",
      "Normalized confusion matrix:\n",
      " [[ 0.49388691  0.01986755  0.00305655]\n",
      " [ 0.05399898  0.23790117  0.03846154]\n",
      " [ 0.02317881  0.08685685  0.04279165]]\n",
      "Actual proportions:\n",
      " [ 0.516811    0.33036169  0.15282731]\n"
     ]
    }
   ],
   "source": [
    "evaluate(y_test, y_test_pred_mnb)"
   ]
  },
  {
   "cell_type": "markdown",
   "metadata": {
    "deletable": true,
    "editable": true
   },
   "source": [
    "### Two-class performance evaluation"
   ]
  },
  {
   "cell_type": "code",
   "execution_count": 339,
   "metadata": {
    "collapsed": false,
    "deletable": true,
    "editable": true
   },
   "outputs": [
    {
     "name": "stdout",
     "output_type": "stream",
     "text": [
      "Accuracy: 0.89989811513\n",
      "F1 weighted:  0.899417157232\n",
      "Normalized confusion matrix:\n",
      " [[ 0.49388691  0.0229241 ]\n",
      " [ 0.07717779  0.40601121]]\n",
      "Actual proportions:\n",
      " [ 0.516811  0.483189]\n"
     ]
    }
   ],
   "source": [
    "y_pred_binary_mnb = (y_test_pred_mnb == 1) | (y_test_pred_mnb == 2)\n",
    "evaluate(y_binary, y_pred_binary_mnb)"
   ]
  },
  {
   "cell_type": "markdown",
   "metadata": {
    "deletable": true,
    "editable": true
   },
   "source": [
    "### What are these edge cases?\n",
    "Below we example those tweets which BNB correctly classified as offensive where MNB failed to do so as well as offensive tweets correctly classified by both BNB and MNB. The misclassified tweets indeed have fewer offensive words than those correctly classified. In fact, some of the correctly classified tweets have offensive words with multiplicity greater than 1. It would seem that using MNB, by incorprating multiplicity into its model, ends up setting a higher threshold for classifying a tweet as offensive that ultimately harms its performance slightly."
   ]
  },
  {
   "cell_type": "code",
   "execution_count": 341,
   "metadata": {
    "collapsed": false,
    "deletable": true,
    "editable": true
   },
   "outputs": [],
   "source": [
    "with open('../data/dataframe_orig', 'rb') as file_in:\n",
    "    df_orig = pkl.load(file_in)"
   ]
  },
  {
   "cell_type": "markdown",
   "metadata": {
    "deletable": true,
    "editable": true
   },
   "source": [
    "Mis-classified offensive tweets"
   ]
  },
  {
   "cell_type": "code",
   "execution_count": 349,
   "metadata": {
    "collapsed": false,
    "deletable": true,
    "editable": true
   },
   "outputs": [
    {
     "data": {
      "text/html": [
       "<div>\n",
       "<style>\n",
       "    .dataframe thead tr:only-child th {\n",
       "        text-align: right;\n",
       "    }\n",
       "\n",
       "    .dataframe thead th {\n",
       "        text-align: left;\n",
       "    }\n",
       "\n",
       "    .dataframe tbody tr th {\n",
       "        vertical-align: top;\n",
       "    }\n",
       "</style>\n",
       "<table border=\"1\" class=\"dataframe\">\n",
       "  <thead>\n",
       "    <tr style=\"text-align: right;\">\n",
       "      <th></th>\n",
       "      <th>text</th>\n",
       "      <th>rating</th>\n",
       "      <th>confidence</th>\n",
       "    </tr>\n",
       "    <tr>\n",
       "      <th>id</th>\n",
       "      <th></th>\n",
       "      <th></th>\n",
       "      <th></th>\n",
       "    </tr>\n",
       "  </thead>\n",
       "  <tbody>\n",
       "    <tr>\n",
       "      <th>853732524</th>\n",
       "      <td>@kingmark56 seriously, if someone calling you a fag or whatever gets to you that much, it's time to reflect on how you react to things.</td>\n",
       "      <td>1</td>\n",
       "      <td>1.0000</td>\n",
       "    </tr>\n",
       "    <tr>\n",
       "      <th>853719706</th>\n",
       "      <td>@mrclungetrumpet ironic bastard that he is.</td>\n",
       "      <td>1</td>\n",
       "      <td>0.6691</td>\n",
       "    </tr>\n",
       "    <tr>\n",
       "      <th>853725174</th>\n",
       "      <td>a ngga that keeps a smile on his shorty's face is gon always have her heart b</td>\n",
       "      <td>1</td>\n",
       "      <td>1.0000</td>\n",
       "    </tr>\n",
       "    <tr>\n",
       "      <th>853719702</th>\n",
       "      <td>@yung_rell501 i figured it out eventually/ this lil bastard at school</td>\n",
       "      <td>1</td>\n",
       "      <td>0.6718</td>\n",
       "    </tr>\n",
       "    <tr>\n",
       "      <th>853728857</th>\n",
       "      <td>@realcurrykid @toastyjaffa you would watch home and away you fag</td>\n",
       "      <td>1</td>\n",
       "      <td>0.6649</td>\n",
       "    </tr>\n",
       "    <tr>\n",
       "      <th>853719669</th>\n",
       "      <td>i really want to know carol's maiden name, i don't like that we only know her as that bastard's name</td>\n",
       "      <td>1</td>\n",
       "      <td>0.6704</td>\n",
       "    </tr>\n",
       "    <tr>\n",
       "      <th>853732737</th>\n",
       "      <td>live and let live, don't have anything nice to say don't say it, don't ruin someone's day or bring them down just because your a cunt _̫���_̫�_</td>\n",
       "      <td>1</td>\n",
       "      <td>0.6788</td>\n",
       "    </tr>\n",
       "    <tr>\n",
       "      <th>853723559</th>\n",
       "      <td>trust it to be my friends that by the time i had a fag and come back down they've been kicked out ffs _�㢉�_�_�㢉�_�_</td>\n",
       "      <td>1</td>\n",
       "      <td>0.6701</td>\n",
       "    </tr>\n",
       "    <tr>\n",
       "      <th>853729771</th>\n",
       "      <td>he likes a white trash broad. lmao</td>\n",
       "      <td>1</td>\n",
       "      <td>1.0000</td>\n",
       "    </tr>\n",
       "    <tr>\n",
       "      <th>853723035</th>\n",
       "      <td>this game is more butt-ugly than nude pics of janet reno...</td>\n",
       "      <td>1</td>\n",
       "      <td>0.6582</td>\n",
       "    </tr>\n",
       "  </tbody>\n",
       "</table>\n",
       "</div>"
      ],
      "text/plain": [
       "                                                                                                                                                      text  \\\n",
       "id                                                                                                                                                           \n",
       "853732524          @kingmark56 seriously, if someone calling you a fag or whatever gets to you that much, it's time to reflect on how you react to things.   \n",
       "853719706                                                                                                      @mrclungetrumpet ironic bastard that he is.   \n",
       "853725174                                                                    a ngga that keeps a smile on his shorty's face is gon always have her heart b   \n",
       "853719702                                                                            @yung_rell501 i figured it out eventually/ this lil bastard at school   \n",
       "853728857                                                                                 @realcurrykid @toastyjaffa you would watch home and away you fag   \n",
       "853719669                                             i really want to know carol's maiden name, i don't like that we only know her as that bastard's name   \n",
       "853732737  live and let live, don't have anything nice to say don't say it, don't ruin someone's day or bring them down just because your a cunt _̫���_̫�_   \n",
       "853723559                              trust it to be my friends that by the time i had a fag and come back down they've been kicked out ffs _�㢉�_�_�㢉�_�_   \n",
       "853729771                                                                                                               he likes a white trash broad. lmao   \n",
       "853723035                                                                                      this game is more butt-ugly than nude pics of janet reno...   \n",
       "\n",
       "           rating  confidence  \n",
       "id                             \n",
       "853732524       1      1.0000  \n",
       "853719706       1      0.6691  \n",
       "853725174       1      1.0000  \n",
       "853719702       1      0.6718  \n",
       "853728857       1      0.6649  \n",
       "853719669       1      0.6704  \n",
       "853732737       1      0.6788  \n",
       "853723559       1      0.6701  \n",
       "853729771       1      1.0000  \n",
       "853723035       1      0.6582  "
      ]
     },
     "execution_count": 349,
     "metadata": {},
     "output_type": "execute_result"
    }
   ],
   "source": [
    "df_test = df_orig.reindex(y_test.index)\n",
    "df_misclf = df_test[(y_test_pred_bnb == 1) & (y_test_pred_mnb == 0) & (y_test == 1)]\n",
    "df_misclf.head(10)"
   ]
  },
  {
   "cell_type": "markdown",
   "metadata": {
    "deletable": true,
    "editable": true
   },
   "source": [
    "Correctly classified offensive tweets"
   ]
  },
  {
   "cell_type": "code",
   "execution_count": 350,
   "metadata": {
    "collapsed": false,
    "deletable": true,
    "editable": true
   },
   "outputs": [
    {
     "data": {
      "text/html": [
       "<div>\n",
       "<style>\n",
       "    .dataframe thead tr:only-child th {\n",
       "        text-align: right;\n",
       "    }\n",
       "\n",
       "    .dataframe thead th {\n",
       "        text-align: left;\n",
       "    }\n",
       "\n",
       "    .dataframe tbody tr th {\n",
       "        vertical-align: top;\n",
       "    }\n",
       "</style>\n",
       "<table border=\"1\" class=\"dataframe\">\n",
       "  <thead>\n",
       "    <tr style=\"text-align: right;\">\n",
       "      <th></th>\n",
       "      <th>text</th>\n",
       "      <th>rating</th>\n",
       "      <th>confidence</th>\n",
       "    </tr>\n",
       "    <tr>\n",
       "      <th>id</th>\n",
       "      <th></th>\n",
       "      <th></th>\n",
       "      <th></th>\n",
       "    </tr>\n",
       "  </thead>\n",
       "  <tbody>\n",
       "    <tr>\n",
       "      <th>853730295</th>\n",
       "      <td>@_mac33miller_ you know how many people message us asking why ur so obsessed and how annoying you are?? lmfao get the fuck outta here</td>\n",
       "      <td>1</td>\n",
       "      <td>1.0000</td>\n",
       "    </tr>\n",
       "    <tr>\n",
       "      <th>853731559</th>\n",
       "      <td>@shawnkta but you think about a rich nigga and his wife. that nigga can buy her anything and she know that. it becomes pointless.</td>\n",
       "      <td>1</td>\n",
       "      <td>1.0000</td>\n",
       "    </tr>\n",
       "    <tr>\n",
       "      <th>853730642</th>\n",
       "      <td>@stephwellsb104 @missuniverse @b104 wtf steve haters calling him a nigga i got your back. https://t.co/nq3l0wnc0t</td>\n",
       "      <td>1</td>\n",
       "      <td>1.0000</td>\n",
       "    </tr>\n",
       "    <tr>\n",
       "      <th>853727848</th>\n",
       "      <td>all these fucking scratches on me _̫��̍</td>\n",
       "      <td>1</td>\n",
       "      <td>1.0000</td>\n",
       "    </tr>\n",
       "    <tr>\n",
       "      <th>853723211</th>\n",
       "      <td>stevie harvey definitely did some coon shit</td>\n",
       "      <td>1</td>\n",
       "      <td>0.3385</td>\n",
       "    </tr>\n",
       "    <tr>\n",
       "      <th>853723772</th>\n",
       "      <td>russell wilson a faggot for not fucking ciara yet.... talking all that church bs nigga everybody at the church fucking they just fakin</td>\n",
       "      <td>1</td>\n",
       "      <td>0.6637</td>\n",
       "    </tr>\n",
       "    <tr>\n",
       "      <th>853723368</th>\n",
       "      <td>cuffin these bitches you niggas is cops</td>\n",
       "      <td>1</td>\n",
       "      <td>0.6582</td>\n",
       "    </tr>\n",
       "    <tr>\n",
       "      <th>853720998</th>\n",
       "      <td>fuck those queers it's all about the vampires _�㢉�__ https://t.co/g3yvllglcz</td>\n",
       "      <td>1</td>\n",
       "      <td>0.6615</td>\n",
       "    </tr>\n",
       "    <tr>\n",
       "      <th>853720643</th>\n",
       "      <td>@unroyalreporter i avoid royal pr, didn't watch it. if so, what a fucking hypocrite! unfollowed &amp;gt; @drbrianmay @trussliz @christopherhope</td>\n",
       "      <td>1</td>\n",
       "      <td>1.0000</td>\n",
       "    </tr>\n",
       "    <tr>\n",
       "      <th>853732293</th>\n",
       "      <td>@electivirus you're so gay even gay guys go \"wow what a fag\" ;) _̫̍��_�_崁��</td>\n",
       "      <td>1</td>\n",
       "      <td>0.6650</td>\n",
       "    </tr>\n",
       "  </tbody>\n",
       "</table>\n",
       "</div>"
      ],
      "text/plain": [
       "                                                                                                                                                  text  \\\n",
       "id                                                                                                                                                       \n",
       "853730295        @_mac33miller_ you know how many people message us asking why ur so obsessed and how annoying you are?? lmfao get the fuck outta here   \n",
       "853731559            @shawnkta but you think about a rich nigga and his wife. that nigga can buy her anything and she know that. it becomes pointless.   \n",
       "853730642                            @stephwellsb104 @missuniverse @b104 wtf steve haters calling him a nigga i got your back. https://t.co/nq3l0wnc0t   \n",
       "853727848                                                                                                      all these fucking scratches on me _̫��̍   \n",
       "853723211                                                                                                  stevie harvey definitely did some coon shit   \n",
       "853723772       russell wilson a faggot for not fucking ciara yet.... talking all that church bs nigga everybody at the church fucking they just fakin   \n",
       "853723368                                                                                                      cuffin these bitches you niggas is cops   \n",
       "853720998                                                                 fuck those queers it's all about the vampires _�㢉�__ https://t.co/g3yvllglcz   \n",
       "853720643  @unroyalreporter i avoid royal pr, didn't watch it. if so, what a fucking hypocrite! unfollowed &gt; @drbrianmay @trussliz @christopherhope   \n",
       "853732293                                                                  @electivirus you're so gay even gay guys go \"wow what a fag\" ;) _̫̍��_�_崁��   \n",
       "\n",
       "           rating  confidence  \n",
       "id                             \n",
       "853730295       1      1.0000  \n",
       "853731559       1      1.0000  \n",
       "853730642       1      1.0000  \n",
       "853727848       1      1.0000  \n",
       "853723211       1      0.3385  \n",
       "853723772       1      0.6637  \n",
       "853723368       1      0.6582  \n",
       "853720998       1      0.6615  \n",
       "853720643       1      1.0000  \n",
       "853732293       1      0.6650  "
      ]
     },
     "execution_count": 350,
     "metadata": {},
     "output_type": "execute_result"
    }
   ],
   "source": [
    "df_test = df_orig.reindex(y_test.index)\n",
    "df_correct = df_test[(y_test_pred_bnb == 1) & (y_test_pred_mnb == 1) & (y_test == 1)]\n",
    "df_correct.head(10)"
   ]
  },
  {
   "cell_type": "markdown",
   "metadata": {
    "deletable": true,
    "editable": true
   },
   "source": [
    "# Multinomial Naive Bayes with TF-IDF"
   ]
  },
  {
   "cell_type": "markdown",
   "metadata": {
    "deletable": true,
    "editable": true
   },
   "source": [
    "The TF-IDF model takes the term frequency model a few extra steps. First, whereas previously a term frequency vector consisted of integers representing the multiplicities of terms within a tweet, TF-IDF normalizes these values by dividing each vector element by the number of words in the tweet. Thus, additional information about the length of a tweet is incorporated into the model. The IDF part of the model, inverse document frequency, weights each element of the vector, penalizing terms that appear too frequently in other tweets and boosting rarer terms.\n",
    "\n",
    "Theoretically, such a weighting of vector elements could obviate the need to exclude stop words or set min and max document frequency hyperparameters, but it turns out such parameters are still necessary to tuning an optimal model. In fact, the parameters found through grid search on MNB with TFIDF are the same as those found for a regular count vectorizer."
   ]
  },
  {
   "cell_type": "code",
   "execution_count": 399,
   "metadata": {
    "collapsed": false,
    "deletable": true,
    "editable": true
   },
   "outputs": [
    {
     "name": "stdout",
     "output_type": "stream",
     "text": [
      "Best parameters:\n",
      " {'vect__max_df': 0.11000000000000001, 'mnb__alpha': 0.0, 'vect__min_df': 0.0060000000000000001}\n",
      "Best accuracy:  0.7675764192139738\n"
     ]
    }
   ],
   "source": [
    "steps = [('vect', TfidfVectorizer()),('mnb', MultinomialNB())]\n",
    "pipe = Pipeline(steps)\n",
    "\n",
    "parameters = {'vect__min_df': np.arange(0,0.010, 0.002),\n",
    "              'vect__max_df': np.arange(.10,.145, 0.002),\n",
    "              'mnb__alpha': np.arange(0.0,0.5,0.1)}\n",
    "\n",
    "pipe_cv_tfidf = GridSearchCV(pipe, param_grid = parameters, cv = 3, scoring = 'accuracy')\n",
    "pipe_cv_tfidf.fit(X_train, y_train)\n",
    "\n",
    "print('Best parameters:\\n', pipe_cv_tfidf.best_params_)\n",
    "print('Best accuracy: ', pipe_cv_tfidf.best_score_)"
   ]
  },
  {
   "cell_type": "code",
   "execution_count": 387,
   "metadata": {
    "collapsed": false,
    "deletable": true,
    "editable": true
   },
   "outputs": [
    {
     "name": "stdout",
     "output_type": "stream",
     "text": [
      "Vocabulary size: 161 \n",
      "\n",
      "MOST OFFENSIVE TERMS\n",
      "term   bitch  niggas  nigga   faggot    nigger      fuck    fuckin    cuffin  \\\n",
      "proba    0.0     0.0    0.0  0.00418  0.005127  0.012097  0.013469  0.016285   \n",
      "\n",
      "term        ass     queer       hoe      cunt   fucking       gay      shit  \\\n",
      "proba  0.022132  0.024303  0.025979  0.026547  0.026919  0.056546  0.077713   \n",
      "\n",
      "term       shut       fag      dick      dumb       wit  \n",
      "proba  0.090228  0.100843  0.110694  0.115033  0.136061  \n",
      "\n",
      "LEAST OFFENSIVE TERMS\n",
      "term      bunny   support  terrorist      pick      beat   outside     great  \\\n",
      "proba  0.808545  0.809814   0.821787  0.823754  0.823898  0.828287  0.836497   \n",
      "\n",
      "term        job     right      wake  christmas      mind     blame       bag  \\\n",
      "proba  0.841153  0.841729  0.849247   0.853154  0.854688  0.878651  0.881977   \n",
      "\n",
      "term      crack  christma  ultimate      book   version       tie  \n",
      "proba  0.884496  0.894705  0.942934  0.944874  0.956555  0.961924  \n"
     ]
    }
   ],
   "source": [
    "vect = pipe_cv_tfidf.best_estimator_.steps[0][1]\n",
    "vocab_size = len(vect.vocabulary_)\n",
    "print('Vocabulary size:', vocab_size,'\\n')\n",
    "identity = np.eye(vocab_size)\n",
    "\n",
    "estimator = pipe_cv_tfidf.best_estimator_.steps[1][1]\n",
    "words = vect.vocabulary_.keys()\n",
    "probs = pipe_cv_tfidf.predict_proba(words)[:,0]\n",
    "\n",
    "words_df = pd.DataFrame(dict(term = list(words), proba = probs))\n",
    "words_df = words_df[['term', 'proba']].set_index('term')\n",
    "\n",
    "print('MOST OFFENSIVE TERMS')\n",
    "print(words_df.sort_values(by = 'proba').head(20).T)\n",
    "print()\n",
    "print('LEAST OFFENSIVE TERMS')\n",
    "print(words_df.sort_values(by = 'proba').tail(20).T)"
   ]
  },
  {
   "cell_type": "code",
   "execution_count": 391,
   "metadata": {
    "collapsed": true,
    "deletable": true,
    "editable": true
   },
   "outputs": [],
   "source": [
    "y_train_pred_tfidf = pipe_cv_tfidf.predict(X_train)\n",
    "y_test_pred_tfidf = pipe_cv_tfidf.predict(X_test)"
   ]
  },
  {
   "cell_type": "markdown",
   "metadata": {
    "deletable": true,
    "editable": true
   },
   "source": [
    "In yet another surprise, the performance of MNB using the more sophisticated TFIDF model is worse still than the simplier term frequency model and the even simplier BNB model. It may be that tweets are fundamentally too short and the dataset too small for the application of more complex models. Additionally, the nature of the classification problem, whether or not a tweet is offensive, hinges only on the presence of a small set of terms when modelling each tweet as a bag of words. As such, incorporating multiplicity and IDF contributes too little useful information to offset the cost of modeling with greater complexity."
   ]
  },
  {
   "cell_type": "code",
   "execution_count": 395,
   "metadata": {
    "collapsed": false,
    "deletable": true,
    "editable": true
   },
   "outputs": [
    {
     "name": "stdout",
     "output_type": "stream",
     "text": [
      "Accuracy: 0.772707423581\n",
      "F1 weighted:  0.741128916772\n",
      "Normalized confusion matrix:\n",
      " [[ 0.49912664  0.01670306  0.0010917 ]\n",
      " [ 0.06593886  0.24781659  0.01659389]\n",
      " [ 0.02620087  0.10076419  0.02576419]]\n",
      "Actual proportions:\n",
      " [ 0.5169214   0.33034934  0.15272926]\n"
     ]
    }
   ],
   "source": [
    "evaluate(y_train, y_train_pred_tfidf)"
   ]
  },
  {
   "cell_type": "code",
   "execution_count": 406,
   "metadata": {
    "collapsed": false,
    "deletable": true,
    "editable": true
   },
   "outputs": [
    {
     "name": "stdout",
     "output_type": "stream",
     "text": [
      "Accuracy: 0.770249617932\n",
      "F1 weighted:  0.738183633344\n",
      "Normalized confusion matrix:\n",
      " [[ 0.49872644  0.01706572  0.00101885]\n",
      " [ 0.06418747  0.24732552  0.0188487 ]\n",
      " [ 0.02496179  0.10366786  0.02419766]]\n",
      "Actual proportions:\n",
      " [ 0.516811    0.33036169  0.15282731]\n"
     ]
    }
   ],
   "source": [
    "evaluate(y_test, y_test_pred_tfidf)"
   ]
  },
  {
   "cell_type": "markdown",
   "metadata": {
    "deletable": true,
    "editable": true
   },
   "source": [
    "### Two-class performance evaluation"
   ]
  },
  {
   "cell_type": "code",
   "execution_count": 397,
   "metadata": {
    "collapsed": false,
    "deletable": true,
    "editable": true
   },
   "outputs": [
    {
     "name": "stdout",
     "output_type": "stream",
     "text": [
      "Accuracy: 0.892766174223\n",
      "F1 weighted:  0.891959565203\n",
      "Normalized confusion matrix:\n",
      " [[ 0.49872644  0.01808456]\n",
      " [ 0.08914926  0.39403974]]\n",
      "Actual proportions:\n",
      " [ 0.516811  0.483189]\n"
     ]
    }
   ],
   "source": [
    "y_pred_binary_tfidf = (y_test_pred_tfidf == 1) | (y_test_pred_tfidf == 2)\n",
    "evaluate(y_binary, y_pred_binary)"
   ]
  },
  {
   "cell_type": "markdown",
   "metadata": {
    "deletable": true,
    "editable": true
   },
   "source": [
    "# Tweet rater\n",
    "Finally, below is a simple function that uses the BNB model to rate new user-generated tweets."
   ]
  },
  {
   "cell_type": "code",
   "execution_count": 374,
   "metadata": {
    "collapsed": false,
    "deletable": true,
    "editable": true
   },
   "outputs": [],
   "source": [
    "import re\n",
    "import spacy\n",
    "\n",
    "nlp = spacy.load('en')\n",
    "\n",
    "def replace_user(tweet):\n",
    "    return re.sub(r'(@\\w+\\s*)', r'<user> ', tweet)\n",
    "\n",
    "def replace_url(tweet):\n",
    "    return re.sub(r'(https?://\\S*)', r'<url> )', tweet)\n",
    "\n",
    "def erase_special(tweet):\n",
    "    regex = r'#|&|\\(|\\)|\\\"|\\.|\\?|!|,|;|:|(�\\S*\\d*)|(_*UNDEF)|\\\\n|\\s\\'|\\'\\s|-|/|$|%|\\n|{|}|[|]|~'\n",
    "    return re.sub(regex, ' ', tweet)\n",
    "\n",
    "def erase_numbers(tweet):\n",
    "    regex = r'(128\\d{3})|(82\\d{2})'\n",
    "    return re.sub(regex, ' ', tweet)\n",
    "\n",
    "def normalize(tweet):\n",
    "    x = tweet.split()\n",
    "    y = ''\n",
    "    for token in x:\n",
    "        y = ' '.join([y,token.lower()])\n",
    "    return y[1:]\n",
    "\n",
    "def clean_tweet(tweet):\n",
    "    tweet = replace_user(tweet)\n",
    "    tweet = replace_url(tweet)\n",
    "    tweet = erase_numbers(tweet)\n",
    "    tweet = erase_special(tweet)\n",
    "    return tweet\n",
    "\n",
    "def lemmatize(tweet):\n",
    "    x = str()\n",
    "    for token in nlp(tweet):\n",
    "        if token.text in ['user','url','<','>']:\n",
    "            continue\n",
    "        else:\n",
    "            x = ' '.join([x, token.lemma_])\n",
    "    return x[1:]\n",
    "\n",
    "def remove_stop(tweet):\n",
    "    x = str()\n",
    "    for token in nlp(tweet):\n",
    "        if token.text == '-PRON-':\n",
    "            continue\n",
    "        if token.is_stop:\n",
    "            continue\n",
    "        else:\n",
    "            x = ' '.join([x, token.text])\n",
    "    return x[1:]"
   ]
  },
  {
   "cell_type": "code",
   "execution_count": 375,
   "metadata": {
    "collapsed": false,
    "deletable": true,
    "editable": true
   },
   "outputs": [],
   "source": [
    "def tweet_rater(tweet, clf):\n",
    "    tweet = clean_tweet(tweet)\n",
    "    tweet = lemmatize(tweet)\n",
    "    tweet = remove_stop(tweet)\n",
    "    \n",
    "    print(tweet)\n",
    "    rating = clf.predict([tweet])\n",
    "    probability = clf.predict_proba([tweet])\n",
    "    print(probability)\n",
    "    if rating == 0:\n",
    "        print('I\\'m {:2.4}% sure that\\'s not offensive.'.format(probability[0][0]*100))\n",
    "    elif rating == 1:\n",
    "        print('I\\'m {:2.4}% sure that\\'s offensive.'.format(probability[0][1]*100))\n",
    "    else:\n",
    "        print('I\\'m {:2.4}% sure that\\'s hate speech.'.format(probability[0][2]*100))"
   ]
  },
  {
   "cell_type": "code",
   "execution_count": 384,
   "metadata": {
    "collapsed": false,
    "deletable": true,
    "editable": true
   },
   "outputs": [
    {
     "name": "stdout",
     "output_type": "stream",
     "text": [
      "hate\n",
      "[[ 0.33362046  0.36367828  0.30270126]]\n",
      "I'm 36.37% sure that's offensive.\n"
     ]
    }
   ],
   "source": [
    "tweet_rater('i hate you all', pipe_cv_bnb)"
   ]
  },
  {
   "cell_type": "code",
   "execution_count": null,
   "metadata": {
    "collapsed": true,
    "deletable": true,
    "editable": true
   },
   "outputs": [],
   "source": []
  }
 ],
 "metadata": {
  "anaconda-cloud": {},
  "kernelspec": {
   "display_name": "Python [conda root]",
   "language": "python",
   "name": "conda-root-py"
  },
  "language_info": {
   "codemirror_mode": {
    "name": "ipython",
    "version": 3
   },
   "file_extension": ".py",
   "mimetype": "text/x-python",
   "name": "python",
   "nbconvert_exporter": "python",
   "pygments_lexer": "ipython3",
   "version": "3.5.2"
  }
 },
 "nbformat": 4,
 "nbformat_minor": 1
}
