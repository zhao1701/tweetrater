{
 "cells": [
  {
   "cell_type": "markdown",
   "metadata": {
    "deletable": true,
    "editable": true
   },
   "source": [
    "# 01 - Exploratory Data Analysis\n",
    "\n",
    "# Introduction\n",
    "\n",
    "In this project, I will be attempting to classify a dataset of tweets into one of three categories: non-offensive, offensive but without hate speech, and hate speech. In particular, I will explore four different methods of classification:\n",
    "- Multinomial Naive Bayes using sparse word count vectors\n",
    "- Artificial neural network using corpus-trained word embedding vectors\n",
    "- Convolutional neural network using corpus-trained word embedding vectors\n",
    "- Convolutional neural network using pre-trained word embedding vectors\n",
    "\n",
    "The dataset itself was obtained from [CrowdFlower](https://www.crowdflower.com/data/hate-speech-identification/), a data consulting firm that crowdsourced the labeling of roughly 15,000 normal, offensive, and hateful speech."
   ]
  },
  {
   "cell_type": "code",
   "execution_count": 1,
   "metadata": {
    "collapsed": false,
    "deletable": true,
    "editable": true
   },
   "outputs": [],
   "source": [
    "import os\n",
    "import pandas as pd\n",
    "import numpy as np\n",
    "import matplotlib.pyplot as plt\n",
    "import seaborn as sns\n",
    "\n",
    "%matplotlib inline\n",
    "sns.set(style = 'whitegrid')\n",
    "\n",
    "data_directory = os.path.join('..','data','')\n",
    "csv_path = os.path.join(data_directory, 'twitter_hate_speech.csv')\n",
    "df_orig = pd.read_csv(csv_path, engine = 'python', delimiter = ',')"
   ]
  },
  {
   "cell_type": "markdown",
   "metadata": {
    "deletable": true,
    "editable": true
   },
   "source": [
    "# Understanding the data\n",
    "Except for a short blurb on the CrowdFlower website describing the data:\n",
    "> \"Contributors viewed short text and identified if it a) contained hate speech, b) was offensive but without hate speech, or c) was not offensive at all. Contains nearly 15K rows with three contributor judgments per text string.\"\n",
    "\n",
    "there exists no documentation regarding how to interpret the structure of the dataset or the methodology behind obtaining and labeling the tweets."
   ]
  },
  {
   "cell_type": "code",
   "execution_count": 2,
   "metadata": {
    "collapsed": false,
    "deletable": true,
    "editable": true,
    "scrolled": false
   },
   "outputs": [
    {
     "name": "stdout",
     "output_type": "stream",
     "text": [
      "The dataset contains 14509 rows and 20 columns:\n",
      "\t _unit_id\n",
      "\t _golden\n",
      "\t _unit_state\n",
      "\t _trusted_judgments\n",
      "\t _last_judgment_at\n",
      "\t does_this_tweet_contain_hate_speech\n",
      "\t does_this_tweet_contain_hate_speech:confidence\n",
      "\t _created_at\n",
      "\t orig__golden\n",
      "\t orig__last_judgment_at\n",
      "\t orig__trusted_judgments\n",
      "\t orig__unit_id\n",
      "\t orig__unit_state\n",
      "\t _updated_at\n",
      "\t orig_does_this_tweet_contain_hate_speech\n",
      "\t does_this_tweet_contain_hate_speech_gold\n",
      "\t does_this_tweet_contain_hate_speech_gold_reason\n",
      "\t does_this_tweet_contain_hate_speechconfidence\n",
      "\t tweet_id\n",
      "\t tweet_text\n"
     ]
    }
   ],
   "source": [
    "print('The dataset contains {} rows and {} columns:'.format(df_orig.shape[0], df_orig.shape[1]))\n",
    "\n",
    "for name in df_orig.columns:\n",
    "    print('\\t',name)"
   ]
  },
  {
   "cell_type": "code",
   "execution_count": 3,
   "metadata": {
    "collapsed": true,
    "deletable": true,
    "editable": true
   },
   "outputs": [],
   "source": [
    "# columns re-named for convenience\n",
    "df_orig.columns = ['id', 'golden','state', 'trusted_judgements','last_judgment','is_hate_speech','confidence',\n",
    "                   'created','orig_golden','orig_last_judgement','orig_trusted_judgements','orig_id','orig_state',\n",
    "                   'updated','orig_is_hate_speech','is_hate_speech_gold','reason','confidence2','id2','text']"
   ]
  },
  {
   "cell_type": "code",
   "execution_count": 4,
   "metadata": {
    "collapsed": false,
    "deletable": true,
    "editable": true
   },
   "outputs": [
    {
     "data": {
      "text/html": [
       "<div>\n",
       "<style>\n",
       "    .dataframe thead tr:only-child th {\n",
       "        text-align: right;\n",
       "    }\n",
       "\n",
       "    .dataframe thead th {\n",
       "        text-align: left;\n",
       "    }\n",
       "\n",
       "    .dataframe tbody tr th {\n",
       "        vertical-align: top;\n",
       "    }\n",
       "</style>\n",
       "<table border=\"1\" class=\"dataframe\">\n",
       "  <thead>\n",
       "    <tr style=\"text-align: right;\">\n",
       "      <th></th>\n",
       "      <th>id</th>\n",
       "      <th>golden</th>\n",
       "      <th>state</th>\n",
       "      <th>trusted_judgements</th>\n",
       "      <th>last_judgment</th>\n",
       "      <th>is_hate_speech</th>\n",
       "      <th>confidence</th>\n",
       "      <th>created</th>\n",
       "      <th>orig_golden</th>\n",
       "      <th>orig_last_judgement</th>\n",
       "      <th>orig_trusted_judgements</th>\n",
       "      <th>orig_id</th>\n",
       "      <th>orig_state</th>\n",
       "      <th>updated</th>\n",
       "      <th>orig_is_hate_speech</th>\n",
       "      <th>is_hate_speech_gold</th>\n",
       "      <th>reason</th>\n",
       "      <th>confidence2</th>\n",
       "      <th>id2</th>\n",
       "      <th>text</th>\n",
       "    </tr>\n",
       "  </thead>\n",
       "  <tbody>\n",
       "    <tr>\n",
       "      <th>0</th>\n",
       "      <td>853718217</td>\n",
       "      <td>True</td>\n",
       "      <td>golden</td>\n",
       "      <td>86</td>\n",
       "      <td>NaN</td>\n",
       "      <td>The tweet uses offensive language but not hate...</td>\n",
       "      <td>0.6013</td>\n",
       "      <td>NaN</td>\n",
       "      <td>True</td>\n",
       "      <td>NaN</td>\n",
       "      <td>0.0</td>\n",
       "      <td>615561535.0</td>\n",
       "      <td>golden</td>\n",
       "      <td>NaN</td>\n",
       "      <td>The tweet contains hate speech</td>\n",
       "      <td>The tweet contains hate speech\\nThe tweet uses...</td>\n",
       "      <td>NaN</td>\n",
       "      <td>1.0</td>\n",
       "      <td>1.666196e+09</td>\n",
       "      <td>Warning: penny boards will make you a faggot</td>\n",
       "    </tr>\n",
       "    <tr>\n",
       "      <th>1</th>\n",
       "      <td>853718218</td>\n",
       "      <td>True</td>\n",
       "      <td>golden</td>\n",
       "      <td>92</td>\n",
       "      <td>NaN</td>\n",
       "      <td>The tweet contains hate speech</td>\n",
       "      <td>0.7227</td>\n",
       "      <td>NaN</td>\n",
       "      <td>True</td>\n",
       "      <td>NaN</td>\n",
       "      <td>0.0</td>\n",
       "      <td>615561723.0</td>\n",
       "      <td>golden</td>\n",
       "      <td>NaN</td>\n",
       "      <td>The tweet contains hate speech</td>\n",
       "      <td>The tweet contains hate speech\\nThe tweet uses...</td>\n",
       "      <td>NaN</td>\n",
       "      <td>1.0</td>\n",
       "      <td>4.295121e+08</td>\n",
       "      <td>Fuck dykes</td>\n",
       "    </tr>\n",
       "    <tr>\n",
       "      <th>2</th>\n",
       "      <td>853718219</td>\n",
       "      <td>True</td>\n",
       "      <td>golden</td>\n",
       "      <td>86</td>\n",
       "      <td>NaN</td>\n",
       "      <td>The tweet contains hate speech</td>\n",
       "      <td>0.5229</td>\n",
       "      <td>NaN</td>\n",
       "      <td>True</td>\n",
       "      <td>NaN</td>\n",
       "      <td>0.0</td>\n",
       "      <td>615562039.0</td>\n",
       "      <td>golden</td>\n",
       "      <td>NaN</td>\n",
       "      <td>The tweet contains hate speech</td>\n",
       "      <td>The tweet contains hate speech\\nThe tweet uses...</td>\n",
       "      <td>NaN</td>\n",
       "      <td>1.0</td>\n",
       "      <td>3.956238e+08</td>\n",
       "      <td>@sizzurp__ @ILIKECATS74 @yoPapi_chulo @brandon...</td>\n",
       "    </tr>\n",
       "  </tbody>\n",
       "</table>\n",
       "</div>"
      ],
      "text/plain": [
       "          id  golden   state  trusted_judgements last_judgment  \\\n",
       "0  853718217    True  golden                  86           NaN   \n",
       "1  853718218    True  golden                  92           NaN   \n",
       "2  853718219    True  golden                  86           NaN   \n",
       "\n",
       "                                      is_hate_speech  confidence  created  \\\n",
       "0  The tweet uses offensive language but not hate...      0.6013      NaN   \n",
       "1                     The tweet contains hate speech      0.7227      NaN   \n",
       "2                     The tweet contains hate speech      0.5229      NaN   \n",
       "\n",
       "  orig_golden  orig_last_judgement  orig_trusted_judgements      orig_id  \\\n",
       "0        True                  NaN                      0.0  615561535.0   \n",
       "1        True                  NaN                      0.0  615561723.0   \n",
       "2        True                  NaN                      0.0  615562039.0   \n",
       "\n",
       "  orig_state  updated             orig_is_hate_speech  \\\n",
       "0     golden      NaN  The tweet contains hate speech   \n",
       "1     golden      NaN  The tweet contains hate speech   \n",
       "2     golden      NaN  The tweet contains hate speech   \n",
       "\n",
       "                                 is_hate_speech_gold  reason  confidence2  \\\n",
       "0  The tweet contains hate speech\\nThe tweet uses...     NaN          1.0   \n",
       "1  The tweet contains hate speech\\nThe tweet uses...     NaN          1.0   \n",
       "2  The tweet contains hate speech\\nThe tweet uses...     NaN          1.0   \n",
       "\n",
       "            id2                                               text  \n",
       "0  1.666196e+09       Warning: penny boards will make you a faggot  \n",
       "1  4.295121e+08                                         Fuck dykes  \n",
       "2  3.956238e+08  @sizzurp__ @ILIKECATS74 @yoPapi_chulo @brandon...  "
      ]
     },
     "execution_count": 4,
     "metadata": {},
     "output_type": "execute_result"
    }
   ],
   "source": [
    "df_orig.head(3)"
   ]
  },
  {
   "cell_type": "markdown",
   "metadata": {
    "deletable": true,
    "editable": true
   },
   "source": [
    "### Significant amounts of missing data in many features\n",
    "More than half the columns immediately appear to be unusable due to having almost no data."
   ]
  },
  {
   "cell_type": "code",
   "execution_count": 5,
   "metadata": {
    "collapsed": false,
    "deletable": true,
    "editable": true
   },
   "outputs": [
    {
     "name": "stdout",
     "output_type": "stream",
     "text": [
      "<class 'pandas.core.frame.DataFrame'>\n",
      "RangeIndex: 14509 entries, 0 to 14508\n",
      "Data columns (total 20 columns):\n",
      "id                         14509 non-null int64\n",
      "golden                     14509 non-null bool\n",
      "state                      14509 non-null object\n",
      "trusted_judgements         14509 non-null int64\n",
      "last_judgment              14442 non-null object\n",
      "is_hate_speech             14509 non-null object\n",
      "confidence                 14509 non-null float64\n",
      "created                    0 non-null float64\n",
      "orig_golden                67 non-null object\n",
      "orig_last_judgement        0 non-null float64\n",
      "orig_trusted_judgements    67 non-null float64\n",
      "orig_id                    67 non-null float64\n",
      "orig_state                 67 non-null object\n",
      "updated                    0 non-null float64\n",
      "orig_is_hate_speech        67 non-null object\n",
      "is_hate_speech_gold        67 non-null object\n",
      "reason                     0 non-null float64\n",
      "confidence2                67 non-null float64\n",
      "id2                        14509 non-null float64\n",
      "text                       14509 non-null object\n",
      "dtypes: bool(1), float64(9), int64(2), object(8)\n",
      "memory usage: 2.1+ MB\n"
     ]
    }
   ],
   "source": [
    "df_orig.info()"
   ]
  },
  {
   "cell_type": "markdown",
   "metadata": {
    "deletable": true,
    "editable": true
   },
   "source": [
    "### 'id' and 'id2'\n",
    "The ID's of each tweet are indeed unique. Curiously, this does not hold for id2, which has only 63 unique values despite having no missing data. Without being able to discren its meaning, id2 is of no use."
   ]
  },
  {
   "cell_type": "code",
   "execution_count": 6,
   "metadata": {
    "collapsed": false,
    "deletable": true,
    "editable": true
   },
   "outputs": [
    {
     "name": "stdout",
     "output_type": "stream",
     "text": [
      "Unique values 'id': 14509\n",
      "Unique values 'id2': 63\n",
      "Value counts 'id2':\n",
      "6.790000e+17    7321\n",
      "6.800000e+17    6227\n",
      "6.780000e+17     486\n",
      "6.770000e+17     371\n",
      "6.760000e+17      37\n",
      "1.488430e+09       3\n",
      "2.583138e+09       2\n",
      "3.956238e+08       2\n",
      "2.038160e+08       2\n",
      "4.334475e+08       2\n",
      "Name: id2, dtype: int64\n"
     ]
    }
   ],
   "source": [
    "print('Unique values \\'id\\':', len(df_orig.id.unique()))\n",
    "print('Unique values \\'id2\\':', len(df_orig.id2.unique()))\n",
    "print('Value counts \\'id2\\':')\n",
    "print(df_orig.id2.value_counts().head(10))"
   ]
  },
  {
   "cell_type": "markdown",
   "metadata": {
    "deletable": true,
    "editable": true
   },
   "source": [
    "### 'trusted_judments'\n",
    "This feature appears to indicate the number of people that judged each tweet. We see that the vast majority of tweets were judged by three people, so this feature can also be excluded."
   ]
  },
  {
   "cell_type": "code",
   "execution_count": 9,
   "metadata": {
    "collapsed": false,
    "deletable": true,
    "editable": true
   },
   "outputs": [
    {
     "data": {
      "text/plain": [
       "3     14442\n",
       "91        8\n",
       "93        7\n",
       "90        7\n",
       "88        7\n",
       "94        6\n",
       "92        6\n",
       "95        5\n",
       "87        5\n",
       "89        5\n",
       "86        3\n",
       "98        3\n",
       "96        2\n",
       "85        1\n",
       "84        1\n",
       "97        1\n",
       "Name: trusted_judgements, dtype: int64"
      ]
     },
     "execution_count": 9,
     "metadata": {},
     "output_type": "execute_result"
    }
   ],
   "source": [
    "df_orig.trusted_judgements.value_counts()"
   ]
  },
  {
   "cell_type": "markdown",
   "metadata": {
    "deletable": true,
    "editable": true
   },
   "source": [
    "### 'golden' and 'state'\n",
    "It looks like the two features are redundant. If a tweet's \"state\" is golden, then \"golden\" is also true. Furthermore, a tweet is \"golden\" if more than three people judged it, but given that so few tweets meet this criteria, it's hard to see how this will be helpful."
   ]
  },
  {
   "cell_type": "code",
   "execution_count": 10,
   "metadata": {
    "collapsed": false,
    "deletable": true,
    "editable": true
   },
   "outputs": [
    {
     "name": "stdout",
     "output_type": "stream",
     "text": [
      "False    14442\n",
      "True        67\n",
      "Name: golden, dtype: int64 \n",
      "\n",
      "finalized    14442\n",
      "golden          67\n",
      "Name: state, dtype: int64 \n",
      "\n",
      "67\n"
     ]
    }
   ],
   "source": [
    "print(df_orig.golden.value_counts(),'\\n')\n",
    "print(df_orig.state.value_counts(),'\\n')\n",
    "print(len(df_orig[(df_orig.golden == True) & (df_orig.state == 'golden')]))"
   ]
  },
  {
   "cell_type": "code",
   "execution_count": 11,
   "metadata": {
    "collapsed": false,
    "deletable": true,
    "editable": true
   },
   "outputs": [
    {
     "data": {
      "text/plain": [
       "3    14442\n",
       "Name: trusted_judgements, dtype: int64"
      ]
     },
     "execution_count": 11,
     "metadata": {},
     "output_type": "execute_result"
    }
   ],
   "source": [
    "# non-golden tweets are always judged by only three people\n",
    "df_orig[df_orig.golden == False].trusted_judgements.value_counts()"
   ]
  },
  {
   "cell_type": "code",
   "execution_count": 12,
   "metadata": {
    "collapsed": false,
    "deletable": true,
    "editable": true
   },
   "outputs": [
    {
     "data": {
      "image/png": "[encoded data removed]",
      "text/plain": [
       "<matplotlib.figure.Figure at 0x11016f780>"
      ]
     },
     "metadata": {},
     "output_type": "display_data"
    }
   ],
   "source": [
    "plt.figure(figsize = (14,4))\n",
    "ax = df_orig[df_orig.golden == True].trusted_judgements.value_counts().sort_index().plot(kind = 'bar')\n",
    "___ = ax.set(xlabel = 'Number of judgements', ylabel = 'Frequency',\n",
    "      title = 'Frequency of \\'golden\\' tweets by number of judgements')"
   ]
  },
  {
   "cell_type": "markdown",
   "metadata": {
    "deletable": true,
    "editable": true
   },
   "source": [
    "### 'confidence'\n",
    "Without a codebook, it's hard to know for sure what confidence means, but it appears unrelated to whether a tweet is golden. A reasonable guess here is that it measures the extent of agreement amongst judgements. For example, if all judgements agree that a particular tweet is hateful, then that tweet would be labeled with a confidence of 1.0."
   ]
  },
  {
   "cell_type": "code",
   "execution_count": 13,
   "metadata": {
    "collapsed": false,
    "deletable": true,
    "editable": true
   },
   "outputs": [
    {
     "name": "stdout",
     "output_type": "stream",
     "text": [
      "Average confidence of 'golden' tweets: 0.8348373134328358\n",
      "Average confidence of 'non-golden' tweets: 0.8659881664589465\n"
     ]
    }
   ],
   "source": [
    "print('Average confidence of \\'golden\\' tweets:', df_orig[df_orig.golden == True].confidence.mean())\n",
    "print('Average confidence of \\'non-golden\\' tweets:', df_orig[df_orig.golden == False].confidence.mean())"
   ]
  },
  {
   "cell_type": "code",
   "execution_count": 14,
   "metadata": {
    "collapsed": false,
    "deletable": true,
    "editable": true
   },
   "outputs": [
    {
     "name": "stdout",
     "output_type": "stream",
     "text": [
      "Average num judgements of 'confident' tweets: 3.1770983879933294\n",
      "Average num judgements of 'non-confident' tweets: 3.0\n"
     ]
    }
   ],
   "source": [
    "print('Average num judgements of \\'confident\\' tweets:', df_orig[df_orig.confidence == 1].trusted_judgements.mean())\n",
    "print('Average num judgements of \\'non-confident\\' tweets:', df_orig[df_orig.golden != 1].trusted_judgements.mean())"
   ]
  },
  {
   "cell_type": "code",
   "execution_count": 15,
   "metadata": {
    "collapsed": false,
    "deletable": true,
    "editable": true,
    "scrolled": false
   },
   "outputs": [
    {
     "data": {
      "image/png": "[encoded data removed]",
      "text/plain": [
       "<matplotlib.figure.Figure at 0x10484f390>"
      ]
     },
     "metadata": {},
     "output_type": "display_data"
    }
   ],
   "source": [
    "plt.figure(figsize = (14,4))\n",
    "___ = df_orig.confidence.hist(bins = 100).set(title = 'Frequency of tweets by confidence', xlabel = 'Confidence',\n",
    "                                       ylabel = 'Frequency')"
   ]
  },
  {
   "cell_type": "markdown",
   "metadata": {
    "deletable": true,
    "editable": true
   },
   "source": [
    "# Data cleaning\n",
    "### Drop sparse columns"
   ]
  },
  {
   "cell_type": "markdown",
   "metadata": {
    "deletable": true,
    "editable": true
   },
   "source": [
    "First, we drop all columns that have only 67 or less non-null values. Since ID's are unique, they will be a useful way of indexing each tweet."
   ]
  },
  {
   "cell_type": "code",
   "execution_count": 16,
   "metadata": {
    "collapsed": false,
    "deletable": true,
    "editable": true
   },
   "outputs": [],
   "source": [
    "df = df_orig.dropna(thresh = 68, axis = 'columns')\n",
    "df = df.set_index('id')"
   ]
  },
  {
   "cell_type": "code",
   "execution_count": 17,
   "metadata": {
    "collapsed": false,
    "deletable": true,
    "editable": true
   },
   "outputs": [
    {
     "data": {
      "text/html": [
       "<div>\n",
       "<style>\n",
       "    .dataframe thead tr:only-child th {\n",
       "        text-align: right;\n",
       "    }\n",
       "\n",
       "    .dataframe thead th {\n",
       "        text-align: left;\n",
       "    }\n",
       "\n",
       "    .dataframe tbody tr th {\n",
       "        vertical-align: top;\n",
       "    }\n",
       "</style>\n",
       "<table border=\"1\" class=\"dataframe\">\n",
       "  <thead>\n",
       "    <tr style=\"text-align: right;\">\n",
       "      <th></th>\n",
       "      <th>golden</th>\n",
       "      <th>state</th>\n",
       "      <th>trusted_judgements</th>\n",
       "      <th>last_judgment</th>\n",
       "      <th>is_hate_speech</th>\n",
       "      <th>confidence</th>\n",
       "      <th>id2</th>\n",
       "      <th>text</th>\n",
       "    </tr>\n",
       "    <tr>\n",
       "      <th>id</th>\n",
       "      <th></th>\n",
       "      <th></th>\n",
       "      <th></th>\n",
       "      <th></th>\n",
       "      <th></th>\n",
       "      <th></th>\n",
       "      <th></th>\n",
       "      <th></th>\n",
       "    </tr>\n",
       "  </thead>\n",
       "  <tbody>\n",
       "    <tr>\n",
       "      <th>853718217</th>\n",
       "      <td>True</td>\n",
       "      <td>golden</td>\n",
       "      <td>86</td>\n",
       "      <td>NaN</td>\n",
       "      <td>The tweet uses offensive language but not hate...</td>\n",
       "      <td>0.6013</td>\n",
       "      <td>1.666196e+09</td>\n",
       "      <td>Warning: penny boards will make you a faggot</td>\n",
       "    </tr>\n",
       "    <tr>\n",
       "      <th>853718218</th>\n",
       "      <td>True</td>\n",
       "      <td>golden</td>\n",
       "      <td>92</td>\n",
       "      <td>NaN</td>\n",
       "      <td>The tweet contains hate speech</td>\n",
       "      <td>0.7227</td>\n",
       "      <td>4.295121e+08</td>\n",
       "      <td>Fuck dykes</td>\n",
       "    </tr>\n",
       "    <tr>\n",
       "      <th>853718219</th>\n",
       "      <td>True</td>\n",
       "      <td>golden</td>\n",
       "      <td>86</td>\n",
       "      <td>NaN</td>\n",
       "      <td>The tweet contains hate speech</td>\n",
       "      <td>0.5229</td>\n",
       "      <td>3.956238e+08</td>\n",
       "      <td>@sizzurp__ @ILIKECATS74 @yoPapi_chulo @brandon...</td>\n",
       "    </tr>\n",
       "  </tbody>\n",
       "</table>\n",
       "</div>"
      ],
      "text/plain": [
       "           golden   state  trusted_judgements last_judgment  \\\n",
       "id                                                            \n",
       "853718217    True  golden                  86           NaN   \n",
       "853718218    True  golden                  92           NaN   \n",
       "853718219    True  golden                  86           NaN   \n",
       "\n",
       "                                              is_hate_speech  confidence  \\\n",
       "id                                                                         \n",
       "853718217  The tweet uses offensive language but not hate...      0.6013   \n",
       "853718218                     The tweet contains hate speech      0.7227   \n",
       "853718219                     The tweet contains hate speech      0.5229   \n",
       "\n",
       "                    id2                                               text  \n",
       "id                                                                          \n",
       "853718217  1.666196e+09       Warning: penny boards will make you a faggot  \n",
       "853718218  4.295121e+08                                         Fuck dykes  \n",
       "853718219  3.956238e+08  @sizzurp__ @ILIKECATS74 @yoPapi_chulo @brandon...  "
      ]
     },
     "execution_count": 17,
     "metadata": {},
     "output_type": "execute_result"
    }
   ],
   "source": [
    "df.head(3)"
   ]
  },
  {
   "cell_type": "markdown",
   "metadata": {
    "deletable": true,
    "editable": true
   },
   "source": [
    "### Recode hate speech classifications\n",
    "Next, we re-encode the hate speech labels to something more manageable:\n",
    "- 0: Does not contain offensive language\n",
    "- 1: Contains offensive language but not hate speech\n",
    "- 2: Contains hate speech\n",
    "\n",
    "All columns except for 'is_hate_speech' and 'text' are also dropped."
   ]
  },
  {
   "cell_type": "code",
   "execution_count": 18,
   "metadata": {
    "collapsed": false,
    "deletable": true,
    "editable": true
   },
   "outputs": [
    {
     "name": "stdout",
     "output_type": "stream",
     "text": [
      "['The tweet uses offensive language but not hate speech'\n",
      " 'The tweet contains hate speech' 'The tweet is not offensive']\n"
     ]
    }
   ],
   "source": [
    "df = df[['text','is_hate_speech','confidence']]\n",
    "categories = df.is_hate_speech.unique()\n",
    "print(categories)\n",
    "df['is_hate_speech'] = df['is_hate_speech'].replace(categories, [1,2,0])"
   ]
  },
  {
   "cell_type": "markdown",
   "metadata": {
    "deletable": true,
    "editable": true
   },
   "source": [
    "# The data is somewhat unbalanced\n",
    "Half the tweets have been classified as non-offensive while the remaining tweets comprise an uneven mixture of those classified as offensive and those classified as hate speech."
   ]
  },
  {
   "cell_type": "code",
   "execution_count": 20,
   "metadata": {
    "collapsed": false,
    "deletable": true,
    "editable": true
   },
   "outputs": [
    {
     "data": {
      "text/plain": [
       "[<matplotlib.text.Text at 0x110a082b0>,\n",
       " <matplotlib.text.Text at 0x1106ce748>,\n",
       " <matplotlib.text.Text at 0x110cd24a8>]"
      ]
     },
     "execution_count": 20,
     "metadata": {},
     "output_type": "execute_result"
    },
    {
     "data": {
      "image/png": "[encoded data removed]",
      "text/plain": [
       "<matplotlib.figure.Figure at 0x110b63320>"
      ]
     },
     "metadata": {},
     "output_type": "display_data"
    }
   ],
   "source": [
    "plt.figure(figsize = (14,4))\n",
    "ax = df.is_hate_speech.value_counts().plot(kind = 'bar')\n",
    "ax.set(title = 'Frequency of tweets by label', xlabel = 'Label', ylabel = 'Frequency')\n",
    "ax.set_xticklabels(['Not offensive', 'Offensive',' Hate speech'])"
   ]
  },
  {
   "cell_type": "markdown",
   "metadata": {
    "deletable": true,
    "editable": true
   },
   "source": [
    "# Cleaning up the text\n",
    "The tweets contained within this dataset have been untouched, and as such, require heavy cleaning prior to any form of analysis. In particular, user handles, hashtags, urls, emoticons, and many more issues will need to be addressed."
   ]
  },
  {
   "cell_type": "code",
   "execution_count": 93,
   "metadata": {
    "collapsed": false,
    "deletable": true,
    "editable": true,
    "scrolled": false
   },
   "outputs": [
    {
     "data": {
      "text/html": [
       "<div>\n",
       "<style>\n",
       "    .dataframe thead tr:only-child th {\n",
       "        text-align: right;\n",
       "    }\n",
       "\n",
       "    .dataframe thead th {\n",
       "        text-align: left;\n",
       "    }\n",
       "\n",
       "    .dataframe tbody tr th {\n",
       "        vertical-align: top;\n",
       "    }\n",
       "</style>\n",
       "<table border=\"1\" class=\"dataframe\">\n",
       "  <thead>\n",
       "    <tr style=\"text-align: right;\">\n",
       "      <th></th>\n",
       "      <th>text</th>\n",
       "      <th>is_hate_speech</th>\n",
       "    </tr>\n",
       "    <tr>\n",
       "      <th>id</th>\n",
       "      <th></th>\n",
       "      <th></th>\n",
       "    </tr>\n",
       "  </thead>\n",
       "  <tbody>\n",
       "    <tr>\n",
       "      <th>853718217</th>\n",
       "      <td>Warning: penny boards will make you a faggot</td>\n",
       "      <td>1</td>\n",
       "    </tr>\n",
       "    <tr>\n",
       "      <th>853718218</th>\n",
       "      <td>Fuck dykes</td>\n",
       "      <td>2</td>\n",
       "    </tr>\n",
       "    <tr>\n",
       "      <th>853718219</th>\n",
       "      <td>@sizzurp__ @ILIKECATS74 @yoPapi_chulo @brandonernandez @bootyacid at least i dont look like jefree starr faggot</td>\n",
       "      <td>2</td>\n",
       "    </tr>\n",
       "    <tr>\n",
       "      <th>853718220</th>\n",
       "      <td>\"@jayswaggkillah: \"@JacklynAnnn: @jayswaggkillah Is a fag\" jackie jealous\" Neeeee</td>\n",
       "      <td>2</td>\n",
       "    </tr>\n",
       "    <tr>\n",
       "      <th>853718221</th>\n",
       "      <td>@Zhugstubble You heard me bitch but any way I'm back th texas so wtf u talking about bitch ass nigga</td>\n",
       "      <td>1</td>\n",
       "    </tr>\n",
       "  </tbody>\n",
       "</table>\n",
       "</div>"
      ],
      "text/plain": [
       "                                                                                                                      text  \\\n",
       "id                                                                                                                           \n",
       "853718217                                                                     Warning: penny boards will make you a faggot   \n",
       "853718218                                                                                                       Fuck dykes   \n",
       "853718219  @sizzurp__ @ILIKECATS74 @yoPapi_chulo @brandonernandez @bootyacid at least i dont look like jefree starr faggot   \n",
       "853718220                                \"@jayswaggkillah: \"@JacklynAnnn: @jayswaggkillah Is a fag\" jackie jealous\" Neeeee   \n",
       "853718221             @Zhugstubble You heard me bitch but any way I'm back th texas so wtf u talking about bitch ass nigga   \n",
       "\n",
       "           is_hate_speech  \n",
       "id                         \n",
       "853718217               1  \n",
       "853718218               2  \n",
       "853718219               2  \n",
       "853718220               2  \n",
       "853718221               1  "
      ]
     },
     "execution_count": 93,
     "metadata": {},
     "output_type": "execute_result"
    }
   ],
   "source": [
    "pd.options.display.max_colwidth = 140\n",
    "df.head(5)"
   ]
  },
  {
   "cell_type": "code",
   "execution_count": 16,
   "metadata": {
    "collapsed": false,
    "deletable": true,
    "editable": true
   },
   "outputs": [],
   "source": [
    "with open('../data/all_tweets.txt', 'wt') as file_out:\n",
    "    for index in df.index:\n",
    "        tweet = df.loc[index,'text'].replace('\\n','\\\\n') + '\\n'\n",
    "        file_out.write(tweet)"
   ]
  },
  {
   "cell_type": "code",
   "execution_count": 95,
   "metadata": {
    "collapsed": true,
    "deletable": true,
    "editable": true
   },
   "outputs": [],
   "source": [
    "with open('../data/all_tweets.txt', 'rt') as file_in:\n",
    "    corpus = file_in.read()"
   ]
  },
  {
   "cell_type": "markdown",
   "metadata": {
    "deletable": true,
    "editable": true
   },
   "source": [
    "### How much of the corpus is comprised of unhelpful tokens?"
   ]
  },
  {
   "cell_type": "code",
   "execution_count": 100,
   "metadata": {
    "collapsed": false,
    "deletable": true,
    "editable": true
   },
   "outputs": [
    {
     "name": "stdout",
     "output_type": "stream",
     "text": [
      "4.08% of tokens are user handles.\n"
     ]
    }
   ],
   "source": [
    "import re\n",
    "\n",
    "handles = re.findall(r'@\\w+\\s', corpus)\n",
    "num_handles = len(handles)\n",
    "num_tokens = len(corpus.split())\n",
    "print('{:2.2f}% of tokens are user handles.'.format(num_handles / num_tokens * 100))"
   ]
  },
  {
   "cell_type": "code",
   "execution_count": 101,
   "metadata": {
    "collapsed": false,
    "deletable": true,
    "editable": true
   },
   "outputs": [
    {
     "name": "stdout",
     "output_type": "stream",
     "text": [
      "1.84% of tokens are urls.\n"
     ]
    }
   ],
   "source": [
    "urls = re.findall(r'https?://\\S+', corpus)\n",
    "num_urls = len(urls)\n",
    "print('{:2.2f}% of tokens are urls.'.format(num_urls / num_tokens * 100))"
   ]
  },
  {
   "cell_type": "code",
   "execution_count": 102,
   "metadata": {
    "collapsed": false,
    "deletable": true,
    "editable": true
   },
   "outputs": [
    {
     "name": "stdout",
     "output_type": "stream",
     "text": [
      "1.14% of tokens are hashtags.\n"
     ]
    }
   ],
   "source": [
    "hashtags = re.findall(r'#\\S*', corpus)\n",
    "num_hashtags = len(hashtags)\n",
    "print('{:2.2f}% of tokens are hashtags.'.format(num_hashtags / num_tokens * 100))"
   ]
  },
  {
   "cell_type": "code",
   "execution_count": 103,
   "metadata": {
    "collapsed": false,
    "deletable": true,
    "editable": true
   },
   "outputs": [
    {
     "name": "stdout",
     "output_type": "stream",
     "text": [
      "2.96% of tokens are miscellaneous.\n"
     ]
    }
   ],
   "source": [
    "other = re.findall(r'[�!$%^&*\\(\\)]\\S*', corpus)\n",
    "num_other = len(other)\n",
    "print('{:2.2f}% of tokens are miscellaneous.'.format(num_other / num_tokens * 100))"
   ]
  },
  {
   "cell_type": "markdown",
   "metadata": {
    "deletable": true,
    "editable": true
   },
   "source": [
    "Tokens like user handles, urls, and special symbols are of limited usefulness because they contribute little to the content of a tweet yet threaten to explode the vocabulary of a corpus. To prevent this, we replace such tokens with a common placeholder.\n",
    "\n",
    "The question of hashtags is trickier: some users include them at the end of a tweet like a normal tag, but others may choose to use a hashtag in place of a word to use limited characters more efficiently. For this reason, only the '#' is removed from a hashtag, and a separate process will determine whether the resulting token is worth keeping."
   ]
  },
  {
   "cell_type": "code",
   "execution_count": 104,
   "metadata": {
    "collapsed": false,
    "deletable": true,
    "editable": true,
    "scrolled": false
   },
   "outputs": [
    {
     "data": {
      "text/plain": [
       "\"Warning: penny boards will make you a faggot\\nFuck dykes\\nTWITTER_HANDLE TWITTER_HANDLE TWITTER_HANDLE TWITTER_HANDLE TWITTER_HANDLE at least i dont look like jefree starr faggot\\n TWITTER_HANDLE  TWITTER_HANDLE TWITTER_HANDLE Is a fag  jackie jealous  Neeeee\\nTWITTER_HANDLE You heard me bitch but any way I'm back th texas so wtf u talking about bitch ass nigga\\nTWITTER_HANDLE your a dirty terrorist and your religion is a fucking joke, you go around screaming Allah akbar doing terrorist shit. Dirty faggot.\\nRT TWITTER_HANDLE TWITTER_HANDLE looking like faggots?\\nWell I thought you knew actually RT TWITTER_HANDLE Man why y'all didn't tell me I was a dick riding ass faggot? Y'all not real   128557;  128557;  128557;  128557;  128557;  128557;\\nTWITTER_HANDLE I know. It was a joke, faggot.\\nI'm tired of people saying I look like my brother  amp; calling me Deondre' like serious Succ My Ass fag asses\\n VoteBlue2014 Yeah. CUZ 8 million people in faggot ass  newyork are  chickenshit JEWS gt; FUCK THEM\""
      ]
     },
     "execution_count": 104,
     "metadata": {},
     "output_type": "execute_result"
    }
   ],
   "source": [
    "# replace unhelpful tokens with placeholders\n",
    "corpus_clean = re.sub(r'@\\w+.\\s', 'TWITTER_HANDLE ', corpus)\n",
    "corpus_clean = re.sub(r'#|&|\\(|\\)|\\\"', ' ', corpus_clean)\n",
    "corpus_clean = re.sub(r'https?://\\S+', 'URL ', corpus_clean)\n",
    "corpus_clean = re.sub(r'�\\S*\\d*','UNDEF', corpus_clean)\n",
    "corpus_clean[:1000]"
   ]
  },
  {
   "cell_type": "markdown",
   "metadata": {
    "deletable": true,
    "editable": true
   },
   "source": [
    "### Lemmatization\n",
    "Beyond simply replacing semantically meaningless tokens with placeholders, the analysis of the corpus may benefit from the lemmatization of the remaining tokens. This involves removing the inflectional endings of words so that they can be transformed into their base word. For example, 'is', 'was', and 'am' would all map to 'be', and 'jumping', 'jumped', and 'jumps' would all map to 'jump.'\n",
    "\n",
    "This step is usually less important when dealing with analyses that involve word vector embeddings, as words with the same base and semantic meaning will likely result in similar vectors, but because a corpus of less than 15,000 tweets is incredibly small for training word vectors, reducing the vocabulary through lemmatization is necessary."
   ]
  },
  {
   "cell_type": "code",
   "execution_count": 106,
   "metadata": {
    "collapsed": true,
    "deletable": true,
    "editable": true
   },
   "outputs": [],
   "source": [
    "import spacy\n",
    "nlp = spacy.load('en')\n",
    "corpus_parsed = nlp(corpus_clean)\n",
    "corpus_normalized = [token.lemma_ for token in corpus_parsed]"
   ]
  },
  {
   "cell_type": "markdown",
   "metadata": {
    "deletable": true,
    "editable": true
   },
   "source": [
    "The output below shows the extent to which the corpus' vocabulary has been reduced following cleaning and lemmatization."
   ]
  },
  {
   "cell_type": "code",
   "execution_count": 107,
   "metadata": {
    "collapsed": false,
    "deletable": true,
    "editable": true
   },
   "outputs": [
    {
     "name": "stdout",
     "output_type": "stream",
     "text": [
      "Unique tokens before cleaning: 42593\n",
      "Unique tokens after cleaning: 29763\n",
      "Unique tokens after normalizing: 16527\n"
     ]
    }
   ],
   "source": [
    "print('Unique tokens before cleaning:', pd.Series(corpus.split()).unique().size)\n",
    "print('Unique tokens after cleaning:', pd.Series(corpus_clean.split()).unique().size)\n",
    "print('Unique tokens after normalizing:', pd.Series(corpus_normalized).unique().size)"
   ]
  },
  {
   "cell_type": "code",
   "execution_count": 108,
   "metadata": {
    "collapsed": false,
    "deletable": true,
    "editable": true
   },
   "outputs": [],
   "source": [
    "unique_normalized = pd.Series(corpus_normalized).unique()\n",
    "unique_normalized = pd.Series(unique_normalized)\n",
    "\n",
    "data = [(token.orth_, token.ent_type_, token.ent_iob_, token.prob, token.is_stop, token.is_punct, token.is_space,\n",
    "        token.like_num, token.is_oov) for token in corpus_parsed]\n",
    "df_corpus = pd.DataFrame(data, columns = ['token','ent_type','iob','prob','is_stop','is_punct','is_space',\n",
    "                        'like_num','is_oov'])"
   ]
  },
  {
   "cell_type": "code",
   "execution_count": 109,
   "metadata": {
    "collapsed": false,
    "deletable": true,
    "editable": true
   },
   "outputs": [
    {
     "name": "stdout",
     "output_type": "stream",
     "text": [
      "8.78% of tokens from cleaned corpus are out of vocabulary.\n"
     ]
    }
   ],
   "source": [
    "oov_rate = sum(df_corpus.is_oov) / len(df_corpus)\n",
    "print('{:2.2f}% of tokens from cleaned corpus are out of vocabulary.'.format(oov_rate * 100))"
   ]
  },
  {
   "cell_type": "code",
   "execution_count": 28,
   "metadata": {
    "collapsed": false,
    "deletable": true,
    "editable": true
   },
   "outputs": [],
   "source": [
    "with open('../data/all_tweets_cleaned.txt','wt') as file_out:\n",
    "    file_out.write(corpus_parsed.text)"
   ]
  },
  {
   "cell_type": "markdown",
   "metadata": {
    "deletable": true,
    "editable": true
   },
   "source": [
    "# Latent Dirichlet Allocation\n",
    "LDA is a popular technique for discovering topics within a corpus, however given the smallness of the current corpus and the natural shortness of each tweet, the results were not particularly good."
   ]
  },
  {
   "cell_type": "code",
   "execution_count": 122,
   "metadata": {
    "collapsed": false,
    "deletable": true,
    "editable": true
   },
   "outputs": [],
   "source": [
    "from gensim.corpora import Dictionary, MmCorpus\n",
    "from gensim.models.ldamulticore import LdaMulticore\n",
    "from gensim.models.word2vec import LineSentence\n",
    "\n",
    "import pyLDAvis\n",
    "import pyLDAvis.gensim\n",
    "import warnings\n",
    "import _pickle as pickle\n",
    "\n",
    "def punct_space(token):\n",
    "    return token.is_space or token.is_punct\n",
    "\n",
    "def line_tweet(filename):\n",
    "    with open(filename, 'rt') as file_in:\n",
    "        for tweet in file_in:\n",
    "            yield tweet.replace('\\\\n','\\n')\n",
    "            \n",
    "def lemmatized_sentence_corpus(filename):\n",
    "    for parsed_tweet in nlp.pipe(line_tweet(filename), batch_size = 1000, n_threads = 2):\n",
    "        for sentence in parsed_tweet.sents:\n",
    "            yield ' '.join([token.lemma_ for token in sentence if not punct_space(token)])"
   ]
  },
  {
   "cell_type": "code",
   "execution_count": 140,
   "metadata": {
    "collapsed": false,
    "deletable": true,
    "editable": true
   },
   "outputs": [],
   "source": [
    "with open('../data/unigram_sentences.txt','wt') as file_out:\n",
    "    for sentence in lemmatized_sentence_corpus('../data/all_tweets_cleaned.txt'):\n",
    "        file_out.write(sentence + '\\n')\n",
    "\n",
    "unigram_sentences = LineSentence('../data/unigram_sentences.txt')\n",
    "\n",
    "with open('../data/transformed_tweets_all.txt','wt') as file_out:\n",
    "    for parsed_tweet in nlp.pipe(line_tweet('../data/unigram_sentences.txt'), batch_size = 1000, n_threads = 2):\n",
    "        unigram_tweet = [token.lemma_ for token in parsed_tweet if not punct_space(token)]\n",
    "        unigram_tweet = ' '.join(unigram_tweet)\n",
    "        file_out.write(unigram_tweet + '\\n')\n",
    "        \n",
    "unigram_tweets = LineSentence('../data/trigram_transformed_tweets_all.txt')\n",
    "unigram_dictionary = Dictionary(unigram_tweets)\n",
    "\n",
    "unigram_dictionary.filter_extremes(no_below = 10, no_above = 0.4)\n",
    "unigram_dictionary.save('../data/trigram_dictionary')"
   ]
  },
  {
   "cell_type": "code",
   "execution_count": 125,
   "metadata": {
    "collapsed": true,
    "deletable": true,
    "editable": true
   },
   "outputs": [],
   "source": [
    "def unigram_bow_generator(filepath):\n",
    "    for review in LineSentence(filepath):\n",
    "        yield unigram_dictionary.doc2bow(review)\n",
    "        \n",
    "MmCorpus.serialize('../data/unigram_bow_corpus.mm',\n",
    "                   unigram_bow_generator('../data/transformed_tweets_all.txt'))\n",
    "unigram_bow_corpus = MmCorpus('../data/unigram_bow_corpus.mm')\n",
    "\n",
    "with warnings.catch_warnings():\n",
    "        warnings.simplefilter('ignore')\n",
    "        \n",
    "        lda = LdaMulticore(unigram_bow_corpus, num_topics=5, id2word=unigram_dictionary, workers=1)\n",
    "        lda.save('../data/lda_model')"
   ]
  },
  {
   "cell_type": "code",
   "execution_count": 131,
   "metadata": {
    "collapsed": true,
    "deletable": true,
    "editable": true
   },
   "outputs": [],
   "source": [
    "def explore_topic(topic_number, topn=25):\n",
    "        \n",
    "    print('{:20} {}'.format('term', 'frequency') + '\\n')\n",
    "\n",
    "    for term, frequency in lda.show_topic(topic_number, topn=25):\n",
    "        print('{:20} {:.3f}'.format(term, round(frequency, 3)))"
   ]
  },
  {
   "cell_type": "code",
   "execution_count": 142,
   "metadata": {
    "collapsed": false,
    "deletable": true,
    "editable": true
   },
   "outputs": [
    {
     "name": "stdout",
     "output_type": "stream",
     "text": [
      "term                 frequency\n",
      "\n",
      "nigga                0.046\n",
      "fuck                 0.045\n",
      "bitch                0.040\n",
      "twitter_handle       0.037\n",
      "-PRON-               0.033\n",
      "white                0.023\n",
      "kike                 0.020\n",
      "faggot               0.020\n",
      "ass                  0.018\n",
      "know                 0.015\n",
      "wit                  0.011\n",
      "man                  0.009\n",
      "shut                 0.009\n",
      "lol                  0.009\n",
      "love                 0.009\n",
      "u                    0.008\n",
      "nigger               0.008\n",
      "url                  0.008\n",
      "girl                 0.007\n",
      "shit                 0.007\n",
      "fag                  0.007\n",
      "wanna                0.007\n",
      "school               0.007\n",
      "like                 0.007\n",
      "come                 0.006\n"
     ]
    }
   ],
   "source": [
    "explore_topic(topic_number=1)"
   ]
  },
  {
   "cell_type": "markdown",
   "metadata": {
    "deletable": true,
    "editable": true
   },
   "source": [
    "# Word Vector Embedding \n",
    "Word vector embeddings in which each word is represented by a 100-dimensional vector show more promising results. Roughly speaking, the word vectors are trained according to the context of the words surrounding them, but given the small dataset and diverse grammar of tweets, odd relationships frequently appear."
   ]
  },
  {
   "cell_type": "code",
   "execution_count": 159,
   "metadata": {
    "collapsed": false,
    "deletable": true,
    "editable": true
   },
   "outputs": [
    {
     "name": "stdout",
     "output_type": "stream",
     "text": [
      "20,550 terms in the tweet2vec vocabulary.\n"
     ]
    }
   ],
   "source": [
    "from gensim.models import Word2Vec\n",
    "\n",
    "unigram_sentences = LineSentence('../data/unigram_sentences.txt')\n",
    "tweet2vec = Word2Vec(unigram_sentences, size=100, window=5,\n",
    "                        min_count=20, sg=1, workers=1)\n",
    "tweet2vec.save('../data/word2vec_model')\n",
    "\n",
    "for i in range(1,12):\n",
    "    tweet2vec.train(unigram_sentences, total_examples=tweet2vec.corpus_count, epochs=11)\n",
    "    tweet2vec.save('../data/word2vec_model')\n",
    "    \n",
    "tweet2vec.init_sims()\n",
    "print('{:,} terms in the tweet2vec vocabulary.'.format(tweet2vec.corpus_count))"
   ]
  },
  {
   "cell_type": "code",
   "execution_count": 160,
   "metadata": {
    "collapsed": true,
    "deletable": true,
    "editable": true
   },
   "outputs": [],
   "source": [
    "def get_related_terms(token, topn=10):\n",
    "    for word, similarity in tweet2vec.most_similar(positive=[token], topn=topn):\n",
    "        print('{:20} {}'.format(word, round(similarity, 3)))"
   ]
  },
  {
   "cell_type": "markdown",
   "metadata": {
    "deletable": true,
    "editable": true
   },
   "source": [
    "The related terms below show that the vector embeddings, while good, also have room for improvement. That 'etc' is more similar to 'terrorist' than 'isis' is curious, as are the similarities of other pairs of related terms. In previous versions of this process, I had performed phrase modeling prior to training word vectors, generating bigrams and trigrams for sets of words that frequently appear together (like counting 'ice_cream' as a single token rather than two separate tokens). While this may have worked for larger texts, for this corpus it significantly degraded the embedding quality."
   ]
  },
  {
   "cell_type": "code",
   "execution_count": 161,
   "metadata": {
    "collapsed": false,
    "deletable": true,
    "editable": true,
    "scrolled": true
   },
   "outputs": [
    {
     "name": "stdout",
     "output_type": "stream",
     "text": [
      "donald               0.688\n",
      "muslim               0.399\n",
      "jew                  0.38\n",
      "america              0.379\n",
      "vote                 0.365\n",
      "fact                 0.352\n",
      "word                 0.351\n",
      "short                0.341\n",
      "win                  0.337\n",
      "hillary              0.334\n"
     ]
    }
   ],
   "source": [
    "get_related_terms('trump')"
   ]
  },
  {
   "cell_type": "code",
   "execution_count": 162,
   "metadata": {
    "collapsed": false,
    "deletable": true,
    "editable": true
   },
   "outputs": [
    {
     "name": "stdout",
     "output_type": "stream",
     "text": [
      "islam                0.462\n",
      "court                0.416\n",
      "federal              0.405\n",
      "religion             0.394\n",
      "report               0.39\n",
      "muslim               0.388\n",
      "etc                  0.381\n",
      "police               0.38\n",
      "anti                 0.368\n",
      "isis                 0.358\n"
     ]
    }
   ],
   "source": [
    "get_related_terms('terrorist')"
   ]
  },
  {
   "cell_type": "code",
   "execution_count": 163,
   "metadata": {
    "collapsed": false,
    "deletable": true,
    "editable": true
   },
   "outputs": [
    {
     "name": "stdout",
     "output_type": "stream",
     "text": [
      "queer                0.485\n",
      "fag                  0.45\n",
      "gay                  0.412\n",
      "guy                  0.396\n",
      "twitter_handle       0.394\n",
      "fuck                 0.376\n",
      "cry                  0.368\n",
      "nigger               0.367\n",
      "twitter              0.366\n",
      "bitch                0.365\n"
     ]
    }
   ],
   "source": [
    "get_related_terms('faggot')"
   ]
  },
  {
   "cell_type": "code",
   "execution_count": 176,
   "metadata": {
    "collapsed": false,
    "deletable": true,
    "editable": true
   },
   "outputs": [
    {
     "name": "stdout",
     "output_type": "stream",
     "text": [
      "racist               0.405\n",
      "white                0.358\n",
      "rap                  0.351\n",
      "woman                0.35\n",
      "kill                 0.346\n",
      "cop                  0.34\n",
      "person               0.324\n",
      "man                  0.32\n",
      "muslims              0.317\n",
      "idiot                0.312\n"
     ]
    }
   ],
   "source": [
    "get_related_terms('black')"
   ]
  },
  {
   "cell_type": "code",
   "execution_count": 164,
   "metadata": {
    "collapsed": false,
    "deletable": true,
    "editable": true
   },
   "outputs": [
    {
     "name": "stdout",
     "output_type": "stream",
     "text": [
      "say                  0.406\n",
      "rap                  0.406\n",
      "woman                0.378\n",
      "offend               0.367\n",
      "muslim               0.366\n",
      "anti                 0.365\n",
      "know                 0.346\n",
      "etc                  0.345\n",
      "issue                0.336\n",
      "marry                0.335\n"
     ]
    }
   ],
   "source": [
    "get_related_terms('rape')"
   ]
  },
  {
   "cell_type": "code",
   "execution_count": 280,
   "metadata": {
    "collapsed": false,
    "deletable": true,
    "editable": true
   },
   "outputs": [
    {
     "name": "stdout",
     "output_type": "stream",
     "text": [
      "christma             0.471\n",
      "eve                  0.458\n",
      "merry                0.407\n",
      "gift                 0.355\n",
      "g                    0.344\n",
      "spend                0.333\n",
      "this                 0.33\n",
      "holiday              0.33\n",
      "ill                  0.327\n",
      "recovery             0.326\n"
     ]
    }
   ],
   "source": [
    "get_related_terms('christmas')"
   ]
  },
  {
   "cell_type": "markdown",
   "metadata": {
    "deletable": true,
    "editable": true
   },
   "source": [
    "### Word Algebra\n",
    "Here, we simply add or subtract word vectors and then display in order the most similar tokens to the result. In general, additions tend to make sense, but subtractions not so much."
   ]
  },
  {
   "cell_type": "code",
   "execution_count": 151,
   "metadata": {
    "collapsed": true,
    "deletable": true,
    "editable": true
   },
   "outputs": [],
   "source": [
    "def word_algebra(add=[], subtract=[], topn=1):\n",
    "    answers = tweet2vec.most_similar(positive=add, negative=subtract, topn=topn)\n",
    "    for term, similarity in answers:\n",
    "        print(term)"
   ]
  },
  {
   "cell_type": "code",
   "execution_count": 286,
   "metadata": {
    "collapsed": false,
    "deletable": true,
    "editable": true,
    "scrolled": true
   },
   "outputs": [
    {
     "name": "stdout",
     "output_type": "stream",
     "text": [
      "islam\n"
     ]
    }
   ],
   "source": [
    "word_algebra(add=['muslim', 'terrorist'])"
   ]
  },
  {
   "cell_type": "code",
   "execution_count": 295,
   "metadata": {
    "collapsed": false,
    "deletable": true,
    "editable": true
   },
   "outputs": [
    {
     "name": "stdout",
     "output_type": "stream",
     "text": [
      "place\n",
      "insult\n",
      "thank\n",
      "vote\n",
      "blame\n"
     ]
    }
   ],
   "source": [
    "word_algebra(add=['muslim'], subtract=['terrorist'], topn=5)"
   ]
  },
  {
   "cell_type": "code",
   "execution_count": 331,
   "metadata": {
    "collapsed": false,
    "deletable": true,
    "editable": true,
    "scrolled": true
   },
   "outputs": [
    {
     "name": "stdout",
     "output_type": "stream",
     "text": [
      "donald\n"
     ]
    }
   ],
   "source": [
    "word_algebra(add=['obama', 'trump'])"
   ]
  },
  {
   "cell_type": "code",
   "execution_count": 299,
   "metadata": {
    "collapsed": false,
    "deletable": true,
    "editable": true,
    "scrolled": true
   },
   "outputs": [
    {
     "name": "stdout",
     "output_type": "stream",
     "text": [
      "president\n",
      "hard\n",
      "shop\n",
      "secret\n",
      "obj\n"
     ]
    }
   ],
   "source": [
    "word_algebra(add=['obama'], subtract =['trump'], topn=5)"
   ]
  },
  {
   "cell_type": "code",
   "execution_count": 305,
   "metadata": {
    "collapsed": false,
    "deletable": true,
    "editable": true
   },
   "outputs": [
    {
     "name": "stdout",
     "output_type": "stream",
     "text": [
      "president\n"
     ]
    }
   ],
   "source": [
    "word_algebra(add=['obama','hillary'])"
   ]
  },
  {
   "cell_type": "code",
   "execution_count": 304,
   "metadata": {
    "collapsed": false,
    "deletable": true,
    "editable": true
   },
   "outputs": [
    {
     "name": "stdout",
     "output_type": "stream",
     "text": [
      "dead\n"
     ]
    }
   ],
   "source": [
    "word_algebra(subtract=['obama','hillary'])"
   ]
  },
  {
   "cell_type": "code",
   "execution_count": 313,
   "metadata": {
    "collapsed": false,
    "deletable": true,
    "editable": true,
    "scrolled": true
   },
   "outputs": [
    {
     "name": "stdout",
     "output_type": "stream",
     "text": [
      "-PRON-\n"
     ]
    }
   ],
   "source": [
    "word_algebra(add=['boy'], subtract=['boy'])"
   ]
  },
  {
   "cell_type": "code",
   "execution_count": 328,
   "metadata": {
    "collapsed": false,
    "deletable": true,
    "editable": true,
    "scrolled": true
   },
   "outputs": [
    {
     "name": "stdout",
     "output_type": "stream",
     "text": [
      "boy\n"
     ]
    }
   ],
   "source": [
    "word_algebra(add=['girl','girl'])"
   ]
  },
  {
   "cell_type": "code",
   "execution_count": 327,
   "metadata": {
    "collapsed": false,
    "deletable": true,
    "editable": true,
    "scrolled": true
   },
   "outputs": [
    {
     "name": "stdout",
     "output_type": "stream",
     "text": [
      "girl\n"
     ]
    }
   ],
   "source": [
    "word_algebra(add=['boy','boy'])"
   ]
  },
  {
   "cell_type": "code",
   "execution_count": 330,
   "metadata": {
    "collapsed": false,
    "deletable": true,
    "editable": true
   },
   "outputs": [
    {
     "name": "stdout",
     "output_type": "stream",
     "text": [
      "trash\n"
     ]
    }
   ],
   "source": [
    "word_algebra(add=['black','white'])"
   ]
  },
  {
   "cell_type": "markdown",
   "metadata": {
    "deletable": true,
    "editable": true
   },
   "source": [
    "# Word Graph\n",
    "Finally, we attempt a plot of the 100 most frequent tokens through dimensionality reduction using t-SNE, taking care to exclude some of random-seeming and noisy ones. The resulting projection does not reveal much by way of structure."
   ]
  },
  {
   "cell_type": "code",
   "execution_count": 333,
   "metadata": {
    "collapsed": false,
    "deletable": true,
    "editable": true
   },
   "outputs": [],
   "source": [
    "from collections import Counter\n",
    "\n",
    "with open('../data/unigram_sentences.txt', 'rt') as file_in:\n",
    "    trigram_parsed = nlp(file_in.read())"
   ]
  },
  {
   "cell_type": "code",
   "execution_count": 343,
   "metadata": {
    "collapsed": false,
    "deletable": true,
    "editable": true
   },
   "outputs": [],
   "source": [
    "exclude = ['\\n', '\\'s', 'u', 'amp', 'ur', '2', '1', 'r', 'ya', 'yeah', 'ne', 'm']\n",
    "words = [token.text for token in trigram_parsed if token.is_stop != True and token.is_punct != True \\\n",
    "         and token.is_oov != True and token.text not in exclude and token.is_digit != True]\n",
    "word_freq = Counter(words)\n",
    "num_words = 100\n",
    "top_words = [pair[0] for pair in word_freq.most_common(num_words)]"
   ]
  },
  {
   "cell_type": "code",
   "execution_count": 344,
   "metadata": {
    "collapsed": false,
    "deletable": true,
    "editable": true
   },
   "outputs": [],
   "source": [
    "wv_matrix = np.zeros([num_words, tweet2vec.vector_size])\n",
    "for index, word in enumerate(top_words):\n",
    "    wv_matrix[index, :] = tweet2vec[word]"
   ]
  },
  {
   "cell_type": "code",
   "execution_count": 350,
   "metadata": {
    "collapsed": false,
    "deletable": true,
    "editable": true,
    "scrolled": false
   },
   "outputs": [
    {
     "data": {
      "image/png": "[encoded data removed]",
      "text/plain": [
       "<matplotlib.figure.Figure at 0x167a553c8>"
      ]
     },
     "metadata": {},
     "output_type": "display_data"
    }
   ],
   "source": [
    "from sklearn.manifold import TSNE\n",
    "\n",
    "tsne = TSNE(n_components=2, early_exaggeration=4, perplexity=75, learning_rate = 40)\n",
    "\n",
    "wv_matrix_2d = tsne.fit_transform(wv_matrix)\n",
    "\n",
    "plt.figure(figsize = (12, 10))\n",
    "plt.scatter(wv_matrix_2d[:,0], wv_matrix_2d[:,1], s = 0)\n",
    "\n",
    "for word, x, y in zip(top_words, wv_matrix_2d[:,0], wv_matrix_2d[:,1]):\n",
    "    plt.annotate(word, xy = (x, y), xytext = (0, 0), textcoords = 'offset points', size = 5)"
   ]
  },
  {
   "cell_type": "code",
   "execution_count": null,
   "metadata": {
    "collapsed": true,
    "deletable": true,
    "editable": true
   },
   "outputs": [],
   "source": []
  }
 ],
 "metadata": {
  "anaconda-cloud": {},
  "kernelspec": {
   "display_name": "Python [conda root]",
   "language": "python",
   "name": "conda-root-py"
  },
  "language_info": {
   "codemirror_mode": {
    "name": "ipython",
    "version": 3
   },
   "file_extension": ".py",
   "mimetype": "text/x-python",
   "name": "python",
   "nbconvert_exporter": "python",
   "pygments_lexer": "ipython3",
   "version": "3.5.2"
  }
 },
 "nbformat": 4,
 "nbformat_minor": 1
}
