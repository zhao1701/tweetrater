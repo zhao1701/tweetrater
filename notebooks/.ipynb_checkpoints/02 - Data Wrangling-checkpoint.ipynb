{
 "cells": [
  {
   "cell_type": "markdown",
   "metadata": {
    "deletable": true,
    "editable": true
   },
   "source": [
    "# 02 - Data Wrangling\n",
    "In this section we extend some of the initial data cleaning steps taken during exploratory data analysis to more thoroughly process the corpus of tweets."
   ]
  },
  {
   "cell_type": "code",
   "execution_count": 112,
   "metadata": {
    "collapsed": true,
    "deletable": true,
    "editable": true
   },
   "outputs": [],
   "source": [
    "import os\n",
    "import pandas as pd\n",
    "import numpy as np\n",
    "import re\n",
    "import pickle as pkl\n",
    "\n",
    "pd.options.display.max_colwidth = 140"
   ]
  },
  {
   "cell_type": "code",
   "execution_count": 113,
   "metadata": {
    "collapsed": false,
    "deletable": true,
    "editable": true
   },
   "outputs": [
    {
     "data": {
      "text/html": [
       "<div>\n",
       "<style>\n",
       "    .dataframe thead tr:only-child th {\n",
       "        text-align: right;\n",
       "    }\n",
       "\n",
       "    .dataframe thead th {\n",
       "        text-align: left;\n",
       "    }\n",
       "\n",
       "    .dataframe tbody tr th {\n",
       "        vertical-align: top;\n",
       "    }\n",
       "</style>\n",
       "<table border=\"1\" class=\"dataframe\">\n",
       "  <thead>\n",
       "    <tr style=\"text-align: right;\">\n",
       "      <th></th>\n",
       "      <th>id</th>\n",
       "      <th>golden</th>\n",
       "      <th>state</th>\n",
       "      <th>trusted_judgements</th>\n",
       "      <th>last_judgment</th>\n",
       "      <th>rating</th>\n",
       "      <th>confidence</th>\n",
       "      <th>created</th>\n",
       "      <th>orig_golden</th>\n",
       "      <th>orig_last_judgement</th>\n",
       "      <th>orig_trusted_judgements</th>\n",
       "      <th>orig_id</th>\n",
       "      <th>orig_state</th>\n",
       "      <th>updated</th>\n",
       "      <th>orig_is_hate_speech</th>\n",
       "      <th>is_hate_speech_gold</th>\n",
       "      <th>reason</th>\n",
       "      <th>confidence2</th>\n",
       "      <th>id2</th>\n",
       "      <th>text</th>\n",
       "    </tr>\n",
       "  </thead>\n",
       "  <tbody>\n",
       "    <tr>\n",
       "      <th>0</th>\n",
       "      <td>853718217</td>\n",
       "      <td>True</td>\n",
       "      <td>golden</td>\n",
       "      <td>86</td>\n",
       "      <td>NaN</td>\n",
       "      <td>The tweet uses offensive language but not hate speech</td>\n",
       "      <td>0.6013</td>\n",
       "      <td>NaN</td>\n",
       "      <td>True</td>\n",
       "      <td>NaN</td>\n",
       "      <td>0.0</td>\n",
       "      <td>615561535.0</td>\n",
       "      <td>golden</td>\n",
       "      <td>NaN</td>\n",
       "      <td>The tweet contains hate speech</td>\n",
       "      <td>The tweet contains hate speech\\nThe tweet uses offensive language but not hate speech</td>\n",
       "      <td>NaN</td>\n",
       "      <td>1.0</td>\n",
       "      <td>1.666196e+09</td>\n",
       "      <td>Warning: penny boards will make you a faggot</td>\n",
       "    </tr>\n",
       "    <tr>\n",
       "      <th>1</th>\n",
       "      <td>853718218</td>\n",
       "      <td>True</td>\n",
       "      <td>golden</td>\n",
       "      <td>92</td>\n",
       "      <td>NaN</td>\n",
       "      <td>The tweet contains hate speech</td>\n",
       "      <td>0.7227</td>\n",
       "      <td>NaN</td>\n",
       "      <td>True</td>\n",
       "      <td>NaN</td>\n",
       "      <td>0.0</td>\n",
       "      <td>615561723.0</td>\n",
       "      <td>golden</td>\n",
       "      <td>NaN</td>\n",
       "      <td>The tweet contains hate speech</td>\n",
       "      <td>The tweet contains hate speech\\nThe tweet uses offensive language but not hate speech</td>\n",
       "      <td>NaN</td>\n",
       "      <td>1.0</td>\n",
       "      <td>4.295121e+08</td>\n",
       "      <td>Fuck dykes</td>\n",
       "    </tr>\n",
       "    <tr>\n",
       "      <th>2</th>\n",
       "      <td>853718219</td>\n",
       "      <td>True</td>\n",
       "      <td>golden</td>\n",
       "      <td>86</td>\n",
       "      <td>NaN</td>\n",
       "      <td>The tweet contains hate speech</td>\n",
       "      <td>0.5229</td>\n",
       "      <td>NaN</td>\n",
       "      <td>True</td>\n",
       "      <td>NaN</td>\n",
       "      <td>0.0</td>\n",
       "      <td>615562039.0</td>\n",
       "      <td>golden</td>\n",
       "      <td>NaN</td>\n",
       "      <td>The tweet contains hate speech</td>\n",
       "      <td>The tweet contains hate speech\\nThe tweet uses offensive language but not hate speech</td>\n",
       "      <td>NaN</td>\n",
       "      <td>1.0</td>\n",
       "      <td>3.956238e+08</td>\n",
       "      <td>@sizzurp__ @ILIKECATS74 @yoPapi_chulo @brandonernandez @bootyacid at least i dont look like jefree starr faggot</td>\n",
       "    </tr>\n",
       "  </tbody>\n",
       "</table>\n",
       "</div>"
      ],
      "text/plain": [
       "          id  golden   state  trusted_judgements last_judgment  \\\n",
       "0  853718217    True  golden                  86           NaN   \n",
       "1  853718218    True  golden                  92           NaN   \n",
       "2  853718219    True  golden                  86           NaN   \n",
       "\n",
       "                                                  rating  confidence  created  \\\n",
       "0  The tweet uses offensive language but not hate speech      0.6013      NaN   \n",
       "1                         The tweet contains hate speech      0.7227      NaN   \n",
       "2                         The tweet contains hate speech      0.5229      NaN   \n",
       "\n",
       "  orig_golden  orig_last_judgement  orig_trusted_judgements      orig_id  \\\n",
       "0        True                  NaN                      0.0  615561535.0   \n",
       "1        True                  NaN                      0.0  615561723.0   \n",
       "2        True                  NaN                      0.0  615562039.0   \n",
       "\n",
       "  orig_state  updated             orig_is_hate_speech  \\\n",
       "0     golden      NaN  The tweet contains hate speech   \n",
       "1     golden      NaN  The tweet contains hate speech   \n",
       "2     golden      NaN  The tweet contains hate speech   \n",
       "\n",
       "                                                                     is_hate_speech_gold  \\\n",
       "0  The tweet contains hate speech\\nThe tweet uses offensive language but not hate speech   \n",
       "1  The tweet contains hate speech\\nThe tweet uses offensive language but not hate speech   \n",
       "2  The tweet contains hate speech\\nThe tweet uses offensive language but not hate speech   \n",
       "\n",
       "   reason  confidence2           id2  \\\n",
       "0     NaN          1.0  1.666196e+09   \n",
       "1     NaN          1.0  4.295121e+08   \n",
       "2     NaN          1.0  3.956238e+08   \n",
       "\n",
       "                                                                                                              text  \n",
       "0                                                                     Warning: penny boards will make you a faggot  \n",
       "1                                                                                                       Fuck dykes  \n",
       "2  @sizzurp__ @ILIKECATS74 @yoPapi_chulo @brandonernandez @bootyacid at least i dont look like jefree starr faggot  "
      ]
     },
     "execution_count": 113,
     "metadata": {},
     "output_type": "execute_result"
    }
   ],
   "source": [
    "# import data\n",
    "data_directory = os.path.join('..','data','')\n",
    "csv_path = os.path.join(data_directory, 'twitter_hate_speech.csv')\n",
    "df_orig = pd.read_csv(csv_path, engine = 'python', delimiter = ',')\n",
    "\n",
    "# columns re-named for convenience\n",
    "df_orig.columns = ['id', 'golden','state', 'trusted_judgements','last_judgment','rating','confidence',\n",
    "                   'created','orig_golden','orig_last_judgement','orig_trusted_judgements','orig_id','orig_state',\n",
    "                   'updated','orig_is_hate_speech','is_hate_speech_gold','reason','confidence2','id2','text']\n",
    "df_orig.head(3)"
   ]
  },
  {
   "cell_type": "markdown",
   "metadata": {
    "deletable": true,
    "editable": true
   },
   "source": [
    "# Dropping columns\n",
    "The only columns that may be of use for classification and later analysis are:\n",
    "- id: Each tweet is identified with a unique number 9-digit number. This will be useful as an index.\n",
    "- text: The actual content of the tweet, including user handles and hashtags.\n",
    "- rating: The label classifying a tweet as non-offensive, offensive, or hateful.\n",
    "- confidence: The degree of agreement amonst different 'judges' regarding a tweet's classification."
   ]
  },
  {
   "cell_type": "code",
   "execution_count": 114,
   "metadata": {
    "collapsed": false,
    "deletable": true,
    "editable": true
   },
   "outputs": [
    {
     "data": {
      "text/html": [
       "<div>\n",
       "<style>\n",
       "    .dataframe thead tr:only-child th {\n",
       "        text-align: right;\n",
       "    }\n",
       "\n",
       "    .dataframe thead th {\n",
       "        text-align: left;\n",
       "    }\n",
       "\n",
       "    .dataframe tbody tr th {\n",
       "        vertical-align: top;\n",
       "    }\n",
       "</style>\n",
       "<table border=\"1\" class=\"dataframe\">\n",
       "  <thead>\n",
       "    <tr style=\"text-align: right;\">\n",
       "      <th></th>\n",
       "      <th>text</th>\n",
       "      <th>rating</th>\n",
       "      <th>confidence</th>\n",
       "    </tr>\n",
       "    <tr>\n",
       "      <th>id</th>\n",
       "      <th></th>\n",
       "      <th></th>\n",
       "      <th></th>\n",
       "    </tr>\n",
       "  </thead>\n",
       "  <tbody>\n",
       "    <tr>\n",
       "      <th>853718217</th>\n",
       "      <td>Warning: penny boards will make you a faggot</td>\n",
       "      <td>The tweet uses offensive language but not hate speech</td>\n",
       "      <td>0.6013</td>\n",
       "    </tr>\n",
       "    <tr>\n",
       "      <th>853718218</th>\n",
       "      <td>Fuck dykes</td>\n",
       "      <td>The tweet contains hate speech</td>\n",
       "      <td>0.7227</td>\n",
       "    </tr>\n",
       "    <tr>\n",
       "      <th>853718219</th>\n",
       "      <td>@sizzurp__ @ILIKECATS74 @yoPapi_chulo @brandonernandez @bootyacid at least i dont look like jefree starr faggot</td>\n",
       "      <td>The tweet contains hate speech</td>\n",
       "      <td>0.5229</td>\n",
       "    </tr>\n",
       "  </tbody>\n",
       "</table>\n",
       "</div>"
      ],
      "text/plain": [
       "                                                                                                                      text  \\\n",
       "id                                                                                                                           \n",
       "853718217                                                                     Warning: penny boards will make you a faggot   \n",
       "853718218                                                                                                       Fuck dykes   \n",
       "853718219  @sizzurp__ @ILIKECATS74 @yoPapi_chulo @brandonernandez @bootyacid at least i dont look like jefree starr faggot   \n",
       "\n",
       "                                                          rating  confidence  \n",
       "id                                                                            \n",
       "853718217  The tweet uses offensive language but not hate speech      0.6013  \n",
       "853718218                         The tweet contains hate speech      0.7227  \n",
       "853718219                         The tweet contains hate speech      0.5229  "
      ]
     },
     "execution_count": 114,
     "metadata": {},
     "output_type": "execute_result"
    }
   ],
   "source": [
    "df = df_orig[['id','text','rating','confidence']]\n",
    "df = df.set_index('id')\n",
    "df.head(3)"
   ]
  },
  {
   "cell_type": "markdown",
   "metadata": {
    "deletable": true,
    "editable": true
   },
   "source": [
    "### Recode hate speech classifications\n",
    "Next, we re-encode the hate speech labels to something more manageable:\n",
    "- 0: Does not contain offensive language\n",
    "- 1: Contains offensive language but not hate speech\n",
    "- 2: Contains hate speech\n",
    "\n",
    "All columns except for 'is_hate_speech' and 'text' are also dropped."
   ]
  },
  {
   "cell_type": "code",
   "execution_count": 115,
   "metadata": {
    "collapsed": false,
    "deletable": true,
    "editable": true
   },
   "outputs": [
    {
     "name": "stdout",
     "output_type": "stream",
     "text": [
      "['The tweet uses offensive language but not hate speech'\n",
      " 'The tweet contains hate speech' 'The tweet is not offensive']\n"
     ]
    },
    {
     "data": {
      "text/html": [
       "<div>\n",
       "<style>\n",
       "    .dataframe thead tr:only-child th {\n",
       "        text-align: right;\n",
       "    }\n",
       "\n",
       "    .dataframe thead th {\n",
       "        text-align: left;\n",
       "    }\n",
       "\n",
       "    .dataframe tbody tr th {\n",
       "        vertical-align: top;\n",
       "    }\n",
       "</style>\n",
       "<table border=\"1\" class=\"dataframe\">\n",
       "  <thead>\n",
       "    <tr style=\"text-align: right;\">\n",
       "      <th></th>\n",
       "      <th>text</th>\n",
       "      <th>rating</th>\n",
       "      <th>confidence</th>\n",
       "    </tr>\n",
       "    <tr>\n",
       "      <th>id</th>\n",
       "      <th></th>\n",
       "      <th></th>\n",
       "      <th></th>\n",
       "    </tr>\n",
       "  </thead>\n",
       "  <tbody>\n",
       "    <tr>\n",
       "      <th>853718217</th>\n",
       "      <td>Warning: penny boards will make you a faggot</td>\n",
       "      <td>1</td>\n",
       "      <td>0.6013</td>\n",
       "    </tr>\n",
       "    <tr>\n",
       "      <th>853718218</th>\n",
       "      <td>Fuck dykes</td>\n",
       "      <td>2</td>\n",
       "      <td>0.7227</td>\n",
       "    </tr>\n",
       "    <tr>\n",
       "      <th>853718219</th>\n",
       "      <td>@sizzurp__ @ILIKECATS74 @yoPapi_chulo @brandonernandez @bootyacid at least i dont look like jefree starr faggot</td>\n",
       "      <td>2</td>\n",
       "      <td>0.5229</td>\n",
       "    </tr>\n",
       "  </tbody>\n",
       "</table>\n",
       "</div>"
      ],
      "text/plain": [
       "                                                                                                                      text  \\\n",
       "id                                                                                                                           \n",
       "853718217                                                                     Warning: penny boards will make you a faggot   \n",
       "853718218                                                                                                       Fuck dykes   \n",
       "853718219  @sizzurp__ @ILIKECATS74 @yoPapi_chulo @brandonernandez @bootyacid at least i dont look like jefree starr faggot   \n",
       "\n",
       "           rating  confidence  \n",
       "id                             \n",
       "853718217       1      0.6013  \n",
       "853718218       2      0.7227  \n",
       "853718219       2      0.5229  "
      ]
     },
     "execution_count": 115,
     "metadata": {},
     "output_type": "execute_result"
    }
   ],
   "source": [
    "df = df[['text','rating','confidence']]\n",
    "categories = df.rating.unique()\n",
    "print(categories)\n",
    "df['rating'] = df['rating'].replace(categories, [1,2,0])\n",
    "df.head(3)"
   ]
  },
  {
   "cell_type": "markdown",
   "metadata": {
    "deletable": true,
    "editable": true
   },
   "source": [
    "# Cleaning up the text\n",
    "The tweets contained within this dataset have been untouched, and as such, require heavy cleaning prior to any form of analysis. As a form of electronic communication, tweets contain user handles, hashtags, URL's, and emoticons, which will need to be addressed in addition to standard NLP processing techniques such as lemmatization. Furthermore, as a casual messaging and posting medium, anomalies frequently arise from looser notions of grammar and syntax (all of which are more extreme in the case of offensive and racist tweets)."
   ]
  },
  {
   "cell_type": "code",
   "execution_count": 116,
   "metadata": {
    "collapsed": false,
    "deletable": true,
    "editable": true,
    "scrolled": false
   },
   "outputs": [
    {
     "data": {
      "text/html": [
       "<div>\n",
       "<style>\n",
       "    .dataframe thead tr:only-child th {\n",
       "        text-align: right;\n",
       "    }\n",
       "\n",
       "    .dataframe thead th {\n",
       "        text-align: left;\n",
       "    }\n",
       "\n",
       "    .dataframe tbody tr th {\n",
       "        vertical-align: top;\n",
       "    }\n",
       "</style>\n",
       "<table border=\"1\" class=\"dataframe\">\n",
       "  <thead>\n",
       "    <tr style=\"text-align: right;\">\n",
       "      <th></th>\n",
       "      <th>text</th>\n",
       "      <th>rating</th>\n",
       "      <th>confidence</th>\n",
       "    </tr>\n",
       "    <tr>\n",
       "      <th>id</th>\n",
       "      <th></th>\n",
       "      <th></th>\n",
       "      <th></th>\n",
       "    </tr>\n",
       "  </thead>\n",
       "  <tbody>\n",
       "    <tr>\n",
       "      <th>853718217</th>\n",
       "      <td>Warning: penny boards will make you a faggot</td>\n",
       "      <td>1</td>\n",
       "      <td>0.6013</td>\n",
       "    </tr>\n",
       "    <tr>\n",
       "      <th>853718218</th>\n",
       "      <td>Fuck dykes</td>\n",
       "      <td>2</td>\n",
       "      <td>0.7227</td>\n",
       "    </tr>\n",
       "    <tr>\n",
       "      <th>853718219</th>\n",
       "      <td>@sizzurp__ @ILIKECATS74 @yoPapi_chulo @brandonernandez @bootyacid at least i dont look like jefree starr faggot</td>\n",
       "      <td>2</td>\n",
       "      <td>0.5229</td>\n",
       "    </tr>\n",
       "    <tr>\n",
       "      <th>853718220</th>\n",
       "      <td>\"@jayswaggkillah: \"@JacklynAnnn: @jayswaggkillah Is a fag\" jackie jealous\" Neeeee</td>\n",
       "      <td>2</td>\n",
       "      <td>0.5184</td>\n",
       "    </tr>\n",
       "    <tr>\n",
       "      <th>853718221</th>\n",
       "      <td>@Zhugstubble You heard me bitch but any way I'm back th texas so wtf u talking about bitch ass nigga</td>\n",
       "      <td>1</td>\n",
       "      <td>0.5185</td>\n",
       "    </tr>\n",
       "  </tbody>\n",
       "</table>\n",
       "</div>"
      ],
      "text/plain": [
       "                                                                                                                      text  \\\n",
       "id                                                                                                                           \n",
       "853718217                                                                     Warning: penny boards will make you a faggot   \n",
       "853718218                                                                                                       Fuck dykes   \n",
       "853718219  @sizzurp__ @ILIKECATS74 @yoPapi_chulo @brandonernandez @bootyacid at least i dont look like jefree starr faggot   \n",
       "853718220                                \"@jayswaggkillah: \"@JacklynAnnn: @jayswaggkillah Is a fag\" jackie jealous\" Neeeee   \n",
       "853718221             @Zhugstubble You heard me bitch but any way I'm back th texas so wtf u talking about bitch ass nigga   \n",
       "\n",
       "           rating  confidence  \n",
       "id                             \n",
       "853718217       1      0.6013  \n",
       "853718218       2      0.7227  \n",
       "853718219       2      0.5229  \n",
       "853718220       2      0.5184  \n",
       "853718221       1      0.5185  "
      ]
     },
     "execution_count": 116,
     "metadata": {},
     "output_type": "execute_result"
    }
   ],
   "source": [
    "pd.options.display.max_colwidth = 140\n",
    "df.head(5)"
   ]
  },
  {
   "cell_type": "code",
   "execution_count": 118,
   "metadata": {
    "collapsed": true
   },
   "outputs": [],
   "source": [
    "with open('../data/dataframe_orig', 'wb') as file_out:\n",
    "    pkl.dump(df, file_out)"
   ]
  },
  {
   "cell_type": "markdown",
   "metadata": {
    "deletable": true,
    "editable": true
   },
   "source": [
    "### Special tokens and characters\n",
    "Below we define some simple functions to clean the tweets:\n",
    "- replace_user(): Replaces all user handles with a placeholder\n",
    "- clean_tweet(): Replaces url's and certain special chracters with spaces\n",
    "- lemmatize(): Replaces all tokens with their lemma. For classification algorithms where tweets are represented as sparse term frequency vectors, an un-lemmatized corpus would explode the dimensionality of these vectors and pose a serious overfitting problem."
   ]
  },
  {
   "cell_type": "code",
   "execution_count": 121,
   "metadata": {
    "collapsed": true
   },
   "outputs": [],
   "source": [
    "import re\n",
    "\n",
    "replace_user = lambda tweet: re.sub(r'(@\\w+\\s*)', r'TWITTER_HANDLE ', tweet)\n",
    "clean_tweet = lambda tweet: re.sub(r'#|&|\\(|\\)|\\\"|(https?://\\S*)|(�\\S*\\d*)|(128\\d{3})|(_*UNDEF)',\n",
    "                      ' ', tweet)\n",
    "\n",
    "def lemmatize(tweet):\n",
    "    x = str()\n",
    "    for token in nlp(tweet):\n",
    "        x = ' '.join([x,token.lemma_])\n",
    "    return x[1:]"
   ]
  },
  {
   "cell_type": "code",
   "execution_count": 122,
   "metadata": {
    "collapsed": false,
    "deletable": true,
    "editable": true,
    "scrolled": false
   },
   "outputs": [],
   "source": [
    "df_clean = df.copy()\n",
    "df_clean['text'] = df_clean['text'].apply(clean_tweet)\n",
    "df_clean['text'] = df_clean['text'].apply(replace_user)\n",
    "df_clean['text'] = df_clean['text'].apply(lemmatize)"
   ]
  },
  {
   "cell_type": "code",
   "execution_count": 123,
   "metadata": {
    "collapsed": false
   },
   "outputs": [
    {
     "data": {
      "text/html": [
       "<div>\n",
       "<style>\n",
       "    .dataframe thead tr:only-child th {\n",
       "        text-align: right;\n",
       "    }\n",
       "\n",
       "    .dataframe thead th {\n",
       "        text-align: left;\n",
       "    }\n",
       "\n",
       "    .dataframe tbody tr th {\n",
       "        vertical-align: top;\n",
       "    }\n",
       "</style>\n",
       "<table border=\"1\" class=\"dataframe\">\n",
       "  <thead>\n",
       "    <tr style=\"text-align: right;\">\n",
       "      <th></th>\n",
       "      <th>text</th>\n",
       "      <th>rating</th>\n",
       "      <th>confidence</th>\n",
       "    </tr>\n",
       "    <tr>\n",
       "      <th>id</th>\n",
       "      <th></th>\n",
       "      <th></th>\n",
       "      <th></th>\n",
       "    </tr>\n",
       "  </thead>\n",
       "  <tbody>\n",
       "    <tr>\n",
       "      <th>853718257</th>\n",
       "      <td>sit alone watch white chicks , no pant , fuzzy blanket , tea || turn up</td>\n",
       "      <td>0</td>\n",
       "      <td>1.0000</td>\n",
       "    </tr>\n",
       "    <tr>\n",
       "      <th>853718258</th>\n",
       "      <td>-PRON- want to go to a haunt house maybe get possesed y'know just to see if ghost be real     ;    ;</td>\n",
       "      <td>0</td>\n",
       "      <td>1.0000</td>\n",
       "    </tr>\n",
       "    <tr>\n",
       "      <th>853718259</th>\n",
       "      <td>$ 10 buck the browns get johnny !     ;    ;    ;</td>\n",
       "      <td>0</td>\n",
       "      <td>1.0000</td>\n",
       "    </tr>\n",
       "    <tr>\n",
       "      <th>853718260</th>\n",
       "      <td>-PRON- be with a bitch with a mustash for a year and a half ? wtf be wrong itch -PRON-</td>\n",
       "      <td>1</td>\n",
       "      <td>1.0000</td>\n",
       "    </tr>\n",
       "    <tr>\n",
       "      <th>853718261</th>\n",
       "      <td>rt twitter_handle : huge ass , small waist   amp ; okay face   amp ; bitch really think -PRON- famous</td>\n",
       "      <td>1</td>\n",
       "      <td>0.9620</td>\n",
       "    </tr>\n",
       "    <tr>\n",
       "      <th>853718262</th>\n",
       "      <td>bobby flay in this bitch</td>\n",
       "      <td>1</td>\n",
       "      <td>0.9613</td>\n",
       "    </tr>\n",
       "    <tr>\n",
       "      <th>853718263</th>\n",
       "      <td>-PRON- be never gon na be ok with -PRON- nigga around alot of bitch while with -PRON- boy . cause -PRON- be once that female -PRON- boy ...</td>\n",
       "      <td>1</td>\n",
       "      <td>0.8018</td>\n",
       "    </tr>\n",
       "    <tr>\n",
       "      <th>853718264</th>\n",
       "      <td>where the bad bitch at ? lol twitter_handle</td>\n",
       "      <td>1</td>\n",
       "      <td>0.9618</td>\n",
       "    </tr>\n",
       "    <tr>\n",
       "      <th>853718265</th>\n",
       "      <td>rt twitter_handle : -PRON- just can not help but to hate -PRON- . even though -PRON- never intentionally do anything to -PRON- -PRON- be...</td>\n",
       "      <td>1</td>\n",
       "      <td>0.6837</td>\n",
       "    </tr>\n",
       "    <tr>\n",
       "      <th>853718266</th>\n",
       "      <td>rt twitter_handle : -PRON- female overlook -PRON- geek . when -PRON- take these glass off , -PRON- be no longer clark kent . -PRON- go s...</td>\n",
       "      <td>1</td>\n",
       "      <td>0.9608</td>\n",
       "    </tr>\n",
       "  </tbody>\n",
       "</table>\n",
       "</div>"
      ],
      "text/plain": [
       "                                                                                                                                                  text  \\\n",
       "id                                                                                                                                                       \n",
       "853718257                                                                      sit alone watch white chicks , no pant , fuzzy blanket , tea || turn up   \n",
       "853718258                                         -PRON- want to go to a haunt house maybe get possesed y'know just to see if ghost be real     ;    ;   \n",
       "853718259                                                                                            $ 10 buck the browns get johnny !     ;    ;    ;   \n",
       "853718260                                                       -PRON- be with a bitch with a mustash for a year and a half ? wtf be wrong itch -PRON-   \n",
       "853718261                                        rt twitter_handle : huge ass , small waist   amp ; okay face   amp ; bitch really think -PRON- famous   \n",
       "853718262                                                                                                                     bobby flay in this bitch   \n",
       "853718263  -PRON- be never gon na be ok with -PRON- nigga around alot of bitch while with -PRON- boy . cause -PRON- be once that female -PRON- boy ...   \n",
       "853718264                                                                                                  where the bad bitch at ? lol twitter_handle   \n",
       "853718265  rt twitter_handle : -PRON- just can not help but to hate -PRON- . even though -PRON- never intentionally do anything to -PRON- -PRON- be...   \n",
       "853718266  rt twitter_handle : -PRON- female overlook -PRON- geek . when -PRON- take these glass off , -PRON- be no longer clark kent . -PRON- go s...   \n",
       "\n",
       "           rating  confidence  \n",
       "id                             \n",
       "853718257       0      1.0000  \n",
       "853718258       0      1.0000  \n",
       "853718259       0      1.0000  \n",
       "853718260       1      1.0000  \n",
       "853718261       1      0.9620  \n",
       "853718262       1      0.9613  \n",
       "853718263       1      0.8018  \n",
       "853718264       1      0.9618  \n",
       "853718265       1      0.6837  \n",
       "853718266       1      0.9608  "
      ]
     },
     "execution_count": 123,
     "metadata": {},
     "output_type": "execute_result"
    }
   ],
   "source": [
    "start = 40\n",
    "offset = 10\n",
    "df_clean.iloc[start:start+offset,:]"
   ]
  },
  {
   "cell_type": "markdown",
   "metadata": {
    "deletable": true,
    "editable": true
   },
   "source": [
    "### Duplicate tweets\n",
    "For some reason, a significant number of tweets are duplicated within this dataset. This is particularly problematic for word vector training where the associations between pairs of words would be grossly overstated due to duplicated data."
   ]
  },
  {
   "cell_type": "code",
   "execution_count": 124,
   "metadata": {
    "collapsed": false,
    "deletable": true,
    "editable": true
   },
   "outputs": [
    {
     "data": {
      "text/html": [
       "<div>\n",
       "<style>\n",
       "    .dataframe thead tr:only-child th {\n",
       "        text-align: right;\n",
       "    }\n",
       "\n",
       "    .dataframe thead th {\n",
       "        text-align: left;\n",
       "    }\n",
       "\n",
       "    .dataframe tbody tr th {\n",
       "        vertical-align: top;\n",
       "    }\n",
       "</style>\n",
       "<table border=\"1\" class=\"dataframe\">\n",
       "  <thead>\n",
       "    <tr style=\"text-align: right;\">\n",
       "      <th></th>\n",
       "      <th>text</th>\n",
       "    </tr>\n",
       "  </thead>\n",
       "  <tbody>\n",
       "    <tr>\n",
       "      <th>twitter_handle shut up nigger</th>\n",
       "      <td>33</td>\n",
       "    </tr>\n",
       "    <tr>\n",
       "      <th>amid economic recovery , school district desperate for bus drivers : when unemployment be high , school district ...</th>\n",
       "      <td>27</td>\n",
       "    </tr>\n",
       "    <tr>\n",
       "      <th>1 , 2 , 3 , 1 , 2 , 3 ... 4 how many nigger be in -PRON- store</th>\n",
       "      <td>21</td>\n",
       "    </tr>\n",
       "    <tr>\n",
       "      <th>[ drum and bass ] btsm x lektrique - religion   muzzy remix   -</th>\n",
       "      <td>21</td>\n",
       "    </tr>\n",
       "    <tr>\n",
       "      <th>1223 4 how many nigger be in -PRON- store       vine by funny vines : twitter_handle : 1223 4 how many nigger be in -PRON- ...</th>\n",
       "      <td>14</td>\n",
       "    </tr>\n",
       "    <tr>\n",
       "      <th>governor have no right to reduce n18,000 minimum wage    ngige    via twitter_handle</th>\n",
       "      <td>14</td>\n",
       "    </tr>\n",
       "    <tr>\n",
       "      <th>123 123 4 how many nigger be in -PRON- store</th>\n",
       "      <td>14</td>\n",
       "    </tr>\n",
       "    <tr>\n",
       "      <th>1 , 2 , 3 , 1 , 2 , 3 .... 4 how many nigger be in -PRON- store</th>\n",
       "      <td>14</td>\n",
       "    </tr>\n",
       "    <tr>\n",
       "      <th>imagine when a cpl holder shoot a towel head with an ak to stop a major attack . what will the left say then ?</th>\n",
       "      <td>13</td>\n",
       "    </tr>\n",
       "    <tr>\n",
       "      <th>twitter_handle wtf steve haters call him a nigga -PRON- get your back .</th>\n",
       "      <td>12</td>\n",
       "    </tr>\n",
       "  </tbody>\n",
       "</table>\n",
       "</div>"
      ],
      "text/plain": [
       "                                                                                                                                  text\n",
       "twitter_handle shut up nigger                                                                                                       33\n",
       "amid economic recovery , school district desperate for bus drivers : when unemployment be high , school district ...                27\n",
       "1 , 2 , 3 , 1 , 2 , 3 ... 4 how many nigger be in -PRON- store                                                                      21\n",
       "[ drum and bass ] btsm x lektrique - religion   muzzy remix   -                                                                     21\n",
       "1223 4 how many nigger be in -PRON- store       vine by funny vines : twitter_handle : 1223 4 how many nigger be in -PRON- ...      14\n",
       "governor have no right to reduce n18,000 minimum wage    ngige    via twitter_handle                                                14\n",
       "123 123 4 how many nigger be in -PRON- store                                                                                        14\n",
       "1 , 2 , 3 , 1 , 2 , 3 .... 4 how many nigger be in -PRON- store                                                                     14\n",
       "imagine when a cpl holder shoot a towel head with an ak to stop a major attack . what will the left say then ?                      13\n",
       "twitter_handle wtf steve haters call him a nigga -PRON- get your back .                                                             12"
      ]
     },
     "execution_count": 124,
     "metadata": {},
     "output_type": "execute_result"
    }
   ],
   "source": [
    "pd.DataFrame(df_clean.text.value_counts()).head(10)"
   ]
  },
  {
   "cell_type": "markdown",
   "metadata": {
    "deletable": true,
    "editable": true
   },
   "source": [
    "Removing duplicate tweets (and keeping the original) removes almost 1,500 tweets!"
   ]
  },
  {
   "cell_type": "code",
   "execution_count": 125,
   "metadata": {
    "collapsed": false,
    "deletable": true,
    "editable": true
   },
   "outputs": [
    {
     "name": "stdout",
     "output_type": "stream",
     "text": [
      "(13111, 3)\n"
     ]
    },
    {
     "data": {
      "text/html": [
       "<div>\n",
       "<style>\n",
       "    .dataframe thead tr:only-child th {\n",
       "        text-align: right;\n",
       "    }\n",
       "\n",
       "    .dataframe thead th {\n",
       "        text-align: left;\n",
       "    }\n",
       "\n",
       "    .dataframe tbody tr th {\n",
       "        vertical-align: top;\n",
       "    }\n",
       "</style>\n",
       "<table border=\"1\" class=\"dataframe\">\n",
       "  <thead>\n",
       "    <tr style=\"text-align: right;\">\n",
       "      <th></th>\n",
       "      <th>text</th>\n",
       "      <th>rating</th>\n",
       "      <th>confidence</th>\n",
       "    </tr>\n",
       "    <tr>\n",
       "      <th>id</th>\n",
       "      <th></th>\n",
       "      <th></th>\n",
       "      <th></th>\n",
       "    </tr>\n",
       "  </thead>\n",
       "  <tbody>\n",
       "    <tr>\n",
       "      <th>853718217</th>\n",
       "      <td>warning : penny board will make -PRON- a faggot</td>\n",
       "      <td>1</td>\n",
       "      <td>0.6013</td>\n",
       "    </tr>\n",
       "    <tr>\n",
       "      <th>853718218</th>\n",
       "      <td>fuck dyke</td>\n",
       "      <td>2</td>\n",
       "      <td>0.7227</td>\n",
       "    </tr>\n",
       "    <tr>\n",
       "      <th>853718219</th>\n",
       "      <td>twitter_handle twitter_handle twitter_handle twitter_handle twitter_handle at least i do not look like jefree starr faggot</td>\n",
       "      <td>2</td>\n",
       "      <td>0.5229</td>\n",
       "    </tr>\n",
       "    <tr>\n",
       "      <th>853718220</th>\n",
       "      <td>twitter_handle :   twitter_handle : twitter_handle be a fag   jackie jealous   neeeee</td>\n",
       "      <td>2</td>\n",
       "      <td>0.5184</td>\n",
       "    </tr>\n",
       "    <tr>\n",
       "      <th>853718221</th>\n",
       "      <td>twitter_handle -PRON- hear -PRON- bitch but any way -PRON- be back th texas so wtf u talk about bitch ass nigga</td>\n",
       "      <td>1</td>\n",
       "      <td>0.5185</td>\n",
       "    </tr>\n",
       "  </tbody>\n",
       "</table>\n",
       "</div>"
      ],
      "text/plain": [
       "                                                                                                                                 text  \\\n",
       "id                                                                                                                                      \n",
       "853718217                                                                             warning : penny board will make -PRON- a faggot   \n",
       "853718218                                                                                                                   fuck dyke   \n",
       "853718219  twitter_handle twitter_handle twitter_handle twitter_handle twitter_handle at least i do not look like jefree starr faggot   \n",
       "853718220                                       twitter_handle :   twitter_handle : twitter_handle be a fag   jackie jealous   neeeee   \n",
       "853718221             twitter_handle -PRON- hear -PRON- bitch but any way -PRON- be back th texas so wtf u talk about bitch ass nigga   \n",
       "\n",
       "           rating  confidence  \n",
       "id                             \n",
       "853718217       1      0.6013  \n",
       "853718218       2      0.7227  \n",
       "853718219       2      0.5229  \n",
       "853718220       2      0.5184  \n",
       "853718221       1      0.5185  "
      ]
     },
     "execution_count": 125,
     "metadata": {},
     "output_type": "execute_result"
    }
   ],
   "source": [
    "df_clean = df_clean.drop_duplicates(subset='text')\n",
    "print(df_clean.shape)\n",
    "df_clean.head()"
   ]
  },
  {
   "cell_type": "markdown",
   "metadata": {
    "deletable": true,
    "editable": true
   },
   "source": [
    "# Saving data\n",
    "At this point, the tweets are sufficiently clean for classification algorithms relying on word vector embeddings. We don't apply lemmatization for these models simply because we expect a neural network to be able to detect whether two words sharing the same base have the same semantic meaning. If two such words are judged to be essentially the same, then their embedding vectors will reflect the similarity, and overfitting can be avoided."
   ]
  },
  {
   "cell_type": "code",
   "execution_count": 126,
   "metadata": {
    "collapsed": false,
    "deletable": true,
    "editable": true
   },
   "outputs": [],
   "source": [
    "destination = os.path.join('..','data','dataframe_clean')\n",
    "with open(destination, 'wb') as file_out:\n",
    "    pkl.dump(df_clean, file_out)"
   ]
  }
 ],
 "metadata": {
  "anaconda-cloud": {},
  "kernelspec": {
   "display_name": "Python [conda root]",
   "language": "python",
   "name": "conda-root-py"
  },
  "language_info": {
   "codemirror_mode": {
    "name": "ipython",
    "version": 3
   },
   "file_extension": ".py",
   "mimetype": "text/x-python",
   "name": "python",
   "nbconvert_exporter": "python",
   "pygments_lexer": "ipython3",
   "version": "3.5.2"
  }
 },
 "nbformat": 4,
 "nbformat_minor": 1
}
