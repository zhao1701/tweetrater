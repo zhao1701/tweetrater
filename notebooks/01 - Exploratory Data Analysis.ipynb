{
 "cells": [
  {
   "cell_type": "code",
   "execution_count": 75,
   "metadata": {
    "collapsed": true
   },
   "outputs": [],
   "source": [
    "import os\n",
    "import pandas as pd\n",
    "import numpy as np\n",
    "import matplotlib.pyplot as plt\n",
    "import seaborn as sns\n",
    "\n",
    "%matplotlib inline"
   ]
  },
  {
   "cell_type": "code",
   "execution_count": 56,
   "metadata": {
    "collapsed": false
   },
   "outputs": [],
   "source": [
    "data_directory = os.path.join('..','data','')\n",
    "csv_path = os.path.join(data_directory, 'twitter_hate_speech.csv')\n",
    "df_orig = pd.read_csv(csv_path, engine = 'python', delimiter = ',')"
   ]
  },
  {
   "cell_type": "code",
   "execution_count": 57,
   "metadata": {
    "collapsed": false,
    "scrolled": false
   },
   "outputs": [],
   "source": [
    "df_orig.columns = ['id', 'golden','state', 'trusted_judgements','last_judgment','is_hate_speech','confidence',\n",
    "                   'created','orig_golden','orig_last_judgement','orig_trusted_judgements','orig_id','orig_state',\n",
    "                   'updated','orig_is_hate_speech','is_hate_speech_gold','reason','confidence2','id2','text']"
   ]
  },
  {
   "cell_type": "markdown",
   "metadata": {},
   "source": [
    "# Significant amounts of missing data in many features"
   ]
  },
  {
   "cell_type": "code",
   "execution_count": 65,
   "metadata": {
    "collapsed": false
   },
   "outputs": [
    {
     "name": "stdout",
     "output_type": "stream",
     "text": [
      "<class 'pandas.core.frame.DataFrame'>\n",
      "RangeIndex: 14509 entries, 0 to 14508\n",
      "Data columns (total 20 columns):\n",
      "id                         14509 non-null int64\n",
      "golden                     14509 non-null bool\n",
      "state                      14509 non-null object\n",
      "trusted_judgements         14509 non-null int64\n",
      "last_judgment              14442 non-null object\n",
      "is_hate_speech             14509 non-null object\n",
      "confidence                 14509 non-null float64\n",
      "created                    0 non-null float64\n",
      "orig_golden                67 non-null object\n",
      "orig_last_judgement        0 non-null float64\n",
      "orig_trusted_judgements    67 non-null float64\n",
      "orig_id                    67 non-null float64\n",
      "orig_state                 67 non-null object\n",
      "updated                    0 non-null float64\n",
      "orig_is_hate_speech        67 non-null object\n",
      "is_hate_speech_gold        67 non-null object\n",
      "reason                     0 non-null float64\n",
      "confidence2                67 non-null float64\n",
      "id2                        14509 non-null float64\n",
      "text                       14509 non-null object\n",
      "dtypes: bool(1), float64(9), int64(2), object(8)\n",
      "memory usage: 2.1+ MB\n"
     ]
    }
   ],
   "source": [
    "df_orig.info()"
   ]
  },
  {
   "cell_type": "markdown",
   "metadata": {},
   "source": [
    "# Drop columns"
   ]
  },
  {
   "cell_type": "code",
   "execution_count": 107,
   "metadata": {
    "collapsed": false
   },
   "outputs": [],
   "source": [
    "df = df_orig.dropna(thresh = 68, axis = 'columns')\n",
    "df = df.set_index('id')"
   ]
  },
  {
   "cell_type": "code",
   "execution_count": 108,
   "metadata": {
    "collapsed": false
   },
   "outputs": [
    {
     "data": {
      "text/html": [
       "<div>\n",
       "<table border=\"1\" class=\"dataframe\">\n",
       "  <thead>\n",
       "    <tr style=\"text-align: right;\">\n",
       "      <th></th>\n",
       "      <th>golden</th>\n",
       "      <th>state</th>\n",
       "      <th>trusted_judgements</th>\n",
       "      <th>last_judgment</th>\n",
       "      <th>is_hate_speech</th>\n",
       "      <th>confidence</th>\n",
       "      <th>id2</th>\n",
       "      <th>text</th>\n",
       "    </tr>\n",
       "    <tr>\n",
       "      <th>id</th>\n",
       "      <th></th>\n",
       "      <th></th>\n",
       "      <th></th>\n",
       "      <th></th>\n",
       "      <th></th>\n",
       "      <th></th>\n",
       "      <th></th>\n",
       "      <th></th>\n",
       "    </tr>\n",
       "  </thead>\n",
       "  <tbody>\n",
       "    <tr>\n",
       "      <th>853718217</th>\n",
       "      <td>True</td>\n",
       "      <td>golden</td>\n",
       "      <td>86</td>\n",
       "      <td>NaN</td>\n",
       "      <td>The tweet uses offensive language but not hate...</td>\n",
       "      <td>0.6013</td>\n",
       "      <td>1.666196e+09</td>\n",
       "      <td>Warning: penny boards will make you a faggot</td>\n",
       "    </tr>\n",
       "    <tr>\n",
       "      <th>853718218</th>\n",
       "      <td>True</td>\n",
       "      <td>golden</td>\n",
       "      <td>92</td>\n",
       "      <td>NaN</td>\n",
       "      <td>The tweet contains hate speech</td>\n",
       "      <td>0.7227</td>\n",
       "      <td>4.295121e+08</td>\n",
       "      <td>Fuck dykes</td>\n",
       "    </tr>\n",
       "    <tr>\n",
       "      <th>853718219</th>\n",
       "      <td>True</td>\n",
       "      <td>golden</td>\n",
       "      <td>86</td>\n",
       "      <td>NaN</td>\n",
       "      <td>The tweet contains hate speech</td>\n",
       "      <td>0.5229</td>\n",
       "      <td>3.956238e+08</td>\n",
       "      <td>@sizzurp__ @ILIKECATS74 @yoPapi_chulo @brandon...</td>\n",
       "    </tr>\n",
       "    <tr>\n",
       "      <th>853718220</th>\n",
       "      <td>True</td>\n",
       "      <td>golden</td>\n",
       "      <td>98</td>\n",
       "      <td>NaN</td>\n",
       "      <td>The tweet contains hate speech</td>\n",
       "      <td>0.5184</td>\n",
       "      <td>4.975147e+08</td>\n",
       "      <td>\"@jayswaggkillah: \"@JacklynAnnn: @jayswaggkill...</td>\n",
       "    </tr>\n",
       "    <tr>\n",
       "      <th>853718221</th>\n",
       "      <td>True</td>\n",
       "      <td>golden</td>\n",
       "      <td>88</td>\n",
       "      <td>NaN</td>\n",
       "      <td>The tweet uses offensive language but not hate...</td>\n",
       "      <td>0.5185</td>\n",
       "      <td>5.889236e+08</td>\n",
       "      <td>@Zhugstubble You heard me bitch but any way I'...</td>\n",
       "    </tr>\n",
       "  </tbody>\n",
       "</table>\n",
       "</div>"
      ],
      "text/plain": [
       "          golden   state  trusted_judgements last_judgment  \\\n",
       "id                                                           \n",
       "853718217   True  golden                  86           NaN   \n",
       "853718218   True  golden                  92           NaN   \n",
       "853718219   True  golden                  86           NaN   \n",
       "853718220   True  golden                  98           NaN   \n",
       "853718221   True  golden                  88           NaN   \n",
       "\n",
       "                                              is_hate_speech  confidence  \\\n",
       "id                                                                         \n",
       "853718217  The tweet uses offensive language but not hate...      0.6013   \n",
       "853718218                     The tweet contains hate speech      0.7227   \n",
       "853718219                     The tweet contains hate speech      0.5229   \n",
       "853718220                     The tweet contains hate speech      0.5184   \n",
       "853718221  The tweet uses offensive language but not hate...      0.5185   \n",
       "\n",
       "                    id2                                               text  \n",
       "id                                                                          \n",
       "853718217  1.666196e+09       Warning: penny boards will make you a faggot  \n",
       "853718218  4.295121e+08                                         Fuck dykes  \n",
       "853718219  3.956238e+08  @sizzurp__ @ILIKECATS74 @yoPapi_chulo @brandon...  \n",
       "853718220  4.975147e+08  \"@jayswaggkillah: \"@JacklynAnnn: @jayswaggkill...  \n",
       "853718221  5.889236e+08  @Zhugstubble You heard me bitch but any way I'...  "
      ]
     },
     "execution_count": 108,
     "metadata": {},
     "output_type": "execute_result"
    }
   ],
   "source": [
    "df.head()"
   ]
  },
  {
   "cell_type": "markdown",
   "metadata": {},
   "source": [
    "# Without codebook, it's hard to know what confidence means."
   ]
  },
  {
   "cell_type": "code",
   "execution_count": 109,
   "metadata": {
    "collapsed": false
   },
   "outputs": [
    {
     "data": {
      "text/plain": [
       "<matplotlib.axes._subplots.AxesSubplot at 0x1160edc88>"
      ]
     },
     "execution_count": 109,
     "metadata": {},
     "output_type": "execute_result"
    },
    {
     "data": {
      "image/png": "[encoded data removed]",
      "text/plain": [
       "<matplotlib.figure.Figure at 0x116821cc0>"
      ]
     },
     "metadata": {},
     "output_type": "display_data"
    }
   ],
   "source": [
    "df.confidence.hist(bins = 100)"
   ]
  },
  {
   "cell_type": "markdown",
   "metadata": {},
   "source": [
    "Confidence appears to have been a meaningful metric for only a third of the tweets in the dataset."
   ]
  },
  {
   "cell_type": "markdown",
   "metadata": {},
   "source": [
    "# What does \"golden\" and \"state\" mean?\n",
    "It looks the two features are redundant. They are also so unbalanced that it may not be necessary to consider them."
   ]
  },
  {
   "cell_type": "code",
   "execution_count": 110,
   "metadata": {
    "collapsed": false
   },
   "outputs": [
    {
     "name": "stdout",
     "output_type": "stream",
     "text": [
      "False    14442\n",
      "True        67\n",
      "Name: golden, dtype: int64 \n",
      "\n",
      "finalized    14442\n",
      "golden          67\n",
      "Name: state, dtype: int64 \n",
      "\n",
      "67\n"
     ]
    }
   ],
   "source": [
    "print(df.golden.value_counts(),'\\n')\n",
    "print(df.state.value_counts(),'\\n')\n",
    "print(len(df[(df.golden == True) & (df.state == 'golden')]))"
   ]
  },
  {
   "cell_type": "markdown",
   "metadata": {},
   "source": [
    "# Trusted judgements\n",
    "The vast majority of tweets were judged by three people. This feature can also be excluded."
   ]
  },
  {
   "cell_type": "code",
   "execution_count": 111,
   "metadata": {
    "collapsed": false
   },
   "outputs": [
    {
     "data": {
      "text/plain": [
       "3     14442\n",
       "91        8\n",
       "93        7\n",
       "90        7\n",
       "88        7\n",
       "94        6\n",
       "92        6\n",
       "95        5\n",
       "87        5\n",
       "89        5\n",
       "86        3\n",
       "98        3\n",
       "96        2\n",
       "85        1\n",
       "84        1\n",
       "97        1\n",
       "Name: trusted_judgements, dtype: int64"
      ]
     },
     "execution_count": 111,
     "metadata": {},
     "output_type": "execute_result"
    }
   ],
   "source": [
    "df.trusted_judgements.value_counts()"
   ]
  },
  {
   "cell_type": "markdown",
   "metadata": {},
   "source": [
    "# Recode hate speech classifications"
   ]
  },
  {
   "cell_type": "code",
   "execution_count": 112,
   "metadata": {
    "collapsed": false
   },
   "outputs": [
    {
     "data": {
      "text/plain": [
       "array(['The tweet uses offensive language but not hate speech',\n",
       "       'The tweet contains hate speech', 'The tweet is not offensive'], dtype=object)"
      ]
     },
     "execution_count": 112,
     "metadata": {},
     "output_type": "execute_result"
    }
   ],
   "source": [
    "df = df[['text','is_hate_speech']]\n",
    "categories = df.is_hate_speech.unique()\n",
    "categories"
   ]
  },
  {
   "cell_type": "code",
   "execution_count": null,
   "metadata": {
    "collapsed": false,
    "scrolled": true
   },
   "outputs": [],
   "source": [
    "df['is_hate_speech'] = df['is_hate_speech'].replace(categories, [1,2,0])"
   ]
  },
  {
   "cell_type": "markdown",
   "metadata": {},
   "source": [
    "# The data appears to be fairly balanced"
   ]
  },
  {
   "cell_type": "code",
   "execution_count": 121,
   "metadata": {
    "collapsed": false
   },
   "outputs": [
    {
     "data": {
      "text/plain": [
       "<matplotlib.axes._subplots.AxesSubplot at 0x117688e10>"
      ]
     },
     "execution_count": 121,
     "metadata": {},
     "output_type": "execute_result"
    },
    {
     "data": {
      "image/png": "[encoded data removed]",
      "text/plain": [
       "<matplotlib.figure.Figure at 0x117299b70>"
      ]
     },
     "metadata": {},
     "output_type": "display_data"
    }
   ],
   "source": [
    "df.is_hate_speech.value_counts().plot(kind = 'bar')"
   ]
  },
  {
   "cell_type": "markdown",
   "metadata": {},
   "source": [
    "# Things to clean up\n",
    "- twitter handles\n",
    "- emoticons\n",
    "- urls\n",
    "- newlines\n",
    "- hashtags"
   ]
  },
  {
   "cell_type": "code",
   "execution_count": 139,
   "metadata": {
    "collapsed": false,
    "scrolled": true
   },
   "outputs": [
    {
     "data": {
      "text/html": [
       "<div>\n",
       "<table border=\"1\" class=\"dataframe\">\n",
       "  <thead>\n",
       "    <tr style=\"text-align: right;\">\n",
       "      <th></th>\n",
       "      <th>text</th>\n",
       "      <th>is_hate_speech</th>\n",
       "    </tr>\n",
       "    <tr>\n",
       "      <th>id</th>\n",
       "      <th></th>\n",
       "      <th></th>\n",
       "    </tr>\n",
       "  </thead>\n",
       "  <tbody>\n",
       "    <tr>\n",
       "      <th>853718217</th>\n",
       "      <td>Warning: penny boards will make you a faggot</td>\n",
       "      <td>1</td>\n",
       "    </tr>\n",
       "    <tr>\n",
       "      <th>853718218</th>\n",
       "      <td>Fuck dykes</td>\n",
       "      <td>2</td>\n",
       "    </tr>\n",
       "    <tr>\n",
       "      <th>853718219</th>\n",
       "      <td>@sizzurp__ @ILIKECATS74 @yoPapi_chulo @brandonernandez @bootyacid at least i dont look like jefree starr faggot</td>\n",
       "      <td>2</td>\n",
       "    </tr>\n",
       "    <tr>\n",
       "      <th>853718220</th>\n",
       "      <td>\"@jayswaggkillah: \"@JacklynAnnn: @jayswaggkillah Is a fag\" jackie jealous\" Neeeee</td>\n",
       "      <td>2</td>\n",
       "    </tr>\n",
       "    <tr>\n",
       "      <th>853718221</th>\n",
       "      <td>@Zhugstubble You heard me bitch but any way I'm back th texas so wtf u talking about bitch ass nigga</td>\n",
       "      <td>1</td>\n",
       "    </tr>\n",
       "    <tr>\n",
       "      <th>853718222</th>\n",
       "      <td>@elaynay your a dirty terrorist and your religion is a fucking joke, you go around screaming Allah akbar doing terrorist shit. Dirty faggot.</td>\n",
       "      <td>2</td>\n",
       "    </tr>\n",
       "    <tr>\n",
       "      <th>853718223</th>\n",
       "      <td>RT @ivanrabago_: @_WhitePonyJr_ looking like faggots?</td>\n",
       "      <td>2</td>\n",
       "    </tr>\n",
       "    <tr>\n",
       "      <th>853718224</th>\n",
       "      <td>Well I thought you knew actually RT @KingHorseDick: Man why y'all didn't tell me I was a dick riding ass faggot? Y'all not real &amp;#128557;&amp;#128557;&amp;#128557;&amp;#128557;&amp;#128557;&amp;#128557;</td>\n",
       "      <td>2</td>\n",
       "    </tr>\n",
       "    <tr>\n",
       "      <th>853718225</th>\n",
       "      <td>@Stonisnipezz I know. It was a joke, faggot.</td>\n",
       "      <td>1</td>\n",
       "    </tr>\n",
       "    <tr>\n",
       "      <th>853718226</th>\n",
       "      <td>I'm tired of people saying I look like my brother &amp;amp; calling me Deondre' like serious Succ My Ass fag asses</td>\n",
       "      <td>1</td>\n",
       "    </tr>\n",
       "    <tr>\n",
       "      <th>853718227</th>\n",
       "      <td>#VoteBlue2014 Yeah. CUZ 8 million people in faggot ass #newyork are #chickenshit JEWS&amp;gt; FUCK THEM right? Fuck Bibi Netanyahu. RIGHT?</td>\n",
       "      <td>2</td>\n",
       "    </tr>\n",
       "    <tr>\n",
       "      <th>853718228</th>\n",
       "      <td>@AndreBerto word is you use roids, stupid hypocrite lying faggot.</td>\n",
       "      <td>2</td>\n",
       "    </tr>\n",
       "    <tr>\n",
       "      <th>853718229</th>\n",
       "      <td>I hate faggots like you</td>\n",
       "      <td>2</td>\n",
       "    </tr>\n",
       "    <tr>\n",
       "      <th>853718230</th>\n",
       "      <td>@MoriTaheripour shut up nigger whore! Hope u get raped by one of those animals. Might change your tune.</td>\n",
       "      <td>2</td>\n",
       "    </tr>\n",
       "    <tr>\n",
       "      <th>853718231</th>\n",
       "      <td>@Oprah @3LWTV Fuck you nigger sheboon. Hope you r strung up like all niggers should be. WHITEPOWER. #1488</td>\n",
       "      <td>2</td>\n",
       "    </tr>\n",
       "    <tr>\n",
       "      <th>853718232</th>\n",
       "      <td>They used to tie both ends of a niggers legs to 2 different horses and beat him as the horses spread until his legs break ... Smh</td>\n",
       "      <td>2</td>\n",
       "    </tr>\n",
       "    <tr>\n",
       "      <th>853718233</th>\n",
       "      <td>Good night fags and fagettes (that's the female version of fags like fag-ettes to make it female) I hate you all.</td>\n",
       "      <td>2</td>\n",
       "    </tr>\n",
       "    <tr>\n",
       "      <th>853718234</th>\n",
       "      <td>I cant stand no crybaby ass nigga. If you gonna act like a bitch I will leave yo ass after I instavideo yo stupid lookin ass</td>\n",
       "      <td>1</td>\n",
       "    </tr>\n",
       "    <tr>\n",
       "      <th>853718235</th>\n",
       "      <td>RT @nerdkiller669: @ShinSnipes no you're a nigger</td>\n",
       "      <td>2</td>\n",
       "    </tr>\n",
       "    <tr>\n",
       "      <th>853718236</th>\n",
       "      <td>\"I'll fuck you til you love me faggot\" - Mike Tyson</td>\n",
       "      <td>1</td>\n",
       "    </tr>\n",
       "    <tr>\n",
       "      <th>853718237</th>\n",
       "      <td>@OxbloodStomper @PalePixie88 @SlaveCatcher88 what's your problem? Don't u know Jews control niggers? Read a book or two.</td>\n",
       "      <td>2</td>\n",
       "    </tr>\n",
       "    <tr>\n",
       "      <th>853718238</th>\n",
       "      <td>I fucking hate you niggers bruh... http://t.co/OeTK4f94BO</td>\n",
       "      <td>2</td>\n",
       "    </tr>\n",
       "    <tr>\n",
       "      <th>853718239</th>\n",
       "      <td>RT @Fact: Some species of birds have been known to hold funerals for their deceased.</td>\n",
       "      <td>0</td>\n",
       "    </tr>\n",
       "    <tr>\n",
       "      <th>853718240</th>\n",
       "      <td>I remember Draft prom night, my dress wouldn't zip up and I was bawling my eyes out and screaming I didn't want to go... So funny. Haha.</td>\n",
       "      <td>0</td>\n",
       "    </tr>\n",
       "    <tr>\n",
       "      <th>853718241</th>\n",
       "      <td>Damn Eli. That's just ruff. I'm not even gonna trash talk that one. Get your game together Eli. You're a good QB. Stop with the TO's</td>\n",
       "      <td>0</td>\n",
       "    </tr>\n",
       "    <tr>\n",
       "      <th>853718242</th>\n",
       "      <td>Also, Happy Armistice Day, anachronists!\\n\\n&amp;#8220;The Hun is either at your throat or at your feet.&amp;#8221; - Churchill</td>\n",
       "      <td>0</td>\n",
       "    </tr>\n",
       "    <tr>\n",
       "      <th>853718243</th>\n",
       "      <td>@ExpSelf A friend suggested I dress as a Fairy for a Halloween party we're attending...I'm thinking more Wizardess of course. :)</td>\n",
       "      <td>0</td>\n",
       "    </tr>\n",
       "    <tr>\n",
       "      <th>853718244</th>\n",
       "      <td>RT @BitchPlsComedy: apparently &amp;#8220;bae&amp;#8221; means &amp;#8220;before anyone else&amp;#8221; i always thought it was a ghetto word for &amp;#8220;babe&amp;#8221;</td>\n",
       "      <td>0</td>\n",
       "    </tr>\n",
       "    <tr>\n",
       "      <th>853718245</th>\n",
       "      <td>@RiotSupport so I was suspended for a day because of a random lag spikes that force me to close the client and relog and suspended. GG</td>\n",
       "      <td>0</td>\n",
       "    </tr>\n",
       "    <tr>\n",
       "      <th>853718246</th>\n",
       "      <td>#Flyers w/ some moxy! Big comeback again!!! Major penalty killed the Caps.Great game. 5 cases of #tastycakes</td>\n",
       "      <td>0</td>\n",
       "    </tr>\n",
       "    <tr>\n",
       "      <th>...</th>\n",
       "      <td>...</td>\n",
       "      <td>...</td>\n",
       "    </tr>\n",
       "    <tr>\n",
       "      <th>853733873</th>\n",
       "      <td>I can't deal with a slow internet connection. Just can't... #firstworldproblems</td>\n",
       "      <td>0</td>\n",
       "    </tr>\n",
       "    <tr>\n",
       "      <th>853733874</th>\n",
       "      <td>Mental Health Practitioner  - Coon Rapids Day Treatment Program|Coon Rapids| https://t.co/FspObVyoSX</td>\n",
       "      <td>0</td>\n",
       "    </tr>\n",
       "    <tr>\n",
       "      <th>853733875</th>\n",
       "      <td>Mental Health Practitioner  - Coon Rapids Day Treatment Program | Coon Rapids | Accurate Home Care https://t.co/717zwGyz6G</td>\n",
       "      <td>0</td>\n",
       "    </tr>\n",
       "    <tr>\n",
       "      <th>853733876</th>\n",
       "      <td>Mental Health Practitioner  - Coon Rapids Day Treatment Program | Coon Rapids | Accurate Home Care https://t.co/SQhskCP1Si</td>\n",
       "      <td>0</td>\n",
       "    </tr>\n",
       "    <tr>\n",
       "      <th>853733877</th>\n",
       "      <td>Ben Carson thinks it's okay to have A confederate flag hanging on your property this nigglet is the biggest coon ever lol where his mother?</td>\n",
       "      <td>2</td>\n",
       "    </tr>\n",
       "    <tr>\n",
       "      <th>853733878</th>\n",
       "      <td>#YodaSpeakASaying \\n\\nKills, captivity does.\\nDeath @SeaWorld another \\nForget you not, we won't.\\n#Unna \\n\\n#OpSeaWorld https://t.co/lhcI5b0x1q</td>\n",
       "      <td>0</td>\n",
       "    </tr>\n",
       "    <tr>\n",
       "      <th>853733879</th>\n",
       "      <td>diamond keep actin up ima go to her job and be a coon</td>\n",
       "      <td>0</td>\n",
       "    </tr>\n",
       "    <tr>\n",
       "      <th>853733880</th>\n",
       "      <td>Cries. I'm turning into a weeb-coon https://t.co/9bGeqN60eO</td>\n",
       "      <td>0</td>\n",
       "    </tr>\n",
       "    <tr>\n",
       "      <th>853733881</th>\n",
       "      <td>Saw this gorgeous 4 1/2 year old Maine Coon today. She's available for adoption and would love a�_�__ https://t.co/IAJ5se8vZh</td>\n",
       "      <td>0</td>\n",
       "    </tr>\n",
       "    <tr>\n",
       "      <th>853733882</th>\n",
       "      <td>Jet Stream the Maine Coon riding out last night�_�_��s storm with Dad. #mainecoon #cannonbeacht�_�__ https://t.co/yZibE7JrYR https://t.co/lI6nmLQ0sh</td>\n",
       "      <td>0</td>\n",
       "    </tr>\n",
       "    <tr>\n",
       "      <th>853733883</th>\n",
       "      <td>@LenaOverFlowers I'm not even a coon girl</td>\n",
       "      <td>1</td>\n",
       "    </tr>\n",
       "    <tr>\n",
       "      <th>853733884</th>\n",
       "      <td>From what I've seen men and women coon at the same rate.</td>\n",
       "      <td>2</td>\n",
       "    </tr>\n",
       "    <tr>\n",
       "      <th>853733885</th>\n",
       "      <td>\"BW,take care of me! pls buy my coon ass somethin im broke :( or i wont date Every Single BW &amp;gt;: )\" #coontranslations https://t.co/G47ZpOfet3</td>\n",
       "      <td>1</td>\n",
       "    </tr>\n",
       "    <tr>\n",
       "      <th>853733886</th>\n",
       "      <td>Interesting data on quantifying value of the Internet...Net benefits https://t.co/U33OuqYgX5 #economics</td>\n",
       "      <td>0</td>\n",
       "    </tr>\n",
       "    <tr>\n",
       "      <th>853733887</th>\n",
       "      <td>@aryan_twr60 thank you_̫��_</td>\n",
       "      <td>0</td>\n",
       "    </tr>\n",
       "    <tr>\n",
       "      <th>853733888</th>\n",
       "      <td>@sardesairajdeep @DwaipayanM if he is Aryan then #mallikarjun will say him to leave world</td>\n",
       "      <td>0</td>\n",
       "    </tr>\n",
       "    <tr>\n",
       "      <th>853733889</th>\n",
       "      <td>@sardesairajdeep sir if he is Aryan then #mallikarjun will ask him to leave India  https://t.co/hR68Ga1yjO</td>\n",
       "      <td>0</td>\n",
       "    </tr>\n",
       "    <tr>\n",
       "      <th>853733890</th>\n",
       "      <td>Radio Nordfront interview a Russian patriot and a classic Radio Stormer episode for you today, all at Radio Aryan.  https://t.co/lExVFINTiy</td>\n",
       "      <td>0</td>\n",
       "    </tr>\n",
       "    <tr>\n",
       "      <th>853733891</th>\n",
       "      <td>@nupursanon hope u check ur fb messages, all message requests also dear. U r awesome. #sensation</td>\n",
       "      <td>0</td>\n",
       "    </tr>\n",
       "    <tr>\n",
       "      <th>853733892</th>\n",
       "      <td>Wow�_�__A Jewish man having his nose measured during Aryan race determination tests in Nazi Germany, 1940 https://t.co/Lf3dNE7Pmq�_�_�</td>\n",
       "      <td>0</td>\n",
       "    </tr>\n",
       "    <tr>\n",
       "      <th>853733893</th>\n",
       "      <td>oldpicsarchive: A Jewish man having his nose measured during Aryan race determination tests in Nazi Germany, 1940 https://t.co/hUPsK3Hg8N</td>\n",
       "      <td>0</td>\n",
       "    </tr>\n",
       "    <tr>\n",
       "      <th>853733894</th>\n",
       "      <td>A Jewish man having his nose measured during Aryan race determination tests in Nazi German�_�__ https://t.co/P4GDcbZLW5 https://t.co/izpK8h4fD8</td>\n",
       "      <td>0</td>\n",
       "    </tr>\n",
       "    <tr>\n",
       "      <th>853733895</th>\n",
       "      <td>AO - aryan huy miss you na!! Happy that i'll be able to see you tomorrow. Enjoy your hike! And God bless you more this incoming year :) ily!</td>\n",
       "      <td>0</td>\n",
       "    </tr>\n",
       "    <tr>\n",
       "      <th>853733896</th>\n",
       "      <td>@AryanTimsina Aryan, what is the version of Fifa?</td>\n",
       "      <td>0</td>\n",
       "    </tr>\n",
       "    <tr>\n",
       "      <th>853733897</th>\n",
       "      <td>measured during Aryan race determination tests in Nazi Germany, 1940</td>\n",
       "      <td>0</td>\n",
       "    </tr>\n",
       "    <tr>\n",
       "      <th>853733898</th>\n",
       "      <td>I'm sorry. Did I offend your white supremacist, Aryan Nation, neo-Nazi, best fascist friends somehow? \\n@GaltsGultch https://t.co/Zi3TzR5Vwo</td>\n",
       "      <td>0</td>\n",
       "    </tr>\n",
       "    <tr>\n",
       "      <th>853733899</th>\n",
       "      <td>@tradethecycles Caucasian euro aryan whatever.. Really doesn't matter. They're damn sure not WHITE!!</td>\n",
       "      <td>0</td>\n",
       "    </tr>\n",
       "    <tr>\n",
       "      <th>853733900</th>\n",
       "      <td>@yadavakhilesh sir a patient named aryan khan  village meeranpur pratapgarh who is suffering from like dengu  has refferd to Sgpgi lko help</td>\n",
       "      <td>0</td>\n",
       "    </tr>\n",
       "    <tr>\n",
       "      <th>853733901</th>\n",
       "      <td>@Iamshivachari  Happy birthday bro _̫��_ \\nHave an happy year ahead _̫_�.._̫___̫_��_̫_��__̫_��_</td>\n",
       "      <td>0</td>\n",
       "    </tr>\n",
       "    <tr>\n",
       "      <th>853733902</th>\n",
       "      <td>@Hajrahkiayni Aryan Kapoor is such a cute name tho ! :D We Want K&amp;amp;S First Look</td>\n",
       "      <td>0</td>\n",
       "    </tr>\n",
       "  </tbody>\n",
       "</table>\n",
       "<p>14509 rows × 2 columns</p>\n",
       "</div>"
      ],
      "text/plain": [
       "                                                                                                                                                                                             text  \\\n",
       "id                                                                                                                                                                                                  \n",
       "853718217                                                                                                                                            Warning: penny boards will make you a faggot   \n",
       "853718218                                                                                                                                                                              Fuck dykes   \n",
       "853718219                                                                         @sizzurp__ @ILIKECATS74 @yoPapi_chulo @brandonernandez @bootyacid at least i dont look like jefree starr faggot   \n",
       "853718220                                                                                                       \"@jayswaggkillah: \"@JacklynAnnn: @jayswaggkillah Is a fag\" jackie jealous\" Neeeee   \n",
       "853718221                                                                                    @Zhugstubble You heard me bitch but any way I'm back th texas so wtf u talking about bitch ass nigga   \n",
       "853718222                                            @elaynay your a dirty terrorist and your religion is a fucking joke, you go around screaming Allah akbar doing terrorist shit. Dirty faggot.   \n",
       "853718223                                                                                                                                   RT @ivanrabago_: @_WhitePonyJr_ looking like faggots?   \n",
       "853718224  Well I thought you knew actually RT @KingHorseDick: Man why y'all didn't tell me I was a dick riding ass faggot? Y'all not real &#128557;&#128557;&#128557;&#128557;&#128557;&#128557;   \n",
       "853718225                                                                                                                                            @Stonisnipezz I know. It was a joke, faggot.   \n",
       "853718226                                                                          I'm tired of people saying I look like my brother &amp; calling me Deondre' like serious Succ My Ass fag asses   \n",
       "853718227                                                  #VoteBlue2014 Yeah. CUZ 8 million people in faggot ass #newyork are #chickenshit JEWS&gt; FUCK THEM right? Fuck Bibi Netanyahu. RIGHT?   \n",
       "853718228                                                                                                                       @AndreBerto word is you use roids, stupid hypocrite lying faggot.   \n",
       "853718229                                                                                                                                                                 I hate faggots like you   \n",
       "853718230                                                                                 @MoriTaheripour shut up nigger whore! Hope u get raped by one of those animals. Might change your tune.   \n",
       "853718231                                                                               @Oprah @3LWTV Fuck you nigger sheboon. Hope you r strung up like all niggers should be. WHITEPOWER. #1488   \n",
       "853718232                                                       They used to tie both ends of a niggers legs to 2 different horses and beat him as the horses spread until his legs break ... Smh   \n",
       "853718233                                                                       Good night fags and fagettes (that's the female version of fags like fag-ettes to make it female) I hate you all.   \n",
       "853718234                                                            I cant stand no crybaby ass nigga. If you gonna act like a bitch I will leave yo ass after I instavideo yo stupid lookin ass   \n",
       "853718235                                                                                                                                       RT @nerdkiller669: @ShinSnipes no you're a nigger   \n",
       "853718236                                                                                                                                     \"I'll fuck you til you love me faggot\" - Mike Tyson   \n",
       "853718237                                                                @OxbloodStomper @PalePixie88 @SlaveCatcher88 what's your problem? Don't u know Jews control niggers? Read a book or two.   \n",
       "853718238                                                                                                                               I fucking hate you niggers bruh... http://t.co/OeTK4f94BO   \n",
       "853718239                                                                                                    RT @Fact: Some species of birds have been known to hold funerals for their deceased.   \n",
       "853718240                                                I remember Draft prom night, my dress wouldn't zip up and I was bawling my eyes out and screaming I didn't want to go... So funny. Haha.   \n",
       "853718241                                                    Damn Eli. That's just ruff. I'm not even gonna trash talk that one. Get your game together Eli. You're a good QB. Stop with the TO's   \n",
       "853718242                                                                 Also, Happy Armistice Day, anachronists!\\n\\n&#8220;The Hun is either at your throat or at your feet.&#8221; - Churchill   \n",
       "853718243                                                        @ExpSelf A friend suggested I dress as a Fairy for a Halloween party we're attending...I'm thinking more Wizardess of course. :)   \n",
       "853718244                                    RT @BitchPlsComedy: apparently &#8220;bae&#8221; means &#8220;before anyone else&#8221; i always thought it was a ghetto word for &#8220;babe&#8221;   \n",
       "853718245                                                  @RiotSupport so I was suspended for a day because of a random lag spikes that force me to close the client and relog and suspended. GG   \n",
       "853718246                                                                            #Flyers w/ some moxy! Big comeback again!!! Major penalty killed the Caps.Great game. 5 cases of #tastycakes   \n",
       "...                                                                                                                                                                                           ...   \n",
       "853733873                                                                                                         I can't deal with a slow internet connection. Just can't... #firstworldproblems   \n",
       "853733874                                                                                    Mental Health Practitioner  - Coon Rapids Day Treatment Program|Coon Rapids| https://t.co/FspObVyoSX   \n",
       "853733875                                                              Mental Health Practitioner  - Coon Rapids Day Treatment Program | Coon Rapids | Accurate Home Care https://t.co/717zwGyz6G   \n",
       "853733876                                                              Mental Health Practitioner  - Coon Rapids Day Treatment Program | Coon Rapids | Accurate Home Care https://t.co/SQhskCP1Si   \n",
       "853733877                                             Ben Carson thinks it's okay to have A confederate flag hanging on your property this nigglet is the biggest coon ever lol where his mother?   \n",
       "853733878                                        #YodaSpeakASaying \\n\\nKills, captivity does.\\nDeath @SeaWorld another \\nForget you not, we won't.\\n#Unna \\n\\n#OpSeaWorld https://t.co/lhcI5b0x1q   \n",
       "853733879                                                                                                                                   diamond keep actin up ima go to her job and be a coon   \n",
       "853733880                                                                                                                             Cries. I'm turning into a weeb-coon https://t.co/9bGeqN60eO   \n",
       "853733881                                                           Saw this gorgeous 4 1/2 year old Maine Coon today. She's available for adoption and would love a�_�__ https://t.co/IAJ5se8vZh   \n",
       "853733882                                    Jet Stream the Maine Coon riding out last night�_�_��s storm with Dad. #mainecoon #cannonbeacht�_�__ https://t.co/yZibE7JrYR https://t.co/lI6nmLQ0sh   \n",
       "853733883                                                                                                                                               @LenaOverFlowers I'm not even a coon girl   \n",
       "853733884                                                                                                                                From what I've seen men and women coon at the same rate.   \n",
       "853733885                                         \"BW,take care of me! pls buy my coon ass somethin im broke :( or i wont date Every Single BW &gt;: )\" #coontranslations https://t.co/G47ZpOfet3   \n",
       "853733886                                                                                 Interesting data on quantifying value of the Internet...Net benefits https://t.co/U33OuqYgX5 #economics   \n",
       "853733887                                                                                                                                                             @aryan_twr60 thank you_̫��_   \n",
       "853733888                                                                                               @sardesairajdeep @DwaipayanM if he is Aryan then #mallikarjun will say him to leave world   \n",
       "853733889                                                                              @sardesairajdeep sir if he is Aryan then #mallikarjun will ask him to leave India  https://t.co/hR68Ga1yjO   \n",
       "853733890                                             Radio Nordfront interview a Russian patriot and a classic Radio Stormer episode for you today, all at Radio Aryan.  https://t.co/lExVFINTiy   \n",
       "853733891                                                                                        @nupursanon hope u check ur fb messages, all message requests also dear. U r awesome. #sensation   \n",
       "853733892                                                  Wow�_�__A Jewish man having his nose measured during Aryan race determination tests in Nazi Germany, 1940 https://t.co/Lf3dNE7Pmq�_�_�   \n",
       "853733893                                               oldpicsarchive: A Jewish man having his nose measured during Aryan race determination tests in Nazi Germany, 1940 https://t.co/hUPsK3Hg8N   \n",
       "853733894                                         A Jewish man having his nose measured during Aryan race determination tests in Nazi German�_�__ https://t.co/P4GDcbZLW5 https://t.co/izpK8h4fD8   \n",
       "853733895                                            AO - aryan huy miss you na!! Happy that i'll be able to see you tomorrow. Enjoy your hike! And God bless you more this incoming year :) ily!   \n",
       "853733896                                                                                                                                       @AryanTimsina Aryan, what is the version of Fifa?   \n",
       "853733897                                                                                                                    measured during Aryan race determination tests in Nazi Germany, 1940   \n",
       "853733898                                            I'm sorry. Did I offend your white supremacist, Aryan Nation, neo-Nazi, best fascist friends somehow? \\n@GaltsGultch https://t.co/Zi3TzR5Vwo   \n",
       "853733899                                                                                    @tradethecycles Caucasian euro aryan whatever.. Really doesn't matter. They're damn sure not WHITE!!   \n",
       "853733900                                             @yadavakhilesh sir a patient named aryan khan  village meeranpur pratapgarh who is suffering from like dengu  has refferd to Sgpgi lko help   \n",
       "853733901                                                                                         @Iamshivachari  Happy birthday bro _̫��_ \\nHave an happy year ahead _̫_�.._̫___̫_��_̫_��__̫_��_   \n",
       "853733902                                                                                                      @Hajrahkiayni Aryan Kapoor is such a cute name tho ! :D We Want K&amp;S First Look   \n",
       "\n",
       "           is_hate_speech  \n",
       "id                         \n",
       "853718217               1  \n",
       "853718218               2  \n",
       "853718219               2  \n",
       "853718220               2  \n",
       "853718221               1  \n",
       "853718222               2  \n",
       "853718223               2  \n",
       "853718224               2  \n",
       "853718225               1  \n",
       "853718226               1  \n",
       "853718227               2  \n",
       "853718228               2  \n",
       "853718229               2  \n",
       "853718230               2  \n",
       "853718231               2  \n",
       "853718232               2  \n",
       "853718233               2  \n",
       "853718234               1  \n",
       "853718235               2  \n",
       "853718236               1  \n",
       "853718237               2  \n",
       "853718238               2  \n",
       "853718239               0  \n",
       "853718240               0  \n",
       "853718241               0  \n",
       "853718242               0  \n",
       "853718243               0  \n",
       "853718244               0  \n",
       "853718245               0  \n",
       "853718246               0  \n",
       "...                   ...  \n",
       "853733873               0  \n",
       "853733874               0  \n",
       "853733875               0  \n",
       "853733876               0  \n",
       "853733877               2  \n",
       "853733878               0  \n",
       "853733879               0  \n",
       "853733880               0  \n",
       "853733881               0  \n",
       "853733882               0  \n",
       "853733883               1  \n",
       "853733884               2  \n",
       "853733885               1  \n",
       "853733886               0  \n",
       "853733887               0  \n",
       "853733888               0  \n",
       "853733889               0  \n",
       "853733890               0  \n",
       "853733891               0  \n",
       "853733892               0  \n",
       "853733893               0  \n",
       "853733894               0  \n",
       "853733895               0  \n",
       "853733896               0  \n",
       "853733897               0  \n",
       "853733898               0  \n",
       "853733899               0  \n",
       "853733900               0  \n",
       "853733901               0  \n",
       "853733902               0  \n",
       "\n",
       "[14509 rows x 2 columns]"
      ]
     },
     "execution_count": 139,
     "metadata": {},
     "output_type": "execute_result"
    }
   ],
   "source": [
    "df"
   ]
  },
  {
   "cell_type": "code",
   "execution_count": 125,
   "metadata": {
    "collapsed": true
   },
   "outputs": [],
   "source": [
    "import spacy\n",
    "nlp = spacy.load('en')"
   ]
  },
  {
   "cell_type": "code",
   "execution_count": 144,
   "metadata": {
    "collapsed": false
   },
   "outputs": [
    {
     "name": "stdout",
     "output_type": "stream",
     "text": [
      "#YodaSpeakASaying \n",
      "\n",
      "Kills, captivity does.\n",
      "Death @SeaWorld another \n",
      "Forget you not, we won't.\n",
      "#Unna \n",
      "\n",
      "#OpSeaWorld https://t.co/lhcI5b0x1q \n",
      "\n",
      "Kills\n"
     ]
    }
   ],
   "source": [
    "tweet = df.loc[853733878,:]['text']\n",
    "parsed_tweet = nlp(tweet)\n",
    "print(parsed_tweet,'\\n')\n",
    "\n",
    "for entities in parsed_tweet.ents:\n",
    "    print(entities)"
   ]
  },
  {
   "cell_type": "markdown",
   "metadata": {},
   "source": [
    "# Generate giant text file with all tweets"
   ]
  },
  {
   "cell_type": "code",
   "execution_count": 263,
   "metadata": {
    "collapsed": false
   },
   "outputs": [],
   "source": [
    "with open('../data/all_tweets.txt', 'wt') as file_out:\n",
    "    for index in df.index:\n",
    "        tweet = df.loc[index,'text'].replace('\\n','\\\\n') + '\\n'\n",
    "        file_out.write(tweet)"
   ]
  },
  {
   "cell_type": "code",
   "execution_count": 264,
   "metadata": {
    "collapsed": true
   },
   "outputs": [],
   "source": [
    "with open('../data/all_tweets.txt', 'rt') as file_in:\n",
    "    corpus = file_in.read()"
   ]
  },
  {
   "cell_type": "markdown",
   "metadata": {},
   "source": [
    "# How much of the corpus is comprised of unhelpful tokens?"
   ]
  },
  {
   "cell_type": "code",
   "execution_count": 265,
   "metadata": {
    "collapsed": false
   },
   "outputs": [
    {
     "name": "stdout",
     "output_type": "stream",
     "text": [
      "4.08% of tokens are user handles.\n"
     ]
    }
   ],
   "source": [
    "import re\n",
    "\n",
    "handles = re.findall(r'@\\w+\\s', corpus)\n",
    "num_handles = len(handles)\n",
    "num_tokens = len(corpus.split())\n",
    "print('{:2.2f}% of tokens are user handles.'.format(num_handles / num_tokens * 100))"
   ]
  },
  {
   "cell_type": "code",
   "execution_count": 266,
   "metadata": {
    "collapsed": false
   },
   "outputs": [
    {
     "name": "stdout",
     "output_type": "stream",
     "text": [
      "1.84% of tokens are urls.\n"
     ]
    }
   ],
   "source": [
    "urls = re.findall(r'https?://\\S+', corpus)\n",
    "num_urls = len(urls)\n",
    "print('{:2.2f}% of tokens are urls.'.format(num_urls / num_tokens * 100))"
   ]
  },
  {
   "cell_type": "code",
   "execution_count": 267,
   "metadata": {
    "collapsed": false
   },
   "outputs": [
    {
     "name": "stdout",
     "output_type": "stream",
     "text": [
      "1.14% of tokens are hashtags.\n"
     ]
    }
   ],
   "source": [
    "hashtags = re.findall(r'#\\S*', corpus)\n",
    "num_hashtags = len(hashtags)\n",
    "print('{:2.2f}% of tokens are hashtags.'.format(num_hashtags / num_tokens * 100))"
   ]
  },
  {
   "cell_type": "code",
   "execution_count": 268,
   "metadata": {
    "collapsed": false
   },
   "outputs": [
    {
     "name": "stdout",
     "output_type": "stream",
     "text": [
      "2.96% of tokens are miscellaneous.\n"
     ]
    }
   ],
   "source": [
    "other = re.findall(r'[�!$%^&*\\(\\)]\\S*', corpus)\n",
    "num_other = len(other)\n",
    "print('{:2.2f}% of tokens are miscellaneous.'.format(num_other / num_tokens * 100))"
   ]
  },
  {
   "cell_type": "code",
   "execution_count": 269,
   "metadata": {
    "collapsed": false,
    "scrolled": false
   },
   "outputs": [
    {
     "data": {
      "text/plain": [
       "\"Warning: penny boards will make you a faggot\\nFuck dykes\\nTWITTER_HANDLE TWITTER_HANDLE TWITTER_HANDLE TWITTER_HANDLE TWITTER_HANDLE at least i dont look like jefree starr faggot\\n @jayswaggkillah:  @JacklynAnnn: TWITTER_HANDLE Is a fag  jackie jealous  Neeeee\\nTWITTER_HANDLE You heard me bitch but any way I'm back th texas so wtf u talking about bitch ass nigga\\nTWITTER_HANDLE your a dirty terrorist and your religion is a fucking joke, you go around screaming Allah akbar doing terrorist shit. Dirty faggot.\\nRT @ivanrabago_: TWITTER_HANDLE looking like faggots?\\nWell I thought you knew actually RT @KingHorseDick: Man why y'all didn't tell me I was a dick riding ass faggot? Y'all not real   128557;  128557;  128557;  128557;  128557;  128557;\\nTWITTER_HANDLE I know. It was a joke, faggot.\\nI'm tired of people saying I look like my brother  amp; calling me Deondre' like serious Succ My Ass fag asses\\n VoteBlue2014 Yeah. CUZ 8 million people in faggot ass  newyork are  chickenshit JEWS gt; FUCK THE\""
      ]
     },
     "execution_count": 269,
     "metadata": {},
     "output_type": "execute_result"
    }
   ],
   "source": [
    "corpus_clean = re.sub(r'@\\w+\\s', 'TWITTER_HANDLE ', corpus)\n",
    "corpus_clean = re.sub(r'#|&|\\(|\\)|\\\"', ' ', corpus_clean)\n",
    "corpus_clean = re.sub(r'https?://\\S+', 'URL ', corpus_clean)\n",
    "corpus_clean = re.sub(r'�\\S*\\d*','UNDEF', corpus_clean)\n",
    "corpus_clean[:1000]"
   ]
  },
  {
   "cell_type": "code",
   "execution_count": 270,
   "metadata": {
    "collapsed": false
   },
   "outputs": [],
   "source": [
    "corpus_parsed = nlp(corpus_clean)"
   ]
  },
  {
   "cell_type": "code",
   "execution_count": 271,
   "metadata": {
    "collapsed": true
   },
   "outputs": [],
   "source": [
    "corpus_normalized = [token.lemma_ for token in corpus_parsed]"
   ]
  },
  {
   "cell_type": "code",
   "execution_count": 272,
   "metadata": {
    "collapsed": false
   },
   "outputs": [
    {
     "name": "stdout",
     "output_type": "stream",
     "text": [
      "Unique tokens before cleaning: 42593\n",
      "Unique tokens after cleaning: 29862\n",
      "Unique tokens after normalizing: 16627\n"
     ]
    }
   ],
   "source": [
    "print('Unique tokens before cleaning:', pd.Series(corpus.split()).unique().size)\n",
    "print('Unique tokens after cleaning:', pd.Series(corpus_clean.split()).unique().size)\n",
    "print('Unique tokens after normalizing:', pd.Series(corpus_normalized).unique().size)"
   ]
  },
  {
   "cell_type": "code",
   "execution_count": 274,
   "metadata": {
    "collapsed": false
   },
   "outputs": [],
   "source": [
    "unique_normalized = pd.Series(corpus_normalized).unique()\n",
    "unique_normalized = pd.Series(unique_normalized)\n",
    "\n",
    "data = [(token.orth_, token.ent_type_, token.ent_iob_, token.prob, token.is_stop, token.is_punct, token.is_space,\n",
    "        token.like_num, token.is_oov) for token in corpus_parsed]\n",
    "df_corpus = pd.DataFrame(data, columns = ['token','ent_type','iob','prob','is_stop','is_punct','is_space',\n",
    "                        'like_num','is_oov'])"
   ]
  },
  {
   "cell_type": "code",
   "execution_count": 275,
   "metadata": {
    "collapsed": false
   },
   "outputs": [
    {
     "name": "stdout",
     "output_type": "stream",
     "text": [
      "8.77% of tokens from cleaned corpus are out of vocabulary.\n"
     ]
    }
   ],
   "source": [
    "oov_rate = sum(df_corpus.is_oov) / len(df_corpus)\n",
    "print('{:2.2f}% of tokens from cleaned corpus are out of vocabulary.'.format(oov_rate * 100))"
   ]
  },
  {
   "cell_type": "code",
   "execution_count": 279,
   "metadata": {
    "collapsed": false
   },
   "outputs": [],
   "source": [
    "with open('../data/all_tweets_cleaned.txt','wt') as file_out:\n",
    "    file_out.write(corpus_parsed.text)"
   ]
  },
  {
   "cell_type": "markdown",
   "metadata": {},
   "source": [
    "# Phrase Modeling"
   ]
  },
  {
   "cell_type": "code",
   "execution_count": 285,
   "metadata": {
    "collapsed": true
   },
   "outputs": [],
   "source": [
    "from gensim.models import Phrases\n",
    "from gensim.models.word2vec import LineSentence\n",
    "\n",
    "def punct_space(token):\n",
    "    return token.is_space or token.is_punct\n",
    "\n",
    "def line_tweet(filename):\n",
    "    with open(filename, 'rt') as file_in:\n",
    "        for tweet in file_in:\n",
    "            yield tweet.replace('\\\\n','\\n')\n",
    "            \n",
    "def lemmatized_sentence_corpus(filename):\n",
    "    for parsed_tweet in nlp.pipe(line_tweet(filename), batch_size = 1000, n_threads = 2):\n",
    "        for sentence in parsed_tweet.sents:\n",
    "            yield ' '.join([token.lemma_ for token in sentence if not punct_space(token)])"
   ]
  },
  {
   "cell_type": "markdown",
   "metadata": {},
   "source": [
    "### Unigram sentences"
   ]
  },
  {
   "cell_type": "code",
   "execution_count": 288,
   "metadata": {
    "collapsed": true
   },
   "outputs": [],
   "source": [
    "import itertools as it"
   ]
  },
  {
   "cell_type": "code",
   "execution_count": 286,
   "metadata": {
    "collapsed": false
   },
   "outputs": [],
   "source": [
    "with open('../data/unigram_sentences.txt','wt') as file_out:\n",
    "    for sentence in lemmatized_sentence_corpus('../data/all_tweets_cleaned.txt'):\n",
    "        file_out.write(sentence + '\\n')"
   ]
  },
  {
   "cell_type": "code",
   "execution_count": 295,
   "metadata": {
    "collapsed": false
   },
   "outputs": [
    {
     "name": "stdout",
     "output_type": "stream",
     "text": [
      "twitter_handle -PRON- know\n",
      "-PRON- be a joke faggot\n",
      "-PRON- be tired of people say -PRON- look like -PRON- brother amp call -PRON- deondre like serious succ -PRON- ass fag ass\n",
      "voteblue2014 yeah cuz 8 million people in faggot ass newyork be chickenshit jews gt fuck them right\n",
      "fuck bibi netanyahu\n",
      "right\n",
      "twitter_handle word be -PRON- use roid stupid hypocrite lie faggot\n",
      "-PRON- hate faggot like -PRON-\n",
      "twitter_handle shut up nigger whore hope u get rap by one of those animal\n",
      "may change -PRON- tune\n"
     ]
    }
   ],
   "source": [
    "unigram_sentences = LineSentence('../data/unigram_sentences.txt')\n",
    "for sentence in it.islice(unigram_sentences, 10, 20):\n",
    "    print(' '.join(sentence))"
   ]
  },
  {
   "cell_type": "code",
   "execution_count": 308,
   "metadata": {
    "collapsed": false
   },
   "outputs": [
    {
     "name": "stderr",
     "output_type": "stream",
     "text": [
      "//anaconda/lib/python3.5/site-packages/gensim/models/phrases.py:274: UserWarning: For a faster implementation, use the gensim.models.phrases.Phraser class\n",
      "  warnings.warn(\"For a faster implementation, use the gensim.models.phrases.Phraser class\")\n"
     ]
    }
   ],
   "source": [
    "bigram_model = Phrases(unigram_sentences)\n",
    "\n",
    "with open('../data/bigram_sentences.txt', 'wt') as file_out:\n",
    "    for unigram_sentence in unigram_sentences:\n",
    "        bigram_sentence = ' '.join(bigram_model[unigram_sentence])\n",
    "        file_out.write(bigram_sentence + '\\n')"
   ]
  },
  {
   "cell_type": "code",
   "execution_count": 309,
   "metadata": {
    "collapsed": false
   },
   "outputs": [
    {
     "name": "stderr",
     "output_type": "stream",
     "text": [
      "//anaconda/lib/python3.5/site-packages/gensim/models/phrases.py:274: UserWarning: For a faster implementation, use the gensim.models.phrases.Phraser class\n",
      "  warnings.warn(\"For a faster implementation, use the gensim.models.phrases.Phraser class\")\n"
     ]
    }
   ],
   "source": [
    "bigram_sentences = LineSentence('../data/bigram_sentences.txt')\n",
    "trigram_model = Phrases(bigram_sentences)\n",
    "\n",
    "with open('../data/trigram_sentences.txt', 'wt') as file_out:\n",
    "    for bigram_sentence in bigram_sentences:\n",
    "        trigram_sentence = ' '.join(trigram_model[bigram_sentence])\n",
    "        file_out.write(trigram_sentence + '\\n')"
   ]
  },
  {
   "cell_type": "code",
   "execution_count": 313,
   "metadata": {
    "collapsed": false
   },
   "outputs": [
    {
     "name": "stdout",
     "output_type": "stream",
     "text": [
      "twitter_handle twitter_handle fuck -PRON- nigg sheboon\n",
      "hope -PRON- r string up like all nigger should be\n",
      "whitepower\n",
      "1488\n",
      "-PRON- use to_tie both end_of a nigger leg_to 2 different horse and beat -PRON- as the horse spread until -PRON- leg break\n",
      "smh\n",
      "good night fag and fagette that be the female version_of fag like fag ette to make -PRON- female -PRON- hate -PRON- all\n",
      "-PRON- can_not_stand no crybaby ass nigga\n",
      "if -PRON- gon_na act_like a bitch -PRON- will leave yo ass after -PRON- instavideo yo stupid lookin ass\n",
      "rt @nerdkiller669 twitter_handle no -PRON- be a nigger\n",
      "-PRON- will fuck -PRON- til -PRON- love -PRON- faggot mike tyson\n",
      "twitter_handle twitter_handle twitter_handle what be -PRON- problem\n",
      "do_not u_know jews control nigger read a book or two\n",
      "-PRON- fuck_hate -PRON- nigger bruh url\n",
      "rt @fact some specie of bird have be know to hold funeral for -PRON- deceased\n",
      "-PRON- remember draft prom night -PRON- dress would not zip up and -PRON- be bawl -PRON- eye out and scream -PRON- do_not want_to go so funny\n",
      "haha\n",
      "damn eli\n",
      "that be just ruff\n",
      "-PRON- be not_even gon_na trash talk that one\n"
     ]
    }
   ],
   "source": [
    "trigram_sentences = LineSentence('../data/trigram_sentences.txt')\n",
    "for sentence in it.islice(trigram_sentences, 20, 40):\n",
    "    print(' '.join(sentence))"
   ]
  },
  {
   "cell_type": "code",
   "execution_count": 321,
   "metadata": {
    "collapsed": false
   },
   "outputs": [
    {
     "name": "stderr",
     "output_type": "stream",
     "text": [
      "//anaconda/lib/python3.5/site-packages/gensim/models/phrases.py:274: UserWarning: For a faster implementation, use the gensim.models.phrases.Phraser class\n",
      "  warnings.warn(\"For a faster implementation, use the gensim.models.phrases.Phraser class\")\n"
     ]
    }
   ],
   "source": [
    "with open('../data/trigram_transformed_tweets_all.txt','wt') as file_out:\n",
    "    for parsed_tweet in nlp.pipe(line_tweet('../data/unigram_sentences.txt'), batch_size = 1000, n_threads = 2):\n",
    "        unigram_tweet = [token.lemma_ for token in parsed_tweet if not punct_space(token)]\n",
    "        bigram_tweet = bigram_model[unigram_tweet]\n",
    "        trigram_tweet = trigram_model[bigram_tweet]\n",
    "        trigram_tweet = [token for token in trigram_tweet if token not in spacy.en.English.Defaults.stop_words]\n",
    "        trigram_tweet = ' '.join(trigram_tweet)\n",
    "        file_out.write(trigram_tweet + '\\n')"
   ]
  },
  {
   "cell_type": "markdown",
   "metadata": {},
   "source": [
    "# Using LDA to discover topics doesn't work too well given the shortness of a tweet"
   ]
  },
  {
   "cell_type": "code",
   "execution_count": 327,
   "metadata": {
    "collapsed": false
   },
   "outputs": [],
   "source": [
    "from gensim.corpora import Dictionary, MmCorpus\n",
    "from gensim.models.ldamulticore import LdaMulticore\n",
    "\n",
    "import pyLDAvis\n",
    "import pyLDAvis.gensim\n",
    "import warnings\n",
    "import _pickle as pickle"
   ]
  },
  {
   "cell_type": "code",
   "execution_count": 328,
   "metadata": {
    "collapsed": true
   },
   "outputs": [],
   "source": [
    "trigram_tweets = LineSentence('../data/trigram_transformed_tweets_all.txt')\n",
    "trigram_dictionary = Dictionary(trigram_tweets)\n",
    "\n",
    "trigram_dictionary.filter_extremes(no_below = 10, no_above = 0.4)\n",
    "trigram_dictionary.save('../data/trigram_dictionary')"
   ]
  },
  {
   "cell_type": "code",
   "execution_count": 329,
   "metadata": {
    "collapsed": true
   },
   "outputs": [],
   "source": [
    "def trigram_bow_generator(filepath):\n",
    "    for review in LineSentence(filepath):\n",
    "        yield trigram_dictionary.doc2bow(review)"
   ]
  },
  {
   "cell_type": "code",
   "execution_count": 330,
   "metadata": {
    "collapsed": true
   },
   "outputs": [],
   "source": [
    "MmCorpus.serialize('../data/trigram_bow_corpus.mm',\n",
    "                   trigram_bow_generator('../data/trigram_transformed_tweets_all.txt'))\n",
    "trigram_bow_corpus = MmCorpus('../data/trigram_bow_corpus.mm')"
   ]
  },
  {
   "cell_type": "code",
   "execution_count": 336,
   "metadata": {
    "collapsed": true
   },
   "outputs": [],
   "source": [
    "with warnings.catch_warnings():\n",
    "        warnings.simplefilter('ignore')\n",
    "        \n",
    "        lda = LdaMulticore(trigram_bow_corpus, num_topics=5, id2word=trigram_dictionary, workers=1)\n",
    "        lda.save('../data/lda_model')"
   ]
  },
  {
   "cell_type": "code",
   "execution_count": 337,
   "metadata": {
    "collapsed": true
   },
   "outputs": [],
   "source": [
    "def explore_topic(topic_number, topn=25):\n",
    "        \n",
    "    print('{:20} {}'.format('term', 'frequency') + '\\n')\n",
    "\n",
    "    for term, frequency in lda.show_topic(topic_number, topn=25):\n",
    "        print('{:20} {:.3f}'.format(term, round(frequency, 3)))"
   ]
  },
  {
   "cell_type": "code",
   "execution_count": 348,
   "metadata": {
    "collapsed": false
   },
   "outputs": [
    {
     "name": "stdout",
     "output_type": "stream",
     "text": [
      "term                 frequency\n",
      "\n",
      "url                  0.142\n",
      "twitter_handle       0.035\n",
      "fuck                 0.024\n",
      "fag                  0.021\n",
      "like                 0.019\n",
      "̫undef               0.015\n",
      "fuck_wit             0.014\n",
      "dyke                 0.014\n",
      "good                 0.012\n",
      "remix_url_url        0.009\n",
      "drum_and_bass_btsm   0.009\n",
      "x_lektrique_religion_muzzy 0.009\n",
      "look_like            0.008\n",
      "fuckin               0.007\n",
      "'s                   0.007\n",
      "year                 0.007\n",
      "amp                  0.007\n",
      "do_not               0.007\n",
      "dick                 0.006\n",
      "a_lame_nigga         0.006\n",
      "man                  0.006\n",
      "think                0.006\n",
      "want                 0.006\n",
      "u                    0.005\n",
      "right_to             0.005\n"
     ]
    }
   ],
   "source": [
    "explore_topic(topic_number=4)"
   ]
  },
  {
   "cell_type": "markdown",
   "metadata": {},
   "source": [
    "# Vector embeddings show interesting results, but given the small dataset and diverse grammar of tweets, odd relationships frequently appear"
   ]
  },
  {
   "cell_type": "code",
   "execution_count": 358,
   "metadata": {
    "collapsed": false
   },
   "outputs": [
    {
     "name": "stdout",
     "output_type": "stream",
     "text": [
      "20,550 terms in the tweet2vec vocabulary.\n"
     ]
    }
   ],
   "source": [
    "from gensim.models import Word2Vec\n",
    "\n",
    "trigram_sentences = LineSentence('../data/trigram_sentences.txt')\n",
    "tweet2vec = Word2Vec(trigram_sentences, size=100, window=5,\n",
    "                        min_count=20, sg=1, workers=1)\n",
    "tweet2vec.save('../data/word2vec_model')\n",
    "\n",
    "for i in range(1,12):\n",
    "    tweet2vec.train(trigram_sentences, total_examples=tweet2vec.corpus_count, epochs=11)\n",
    "    tweet2vec.save('../data/word2vec_model')\n",
    "    \n",
    "tweet2vec.init_sims()\n",
    "print('{:,} terms in the tweet2vec vocabulary.'.format(tweet2vec.corpus_count))"
   ]
  },
  {
   "cell_type": "code",
   "execution_count": 359,
   "metadata": {
    "collapsed": true
   },
   "outputs": [],
   "source": [
    "def get_related_terms(token, topn=10):\n",
    "    for word, similarity in tweet2vec.most_similar(positive=[token], topn=topn):\n",
    "        print('{:20} {}'.format(word, round(similarity, 3)))"
   ]
  },
  {
   "cell_type": "code",
   "execution_count": 362,
   "metadata": {
    "collapsed": false
   },
   "outputs": [
    {
     "name": "stdout",
     "output_type": "stream",
     "text": [
      "vote                 0.452\n",
      "word                 0.37\n",
      "link                 0.345\n",
      "stop                 0.341\n",
      "the_rule             0.329\n",
      "not                  0.325\n",
      "obama                0.312\n",
      "loser                0.305\n",
      "miss                 0.304\n",
      "brown                0.299\n"
     ]
    }
   ],
   "source": [
    "get_related_terms('trump')"
   ]
  },
  {
   "cell_type": "code",
   "execution_count": 378,
   "metadata": {
    "collapsed": false
   },
   "outputs": [
    {
     "name": "stdout",
     "output_type": "stream",
     "text": [
      "anti                 0.501\n",
      "islam                0.499\n",
      "via                  0.41\n",
      "muslim               0.38\n",
      "country              0.373\n",
      "report               0.364\n",
      "defend               0.344\n",
      "governor_have_no_right 0.33\n",
      "u_fuckin_serius      0.329\n",
      "rap_and              0.325\n"
     ]
    }
   ],
   "source": [
    "get_related_terms('terrorist')"
   ]
  },
  {
   "cell_type": "code",
   "execution_count": 367,
   "metadata": {
    "collapsed": false
   },
   "outputs": [
    {
     "name": "stdout",
     "output_type": "stream",
     "text": [
      "faggot_smh           0.507\n",
      "fag                  0.458\n",
      "ugly_dyke            0.451\n",
      "faggot_who           0.421\n",
      "little_faggot        0.417\n",
      "fuckin_faggot        0.415\n",
      "fucking_nigger       0.414\n",
      "nigger               0.413\n",
      "sand_nigger          0.407\n",
      "queer                0.397\n"
     ]
    }
   ],
   "source": [
    "get_related_terms('faggot')"
   ]
  },
  {
   "cell_type": "code",
   "execution_count": 376,
   "metadata": {
    "collapsed": false
   },
   "outputs": [
    {
     "name": "stdout",
     "output_type": "stream",
     "text": [
      "white_people         0.47\n",
      "white_bitch          0.418\n",
      "faggot               0.413\n",
      "many_nigger          0.366\n",
      "ugly_dyke            0.334\n",
      "the_ultimate         0.333\n",
      "literally            0.332\n",
      "wetback              0.329\n",
      "1223_4_how_many      0.319\n",
      "stupid_nigger        0.317\n"
     ]
    }
   ],
   "source": [
    "get_related_terms('nigger')"
   ]
  },
  {
   "cell_type": "code",
   "execution_count": 436,
   "metadata": {
    "collapsed": false
   },
   "outputs": [
    {
     "name": "stdout",
     "output_type": "stream",
     "text": [
      "culture              0.463\n",
      "blood                0.409\n",
      "isis                 0.382\n",
      "teach                0.381\n",
      "get_rap              0.361\n",
      "woman                0.361\n",
      "blame                0.359\n",
      "asshole              0.355\n",
      "have_no              0.353\n",
      "have_any_right       0.35\n"
     ]
    }
   ],
   "source": [
    "get_related_terms('rape')"
   ]
  },
  {
   "cell_type": "code",
   "execution_count": 381,
   "metadata": {
    "collapsed": true
   },
   "outputs": [],
   "source": [
    "def word_algebra(add=[], subtract=[], topn=1):\n",
    "    answers = tweet2vec.most_similar(positive=add, negative=subtract, topn=topn)\n",
    "    for term, similarity in answers:\n",
    "        print(term)"
   ]
  },
  {
   "cell_type": "code",
   "execution_count": 386,
   "metadata": {
    "collapsed": false,
    "scrolled": true
   },
   "outputs": [
    {
     "name": "stdout",
     "output_type": "stream",
     "text": [
      "islam\n"
     ]
    }
   ],
   "source": [
    "word_algebra(add=['anti', 'terrorist'])"
   ]
  },
  {
   "cell_type": "code",
   "execution_count": 390,
   "metadata": {
    "collapsed": false,
    "deletable": true,
    "editable": true,
    "scrolled": true
   },
   "outputs": [
    {
     "name": "stdout",
     "output_type": "stream",
     "text": [
      "can_not_stand_that\n"
     ]
    }
   ],
   "source": [
    "word_algebra(subtract=['obama', 'trump'])"
   ]
  },
  {
   "cell_type": "code",
   "execution_count": 391,
   "metadata": {
    "collapsed": false
   },
   "outputs": [
    {
     "name": "stdout",
     "output_type": "stream",
     "text": [
      "america\n"
     ]
    }
   ],
   "source": [
    "word_algebra(add=['obama','trump'])"
   ]
  },
  {
   "cell_type": "code",
   "execution_count": 395,
   "metadata": {
    "collapsed": false,
    "scrolled": true
   },
   "outputs": [
    {
     "name": "stdout",
     "output_type": "stream",
     "text": [
      "stfu\n"
     ]
    }
   ],
   "source": [
    "word_algebra(add=['boy','girl'])"
   ]
  },
  {
   "cell_type": "code",
   "execution_count": 396,
   "metadata": {
    "collapsed": false,
    "deletable": true,
    "editable": true,
    "scrolled": true
   },
   "outputs": [
    {
     "name": "stdout",
     "output_type": "stream",
     "text": [
      "boy\n"
     ]
    }
   ],
   "source": [
    "word_algebra(add=['girl','girl'])"
   ]
  },
  {
   "cell_type": "code",
   "execution_count": 397,
   "metadata": {
    "collapsed": false,
    "deletable": true,
    "editable": true,
    "scrolled": true
   },
   "outputs": [
    {
     "name": "stdout",
     "output_type": "stream",
     "text": [
      "bruh\n"
     ]
    }
   ],
   "source": [
    "word_algebra(add=['boy','boy'])"
   ]
  },
  {
   "cell_type": "code",
   "execution_count": 405,
   "metadata": {
    "collapsed": false
   },
   "outputs": [
    {
     "name": "stdout",
     "output_type": "stream",
     "text": [
      "racist\n"
     ]
    }
   ],
   "source": [
    "word_algebra(add=['black','white'])"
   ]
  }
 ],
 "metadata": {
  "anaconda-cloud": {},
  "kernelspec": {
   "display_name": "Python [conda root]",
   "language": "python",
   "name": "conda-root-py"
  },
  "language_info": {
   "codemirror_mode": {
    "name": "ipython",
    "version": 3
   },
   "file_extension": ".py",
   "mimetype": "text/x-python",
   "name": "python",
   "nbconvert_exporter": "python",
   "pygments_lexer": "ipython3",
   "version": "3.5.2"
  }
 },
 "nbformat": 4,
 "nbformat_minor": 1
}
