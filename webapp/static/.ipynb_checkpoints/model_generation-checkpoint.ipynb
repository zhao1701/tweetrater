{
 "cells": [
  {
   "cell_type": "markdown",
   "metadata": {
    "deletable": true,
    "editable": true
   },
   "source": [
    "# 04 - Classification with Neural Networks\n",
    "In this section, we will assess the performance of various neural network models for classifying the offensiveness of a tweet. In particular, we will examine:\n",
    "- Multilayer perceptron\n",
    "- Convolutional neural network\n",
    "\n",
    "Whereas Naive Bayes models learn and predict on some form of term frequency vectors, [neural networks](https://en.wikipedia.org/wiki/Artificial_neural_network) can use [word vector embeddings](https://www.tensorflow.org/tutorials/word2vec) in which each word is represented as a vector of pre-defined dimensionality. The key to the vector space model is that words with similar semantic meanings are also represented as similar vectors (as measured by some distance metric such as cosine similarity). There exist many methods to embedding the semantic meaning of a word, but they share in common the notion that a word's meaning can be defined by the totality of the contexts in which the word appears. In other words, a word's meaning is defined by its neighbors."
   ]
  },
  {
   "cell_type": "code",
   "execution_count": 1,
   "metadata": {
    "button": false,
    "collapsed": false,
    "deletable": true,
    "editable": true,
    "new_sheet": false,
    "run_control": {
     "read_only": false
    }
   },
   "outputs": [],
   "source": [
    "import os\n",
    "import pandas as pd\n",
    "import numpy as np\n",
    "import matplotlib.pyplot as plt\n",
    "import seaborn as sns\n",
    "import pickle as pkl\n",
    "\n",
    "pd.options.display.max_colwidth = 400\n",
    "\n",
    "%matplotlib inline"
   ]
  },
  {
   "cell_type": "markdown",
   "metadata": {
    "deletable": true,
    "editable": true
   },
   "source": [
    "### Load data"
   ]
  },
  {
   "cell_type": "code",
   "execution_count": 2,
   "metadata": {
    "collapsed": false,
    "deletable": true,
    "editable": true
   },
   "outputs": [
    {
     "data": {
      "text/html": [
       "<div>\n",
       "<style>\n",
       "    .dataframe thead tr:only-child th {\n",
       "        text-align: right;\n",
       "    }\n",
       "\n",
       "    .dataframe thead th {\n",
       "        text-align: left;\n",
       "    }\n",
       "\n",
       "    .dataframe tbody tr th {\n",
       "        vertical-align: top;\n",
       "    }\n",
       "</style>\n",
       "<table border=\"1\" class=\"dataframe\">\n",
       "  <thead>\n",
       "    <tr style=\"text-align: right;\">\n",
       "      <th></th>\n",
       "      <th>text</th>\n",
       "      <th>rating</th>\n",
       "      <th>confidence</th>\n",
       "    </tr>\n",
       "    <tr>\n",
       "      <th>id</th>\n",
       "      <th></th>\n",
       "      <th></th>\n",
       "      <th></th>\n",
       "    </tr>\n",
       "  </thead>\n",
       "  <tbody>\n",
       "    <tr>\n",
       "      <th>853718217</th>\n",
       "      <td>warning : penny board will make -PRON- a faggot</td>\n",
       "      <td>1</td>\n",
       "      <td>0.6013</td>\n",
       "    </tr>\n",
       "    <tr>\n",
       "      <th>853718218</th>\n",
       "      <td>fuck dyke</td>\n",
       "      <td>2</td>\n",
       "      <td>0.7227</td>\n",
       "    </tr>\n",
       "    <tr>\n",
       "      <th>853718219</th>\n",
       "      <td>twitter_handle twitter_handle twitter_handle twitter_handle twitter_handle at least i do not look like jefree starr faggot</td>\n",
       "      <td>2</td>\n",
       "      <td>0.5229</td>\n",
       "    </tr>\n",
       "  </tbody>\n",
       "</table>\n",
       "</div>"
      ],
      "text/plain": [
       "                                                                                                                                 text  \\\n",
       "id                                                                                                                                      \n",
       "853718217                                                                             warning : penny board will make -PRON- a faggot   \n",
       "853718218                                                                                                                   fuck dyke   \n",
       "853718219  twitter_handle twitter_handle twitter_handle twitter_handle twitter_handle at least i do not look like jefree starr faggot   \n",
       "\n",
       "           rating  confidence  \n",
       "id                             \n",
       "853718217       1      0.6013  \n",
       "853718218       2      0.7227  \n",
       "853718219       2      0.5229  "
      ]
     },
     "execution_count": 2,
     "metadata": {},
     "output_type": "execute_result"
    }
   ],
   "source": [
    "with open('../../../data/data_all', 'rb') as file_in:\n",
    "    data_all = pkl.load(file_in)\n",
    "    \n",
    "df_orig = data_all['df_orig']\n",
    "df_clean = data_all['df_clean']\n",
    "X_train = data_all['X_train']\n",
    "X_test = data_all['X_test']\n",
    "y_train = data_all['y_train']\n",
    "y_test = data_all['y_test']\n",
    "\n",
    "df_clean.head(3)"
   ]
  },
  {
   "cell_type": "code",
   "execution_count": 3,
   "metadata": {
    "button": false,
    "collapsed": false,
    "deletable": true,
    "editable": true,
    "new_sheet": false,
    "run_control": {
     "read_only": false
    }
   },
   "outputs": [
    {
     "name": "stderr",
     "output_type": "stream",
     "text": [
      "Using Theano backend.\n"
     ]
    }
   ],
   "source": [
    "np.random.seed(1701)\n",
    "\n",
    "from gensim.models import Word2Vec\n",
    "from keras.preprocessing.text import Tokenizer\n",
    "from keras.preprocessing.sequence import pad_sequences\n",
    "from keras.utils import to_categorical\n",
    "from keras.layers import Dense, Flatten, Activation, Embedding, Dropout, Conv1D, MaxPooling1D, GlobalMaxPooling1D\n",
    "from keras.models import Sequential\n",
    "from keras.callbacks import EarlyStopping"
   ]
  },
  {
   "cell_type": "markdown",
   "metadata": {
    "deletable": true,
    "editable": true
   },
   "source": [
    "# Building an embedding matrix\n",
    "Previously, when using term frequency models, a tweet was represented as a single vector. However, if instead, words are represented as vectors, and a tweet is a collection of words, then a tweet is represented not as a vector but as a matrix where the $i^{th}$ row is the vector embedding of the $i^{th}$ word in the tweet. This matrix representation of a tweet provides a similarity to the classification of images that is especially useful when working with convolutional neural networks later.\n",
    "\n",
    "The conversion of a tweet into a matrix involves two elements: an index sequence vector and an embedding matrix. In this model, given a vocabulary of size $v$, each term of the vocabulary is assigned a unique index value from $0$ to $v-1$. A tweet's index sequence vector, then, is a vector in which its $i^{th}$ element is the index value of the $i^{th}$ word in the tweet.\n",
    "\n",
    "An embedding matrix of size $v \\times d$, where $d$ is a pre-specified dimensionality of the word vector embeddings, is a matrix in which the $n^{th}$ row is the $d$-dimensional vector embedding of the term corresponding to index value $n$. Thus, with an index sequence vector, we can select which rows of the embedding matrix to use to build a tweet's representational matrix.\n",
    "\n",
    "Given our corpus of 13,000 tweets and vocabulary of 16,500, a 100-dimensional vector embedding is sufficient (prior tests showed that 100-dimensional embeddings outperformed 50 and 200-dimensional embeddings). We remove from the vocabulary all words that appear only once in the corpus since one set of neighbors does not seem to be enough to discern a word's meaning. Excluding all terms that appear in the corpus once leaves over 6,000 terms, much higher than the 261 terms used by Bernoulli Naive Bayes for classification.\n",
    "\n",
    "Below, we train a Word2Vec model to learn the vector embeddings of the 6,000 terms."
   ]
  },
  {
   "cell_type": "code",
   "execution_count": 4,
   "metadata": {
    "button": false,
    "collapsed": false,
    "deletable": true,
    "editable": true,
    "new_sheet": false,
    "run_control": {
     "read_only": false
    }
   },
   "outputs": [
    {
     "name": "stdout",
     "output_type": "stream",
     "text": [
      "word2vec vocabulary size: 4937\n",
      "tokenizer vocabulary size: 4937\n"
     ]
    }
   ],
   "source": [
    "load_pretrained = True\n",
    "\n",
    "# create 100-dimensional vector embeddings for words that appear in the corpus at least 2 times\n",
    "embedding_dimension = 100\n",
    "\n",
    "if load_pretrained:\n",
    "    with open('../../../data/word2vec_model_local', 'rb') as file_in:\n",
    "        model = pkl.load(file_in)\n",
    "else:\n",
    "    model = Word2Vec([tweet.split() for tweet in X_train], min_count = 2, size = embedding_dimension,\n",
    "                     window = 10, sg = 1)\n",
    "    with open('../../../data/word2vec_model_local', 'wb') as file_out:\n",
    "        pkl.dump(model, file_out)\n",
    "        \n",
    "max_vocab_size = len(model.wv.vocab)\n",
    "print('word2vec vocabulary size:', max_vocab_size)\n",
    "\n",
    "# tokenize each tweet in the corpus. this will be useful for embedding each tweet as an index sequence vector\n",
    "tokenizer = Tokenizer(num_words = max_vocab_size)\n",
    "tokenizer.fit_on_texts(X_train)\n",
    "print('tokenizer vocabulary size:', tokenizer.num_words)"
   ]
  },
  {
   "cell_type": "markdown",
   "metadata": {
    "deletable": true,
    "editable": true
   },
   "source": [
    "A quick check of the most related terms to \"trump\" shows that the embeddings at least make sense semantically."
   ]
  },
  {
   "cell_type": "code",
   "execution_count": 5,
   "metadata": {
    "button": false,
    "collapsed": false,
    "deletable": true,
    "editable": true,
    "new_sheet": false,
    "run_control": {
     "read_only": false
    }
   },
   "outputs": [
    {
     "data": {
      "text/plain": [
       "[('term', 0.9764896631240845),\n",
       " ('hillary', 0.9730159044265747),\n",
       " ('race', 0.9709054231643677),\n",
       " ('military', 0.9692457318305969),\n",
       " ('isis', 0.9633619785308838),\n",
       " ('donald', 0.962780237197876),\n",
       " ('pm', 0.9604511260986328),\n",
       " ('murder', 0.9590874910354614),\n",
       " ('power', 0.9590523838996887),\n",
       " ('policy', 0.957563042640686)]"
      ]
     },
     "execution_count": 5,
     "metadata": {},
     "output_type": "execute_result"
    }
   ],
   "source": [
    "# check quality of word vector embedding\n",
    "model.most_similar(['trump'])"
   ]
  },
  {
   "cell_type": "markdown",
   "metadata": {
    "deletable": true,
    "editable": true
   },
   "source": [
    "Here, we construct an embedding matrix out of the trained vectors."
   ]
  },
  {
   "cell_type": "code",
   "execution_count": 6,
   "metadata": {
    "button": false,
    "collapsed": false,
    "deletable": true,
    "editable": true,
    "new_sheet": false,
    "run_control": {
     "read_only": false
    }
   },
   "outputs": [
    {
     "name": "stdout",
     "output_type": "stream",
     "text": [
      "number of words without vector embeddings: 118\n"
     ]
    }
   ],
   "source": [
    "# create embedding matrix where each row corresponds to a vector for a word. the row index is determined by tokenizer.\n",
    "embedding_matrix = np.zeros([max_vocab_size + 1, embedding_dimension])\n",
    "for word, index in tokenizer.word_index.items():\n",
    "    if word in model.wv.vocab and index < max_vocab_size:\n",
    "        vector = model[word]\n",
    "        embedding_matrix[index,:] = vector\n",
    "\n",
    "print('number of words without vector embeddings:', sum(embedding_matrix.sum(axis = 1) == 0))"
   ]
  },
  {
   "cell_type": "markdown",
   "metadata": {
    "deletable": true,
    "editable": true
   },
   "source": [
    "Because non-recurrent neural networks expect inputs of the same dimensions, we pad all index sequence vectors with zeros until they are the same length as the longest index sequence vector. The actual process of using an embedding matrix to convert an index sequence vector into a word matrix is a step within the Keras' neural network implementation itself."
   ]
  },
  {
   "cell_type": "code",
   "execution_count": 7,
   "metadata": {
    "button": false,
    "collapsed": false,
    "deletable": true,
    "editable": true,
    "new_sheet": false,
    "run_control": {
     "read_only": false
    }
   },
   "outputs": [
    {
     "name": "stdout",
     "output_type": "stream",
     "text": [
      "The tweet with the longest sequence has 34 indices.\n",
      "Matrix X_train_nn has shape: (9160, 34)\n",
      "Labels y_train_nn has shape: (9160, 3)\n"
     ]
    }
   ],
   "source": [
    "# convert tweets to index sequence vectors\n",
    "X_train_nn = tokenizer.texts_to_sequences(X_train)\n",
    "X_test_nn = tokenizer.texts_to_sequences(X_test)\n",
    "max_sequence_length = np.array([len(sequence) for sequence in X_train_nn]).max()\n",
    "print('The tweet with the longest sequence has {} indices.'.format(max_sequence_length))\n",
    "\n",
    "# pad index sequence vectors so they all have same length and X is rectangular\n",
    "X_train_nn = pad_sequences(X_train_nn, maxlen = max_sequence_length, padding = 'post', truncating = 'post')\n",
    "X_test_nn = pad_sequences(X_test_nn, maxlen = max_sequence_length, padding = 'post', truncating = 'post')\n",
    "print('Matrix X_train_nn has shape:', X_train_nn.shape)\n",
    "\n",
    "# create label matrix y\n",
    "y_train_nn = to_categorical(y_train)\n",
    "y_test_nn = to_categorical(y_test)\n",
    "print('Labels y_train_nn has shape:', y_train_nn.shape)"
   ]
  },
  {
   "cell_type": "code",
   "execution_count": 8,
   "metadata": {
    "collapsed": false,
    "deletable": true,
    "editable": true
   },
   "outputs": [],
   "source": [
    "# with open('neural_preprocessing', 'wb') as file_out:\n",
    "#     neural_preprocessing = dict(tokenizer=tokenizer, max_sequence_length=max_sequence_length)\n",
    "#     pkl.dump(neural_preprocessing, file_out)"
   ]
  },
  {
   "cell_type": "code",
   "execution_count": 9,
   "metadata": {
    "collapsed": true,
    "deletable": true,
    "editable": true
   },
   "outputs": [],
   "source": [
    "from sklearn.metrics import confusion_matrix, accuracy_score, f1_score\n",
    "\n",
    "def proba_to_prediction(predict_probas):\n",
    "    predictions = np.array([np.argmax(row) for row in predict_probas])\n",
    "    return predictions\n",
    "\n",
    "def evaluate(y, y_pred):\n",
    "    print('Accuracy:', accuracy_score(y, y_pred))\n",
    "    print('F1 weighted: ', f1_score(y, y_pred, average = 'weighted'))\n",
    "    \n",
    "    matrix = confusion_matrix(y, y_pred)\n",
    "    matrix = matrix / matrix.sum().sum()\n",
    "    print('Normalized confusion matrix:\\n', matrix)\n",
    "    \n",
    "    y_values = pd.Series(y).value_counts()\n",
    "    y_values = y_values / y_values.sum()\n",
    "    print('Actual proportions:\\n', np.array(y_values))\n",
    "    \n",
    "def flatten(y):\n",
    "    y_cat = y.copy()\n",
    "    y_cat[:,0] = 0\n",
    "    y_cat[:,2] = y_cat[:,2] * 2\n",
    "    y_cat = y_cat.sum(axis = 1)\n",
    "    return y_cat"
   ]
  },
  {
   "cell_type": "markdown",
   "metadata": {
    "button": false,
    "deletable": true,
    "editable": true,
    "new_sheet": false,
    "run_control": {
     "read_only": false
    }
   },
   "source": [
    "# Convolutional Neural Network"
   ]
  },
  {
   "cell_type": "code",
   "execution_count": 10,
   "metadata": {
    "button": false,
    "collapsed": false,
    "deletable": true,
    "editable": true,
    "new_sheet": false,
    "run_control": {
     "read_only": false
    }
   },
   "outputs": [],
   "source": [
    "cnn = Sequential()\n",
    "cnn.add(Embedding(embedding_matrix.shape[0],\n",
    "                 embedding_matrix.shape[1],\n",
    "                 weights = [embedding_matrix],\n",
    "                 input_shape = (X_train_nn.shape[1],)))\n",
    "# convolutional layer consisting of 40 filters with windows of size 5 and stride 1\n",
    "cnn.add(Conv1D(40, 5, padding = 'valid', strides = 1, activation = 'relu'))\n",
    "cnn.add(Dropout(0.3))\n",
    "# global max pooling reduces a convolutional filter's entire output to a single max value, producing a 20-node\n",
    "# ...hidden layer\n",
    "cnn.add(GlobalMaxPooling1D()) \n",
    "cnn.add(Dropout(0.3))\n",
    "cnn.add(Dense(3, activation = 'softmax'))\n",
    "cnn.compile(optimizer = 'adam', loss = 'categorical_crossentropy', metrics = ['accuracy'])"
   ]
  },
  {
   "cell_type": "code",
   "execution_count": 11,
   "metadata": {
    "button": false,
    "collapsed": false,
    "deletable": true,
    "editable": true,
    "new_sheet": false,
    "run_control": {
     "read_only": false
    }
   },
   "outputs": [],
   "source": [
    "early_stopping = EarlyStopping(patience = 2, monitor = 'val_acc')\n",
    "history = cnn.fit(X_train_nn, y_train_nn, validation_split = 0.3, epochs = 30, callbacks = [early_stopping],\n",
    "                  batch_size = 200, verbose = False)"
   ]
  },
  {
   "cell_type": "code",
   "execution_count": 12,
   "metadata": {
    "button": false,
    "collapsed": false,
    "deletable": true,
    "editable": true,
    "new_sheet": false,
    "run_control": {
     "read_only": false
    }
   },
   "outputs": [
    {
     "name": "stdout",
     "output_type": "stream",
     "text": [
      "training accuracy: 0.855271373625\n",
      "validation accuracy: 0.810043667949\n"
     ]
    },
    {
     "data": {
      "image/png": "[encoded data removed]",
      "text/plain": [
       "<matplotlib.figure.Figure at 0x11123c5f8>"
      ]
     },
     "metadata": {},
     "output_type": "display_data"
    }
   ],
   "source": [
    "train_acc = history.history['acc']\n",
    "val_acc = history.history['val_acc']\n",
    "plt.plot(train_acc, label = 'training accuracy')\n",
    "plt.plot(val_acc, label = 'validation accuracy')\n",
    "plt.legend(loc = 0)\n",
    "plt.xlabel('Training epoch')\n",
    "plt.ylabel('Accuracy')\n",
    "plt.ylim(0,1)\n",
    "print('training accuracy:', train_acc[-1])\n",
    "print('validation accuracy:', val_acc[-1])"
   ]
  },
  {
   "cell_type": "code",
   "execution_count": 13,
   "metadata": {
    "button": false,
    "collapsed": false,
    "deletable": true,
    "editable": true,
    "new_sheet": false,
    "run_control": {
     "read_only": false
    }
   },
   "outputs": [
    {
     "name": "stdout",
     "output_type": "stream",
     "text": [
      "Accuracy: 0.797503820683\n",
      "F1 weighted:  0.78520235904\n",
      "Normalized confusion matrix:\n",
      " [[ 0.49668874  0.01782985  0.00101885]\n",
      " [ 0.04075395  0.24732552  0.04279165]\n",
      " [ 0.01604687  0.08405502  0.05348956]]\n",
      "Actual proportions:\n",
      " [ 0.51553744  0.33087112  0.15359144]\n"
     ]
    }
   ],
   "source": [
    "predict_probas = cnn.predict(X_test_nn)\n",
    "y_test_pred_cnn = proba_to_prediction(predict_probas).reshape(-1)\n",
    "evaluate(y_test, y_test_pred_cnn)"
   ]
  },
  {
   "cell_type": "markdown",
   "metadata": {
    "button": false,
    "deletable": true,
    "editable": true,
    "new_sheet": false,
    "run_control": {
     "read_only": false
    }
   },
   "source": [
    "### Two-class performance evaluation"
   ]
  },
  {
   "cell_type": "code",
   "execution_count": 14,
   "metadata": {
    "button": false,
    "collapsed": false,
    "deletable": true,
    "editable": true,
    "new_sheet": false,
    "run_control": {
     "read_only": false
    }
   },
   "outputs": [
    {
     "name": "stdout",
     "output_type": "stream",
     "text": [
      "Accuracy: 0.924350483953\n",
      "F1 weighted:  0.924151354563\n",
      "Normalized confusion matrix:\n",
      " [[ 0.49668874  0.0188487 ]\n",
      " [ 0.05680082  0.42766174]]\n",
      "Actual proportions:\n",
      " [ 0.51553744  0.48446256]\n"
     ]
    }
   ],
   "source": [
    "y_binary = (y_test == 1) | (y_test == 2)\n",
    "y_pred_binary = (y_test_pred_cnn == 1) | (y_test_pred_cnn == 2)\n",
    "evaluate(y_binary, y_pred_binary)"
   ]
  },
  {
   "cell_type": "markdown",
   "metadata": {
    "deletable": true,
    "editable": true
   },
   "source": [
    "# Test original tweets"
   ]
  },
  {
   "cell_type": "code",
   "execution_count": 15,
   "metadata": {
    "button": false,
    "collapsed": false,
    "deletable": true,
    "editable": true,
    "new_sheet": false,
    "run_control": {
     "read_only": false
    }
   },
   "outputs": [],
   "source": [
    "import re\n",
    "import spacy\n",
    "\n",
    "nlp = spacy.load('en')\n",
    "\n",
    "replace_user = lambda tweet: re.sub(r'(@\\w+\\s*)', r'TWITTER_HANDLE ', tweet)\n",
    "clean_tweet = lambda tweet: re.sub(r'#|&|\\(|\\)|\\\"|(https?://\\S*)|(�\\S*\\d*)|(128\\d{3})|(_*UNDEF)',\n",
    "                      ' ', tweet)\n",
    "\n",
    "def tweet_rater(tweet):\n",
    "    tweet = clean_tweet(tweet)\n",
    "    tweet_tokens = [token.lemma_ for token in nlp(tweet)]\n",
    "    tweet = ' '.join(tweet_tokens)\n",
    "    print(tweet)\n",
    "    x_vect = tokenizer.texts_to_sequences([tweet])\n",
    "    x_vect = pad_sequences(x_vect, maxlen = max_sequence_length, padding = 'post', truncating = 'post')\n",
    "    probas = cnn.predict(x_vect)[0]\n",
    "    print(probas)\n",
    "    rating = np.argmax(probas)\n",
    "    if rating == 0:\n",
    "        print('I\\'m {:2.4}% sure that\\'s not offensive.'.format(probas[0]*100))\n",
    "    elif rating == 1:\n",
    "        print('I\\'m {:2.4}% sure that\\'s offensive.'.format(probas[1]*100))\n",
    "    else:\n",
    "        print('I\\'m {:2.4}% sure that\\'s hate speech.'.format(probas[2]*100))"
   ]
  },
  {
   "cell_type": "code",
   "execution_count": 16,
   "metadata": {
    "button": false,
    "collapsed": false,
    "deletable": true,
    "editable": true,
    "new_sheet": false,
    "run_control": {
     "read_only": false
    }
   },
   "outputs": [
    {
     "name": "stdout",
     "output_type": "stream",
     "text": [
      "fuck -PRON-\n",
      "[ 0.02624806  0.54515427  0.42859769]\n",
      "I'm 54.52% sure that's offensive.\n"
     ]
    }
   ],
   "source": [
    "tweet_rater('fuck you')"
   ]
  },
  {
   "cell_type": "markdown",
   "metadata": {
    "deletable": true,
    "editable": true
   },
   "source": [
    "### Save model for later analysis"
   ]
  },
  {
   "cell_type": "code",
   "execution_count": 17,
   "metadata": {
    "collapsed": true
   },
   "outputs": [],
   "source": [
    "cnn.save('model_cnn_theano')"
   ]
  },
  {
   "cell_type": "code",
   "execution_count": 18,
   "metadata": {
    "collapsed": false,
    "deletable": true,
    "editable": true
   },
   "outputs": [],
   "source": [
    "with open('cnn_model_architecture.json','wt') as file_out:\n",
    "    file_out.write(cnn.to_json())\n",
    "    \n",
    "cnn.save_weights('cnn_model_weights.h5')"
   ]
  },
  {
   "cell_type": "code",
   "execution_count": 19,
   "metadata": {
    "collapsed": false
   },
   "outputs": [],
   "source": [
    "with open('cnn_model_architecture.json', 'rt') as file_in:\n",
    "    architecture = file_in.read()\n",
    "    \n",
    "architecture"
   ]
  },
  {
   "cell_type": "code",
   "execution_count": null,
   "metadata": {
    "collapsed": true
   },
   "outputs": [],
   "source": []
  }
 ],
 "metadata": {
  "anaconda-cloud": {},
  "kernelspec": {
   "display_name": "env",
   "language": "python",
   "name": "env"
  },
  "language_info": {
   "codemirror_mode": {
    "name": "ipython",
    "version": 3
   },
   "file_extension": ".py",
   "mimetype": "text/x-python",
   "name": "python",
   "nbconvert_exporter": "python",
   "pygments_lexer": "ipython3",
   "version": "3.5.2"
  }
 },
 "nbformat": 4,
 "nbformat_minor": 1
}
